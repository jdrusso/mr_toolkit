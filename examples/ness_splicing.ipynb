{
 "cells": [
  {
   "cell_type": "markdown",
   "source": [
    "# NESS Trajectory Splicing\n",
    "\n",
    "In order to obtain unbiased estimates of a nonequilibrium steady-state distribution, it is *not* sufficient to compute a transition matrix from equilibrium trajectories and apply recycling boundary conditions to the matrix.\n",
    "\n",
    "Instead, unbiased estimates require incorporating the boundary conditions *into the trajectories*, and then computing a transition matrix, which will then naturally contain the appropriate boundary conditions."
   ],
   "metadata": {
    "collapsed": false
   }
  },
  {
   "cell_type": "markdown",
   "source": [
    "Load some pre-discretized sample trajectories"
   ],
   "metadata": {
    "collapsed": false
   }
  },
  {
   "cell_type": "markdown",
   "source": [
    "Define a set of source and target states"
   ],
   "metadata": {
    "collapsed": false
   }
  },
  {
   "cell_type": "markdown",
   "source": [
    "## Standard (biased) MSM approach"
   ],
   "metadata": {
    "collapsed": false
   }
  },
  {
   "cell_type": "markdown",
   "source": [
    "Obtain a biased estimate, by applying boundary conditions to the transition matrix"
   ],
   "metadata": {
    "collapsed": false
   }
  },
  {
   "cell_type": "markdown",
   "source": [
    "## Splicing (unbiased) approach"
   ],
   "metadata": {
    "collapsed": false
   }
  },
  {
   "cell_type": "markdown",
   "source": [
    "Now, we'll instead apply the boundary conditions to the trajectories."
   ],
   "metadata": {
    "collapsed": false
   }
  },
  {
   "cell_type": "code",
   "execution_count": null,
   "outputs": [],
   "source": [],
   "metadata": {
    "collapsed": false
   }
  }
 ],
 "metadata": {
  "kernelspec": {
   "display_name": "Python 3",
   "language": "python",
   "name": "python3"
  },
  "language_info": {
   "codemirror_mode": {
    "name": "ipython",
    "version": 2
   },
   "file_extension": ".py",
   "mimetype": "text/x-python",
   "name": "python",
   "nbconvert_exporter": "python",
   "pygments_lexer": "ipython2",
   "version": "2.7.6"
  }
 },
 "nbformat": 4,
 "nbformat_minor": 0
}
