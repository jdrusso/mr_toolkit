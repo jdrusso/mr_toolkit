{
 "cells": [
  {
   "cell_type": "code",
   "execution_count": 1,
   "id": "86f88fdc-d670-4fd5-a1a4-4afa32b3951d",
   "metadata": {
    "tags": []
   },
   "outputs": [
    {
     "name": "stderr",
     "output_type": "stream",
     "text": [
      "/home/jd/anaconda3/envs/mr_toolkit/lib/python3.11/site-packages/tqdm/auto.py:22: TqdmWarning: IProgress not found. Please update jupyter and ipywidgets. See https://ipywidgets.readthedocs.io/en/stable/user_install.html\n",
      "  from .autonotebook import tqdm as notebook_tqdm\n"
     ]
    },
    {
     "data": {
      "text/html": [
       "<pre style=\"white-space:pre;overflow-x:auto;line-height:normal;font-family:Menlo,'DejaVu Sans Mono',consolas,'Courier New',monospace\"><span style=\"color: #7fbfbf; text-decoration-color: #7fbfbf\">[17:02:27] </span><span style=\"color: #000080; text-decoration-color: #000080\">INFO    </span> Note: NumExpr detected <span style=\"color: #008080; text-decoration-color: #008080; font-weight: bold\">16</span> cores but <span style=\"color: #008000; text-decoration-color: #008000\">\"NUMEXPR_MAX_THREADS\"</span> not set, so enforcing    <a href=\"file:///home/jd/anaconda3/envs/mr_toolkit/lib/python3.11/site-packages/numexpr/utils.py\" target=\"_blank\"><span style=\"color: #7f7f7f; text-decoration-color: #7f7f7f\">utils.py</span></a><span style=\"color: #7f7f7f; text-decoration-color: #7f7f7f\">:</span><a href=\"file:///home/jd/anaconda3/envs/mr_toolkit/lib/python3.11/site-packages/numexpr/utils.py#148\" target=\"_blank\"><span style=\"color: #7f7f7f; text-decoration-color: #7f7f7f\">148</span></a>\n",
       "<span style=\"color: #7fbfbf; text-decoration-color: #7fbfbf\">           </span>         safe limit of <span style=\"color: #008080; text-decoration-color: #008080; font-weight: bold\">8</span>.                                                                   <span style=\"color: #7f7f7f; text-decoration-color: #7f7f7f\">            </span>\n",
       "</pre>\n"
      ],
      "text/plain": [
       "\u001b[2;36m[17:02:27]\u001b[0m\u001b[2;36m \u001b[0m\u001b[34mINFO    \u001b[0m Note: NumExpr detected \u001b[1;36m16\u001b[0m cores but \u001b[32m\"NUMEXPR_MAX_THREADS\"\u001b[0m not set, so enforcing    \u001b]8;id=237255;file:///home/jd/anaconda3/envs/mr_toolkit/lib/python3.11/site-packages/numexpr/utils.py\u001b\\\u001b[2mutils.py\u001b[0m\u001b]8;;\u001b\\\u001b[2m:\u001b[0m\u001b]8;id=496774;file:///home/jd/anaconda3/envs/mr_toolkit/lib/python3.11/site-packages/numexpr/utils.py#148\u001b\\\u001b[2m148\u001b[0m\u001b]8;;\u001b\\\n",
       "\u001b[2;36m           \u001b[0m         safe limit of \u001b[1;36m8\u001b[0m.                                                                   \u001b[2m            \u001b[0m\n"
      ]
     },
     "metadata": {},
     "output_type": "display_data"
    },
    {
     "data": {
      "text/html": [
       "<pre style=\"white-space:pre;overflow-x:auto;line-height:normal;font-family:Menlo,'DejaVu Sans Mono',consolas,'Courier New',monospace\"><span style=\"color: #7fbfbf; text-decoration-color: #7fbfbf\">           </span><span style=\"color: #000080; text-decoration-color: #000080\">INFO    </span> NumExpr defaulting to <span style=\"color: #008080; text-decoration-color: #008080; font-weight: bold\">8</span> threads.                                                   <a href=\"file:///home/jd/anaconda3/envs/mr_toolkit/lib/python3.11/site-packages/numexpr/utils.py\" target=\"_blank\"><span style=\"color: #7f7f7f; text-decoration-color: #7f7f7f\">utils.py</span></a><span style=\"color: #7f7f7f; text-decoration-color: #7f7f7f\">:</span><a href=\"file:///home/jd/anaconda3/envs/mr_toolkit/lib/python3.11/site-packages/numexpr/utils.py#160\" target=\"_blank\"><span style=\"color: #7f7f7f; text-decoration-color: #7f7f7f\">160</span></a>\n",
       "</pre>\n"
      ],
      "text/plain": [
       "\u001b[2;36m          \u001b[0m\u001b[2;36m \u001b[0m\u001b[34mINFO    \u001b[0m NumExpr defaulting to \u001b[1;36m8\u001b[0m threads.                                                   \u001b]8;id=617906;file:///home/jd/anaconda3/envs/mr_toolkit/lib/python3.11/site-packages/numexpr/utils.py\u001b\\\u001b[2mutils.py\u001b[0m\u001b]8;;\u001b\\\u001b[2m:\u001b[0m\u001b]8;id=24261;file:///home/jd/anaconda3/envs/mr_toolkit/lib/python3.11/site-packages/numexpr/utils.py#160\u001b\\\u001b[2m160\u001b[0m\u001b]8;;\u001b\\\n"
      ]
     },
     "metadata": {},
     "output_type": "display_data"
    },
    {
     "data": {
      "text/html": [
       "<pre style=\"white-space:pre;overflow-x:auto;line-height:normal;font-family:Menlo,'DejaVu Sans Mono',consolas,'Courier New',monospace\"><span style=\"color: #7fbfbf; text-decoration-color: #7fbfbf\">           </span><span style=\"color: #800000; text-decoration-color: #800000\">WARNING </span> msm_we not found, fpt_distribution calculations will be unavailable              <a href=\"file:///home/jd/research/reweighting/mr_toolkit/mr_toolkit/mr_toolkit/reweighting/analysis.py\" target=\"_blank\"><span style=\"color: #7f7f7f; text-decoration-color: #7f7f7f\">analysis.py</span></a><span style=\"color: #7f7f7f; text-decoration-color: #7f7f7f\">:</span><a href=\"file:///home/jd/research/reweighting/mr_toolkit/mr_toolkit/mr_toolkit/reweighting/analysis.py#18\" target=\"_blank\"><span style=\"color: #7f7f7f; text-decoration-color: #7f7f7f\">18</span></a>\n",
       "</pre>\n"
      ],
      "text/plain": [
       "\u001b[2;36m          \u001b[0m\u001b[2;36m \u001b[0m\u001b[31mWARNING \u001b[0m msm_we not found, fpt_distribution calculations will be unavailable              \u001b]8;id=221003;file:///home/jd/research/reweighting/mr_toolkit/mr_toolkit/mr_toolkit/reweighting/analysis.py\u001b\\\u001b[2manalysis.py\u001b[0m\u001b]8;;\u001b\\\u001b[2m:\u001b[0m\u001b]8;id=877110;file:///home/jd/research/reweighting/mr_toolkit/mr_toolkit/mr_toolkit/reweighting/analysis.py#18\u001b\\\u001b[2m18\u001b[0m\u001b]8;;\u001b\\\n"
      ]
     },
     "metadata": {},
     "output_type": "display_data"
    }
   ],
   "source": [
    "import sigopt\n",
    "import os\n",
    "import numpy as np\n",
    "import logging\n",
    "import deeptime.markov.msm as dm\n",
    "import tqdm.auto as tqdm\n",
    "import mr_toolkit.trajectory_analysis.traj_analysis as ta\n",
    "from mr_toolkit.reweighting.analysis import get_set_kls\n",
    "import synd.core\n",
    "from mr_toolkit.reweighting import analysis as rwa\n",
    "import matplotlib.pyplot as plt\n",
    "from scipy.stats import entropy"
   ]
  },
  {
   "cell_type": "markdown",
   "id": "b5bb4870-efd4-4c87-b72f-11c373491cc0",
   "metadata": {},
   "source": [
    "# Hyperparameter optimization with SigOpt\n",
    "\n",
    "To build a reweighted MSM using a given set of trajectories, there are a number of sensitive hyperparameters.\n",
    "These include:\n",
    "- MSM lagtime\n",
    "- Fragment length\n",
    "- Last-fraction of trajectories to use\n",
    "\n",
    "Besides lagtime, it's not necessarily clear how to choose these.\n",
    "\n",
    "This notebook demonstrates a heuristic optimization approach that works by splitting up the input dataset into subsets, and identifying the hyperparameters that provide maximal similarity across subsets.\n",
    "This assumes that self-consistency across subsets means we're getting reasonably consistent estimates."
   ]
  },
  {
   "cell_type": "code",
   "execution_count": 2,
   "id": "9063186e-0dec-4b87-91ea-7ff40220b69b",
   "metadata": {
    "tags": []
   },
   "outputs": [],
   "source": [
    "n_trajectories = 200\n",
    "trajectory_length = 100\n",
    "\n",
    "n_subsets = 4\n",
    "\n",
    "# From the underlying model\n",
    "n_states = 100"
   ]
  },
  {
   "cell_type": "markdown",
   "id": "96ab0414-3662-4603-9e0f-6474208763e8",
   "metadata": {},
   "source": [
    "First, verify an API key is stored in the environment. To get an API key for sigopt, [register for an account](https://app.sigopt.com/signup) and then visit [the token page](https://app.sigopt.com/tokens/info)."
   ]
  },
  {
   "cell_type": "code",
   "execution_count": 3,
   "id": "ee6c254c-1d6b-40b8-9540-6ce231400456",
   "metadata": {
    "tags": []
   },
   "outputs": [],
   "source": [
    "if os.environ.get('SIGOPT_API_TOKEN', None) is None:\n",
    "    raise Exception('Set $SIGOPT_API_TOKEN in your environment to use this notebook.')"
   ]
  },
  {
   "cell_type": "markdown",
   "id": "628fd37f-dc16-4c60-b7e8-d61a4fce431c",
   "metadata": {},
   "source": [
    "Then create the sigopt project, or use the existing one."
   ]
  },
  {
   "cell_type": "code",
   "execution_count": 4,
   "id": "320ae639-0fec-4201-8acc-90f9dc7002f9",
   "metadata": {
    "tags": []
   },
   "outputs": [
    {
     "name": "stdout",
     "output_type": "stream",
     "text": [
      "$SIGOPT_PROJECT not set in environment -- creating a new project named {project_name}.\n",
      "Sigopt project already exists, using that.\n"
     ]
    }
   ],
   "source": [
    "if 'SIGOPT_PROJECT' not in os.environ.keys():\n",
    "\n",
    "    project_name = 'sample_optimization'\n",
    "    \n",
    "    print(f'$SIGOPT_PROJECT not set in environment -- creating a new project named {project_name}.')\n",
    "\n",
    "    try:\n",
    "        sigopt.create_project(project_name)\n",
    "    except sigopt.factory.ConflictingProjectException as e:\n",
    "        print(\"Sigopt project already exists, using that.\")\n",
    "\n",
    "    os.environ['SIGOPT_PROJECT'] = project_name"
   ]
  },
  {
   "cell_type": "markdown",
   "id": "b39e1305-9205-4935-b018-c8722d5ab220",
   "metadata": {},
   "source": [
    "## Generate sample data"
   ]
  },
  {
   "cell_type": "code",
   "execution_count": 5,
   "id": "e52512da-217f-4758-8d1c-4a0b4ffd26ef",
   "metadata": {
    "tags": []
   },
   "outputs": [],
   "source": [
    "state_definitions = np.load('sample_data/coarser-state_definitions.npz')\n",
    "\n",
    "source_states = state_definitions['source']\n",
    "target_states = state_definitions['target']"
   ]
  },
  {
   "cell_type": "code",
   "execution_count": 6,
   "id": "7cc6d75b-79df-4372-b783-326f2de23b81",
   "metadata": {
    "tags": []
   },
   "outputs": [],
   "source": [
    "synd_model = synd.core.load_model('sample_data/coarser-model.synd')"
   ]
  },
  {
   "cell_type": "code",
   "execution_count": 7,
   "id": "b8c7c357-db57-4909-8ff6-79e2036ba026",
   "metadata": {
    "tags": []
   },
   "outputs": [],
   "source": [
    "ref_equil = np.load('sample_data/coarser-reference_distributions.npz')['equil']"
   ]
  },
  {
   "cell_type": "code",
   "execution_count": 8,
   "id": "ad1f5cd1-0a3f-44eb-a368-0f87152a8355",
   "metadata": {
    "tags": []
   },
   "outputs": [],
   "source": [
    "initial_points = np.array([source_states[0] for x in range(n_trajectories)])\n",
    "\n",
    "trajectories = synd_model.generate_trajectory(\n",
    "    initial_states = initial_points,\n",
    "    n_steps = trajectory_length\n",
    ")"
   ]
  },
  {
   "cell_type": "markdown",
   "id": "8fbd6bd2-fb11-4185-a3db-b95afcab5920",
   "metadata": {},
   "source": [
    "## Split data into subsets"
   ]
  },
  {
   "cell_type": "markdown",
   "id": "c0fd0982-1ed0-40f9-a950-2fd0ae3b9844",
   "metadata": {},
   "source": [
    "First, let's split our data up into equal-size subsets."
   ]
  },
  {
   "cell_type": "code",
   "execution_count": 9,
   "id": "66b9bdc4-dbb6-4a34-943e-f0ed1d0be0ab",
   "metadata": {
    "tags": []
   },
   "outputs": [],
   "source": [
    "datasets = np.array([trajectories[i::n_subsets] for i in range(n_subsets)])"
   ]
  },
  {
   "cell_type": "markdown",
   "id": "deb18a40-dc06-4b46-81a9-885d0ed69698",
   "metadata": {},
   "source": [
    "## Test parameters on subsets to identify optimal"
   ]
  },
  {
   "cell_type": "markdown",
   "id": "5b58fde0-a910-4620-8293-cff030ad3a74",
   "metadata": {},
   "source": [
    "Now, we'll run a Sigopt experiment to identify the \"optimal\" set of parameters."
   ]
  },
  {
   "cell_type": "code",
   "execution_count": 10,
   "id": "56e716c4-4822-4663-a998-fac2f5732f49",
   "metadata": {
    "tags": []
   },
   "outputs": [],
   "source": [
    "metaparameters = dict(\n",
    "    trajectory_length=trajectory_length,\n",
    "    n_trajectories_per_set=n_trajectories // n_subsets,\n",
    "    n_trajectory_sets=n_subsets,\n",
    "    \n",
    "    # These below probably won't change much\n",
    "    min_weight=1e-12,  # This just helps with numerical stability during the reweighting iteration\n",
    "    last_frac=1.0,\n",
    "    n_reweight_iters=100,\n",
    ")"
   ]
  },
  {
   "cell_type": "markdown",
   "id": "e52508f6-9170-4e55-add7-44c604f29e24",
   "metadata": {},
   "source": [
    "### Define parameter space"
   ]
  },
  {
   "cell_type": "code",
   "execution_count": 11,
   "id": "49d44a53-bd97-4e6d-a8e2-c1fca90639ef",
   "metadata": {
    "tags": []
   },
   "outputs": [
    {
     "data": {
      "text/html": [
       "<pre style=\"white-space:pre;overflow-x:auto;line-height:normal;font-family:Menlo,'DejaVu Sans Mono',consolas,'Courier New',monospace\"><span style=\"color: #7fbfbf; text-decoration-color: #7fbfbf\">[17:02:28] </span><span style=\"color: #000080; text-decoration-color: #000080\">INFO    </span> AI Experiment created, view it on the SigOpt dashboard at                         <a href=\"file:///home/jd/anaconda3/envs/mr_toolkit/lib/python3.11/site-packages/sigopt/factory.py\" target=\"_blank\"><span style=\"color: #7f7f7f; text-decoration-color: #7f7f7f\">factory.py</span></a><span style=\"color: #7f7f7f; text-decoration-color: #7f7f7f\">:</span><a href=\"file:///home/jd/anaconda3/envs/mr_toolkit/lib/python3.11/site-packages/sigopt/factory.py#54\" target=\"_blank\"><span style=\"color: #7f7f7f; text-decoration-color: #7f7f7f\">54</span></a>\n",
       "<span style=\"color: #7fbfbf; text-decoration-color: #7fbfbf\">           </span>         <span style=\"color: #0000ff; text-decoration-color: #0000ff; text-decoration: underline\">https://app.sigopt.com/aiexperiment/570837</span>                                        <span style=\"color: #7f7f7f; text-decoration-color: #7f7f7f\">             </span>\n",
       "</pre>\n"
      ],
      "text/plain": [
       "\u001b[2;36m[17:02:28]\u001b[0m\u001b[2;36m \u001b[0m\u001b[34mINFO    \u001b[0m AI Experiment created, view it on the SigOpt dashboard at                         \u001b]8;id=447684;file:///home/jd/anaconda3/envs/mr_toolkit/lib/python3.11/site-packages/sigopt/factory.py\u001b\\\u001b[2mfactory.py\u001b[0m\u001b]8;;\u001b\\\u001b[2m:\u001b[0m\u001b]8;id=768683;file:///home/jd/anaconda3/envs/mr_toolkit/lib/python3.11/site-packages/sigopt/factory.py#54\u001b\\\u001b[2m54\u001b[0m\u001b]8;;\u001b\\\n",
       "\u001b[2;36m           \u001b[0m         \u001b[4;94mhttps://app.sigopt.com/aiexperiment/570837\u001b[0m                                        \u001b[2m             \u001b[0m\n"
      ]
     },
     "metadata": {},
     "output_type": "display_data"
    }
   ],
   "source": [
    "experiment = sigopt.create_experiment(\n",
    "        name=f\"Sample optimization\",\n",
    "        budget=3,\n",
    "        parameters=[\n",
    "            dict(name='N', \n",
    "                 type='int', \n",
    "                 bounds={'min': 2, 'max': metaparameters['trajectory_length']-1 }),\n",
    "            \n",
    "            # dict(name='last_frac', \n",
    "            #      type='double', \n",
    "            #      bounds={'min': 0.25, 'max': 1.0 }),\n",
    "            \n",
    "            dict(name='lag', \n",
    "                 type='int', \n",
    "                 bounds={'min': 1, 'max': metaparameters['trajectory_length']-5 }),\n",
    "        ],\n",
    "        metrics=[\n",
    "            {\n",
    "                \"name\": \"lag_vs_N\",\n",
    "                \"strategy\": \"constraint\",\n",
    "                \"objective\": \"minimize\",\n",
    "                \"threshold\": 1.0,\n",
    "            },\n",
    "            {\n",
    "                \"name\": \"avg_set_iterative_kl\",\n",
    "                \"strategy\": \"optimize\",\n",
    "                \"objective\": \"minimize\",\n",
    "            },\n",
    "        ],\n",
    "        metadata=metaparameters,\n",
    "    )"
   ]
  },
  {
   "cell_type": "markdown",
   "id": "c2df9076-238e-49a7-9f46-14f9cbd18311",
   "metadata": {},
   "source": [
    "## Perform optimization"
   ]
  },
  {
   "cell_type": "code",
   "execution_count": 12,
   "id": "a469b7ea-3912-401d-8cb7-9ceaf79909a8",
   "metadata": {
    "scrolled": true,
    "tags": []
   },
   "outputs": [
    {
     "name": "stderr",
     "output_type": "stream",
     "text": [
      "SigOpt Run: 0it [00:00, ?it/s]"
     ]
    },
    {
     "data": {
      "text/html": [
       "<pre style=\"white-space:pre;overflow-x:auto;line-height:normal;font-family:Menlo,'DejaVu Sans Mono',consolas,'Courier New',monospace\"><span style=\"color: #7fbfbf; text-decoration-color: #7fbfbf\">           </span><span style=\"color: #000080; text-decoration-color: #000080\">INFO    </span> Run started, view it on the SigOpt dashboard at                               <a href=\"file:///home/jd/anaconda3/envs/mr_toolkit/lib/python3.11/site-packages/sigopt/run_factory.py\" target=\"_blank\"><span style=\"color: #7f7f7f; text-decoration-color: #7f7f7f\">run_factory.py</span></a><span style=\"color: #7f7f7f; text-decoration-color: #7f7f7f\">:</span><a href=\"file:///home/jd/anaconda3/envs/mr_toolkit/lib/python3.11/site-packages/sigopt/run_factory.py#13\" target=\"_blank\"><span style=\"color: #7f7f7f; text-decoration-color: #7f7f7f\">13</span></a>\n",
       "<span style=\"color: #7fbfbf; text-decoration-color: #7fbfbf\">           </span>         <span style=\"color: #0000ff; text-decoration-color: #0000ff; text-decoration: underline\">https://app.sigopt.com/run/603735</span>                                             <span style=\"color: #7f7f7f; text-decoration-color: #7f7f7f\">                 </span>\n",
       "</pre>\n"
      ],
      "text/plain": [
       "\u001b[2;36m          \u001b[0m\u001b[2;36m \u001b[0m\u001b[34mINFO    \u001b[0m Run started, view it on the SigOpt dashboard at                               \u001b]8;id=272781;file:///home/jd/anaconda3/envs/mr_toolkit/lib/python3.11/site-packages/sigopt/run_factory.py\u001b\\\u001b[2mrun_factory.py\u001b[0m\u001b]8;;\u001b\\\u001b[2m:\u001b[0m\u001b]8;id=379732;file:///home/jd/anaconda3/envs/mr_toolkit/lib/python3.11/site-packages/sigopt/run_factory.py#13\u001b\\\u001b[2m13\u001b[0m\u001b]8;;\u001b\\\n",
       "\u001b[2;36m           \u001b[0m         \u001b[4;94mhttps://app.sigopt.com/run/603735\u001b[0m                                             \u001b[2m                 \u001b[0m\n"
      ]
     },
     "metadata": {},
     "output_type": "display_data"
    },
    {
     "name": "stderr",
     "output_type": "stream",
     "text": [
      "\n",
      "Building count matrices: 100%|█████████████████████████████████████████████████████████████████████████████████████████████████████████████████████████████████████████████████████████████████████████████████████████████████████████████████████| 1950/1950 [00:00<00:00, 54623.91it/s]\u001b[A\n",
      "\n",
      "Reweighting convergence:   0%|                                                                                                                                                                                                                                   | 0/10.0 [00:00<?, ?it/s]\u001b[A"
     ]
    },
    {
     "data": {
      "text/html": [
       "<pre style=\"white-space:pre;overflow-x:auto;line-height:normal;font-family:Menlo,'DejaVu Sans Mono',consolas,'Courier New',monospace\"><span style=\"color: #7fbfbf; text-decoration-color: #7fbfbf\">           </span><span style=\"color: #800000; text-decoration-color: #800000\">WARNING </span> Stationary solution <span style=\"color: #008080; text-decoration-color: #008080; font-weight: bold\">1</span> is all in one bin in iter <span style=\"color: #008080; text-decoration-color: #008080; font-weight: bold\">0</span> -- picking next-biggest  <a href=\"file:///home/jd/research/reweighting/mr_toolkit/mr_toolkit/mr_toolkit/trajectory_analysis/traj_analysis.py\" target=\"_blank\"><span style=\"color: #7f7f7f; text-decoration-color: #7f7f7f\">traj_analysis.py</span></a><span style=\"color: #7f7f7f; text-decoration-color: #7f7f7f\">:</span><a href=\"file:///home/jd/research/reweighting/mr_toolkit/mr_toolkit/mr_toolkit/trajectory_analysis/traj_analysis.py#476\" target=\"_blank\"><span style=\"color: #7f7f7f; text-decoration-color: #7f7f7f\">476</span></a>\n",
       "<span style=\"color: #7fbfbf; text-decoration-color: #7fbfbf\">           </span>         eigenvalue                                                                 <span style=\"color: #7f7f7f; text-decoration-color: #7f7f7f\">                    </span>\n",
       "</pre>\n"
      ],
      "text/plain": [
       "\u001b[2;36m          \u001b[0m\u001b[2;36m \u001b[0m\u001b[31mWARNING \u001b[0m Stationary solution \u001b[1;36m1\u001b[0m is all in one bin in iter \u001b[1;36m0\u001b[0m -- picking next-biggest  \u001b]8;id=199108;file:///home/jd/research/reweighting/mr_toolkit/mr_toolkit/mr_toolkit/trajectory_analysis/traj_analysis.py\u001b\\\u001b[2mtraj_analysis.py\u001b[0m\u001b]8;;\u001b\\\u001b[2m:\u001b[0m\u001b]8;id=351432;file:///home/jd/research/reweighting/mr_toolkit/mr_toolkit/mr_toolkit/trajectory_analysis/traj_analysis.py#476\u001b\\\u001b[2m476\u001b[0m\u001b]8;;\u001b\\\n",
       "\u001b[2;36m           \u001b[0m         eigenvalue                                                                 \u001b[2m                    \u001b[0m\n"
      ]
     },
     "metadata": {},
     "output_type": "display_data"
    },
    {
     "data": {
      "text/html": [
       "<pre style=\"white-space:pre;overflow-x:auto;line-height:normal;font-family:Menlo,'DejaVu Sans Mono',consolas,'Courier New',monospace\"><span style=\"color: #7fbfbf; text-decoration-color: #7fbfbf\">           </span><span style=\"color: #800000; text-decoration-color: #800000\">WARNING </span> Stationary solution <span style=\"color: #008080; text-decoration-color: #008080; font-weight: bold\">2</span> is not positive semidefinite, trying the next one    <a href=\"file:///home/jd/research/reweighting/mr_toolkit/mr_toolkit/mr_toolkit/trajectory_analysis/traj_analysis.py\" target=\"_blank\"><span style=\"color: #7f7f7f; text-decoration-color: #7f7f7f\">traj_analysis.py</span></a><span style=\"color: #7f7f7f; text-decoration-color: #7f7f7f\">:</span><a href=\"file:///home/jd/research/reweighting/mr_toolkit/mr_toolkit/mr_toolkit/trajectory_analysis/traj_analysis.py#478\" target=\"_blank\"><span style=\"color: #7f7f7f; text-decoration-color: #7f7f7f\">478</span></a>\n",
       "</pre>\n"
      ],
      "text/plain": [
       "\u001b[2;36m          \u001b[0m\u001b[2;36m \u001b[0m\u001b[31mWARNING \u001b[0m Stationary solution \u001b[1;36m2\u001b[0m is not positive semidefinite, trying the next one    \u001b]8;id=60396;file:///home/jd/research/reweighting/mr_toolkit/mr_toolkit/mr_toolkit/trajectory_analysis/traj_analysis.py\u001b\\\u001b[2mtraj_analysis.py\u001b[0m\u001b]8;;\u001b\\\u001b[2m:\u001b[0m\u001b]8;id=923811;file:///home/jd/research/reweighting/mr_toolkit/mr_toolkit/mr_toolkit/trajectory_analysis/traj_analysis.py#478\u001b\\\u001b[2m478\u001b[0m\u001b]8;;\u001b\\\n"
      ]
     },
     "metadata": {},
     "output_type": "display_data"
    },
    {
     "data": {
      "text/html": [
       "<pre style=\"white-space:pre;overflow-x:auto;line-height:normal;font-family:Menlo,'DejaVu Sans Mono',consolas,'Courier New',monospace\"><span style=\"color: #7fbfbf; text-decoration-color: #7fbfbf\">           </span><span style=\"color: #800000; text-decoration-color: #800000\">WARNING </span> Stationary solution <span style=\"color: #008080; text-decoration-color: #008080; font-weight: bold\">3</span> is not positive semidefinite, trying the next one    <a href=\"file:///home/jd/research/reweighting/mr_toolkit/mr_toolkit/mr_toolkit/trajectory_analysis/traj_analysis.py\" target=\"_blank\"><span style=\"color: #7f7f7f; text-decoration-color: #7f7f7f\">traj_analysis.py</span></a><span style=\"color: #7f7f7f; text-decoration-color: #7f7f7f\">:</span><a href=\"file:///home/jd/research/reweighting/mr_toolkit/mr_toolkit/mr_toolkit/trajectory_analysis/traj_analysis.py#478\" target=\"_blank\"><span style=\"color: #7f7f7f; text-decoration-color: #7f7f7f\">478</span></a>\n",
       "</pre>\n"
      ],
      "text/plain": [
       "\u001b[2;36m          \u001b[0m\u001b[2;36m \u001b[0m\u001b[31mWARNING \u001b[0m Stationary solution \u001b[1;36m3\u001b[0m is not positive semidefinite, trying the next one    \u001b]8;id=899961;file:///home/jd/research/reweighting/mr_toolkit/mr_toolkit/mr_toolkit/trajectory_analysis/traj_analysis.py\u001b\\\u001b[2mtraj_analysis.py\u001b[0m\u001b]8;;\u001b\\\u001b[2m:\u001b[0m\u001b]8;id=985265;file:///home/jd/research/reweighting/mr_toolkit/mr_toolkit/mr_toolkit/trajectory_analysis/traj_analysis.py#478\u001b\\\u001b[2m478\u001b[0m\u001b]8;;\u001b\\\n"
      ]
     },
     "metadata": {},
     "output_type": "display_data"
    },
    {
     "data": {
      "text/html": [
       "<pre style=\"white-space:pre;overflow-x:auto;line-height:normal;font-family:Menlo,'DejaVu Sans Mono',consolas,'Courier New',monospace\"><span style=\"color: #7fbfbf; text-decoration-color: #7fbfbf\">           </span><span style=\"color: #800000; text-decoration-color: #800000\">WARNING </span> Stationary solution <span style=\"color: #008080; text-decoration-color: #008080; font-weight: bold\">4</span> is not positive semidefinite, trying the next one    <a href=\"file:///home/jd/research/reweighting/mr_toolkit/mr_toolkit/mr_toolkit/trajectory_analysis/traj_analysis.py\" target=\"_blank\"><span style=\"color: #7f7f7f; text-decoration-color: #7f7f7f\">traj_analysis.py</span></a><span style=\"color: #7f7f7f; text-decoration-color: #7f7f7f\">:</span><a href=\"file:///home/jd/research/reweighting/mr_toolkit/mr_toolkit/mr_toolkit/trajectory_analysis/traj_analysis.py#478\" target=\"_blank\"><span style=\"color: #7f7f7f; text-decoration-color: #7f7f7f\">478</span></a>\n",
       "</pre>\n"
      ],
      "text/plain": [
       "\u001b[2;36m          \u001b[0m\u001b[2;36m \u001b[0m\u001b[31mWARNING \u001b[0m Stationary solution \u001b[1;36m4\u001b[0m is not positive semidefinite, trying the next one    \u001b]8;id=170953;file:///home/jd/research/reweighting/mr_toolkit/mr_toolkit/mr_toolkit/trajectory_analysis/traj_analysis.py\u001b\\\u001b[2mtraj_analysis.py\u001b[0m\u001b]8;;\u001b\\\u001b[2m:\u001b[0m\u001b]8;id=773833;file:///home/jd/research/reweighting/mr_toolkit/mr_toolkit/mr_toolkit/trajectory_analysis/traj_analysis.py#478\u001b\\\u001b[2m478\u001b[0m\u001b]8;;\u001b\\\n"
      ]
     },
     "metadata": {},
     "output_type": "display_data"
    },
    {
     "data": {
      "text/html": [
       "<pre style=\"white-space:pre;overflow-x:auto;line-height:normal;font-family:Menlo,'DejaVu Sans Mono',consolas,'Courier New',monospace\"><span style=\"color: #7fbfbf; text-decoration-color: #7fbfbf\">           </span><span style=\"color: #800000; text-decoration-color: #800000\">WARNING </span> Stationary solution <span style=\"color: #008080; text-decoration-color: #008080; font-weight: bold\">5</span> is not positive semidefinite, trying the next one    <a href=\"file:///home/jd/research/reweighting/mr_toolkit/mr_toolkit/mr_toolkit/trajectory_analysis/traj_analysis.py\" target=\"_blank\"><span style=\"color: #7f7f7f; text-decoration-color: #7f7f7f\">traj_analysis.py</span></a><span style=\"color: #7f7f7f; text-decoration-color: #7f7f7f\">:</span><a href=\"file:///home/jd/research/reweighting/mr_toolkit/mr_toolkit/mr_toolkit/trajectory_analysis/traj_analysis.py#478\" target=\"_blank\"><span style=\"color: #7f7f7f; text-decoration-color: #7f7f7f\">478</span></a>\n",
       "</pre>\n"
      ],
      "text/plain": [
       "\u001b[2;36m          \u001b[0m\u001b[2;36m \u001b[0m\u001b[31mWARNING \u001b[0m Stationary solution \u001b[1;36m5\u001b[0m is not positive semidefinite, trying the next one    \u001b]8;id=918899;file:///home/jd/research/reweighting/mr_toolkit/mr_toolkit/mr_toolkit/trajectory_analysis/traj_analysis.py\u001b\\\u001b[2mtraj_analysis.py\u001b[0m\u001b]8;;\u001b\\\u001b[2m:\u001b[0m\u001b]8;id=387831;file:///home/jd/research/reweighting/mr_toolkit/mr_toolkit/mr_toolkit/trajectory_analysis/traj_analysis.py#478\u001b\\\u001b[2m478\u001b[0m\u001b]8;;\u001b\\\n"
      ]
     },
     "metadata": {},
     "output_type": "display_data"
    },
    {
     "data": {
      "text/html": [
       "<pre style=\"white-space:pre;overflow-x:auto;line-height:normal;font-family:Menlo,'DejaVu Sans Mono',consolas,'Courier New',monospace\"><span style=\"color: #7fbfbf; text-decoration-color: #7fbfbf\">           </span><span style=\"color: #800000; text-decoration-color: #800000\">WARNING </span> Stationary solution <span style=\"color: #008080; text-decoration-color: #008080; font-weight: bold\">6</span> is not positive semidefinite, trying the next one    <a href=\"file:///home/jd/research/reweighting/mr_toolkit/mr_toolkit/mr_toolkit/trajectory_analysis/traj_analysis.py\" target=\"_blank\"><span style=\"color: #7f7f7f; text-decoration-color: #7f7f7f\">traj_analysis.py</span></a><span style=\"color: #7f7f7f; text-decoration-color: #7f7f7f\">:</span><a href=\"file:///home/jd/research/reweighting/mr_toolkit/mr_toolkit/mr_toolkit/trajectory_analysis/traj_analysis.py#478\" target=\"_blank\"><span style=\"color: #7f7f7f; text-decoration-color: #7f7f7f\">478</span></a>\n",
       "</pre>\n"
      ],
      "text/plain": [
       "\u001b[2;36m          \u001b[0m\u001b[2;36m \u001b[0m\u001b[31mWARNING \u001b[0m Stationary solution \u001b[1;36m6\u001b[0m is not positive semidefinite, trying the next one    \u001b]8;id=288114;file:///home/jd/research/reweighting/mr_toolkit/mr_toolkit/mr_toolkit/trajectory_analysis/traj_analysis.py\u001b\\\u001b[2mtraj_analysis.py\u001b[0m\u001b]8;;\u001b\\\u001b[2m:\u001b[0m\u001b]8;id=10185;file:///home/jd/research/reweighting/mr_toolkit/mr_toolkit/mr_toolkit/trajectory_analysis/traj_analysis.py#478\u001b\\\u001b[2m478\u001b[0m\u001b]8;;\u001b\\\n"
      ]
     },
     "metadata": {},
     "output_type": "display_data"
    },
    {
     "data": {
      "text/html": [
       "<pre style=\"white-space:pre;overflow-x:auto;line-height:normal;font-family:Menlo,'DejaVu Sans Mono',consolas,'Courier New',monospace\"><span style=\"color: #7fbfbf; text-decoration-color: #7fbfbf\">           </span><span style=\"color: #800000; text-decoration-color: #800000\">WARNING </span> Stationary solution <span style=\"color: #008080; text-decoration-color: #008080; font-weight: bold\">7</span> is not positive semidefinite, trying the next one    <a href=\"file:///home/jd/research/reweighting/mr_toolkit/mr_toolkit/mr_toolkit/trajectory_analysis/traj_analysis.py\" target=\"_blank\"><span style=\"color: #7f7f7f; text-decoration-color: #7f7f7f\">traj_analysis.py</span></a><span style=\"color: #7f7f7f; text-decoration-color: #7f7f7f\">:</span><a href=\"file:///home/jd/research/reweighting/mr_toolkit/mr_toolkit/mr_toolkit/trajectory_analysis/traj_analysis.py#478\" target=\"_blank\"><span style=\"color: #7f7f7f; text-decoration-color: #7f7f7f\">478</span></a>\n",
       "</pre>\n"
      ],
      "text/plain": [
       "\u001b[2;36m          \u001b[0m\u001b[2;36m \u001b[0m\u001b[31mWARNING \u001b[0m Stationary solution \u001b[1;36m7\u001b[0m is not positive semidefinite, trying the next one    \u001b]8;id=10020;file:///home/jd/research/reweighting/mr_toolkit/mr_toolkit/mr_toolkit/trajectory_analysis/traj_analysis.py\u001b\\\u001b[2mtraj_analysis.py\u001b[0m\u001b]8;;\u001b\\\u001b[2m:\u001b[0m\u001b]8;id=387966;file:///home/jd/research/reweighting/mr_toolkit/mr_toolkit/mr_toolkit/trajectory_analysis/traj_analysis.py#478\u001b\\\u001b[2m478\u001b[0m\u001b]8;;\u001b\\\n"
      ]
     },
     "metadata": {},
     "output_type": "display_data"
    },
    {
     "data": {
      "text/html": [
       "<pre style=\"white-space:pre;overflow-x:auto;line-height:normal;font-family:Menlo,'DejaVu Sans Mono',consolas,'Courier New',monospace\"><span style=\"color: #7fbfbf; text-decoration-color: #7fbfbf\">           </span><span style=\"color: #800000; text-decoration-color: #800000\">WARNING </span> Stationary solution <span style=\"color: #008080; text-decoration-color: #008080; font-weight: bold\">8</span> is not positive semidefinite, trying the next one    <a href=\"file:///home/jd/research/reweighting/mr_toolkit/mr_toolkit/mr_toolkit/trajectory_analysis/traj_analysis.py\" target=\"_blank\"><span style=\"color: #7f7f7f; text-decoration-color: #7f7f7f\">traj_analysis.py</span></a><span style=\"color: #7f7f7f; text-decoration-color: #7f7f7f\">:</span><a href=\"file:///home/jd/research/reweighting/mr_toolkit/mr_toolkit/mr_toolkit/trajectory_analysis/traj_analysis.py#478\" target=\"_blank\"><span style=\"color: #7f7f7f; text-decoration-color: #7f7f7f\">478</span></a>\n",
       "</pre>\n"
      ],
      "text/plain": [
       "\u001b[2;36m          \u001b[0m\u001b[2;36m \u001b[0m\u001b[31mWARNING \u001b[0m Stationary solution \u001b[1;36m8\u001b[0m is not positive semidefinite, trying the next one    \u001b]8;id=752342;file:///home/jd/research/reweighting/mr_toolkit/mr_toolkit/mr_toolkit/trajectory_analysis/traj_analysis.py\u001b\\\u001b[2mtraj_analysis.py\u001b[0m\u001b]8;;\u001b\\\u001b[2m:\u001b[0m\u001b]8;id=707307;file:///home/jd/research/reweighting/mr_toolkit/mr_toolkit/mr_toolkit/trajectory_analysis/traj_analysis.py#478\u001b\\\u001b[2m478\u001b[0m\u001b]8;;\u001b\\\n"
      ]
     },
     "metadata": {},
     "output_type": "display_data"
    },
    {
     "data": {
      "text/html": [
       "<pre style=\"white-space:pre;overflow-x:auto;line-height:normal;font-family:Menlo,'DejaVu Sans Mono',consolas,'Courier New',monospace\"><span style=\"color: #7fbfbf; text-decoration-color: #7fbfbf\">           </span><span style=\"color: #800000; text-decoration-color: #800000\">WARNING </span> Stationary solution <span style=\"color: #008080; text-decoration-color: #008080; font-weight: bold\">9</span> is not positive semidefinite, trying the next one    <a href=\"file:///home/jd/research/reweighting/mr_toolkit/mr_toolkit/mr_toolkit/trajectory_analysis/traj_analysis.py\" target=\"_blank\"><span style=\"color: #7f7f7f; text-decoration-color: #7f7f7f\">traj_analysis.py</span></a><span style=\"color: #7f7f7f; text-decoration-color: #7f7f7f\">:</span><a href=\"file:///home/jd/research/reweighting/mr_toolkit/mr_toolkit/mr_toolkit/trajectory_analysis/traj_analysis.py#478\" target=\"_blank\"><span style=\"color: #7f7f7f; text-decoration-color: #7f7f7f\">478</span></a>\n",
       "</pre>\n"
      ],
      "text/plain": [
       "\u001b[2;36m          \u001b[0m\u001b[2;36m \u001b[0m\u001b[31mWARNING \u001b[0m Stationary solution \u001b[1;36m9\u001b[0m is not positive semidefinite, trying the next one    \u001b]8;id=983533;file:///home/jd/research/reweighting/mr_toolkit/mr_toolkit/mr_toolkit/trajectory_analysis/traj_analysis.py\u001b\\\u001b[2mtraj_analysis.py\u001b[0m\u001b]8;;\u001b\\\u001b[2m:\u001b[0m\u001b]8;id=328780;file:///home/jd/research/reweighting/mr_toolkit/mr_toolkit/mr_toolkit/trajectory_analysis/traj_analysis.py#478\u001b\\\u001b[2m478\u001b[0m\u001b]8;;\u001b\\\n"
      ]
     },
     "metadata": {},
     "output_type": "display_data"
    },
    {
     "data": {
      "text/html": [
       "<pre style=\"white-space:pre;overflow-x:auto;line-height:normal;font-family:Menlo,'DejaVu Sans Mono',consolas,'Courier New',monospace\"><span style=\"color: #7fbfbf; text-decoration-color: #7fbfbf\">           </span><span style=\"color: #800000; text-decoration-color: #800000\">WARNING </span> Stationary solution <span style=\"color: #008080; text-decoration-color: #008080; font-weight: bold\">10</span> is not positive semidefinite, trying the next one   <a href=\"file:///home/jd/research/reweighting/mr_toolkit/mr_toolkit/mr_toolkit/trajectory_analysis/traj_analysis.py\" target=\"_blank\"><span style=\"color: #7f7f7f; text-decoration-color: #7f7f7f\">traj_analysis.py</span></a><span style=\"color: #7f7f7f; text-decoration-color: #7f7f7f\">:</span><a href=\"file:///home/jd/research/reweighting/mr_toolkit/mr_toolkit/mr_toolkit/trajectory_analysis/traj_analysis.py#478\" target=\"_blank\"><span style=\"color: #7f7f7f; text-decoration-color: #7f7f7f\">478</span></a>\n",
       "</pre>\n"
      ],
      "text/plain": [
       "\u001b[2;36m          \u001b[0m\u001b[2;36m \u001b[0m\u001b[31mWARNING \u001b[0m Stationary solution \u001b[1;36m10\u001b[0m is not positive semidefinite, trying the next one   \u001b]8;id=737273;file:///home/jd/research/reweighting/mr_toolkit/mr_toolkit/mr_toolkit/trajectory_analysis/traj_analysis.py\u001b\\\u001b[2mtraj_analysis.py\u001b[0m\u001b]8;;\u001b\\\u001b[2m:\u001b[0m\u001b]8;id=897902;file:///home/jd/research/reweighting/mr_toolkit/mr_toolkit/mr_toolkit/trajectory_analysis/traj_analysis.py#478\u001b\\\u001b[2m478\u001b[0m\u001b]8;;\u001b\\\n"
      ]
     },
     "metadata": {},
     "output_type": "display_data"
    },
    {
     "data": {
      "text/html": [
       "<pre style=\"white-space:pre;overflow-x:auto;line-height:normal;font-family:Menlo,'DejaVu Sans Mono',consolas,'Courier New',monospace\"><span style=\"color: #7fbfbf; text-decoration-color: #7fbfbf\">           </span><span style=\"color: #800000; text-decoration-color: #800000\">WARNING </span> Stationary solution <span style=\"color: #008080; text-decoration-color: #008080; font-weight: bold\">11</span> is not positive semidefinite, trying the next one   <a href=\"file:///home/jd/research/reweighting/mr_toolkit/mr_toolkit/mr_toolkit/trajectory_analysis/traj_analysis.py\" target=\"_blank\"><span style=\"color: #7f7f7f; text-decoration-color: #7f7f7f\">traj_analysis.py</span></a><span style=\"color: #7f7f7f; text-decoration-color: #7f7f7f\">:</span><a href=\"file:///home/jd/research/reweighting/mr_toolkit/mr_toolkit/mr_toolkit/trajectory_analysis/traj_analysis.py#478\" target=\"_blank\"><span style=\"color: #7f7f7f; text-decoration-color: #7f7f7f\">478</span></a>\n",
       "</pre>\n"
      ],
      "text/plain": [
       "\u001b[2;36m          \u001b[0m\u001b[2;36m \u001b[0m\u001b[31mWARNING \u001b[0m Stationary solution \u001b[1;36m11\u001b[0m is not positive semidefinite, trying the next one   \u001b]8;id=420822;file:///home/jd/research/reweighting/mr_toolkit/mr_toolkit/mr_toolkit/trajectory_analysis/traj_analysis.py\u001b\\\u001b[2mtraj_analysis.py\u001b[0m\u001b]8;;\u001b\\\u001b[2m:\u001b[0m\u001b]8;id=565805;file:///home/jd/research/reweighting/mr_toolkit/mr_toolkit/mr_toolkit/trajectory_analysis/traj_analysis.py#478\u001b\\\u001b[2m478\u001b[0m\u001b]8;;\u001b\\\n"
      ]
     },
     "metadata": {},
     "output_type": "display_data"
    },
    {
     "data": {
      "text/html": [
       "<pre style=\"white-space:pre;overflow-x:auto;line-height:normal;font-family:Menlo,'DejaVu Sans Mono',consolas,'Courier New',monospace\"><span style=\"color: #7fbfbf; text-decoration-color: #7fbfbf\">           </span><span style=\"color: #800000; text-decoration-color: #800000\">WARNING </span> Stationary solution <span style=\"color: #008080; text-decoration-color: #008080; font-weight: bold\">12</span> is not positive semidefinite, trying the next one   <a href=\"file:///home/jd/research/reweighting/mr_toolkit/mr_toolkit/mr_toolkit/trajectory_analysis/traj_analysis.py\" target=\"_blank\"><span style=\"color: #7f7f7f; text-decoration-color: #7f7f7f\">traj_analysis.py</span></a><span style=\"color: #7f7f7f; text-decoration-color: #7f7f7f\">:</span><a href=\"file:///home/jd/research/reweighting/mr_toolkit/mr_toolkit/mr_toolkit/trajectory_analysis/traj_analysis.py#478\" target=\"_blank\"><span style=\"color: #7f7f7f; text-decoration-color: #7f7f7f\">478</span></a>\n",
       "</pre>\n"
      ],
      "text/plain": [
       "\u001b[2;36m          \u001b[0m\u001b[2;36m \u001b[0m\u001b[31mWARNING \u001b[0m Stationary solution \u001b[1;36m12\u001b[0m is not positive semidefinite, trying the next one   \u001b]8;id=16012;file:///home/jd/research/reweighting/mr_toolkit/mr_toolkit/mr_toolkit/trajectory_analysis/traj_analysis.py\u001b\\\u001b[2mtraj_analysis.py\u001b[0m\u001b]8;;\u001b\\\u001b[2m:\u001b[0m\u001b]8;id=135422;file:///home/jd/research/reweighting/mr_toolkit/mr_toolkit/mr_toolkit/trajectory_analysis/traj_analysis.py#478\u001b\\\u001b[2m478\u001b[0m\u001b]8;;\u001b\\\n"
      ]
     },
     "metadata": {},
     "output_type": "display_data"
    },
    {
     "data": {
      "text/html": [
       "<pre style=\"white-space:pre;overflow-x:auto;line-height:normal;font-family:Menlo,'DejaVu Sans Mono',consolas,'Courier New',monospace\"><span style=\"color: #7fbfbf; text-decoration-color: #7fbfbf\">           </span><span style=\"color: #800000; text-decoration-color: #800000\">WARNING </span> Stationary solution <span style=\"color: #008080; text-decoration-color: #008080; font-weight: bold\">13</span> is not positive semidefinite, trying the next one   <a href=\"file:///home/jd/research/reweighting/mr_toolkit/mr_toolkit/mr_toolkit/trajectory_analysis/traj_analysis.py\" target=\"_blank\"><span style=\"color: #7f7f7f; text-decoration-color: #7f7f7f\">traj_analysis.py</span></a><span style=\"color: #7f7f7f; text-decoration-color: #7f7f7f\">:</span><a href=\"file:///home/jd/research/reweighting/mr_toolkit/mr_toolkit/mr_toolkit/trajectory_analysis/traj_analysis.py#478\" target=\"_blank\"><span style=\"color: #7f7f7f; text-decoration-color: #7f7f7f\">478</span></a>\n",
       "</pre>\n"
      ],
      "text/plain": [
       "\u001b[2;36m          \u001b[0m\u001b[2;36m \u001b[0m\u001b[31mWARNING \u001b[0m Stationary solution \u001b[1;36m13\u001b[0m is not positive semidefinite, trying the next one   \u001b]8;id=727049;file:///home/jd/research/reweighting/mr_toolkit/mr_toolkit/mr_toolkit/trajectory_analysis/traj_analysis.py\u001b\\\u001b[2mtraj_analysis.py\u001b[0m\u001b]8;;\u001b\\\u001b[2m:\u001b[0m\u001b]8;id=326710;file:///home/jd/research/reweighting/mr_toolkit/mr_toolkit/mr_toolkit/trajectory_analysis/traj_analysis.py#478\u001b\\\u001b[2m478\u001b[0m\u001b]8;;\u001b\\\n"
      ]
     },
     "metadata": {},
     "output_type": "display_data"
    },
    {
     "data": {
      "text/html": [
       "<pre style=\"white-space:pre;overflow-x:auto;line-height:normal;font-family:Menlo,'DejaVu Sans Mono',consolas,'Courier New',monospace\"><span style=\"color: #7fbfbf; text-decoration-color: #7fbfbf\">           </span><span style=\"color: #800000; text-decoration-color: #800000\">WARNING </span> Stationary solution <span style=\"color: #008080; text-decoration-color: #008080; font-weight: bold\">14</span> is not positive semidefinite, trying the next one   <a href=\"file:///home/jd/research/reweighting/mr_toolkit/mr_toolkit/mr_toolkit/trajectory_analysis/traj_analysis.py\" target=\"_blank\"><span style=\"color: #7f7f7f; text-decoration-color: #7f7f7f\">traj_analysis.py</span></a><span style=\"color: #7f7f7f; text-decoration-color: #7f7f7f\">:</span><a href=\"file:///home/jd/research/reweighting/mr_toolkit/mr_toolkit/mr_toolkit/trajectory_analysis/traj_analysis.py#478\" target=\"_blank\"><span style=\"color: #7f7f7f; text-decoration-color: #7f7f7f\">478</span></a>\n",
       "</pre>\n"
      ],
      "text/plain": [
       "\u001b[2;36m          \u001b[0m\u001b[2;36m \u001b[0m\u001b[31mWARNING \u001b[0m Stationary solution \u001b[1;36m14\u001b[0m is not positive semidefinite, trying the next one   \u001b]8;id=357390;file:///home/jd/research/reweighting/mr_toolkit/mr_toolkit/mr_toolkit/trajectory_analysis/traj_analysis.py\u001b\\\u001b[2mtraj_analysis.py\u001b[0m\u001b]8;;\u001b\\\u001b[2m:\u001b[0m\u001b]8;id=881522;file:///home/jd/research/reweighting/mr_toolkit/mr_toolkit/mr_toolkit/trajectory_analysis/traj_analysis.py#478\u001b\\\u001b[2m478\u001b[0m\u001b]8;;\u001b\\\n"
      ]
     },
     "metadata": {},
     "output_type": "display_data"
    },
    {
     "data": {
      "text/html": [
       "<pre style=\"white-space:pre;overflow-x:auto;line-height:normal;font-family:Menlo,'DejaVu Sans Mono',consolas,'Courier New',monospace\"><span style=\"color: #7fbfbf; text-decoration-color: #7fbfbf\">           </span><span style=\"color: #800000; text-decoration-color: #800000\">WARNING </span> Stationary solution <span style=\"color: #008080; text-decoration-color: #008080; font-weight: bold\">15</span> is not positive semidefinite, trying the next one   <a href=\"file:///home/jd/research/reweighting/mr_toolkit/mr_toolkit/mr_toolkit/trajectory_analysis/traj_analysis.py\" target=\"_blank\"><span style=\"color: #7f7f7f; text-decoration-color: #7f7f7f\">traj_analysis.py</span></a><span style=\"color: #7f7f7f; text-decoration-color: #7f7f7f\">:</span><a href=\"file:///home/jd/research/reweighting/mr_toolkit/mr_toolkit/mr_toolkit/trajectory_analysis/traj_analysis.py#478\" target=\"_blank\"><span style=\"color: #7f7f7f; text-decoration-color: #7f7f7f\">478</span></a>\n",
       "</pre>\n"
      ],
      "text/plain": [
       "\u001b[2;36m          \u001b[0m\u001b[2;36m \u001b[0m\u001b[31mWARNING \u001b[0m Stationary solution \u001b[1;36m15\u001b[0m is not positive semidefinite, trying the next one   \u001b]8;id=192990;file:///home/jd/research/reweighting/mr_toolkit/mr_toolkit/mr_toolkit/trajectory_analysis/traj_analysis.py\u001b\\\u001b[2mtraj_analysis.py\u001b[0m\u001b]8;;\u001b\\\u001b[2m:\u001b[0m\u001b]8;id=689429;file:///home/jd/research/reweighting/mr_toolkit/mr_toolkit/mr_toolkit/trajectory_analysis/traj_analysis.py#478\u001b\\\u001b[2m478\u001b[0m\u001b]8;;\u001b\\\n"
      ]
     },
     "metadata": {},
     "output_type": "display_data"
    },
    {
     "data": {
      "text/html": [
       "<pre style=\"white-space:pre;overflow-x:auto;line-height:normal;font-family:Menlo,'DejaVu Sans Mono',consolas,'Courier New',monospace\"><span style=\"color: #7fbfbf; text-decoration-color: #7fbfbf\">           </span><span style=\"color: #800000; text-decoration-color: #800000\">WARNING </span> Stationary solution <span style=\"color: #008080; text-decoration-color: #008080; font-weight: bold\">16</span> is not positive semidefinite, trying the next one   <a href=\"file:///home/jd/research/reweighting/mr_toolkit/mr_toolkit/mr_toolkit/trajectory_analysis/traj_analysis.py\" target=\"_blank\"><span style=\"color: #7f7f7f; text-decoration-color: #7f7f7f\">traj_analysis.py</span></a><span style=\"color: #7f7f7f; text-decoration-color: #7f7f7f\">:</span><a href=\"file:///home/jd/research/reweighting/mr_toolkit/mr_toolkit/mr_toolkit/trajectory_analysis/traj_analysis.py#478\" target=\"_blank\"><span style=\"color: #7f7f7f; text-decoration-color: #7f7f7f\">478</span></a>\n",
       "</pre>\n"
      ],
      "text/plain": [
       "\u001b[2;36m          \u001b[0m\u001b[2;36m \u001b[0m\u001b[31mWARNING \u001b[0m Stationary solution \u001b[1;36m16\u001b[0m is not positive semidefinite, trying the next one   \u001b]8;id=82142;file:///home/jd/research/reweighting/mr_toolkit/mr_toolkit/mr_toolkit/trajectory_analysis/traj_analysis.py\u001b\\\u001b[2mtraj_analysis.py\u001b[0m\u001b]8;;\u001b\\\u001b[2m:\u001b[0m\u001b]8;id=929051;file:///home/jd/research/reweighting/mr_toolkit/mr_toolkit/mr_toolkit/trajectory_analysis/traj_analysis.py#478\u001b\\\u001b[2m478\u001b[0m\u001b]8;;\u001b\\\n"
      ]
     },
     "metadata": {},
     "output_type": "display_data"
    },
    {
     "data": {
      "text/html": [
       "<pre style=\"white-space:pre;overflow-x:auto;line-height:normal;font-family:Menlo,'DejaVu Sans Mono',consolas,'Courier New',monospace\"><span style=\"color: #7fbfbf; text-decoration-color: #7fbfbf\">           </span><span style=\"color: #800000; text-decoration-color: #800000\">WARNING </span> Stationary solution <span style=\"color: #008080; text-decoration-color: #008080; font-weight: bold\">17</span> is not positive semidefinite, trying the next one   <a href=\"file:///home/jd/research/reweighting/mr_toolkit/mr_toolkit/mr_toolkit/trajectory_analysis/traj_analysis.py\" target=\"_blank\"><span style=\"color: #7f7f7f; text-decoration-color: #7f7f7f\">traj_analysis.py</span></a><span style=\"color: #7f7f7f; text-decoration-color: #7f7f7f\">:</span><a href=\"file:///home/jd/research/reweighting/mr_toolkit/mr_toolkit/mr_toolkit/trajectory_analysis/traj_analysis.py#478\" target=\"_blank\"><span style=\"color: #7f7f7f; text-decoration-color: #7f7f7f\">478</span></a>\n",
       "</pre>\n"
      ],
      "text/plain": [
       "\u001b[2;36m          \u001b[0m\u001b[2;36m \u001b[0m\u001b[31mWARNING \u001b[0m Stationary solution \u001b[1;36m17\u001b[0m is not positive semidefinite, trying the next one   \u001b]8;id=665001;file:///home/jd/research/reweighting/mr_toolkit/mr_toolkit/mr_toolkit/trajectory_analysis/traj_analysis.py\u001b\\\u001b[2mtraj_analysis.py\u001b[0m\u001b]8;;\u001b\\\u001b[2m:\u001b[0m\u001b]8;id=977559;file:///home/jd/research/reweighting/mr_toolkit/mr_toolkit/mr_toolkit/trajectory_analysis/traj_analysis.py#478\u001b\\\u001b[2m478\u001b[0m\u001b]8;;\u001b\\\n"
      ]
     },
     "metadata": {},
     "output_type": "display_data"
    },
    {
     "data": {
      "text/html": [
       "<pre style=\"white-space:pre;overflow-x:auto;line-height:normal;font-family:Menlo,'DejaVu Sans Mono',consolas,'Courier New',monospace\"><span style=\"color: #7fbfbf; text-decoration-color: #7fbfbf\">           </span><span style=\"color: #800000; text-decoration-color: #800000\">WARNING </span> Stationary solution <span style=\"color: #008080; text-decoration-color: #008080; font-weight: bold\">18</span> is not positive semidefinite, trying the next one   <a href=\"file:///home/jd/research/reweighting/mr_toolkit/mr_toolkit/mr_toolkit/trajectory_analysis/traj_analysis.py\" target=\"_blank\"><span style=\"color: #7f7f7f; text-decoration-color: #7f7f7f\">traj_analysis.py</span></a><span style=\"color: #7f7f7f; text-decoration-color: #7f7f7f\">:</span><a href=\"file:///home/jd/research/reweighting/mr_toolkit/mr_toolkit/mr_toolkit/trajectory_analysis/traj_analysis.py#478\" target=\"_blank\"><span style=\"color: #7f7f7f; text-decoration-color: #7f7f7f\">478</span></a>\n",
       "</pre>\n"
      ],
      "text/plain": [
       "\u001b[2;36m          \u001b[0m\u001b[2;36m \u001b[0m\u001b[31mWARNING \u001b[0m Stationary solution \u001b[1;36m18\u001b[0m is not positive semidefinite, trying the next one   \u001b]8;id=642108;file:///home/jd/research/reweighting/mr_toolkit/mr_toolkit/mr_toolkit/trajectory_analysis/traj_analysis.py\u001b\\\u001b[2mtraj_analysis.py\u001b[0m\u001b]8;;\u001b\\\u001b[2m:\u001b[0m\u001b]8;id=977848;file:///home/jd/research/reweighting/mr_toolkit/mr_toolkit/mr_toolkit/trajectory_analysis/traj_analysis.py#478\u001b\\\u001b[2m478\u001b[0m\u001b]8;;\u001b\\\n"
      ]
     },
     "metadata": {},
     "output_type": "display_data"
    },
    {
     "data": {
      "text/html": [
       "<pre style=\"white-space:pre;overflow-x:auto;line-height:normal;font-family:Menlo,'DejaVu Sans Mono',consolas,'Courier New',monospace\"><span style=\"color: #7fbfbf; text-decoration-color: #7fbfbf\">           </span><span style=\"color: #800000; text-decoration-color: #800000\">WARNING </span> Stationary solution <span style=\"color: #008080; text-decoration-color: #008080; font-weight: bold\">19</span> is not positive semidefinite, trying the next one   <a href=\"file:///home/jd/research/reweighting/mr_toolkit/mr_toolkit/mr_toolkit/trajectory_analysis/traj_analysis.py\" target=\"_blank\"><span style=\"color: #7f7f7f; text-decoration-color: #7f7f7f\">traj_analysis.py</span></a><span style=\"color: #7f7f7f; text-decoration-color: #7f7f7f\">:</span><a href=\"file:///home/jd/research/reweighting/mr_toolkit/mr_toolkit/mr_toolkit/trajectory_analysis/traj_analysis.py#478\" target=\"_blank\"><span style=\"color: #7f7f7f; text-decoration-color: #7f7f7f\">478</span></a>\n",
       "</pre>\n"
      ],
      "text/plain": [
       "\u001b[2;36m          \u001b[0m\u001b[2;36m \u001b[0m\u001b[31mWARNING \u001b[0m Stationary solution \u001b[1;36m19\u001b[0m is not positive semidefinite, trying the next one   \u001b]8;id=50069;file:///home/jd/research/reweighting/mr_toolkit/mr_toolkit/mr_toolkit/trajectory_analysis/traj_analysis.py\u001b\\\u001b[2mtraj_analysis.py\u001b[0m\u001b]8;;\u001b\\\u001b[2m:\u001b[0m\u001b]8;id=357669;file:///home/jd/research/reweighting/mr_toolkit/mr_toolkit/mr_toolkit/trajectory_analysis/traj_analysis.py#478\u001b\\\u001b[2m478\u001b[0m\u001b]8;;\u001b\\\n"
      ]
     },
     "metadata": {},
     "output_type": "display_data"
    },
    {
     "data": {
      "text/html": [
       "<pre style=\"white-space:pre;overflow-x:auto;line-height:normal;font-family:Menlo,'DejaVu Sans Mono',consolas,'Courier New',monospace\"><span style=\"color: #7fbfbf; text-decoration-color: #7fbfbf\">           </span><span style=\"color: #800000; text-decoration-color: #800000\">WARNING </span> Stationary solution <span style=\"color: #008080; text-decoration-color: #008080; font-weight: bold\">20</span> is not positive semidefinite, trying the next one   <a href=\"file:///home/jd/research/reweighting/mr_toolkit/mr_toolkit/mr_toolkit/trajectory_analysis/traj_analysis.py\" target=\"_blank\"><span style=\"color: #7f7f7f; text-decoration-color: #7f7f7f\">traj_analysis.py</span></a><span style=\"color: #7f7f7f; text-decoration-color: #7f7f7f\">:</span><a href=\"file:///home/jd/research/reweighting/mr_toolkit/mr_toolkit/mr_toolkit/trajectory_analysis/traj_analysis.py#478\" target=\"_blank\"><span style=\"color: #7f7f7f; text-decoration-color: #7f7f7f\">478</span></a>\n",
       "</pre>\n"
      ],
      "text/plain": [
       "\u001b[2;36m          \u001b[0m\u001b[2;36m \u001b[0m\u001b[31mWARNING \u001b[0m Stationary solution \u001b[1;36m20\u001b[0m is not positive semidefinite, trying the next one   \u001b]8;id=514264;file:///home/jd/research/reweighting/mr_toolkit/mr_toolkit/mr_toolkit/trajectory_analysis/traj_analysis.py\u001b\\\u001b[2mtraj_analysis.py\u001b[0m\u001b]8;;\u001b\\\u001b[2m:\u001b[0m\u001b]8;id=139220;file:///home/jd/research/reweighting/mr_toolkit/mr_toolkit/mr_toolkit/trajectory_analysis/traj_analysis.py#478\u001b\\\u001b[2m478\u001b[0m\u001b]8;;\u001b\\\n"
      ]
     },
     "metadata": {},
     "output_type": "display_data"
    },
    {
     "data": {
      "text/html": [
       "<pre style=\"white-space:pre;overflow-x:auto;line-height:normal;font-family:Menlo,'DejaVu Sans Mono',consolas,'Courier New',monospace\"><span style=\"color: #7fbfbf; text-decoration-color: #7fbfbf\">           </span><span style=\"color: #800000; text-decoration-color: #800000\">WARNING </span> Stationary solution <span style=\"color: #008080; text-decoration-color: #008080; font-weight: bold\">21</span> is not positive semidefinite, trying the next one   <a href=\"file:///home/jd/research/reweighting/mr_toolkit/mr_toolkit/mr_toolkit/trajectory_analysis/traj_analysis.py\" target=\"_blank\"><span style=\"color: #7f7f7f; text-decoration-color: #7f7f7f\">traj_analysis.py</span></a><span style=\"color: #7f7f7f; text-decoration-color: #7f7f7f\">:</span><a href=\"file:///home/jd/research/reweighting/mr_toolkit/mr_toolkit/mr_toolkit/trajectory_analysis/traj_analysis.py#478\" target=\"_blank\"><span style=\"color: #7f7f7f; text-decoration-color: #7f7f7f\">478</span></a>\n",
       "</pre>\n"
      ],
      "text/plain": [
       "\u001b[2;36m          \u001b[0m\u001b[2;36m \u001b[0m\u001b[31mWARNING \u001b[0m Stationary solution \u001b[1;36m21\u001b[0m is not positive semidefinite, trying the next one   \u001b]8;id=678445;file:///home/jd/research/reweighting/mr_toolkit/mr_toolkit/mr_toolkit/trajectory_analysis/traj_analysis.py\u001b\\\u001b[2mtraj_analysis.py\u001b[0m\u001b]8;;\u001b\\\u001b[2m:\u001b[0m\u001b]8;id=417772;file:///home/jd/research/reweighting/mr_toolkit/mr_toolkit/mr_toolkit/trajectory_analysis/traj_analysis.py#478\u001b\\\u001b[2m478\u001b[0m\u001b]8;;\u001b\\\n"
      ]
     },
     "metadata": {},
     "output_type": "display_data"
    },
    {
     "data": {
      "text/html": [
       "<pre style=\"white-space:pre;overflow-x:auto;line-height:normal;font-family:Menlo,'DejaVu Sans Mono',consolas,'Courier New',monospace\"><span style=\"color: #7fbfbf; text-decoration-color: #7fbfbf\">           </span><span style=\"color: #800000; text-decoration-color: #800000\">WARNING </span> Stationary solution <span style=\"color: #008080; text-decoration-color: #008080; font-weight: bold\">22</span> is not positive semidefinite, trying the next one   <a href=\"file:///home/jd/research/reweighting/mr_toolkit/mr_toolkit/mr_toolkit/trajectory_analysis/traj_analysis.py\" target=\"_blank\"><span style=\"color: #7f7f7f; text-decoration-color: #7f7f7f\">traj_analysis.py</span></a><span style=\"color: #7f7f7f; text-decoration-color: #7f7f7f\">:</span><a href=\"file:///home/jd/research/reweighting/mr_toolkit/mr_toolkit/mr_toolkit/trajectory_analysis/traj_analysis.py#478\" target=\"_blank\"><span style=\"color: #7f7f7f; text-decoration-color: #7f7f7f\">478</span></a>\n",
       "</pre>\n"
      ],
      "text/plain": [
       "\u001b[2;36m          \u001b[0m\u001b[2;36m \u001b[0m\u001b[31mWARNING \u001b[0m Stationary solution \u001b[1;36m22\u001b[0m is not positive semidefinite, trying the next one   \u001b]8;id=507352;file:///home/jd/research/reweighting/mr_toolkit/mr_toolkit/mr_toolkit/trajectory_analysis/traj_analysis.py\u001b\\\u001b[2mtraj_analysis.py\u001b[0m\u001b]8;;\u001b\\\u001b[2m:\u001b[0m\u001b]8;id=559665;file:///home/jd/research/reweighting/mr_toolkit/mr_toolkit/mr_toolkit/trajectory_analysis/traj_analysis.py#478\u001b\\\u001b[2m478\u001b[0m\u001b]8;;\u001b\\\n"
      ]
     },
     "metadata": {},
     "output_type": "display_data"
    },
    {
     "data": {
      "text/html": [
       "<pre style=\"white-space:pre;overflow-x:auto;line-height:normal;font-family:Menlo,'DejaVu Sans Mono',consolas,'Courier New',monospace\"><span style=\"color: #7fbfbf; text-decoration-color: #7fbfbf\">           </span><span style=\"color: #800000; text-decoration-color: #800000\">WARNING </span> Stationary solution <span style=\"color: #008080; text-decoration-color: #008080; font-weight: bold\">23</span> is not positive semidefinite, trying the next one   <a href=\"file:///home/jd/research/reweighting/mr_toolkit/mr_toolkit/mr_toolkit/trajectory_analysis/traj_analysis.py\" target=\"_blank\"><span style=\"color: #7f7f7f; text-decoration-color: #7f7f7f\">traj_analysis.py</span></a><span style=\"color: #7f7f7f; text-decoration-color: #7f7f7f\">:</span><a href=\"file:///home/jd/research/reweighting/mr_toolkit/mr_toolkit/mr_toolkit/trajectory_analysis/traj_analysis.py#478\" target=\"_blank\"><span style=\"color: #7f7f7f; text-decoration-color: #7f7f7f\">478</span></a>\n",
       "</pre>\n"
      ],
      "text/plain": [
       "\u001b[2;36m          \u001b[0m\u001b[2;36m \u001b[0m\u001b[31mWARNING \u001b[0m Stationary solution \u001b[1;36m23\u001b[0m is not positive semidefinite, trying the next one   \u001b]8;id=606917;file:///home/jd/research/reweighting/mr_toolkit/mr_toolkit/mr_toolkit/trajectory_analysis/traj_analysis.py\u001b\\\u001b[2mtraj_analysis.py\u001b[0m\u001b]8;;\u001b\\\u001b[2m:\u001b[0m\u001b]8;id=153726;file:///home/jd/research/reweighting/mr_toolkit/mr_toolkit/mr_toolkit/trajectory_analysis/traj_analysis.py#478\u001b\\\u001b[2m478\u001b[0m\u001b]8;;\u001b\\\n"
      ]
     },
     "metadata": {},
     "output_type": "display_data"
    },
    {
     "data": {
      "text/html": [
       "<pre style=\"white-space:pre;overflow-x:auto;line-height:normal;font-family:Menlo,'DejaVu Sans Mono',consolas,'Courier New',monospace\"><span style=\"color: #7fbfbf; text-decoration-color: #7fbfbf\">           </span><span style=\"color: #800000; text-decoration-color: #800000\">WARNING </span> Stationary solution <span style=\"color: #008080; text-decoration-color: #008080; font-weight: bold\">24</span> is not positive semidefinite, trying the next one   <a href=\"file:///home/jd/research/reweighting/mr_toolkit/mr_toolkit/mr_toolkit/trajectory_analysis/traj_analysis.py\" target=\"_blank\"><span style=\"color: #7f7f7f; text-decoration-color: #7f7f7f\">traj_analysis.py</span></a><span style=\"color: #7f7f7f; text-decoration-color: #7f7f7f\">:</span><a href=\"file:///home/jd/research/reweighting/mr_toolkit/mr_toolkit/mr_toolkit/trajectory_analysis/traj_analysis.py#478\" target=\"_blank\"><span style=\"color: #7f7f7f; text-decoration-color: #7f7f7f\">478</span></a>\n",
       "</pre>\n"
      ],
      "text/plain": [
       "\u001b[2;36m          \u001b[0m\u001b[2;36m \u001b[0m\u001b[31mWARNING \u001b[0m Stationary solution \u001b[1;36m24\u001b[0m is not positive semidefinite, trying the next one   \u001b]8;id=797797;file:///home/jd/research/reweighting/mr_toolkit/mr_toolkit/mr_toolkit/trajectory_analysis/traj_analysis.py\u001b\\\u001b[2mtraj_analysis.py\u001b[0m\u001b]8;;\u001b\\\u001b[2m:\u001b[0m\u001b]8;id=502725;file:///home/jd/research/reweighting/mr_toolkit/mr_toolkit/mr_toolkit/trajectory_analysis/traj_analysis.py#478\u001b\\\u001b[2m478\u001b[0m\u001b]8;;\u001b\\\n"
      ]
     },
     "metadata": {},
     "output_type": "display_data"
    },
    {
     "data": {
      "text/html": [
       "<pre style=\"white-space:pre;overflow-x:auto;line-height:normal;font-family:Menlo,'DejaVu Sans Mono',consolas,'Courier New',monospace\"><span style=\"color: #7fbfbf; text-decoration-color: #7fbfbf\">           </span><span style=\"color: #800000; text-decoration-color: #800000\">WARNING </span> Stationary solution <span style=\"color: #008080; text-decoration-color: #008080; font-weight: bold\">25</span> is not positive semidefinite, trying the next one   <a href=\"file:///home/jd/research/reweighting/mr_toolkit/mr_toolkit/mr_toolkit/trajectory_analysis/traj_analysis.py\" target=\"_blank\"><span style=\"color: #7f7f7f; text-decoration-color: #7f7f7f\">traj_analysis.py</span></a><span style=\"color: #7f7f7f; text-decoration-color: #7f7f7f\">:</span><a href=\"file:///home/jd/research/reweighting/mr_toolkit/mr_toolkit/mr_toolkit/trajectory_analysis/traj_analysis.py#478\" target=\"_blank\"><span style=\"color: #7f7f7f; text-decoration-color: #7f7f7f\">478</span></a>\n",
       "</pre>\n"
      ],
      "text/plain": [
       "\u001b[2;36m          \u001b[0m\u001b[2;36m \u001b[0m\u001b[31mWARNING \u001b[0m Stationary solution \u001b[1;36m25\u001b[0m is not positive semidefinite, trying the next one   \u001b]8;id=445611;file:///home/jd/research/reweighting/mr_toolkit/mr_toolkit/mr_toolkit/trajectory_analysis/traj_analysis.py\u001b\\\u001b[2mtraj_analysis.py\u001b[0m\u001b]8;;\u001b\\\u001b[2m:\u001b[0m\u001b]8;id=477956;file:///home/jd/research/reweighting/mr_toolkit/mr_toolkit/mr_toolkit/trajectory_analysis/traj_analysis.py#478\u001b\\\u001b[2m478\u001b[0m\u001b]8;;\u001b\\\n"
      ]
     },
     "metadata": {},
     "output_type": "display_data"
    },
    {
     "data": {
      "text/html": [
       "<pre style=\"white-space:pre;overflow-x:auto;line-height:normal;font-family:Menlo,'DejaVu Sans Mono',consolas,'Courier New',monospace\"><span style=\"color: #7fbfbf; text-decoration-color: #7fbfbf\">           </span><span style=\"color: #800000; text-decoration-color: #800000\">WARNING </span> Stationary solution <span style=\"color: #008080; text-decoration-color: #008080; font-weight: bold\">26</span> is not positive semidefinite, trying the next one   <a href=\"file:///home/jd/research/reweighting/mr_toolkit/mr_toolkit/mr_toolkit/trajectory_analysis/traj_analysis.py\" target=\"_blank\"><span style=\"color: #7f7f7f; text-decoration-color: #7f7f7f\">traj_analysis.py</span></a><span style=\"color: #7f7f7f; text-decoration-color: #7f7f7f\">:</span><a href=\"file:///home/jd/research/reweighting/mr_toolkit/mr_toolkit/mr_toolkit/trajectory_analysis/traj_analysis.py#478\" target=\"_blank\"><span style=\"color: #7f7f7f; text-decoration-color: #7f7f7f\">478</span></a>\n",
       "</pre>\n"
      ],
      "text/plain": [
       "\u001b[2;36m          \u001b[0m\u001b[2;36m \u001b[0m\u001b[31mWARNING \u001b[0m Stationary solution \u001b[1;36m26\u001b[0m is not positive semidefinite, trying the next one   \u001b]8;id=769114;file:///home/jd/research/reweighting/mr_toolkit/mr_toolkit/mr_toolkit/trajectory_analysis/traj_analysis.py\u001b\\\u001b[2mtraj_analysis.py\u001b[0m\u001b]8;;\u001b\\\u001b[2m:\u001b[0m\u001b]8;id=450623;file:///home/jd/research/reweighting/mr_toolkit/mr_toolkit/mr_toolkit/trajectory_analysis/traj_analysis.py#478\u001b\\\u001b[2m478\u001b[0m\u001b]8;;\u001b\\\n"
      ]
     },
     "metadata": {},
     "output_type": "display_data"
    },
    {
     "data": {
      "text/html": [
       "<pre style=\"white-space:pre;overflow-x:auto;line-height:normal;font-family:Menlo,'DejaVu Sans Mono',consolas,'Courier New',monospace\"><span style=\"color: #7fbfbf; text-decoration-color: #7fbfbf\">           </span><span style=\"color: #800000; text-decoration-color: #800000\">WARNING </span> Stationary solution <span style=\"color: #008080; text-decoration-color: #008080; font-weight: bold\">27</span> is not positive semidefinite, trying the next one   <a href=\"file:///home/jd/research/reweighting/mr_toolkit/mr_toolkit/mr_toolkit/trajectory_analysis/traj_analysis.py\" target=\"_blank\"><span style=\"color: #7f7f7f; text-decoration-color: #7f7f7f\">traj_analysis.py</span></a><span style=\"color: #7f7f7f; text-decoration-color: #7f7f7f\">:</span><a href=\"file:///home/jd/research/reweighting/mr_toolkit/mr_toolkit/mr_toolkit/trajectory_analysis/traj_analysis.py#478\" target=\"_blank\"><span style=\"color: #7f7f7f; text-decoration-color: #7f7f7f\">478</span></a>\n",
       "</pre>\n"
      ],
      "text/plain": [
       "\u001b[2;36m          \u001b[0m\u001b[2;36m \u001b[0m\u001b[31mWARNING \u001b[0m Stationary solution \u001b[1;36m27\u001b[0m is not positive semidefinite, trying the next one   \u001b]8;id=336422;file:///home/jd/research/reweighting/mr_toolkit/mr_toolkit/mr_toolkit/trajectory_analysis/traj_analysis.py\u001b\\\u001b[2mtraj_analysis.py\u001b[0m\u001b]8;;\u001b\\\u001b[2m:\u001b[0m\u001b]8;id=492323;file:///home/jd/research/reweighting/mr_toolkit/mr_toolkit/mr_toolkit/trajectory_analysis/traj_analysis.py#478\u001b\\\u001b[2m478\u001b[0m\u001b]8;;\u001b\\\n"
      ]
     },
     "metadata": {},
     "output_type": "display_data"
    },
    {
     "data": {
      "text/html": [
       "<pre style=\"white-space:pre;overflow-x:auto;line-height:normal;font-family:Menlo,'DejaVu Sans Mono',consolas,'Courier New',monospace\"><span style=\"color: #7fbfbf; text-decoration-color: #7fbfbf\">           </span><span style=\"color: #800000; text-decoration-color: #800000\">WARNING </span> Stationary solution <span style=\"color: #008080; text-decoration-color: #008080; font-weight: bold\">28</span> is not positive semidefinite, trying the next one   <a href=\"file:///home/jd/research/reweighting/mr_toolkit/mr_toolkit/mr_toolkit/trajectory_analysis/traj_analysis.py\" target=\"_blank\"><span style=\"color: #7f7f7f; text-decoration-color: #7f7f7f\">traj_analysis.py</span></a><span style=\"color: #7f7f7f; text-decoration-color: #7f7f7f\">:</span><a href=\"file:///home/jd/research/reweighting/mr_toolkit/mr_toolkit/mr_toolkit/trajectory_analysis/traj_analysis.py#478\" target=\"_blank\"><span style=\"color: #7f7f7f; text-decoration-color: #7f7f7f\">478</span></a>\n",
       "</pre>\n"
      ],
      "text/plain": [
       "\u001b[2;36m          \u001b[0m\u001b[2;36m \u001b[0m\u001b[31mWARNING \u001b[0m Stationary solution \u001b[1;36m28\u001b[0m is not positive semidefinite, trying the next one   \u001b]8;id=553549;file:///home/jd/research/reweighting/mr_toolkit/mr_toolkit/mr_toolkit/trajectory_analysis/traj_analysis.py\u001b\\\u001b[2mtraj_analysis.py\u001b[0m\u001b]8;;\u001b\\\u001b[2m:\u001b[0m\u001b]8;id=564824;file:///home/jd/research/reweighting/mr_toolkit/mr_toolkit/mr_toolkit/trajectory_analysis/traj_analysis.py#478\u001b\\\u001b[2m478\u001b[0m\u001b]8;;\u001b\\\n"
      ]
     },
     "metadata": {},
     "output_type": "display_data"
    },
    {
     "data": {
      "text/html": [
       "<pre style=\"white-space:pre;overflow-x:auto;line-height:normal;font-family:Menlo,'DejaVu Sans Mono',consolas,'Courier New',monospace\"><span style=\"color: #7fbfbf; text-decoration-color: #7fbfbf\">           </span><span style=\"color: #800000; text-decoration-color: #800000\">WARNING </span> Stationary solution <span style=\"color: #008080; text-decoration-color: #008080; font-weight: bold\">29</span> is not positive semidefinite, trying the next one   <a href=\"file:///home/jd/research/reweighting/mr_toolkit/mr_toolkit/mr_toolkit/trajectory_analysis/traj_analysis.py\" target=\"_blank\"><span style=\"color: #7f7f7f; text-decoration-color: #7f7f7f\">traj_analysis.py</span></a><span style=\"color: #7f7f7f; text-decoration-color: #7f7f7f\">:</span><a href=\"file:///home/jd/research/reweighting/mr_toolkit/mr_toolkit/mr_toolkit/trajectory_analysis/traj_analysis.py#478\" target=\"_blank\"><span style=\"color: #7f7f7f; text-decoration-color: #7f7f7f\">478</span></a>\n",
       "</pre>\n"
      ],
      "text/plain": [
       "\u001b[2;36m          \u001b[0m\u001b[2;36m \u001b[0m\u001b[31mWARNING \u001b[0m Stationary solution \u001b[1;36m29\u001b[0m is not positive semidefinite, trying the next one   \u001b]8;id=727361;file:///home/jd/research/reweighting/mr_toolkit/mr_toolkit/mr_toolkit/trajectory_analysis/traj_analysis.py\u001b\\\u001b[2mtraj_analysis.py\u001b[0m\u001b]8;;\u001b\\\u001b[2m:\u001b[0m\u001b]8;id=383268;file:///home/jd/research/reweighting/mr_toolkit/mr_toolkit/mr_toolkit/trajectory_analysis/traj_analysis.py#478\u001b\\\u001b[2m478\u001b[0m\u001b]8;;\u001b\\\n"
      ]
     },
     "metadata": {},
     "output_type": "display_data"
    },
    {
     "data": {
      "text/html": [
       "<pre style=\"white-space:pre;overflow-x:auto;line-height:normal;font-family:Menlo,'DejaVu Sans Mono',consolas,'Courier New',monospace\"><span style=\"color: #7fbfbf; text-decoration-color: #7fbfbf\">           </span><span style=\"color: #800000; text-decoration-color: #800000\">WARNING </span> Stationary solution <span style=\"color: #008080; text-decoration-color: #008080; font-weight: bold\">30</span> is not positive semidefinite, trying the next one   <a href=\"file:///home/jd/research/reweighting/mr_toolkit/mr_toolkit/mr_toolkit/trajectory_analysis/traj_analysis.py\" target=\"_blank\"><span style=\"color: #7f7f7f; text-decoration-color: #7f7f7f\">traj_analysis.py</span></a><span style=\"color: #7f7f7f; text-decoration-color: #7f7f7f\">:</span><a href=\"file:///home/jd/research/reweighting/mr_toolkit/mr_toolkit/mr_toolkit/trajectory_analysis/traj_analysis.py#478\" target=\"_blank\"><span style=\"color: #7f7f7f; text-decoration-color: #7f7f7f\">478</span></a>\n",
       "</pre>\n"
      ],
      "text/plain": [
       "\u001b[2;36m          \u001b[0m\u001b[2;36m \u001b[0m\u001b[31mWARNING \u001b[0m Stationary solution \u001b[1;36m30\u001b[0m is not positive semidefinite, trying the next one   \u001b]8;id=583438;file:///home/jd/research/reweighting/mr_toolkit/mr_toolkit/mr_toolkit/trajectory_analysis/traj_analysis.py\u001b\\\u001b[2mtraj_analysis.py\u001b[0m\u001b]8;;\u001b\\\u001b[2m:\u001b[0m\u001b]8;id=95147;file:///home/jd/research/reweighting/mr_toolkit/mr_toolkit/mr_toolkit/trajectory_analysis/traj_analysis.py#478\u001b\\\u001b[2m478\u001b[0m\u001b]8;;\u001b\\\n"
      ]
     },
     "metadata": {},
     "output_type": "display_data"
    },
    {
     "data": {
      "text/html": [
       "<pre style=\"white-space:pre;overflow-x:auto;line-height:normal;font-family:Menlo,'DejaVu Sans Mono',consolas,'Courier New',monospace\"><span style=\"color: #7fbfbf; text-decoration-color: #7fbfbf\">           </span><span style=\"color: #800000; text-decoration-color: #800000\">WARNING </span> Stationary solution <span style=\"color: #008080; text-decoration-color: #008080; font-weight: bold\">31</span> is not positive semidefinite, trying the next one   <a href=\"file:///home/jd/research/reweighting/mr_toolkit/mr_toolkit/mr_toolkit/trajectory_analysis/traj_analysis.py\" target=\"_blank\"><span style=\"color: #7f7f7f; text-decoration-color: #7f7f7f\">traj_analysis.py</span></a><span style=\"color: #7f7f7f; text-decoration-color: #7f7f7f\">:</span><a href=\"file:///home/jd/research/reweighting/mr_toolkit/mr_toolkit/mr_toolkit/trajectory_analysis/traj_analysis.py#478\" target=\"_blank\"><span style=\"color: #7f7f7f; text-decoration-color: #7f7f7f\">478</span></a>\n",
       "</pre>\n"
      ],
      "text/plain": [
       "\u001b[2;36m          \u001b[0m\u001b[2;36m \u001b[0m\u001b[31mWARNING \u001b[0m Stationary solution \u001b[1;36m31\u001b[0m is not positive semidefinite, trying the next one   \u001b]8;id=758712;file:///home/jd/research/reweighting/mr_toolkit/mr_toolkit/mr_toolkit/trajectory_analysis/traj_analysis.py\u001b\\\u001b[2mtraj_analysis.py\u001b[0m\u001b]8;;\u001b\\\u001b[2m:\u001b[0m\u001b]8;id=89067;file:///home/jd/research/reweighting/mr_toolkit/mr_toolkit/mr_toolkit/trajectory_analysis/traj_analysis.py#478\u001b\\\u001b[2m478\u001b[0m\u001b]8;;\u001b\\\n"
      ]
     },
     "metadata": {},
     "output_type": "display_data"
    },
    {
     "data": {
      "text/html": [
       "<pre style=\"white-space:pre;overflow-x:auto;line-height:normal;font-family:Menlo,'DejaVu Sans Mono',consolas,'Courier New',monospace\"><span style=\"color: #7fbfbf; text-decoration-color: #7fbfbf\">           </span><span style=\"color: #800000; text-decoration-color: #800000\">WARNING </span> Stationary solution <span style=\"color: #008080; text-decoration-color: #008080; font-weight: bold\">32</span> is not positive semidefinite, trying the next one   <a href=\"file:///home/jd/research/reweighting/mr_toolkit/mr_toolkit/mr_toolkit/trajectory_analysis/traj_analysis.py\" target=\"_blank\"><span style=\"color: #7f7f7f; text-decoration-color: #7f7f7f\">traj_analysis.py</span></a><span style=\"color: #7f7f7f; text-decoration-color: #7f7f7f\">:</span><a href=\"file:///home/jd/research/reweighting/mr_toolkit/mr_toolkit/mr_toolkit/trajectory_analysis/traj_analysis.py#478\" target=\"_blank\"><span style=\"color: #7f7f7f; text-decoration-color: #7f7f7f\">478</span></a>\n",
       "</pre>\n"
      ],
      "text/plain": [
       "\u001b[2;36m          \u001b[0m\u001b[2;36m \u001b[0m\u001b[31mWARNING \u001b[0m Stationary solution \u001b[1;36m32\u001b[0m is not positive semidefinite, trying the next one   \u001b]8;id=177028;file:///home/jd/research/reweighting/mr_toolkit/mr_toolkit/mr_toolkit/trajectory_analysis/traj_analysis.py\u001b\\\u001b[2mtraj_analysis.py\u001b[0m\u001b]8;;\u001b\\\u001b[2m:\u001b[0m\u001b]8;id=234796;file:///home/jd/research/reweighting/mr_toolkit/mr_toolkit/mr_toolkit/trajectory_analysis/traj_analysis.py#478\u001b\\\u001b[2m478\u001b[0m\u001b]8;;\u001b\\\n"
      ]
     },
     "metadata": {},
     "output_type": "display_data"
    },
    {
     "data": {
      "text/html": [
       "<pre style=\"white-space:pre;overflow-x:auto;line-height:normal;font-family:Menlo,'DejaVu Sans Mono',consolas,'Courier New',monospace\"><span style=\"color: #7fbfbf; text-decoration-color: #7fbfbf\">           </span><span style=\"color: #800000; text-decoration-color: #800000\">WARNING </span> Stationary solution <span style=\"color: #008080; text-decoration-color: #008080; font-weight: bold\">33</span> is not positive semidefinite, trying the next one   <a href=\"file:///home/jd/research/reweighting/mr_toolkit/mr_toolkit/mr_toolkit/trajectory_analysis/traj_analysis.py\" target=\"_blank\"><span style=\"color: #7f7f7f; text-decoration-color: #7f7f7f\">traj_analysis.py</span></a><span style=\"color: #7f7f7f; text-decoration-color: #7f7f7f\">:</span><a href=\"file:///home/jd/research/reweighting/mr_toolkit/mr_toolkit/mr_toolkit/trajectory_analysis/traj_analysis.py#478\" target=\"_blank\"><span style=\"color: #7f7f7f; text-decoration-color: #7f7f7f\">478</span></a>\n",
       "</pre>\n"
      ],
      "text/plain": [
       "\u001b[2;36m          \u001b[0m\u001b[2;36m \u001b[0m\u001b[31mWARNING \u001b[0m Stationary solution \u001b[1;36m33\u001b[0m is not positive semidefinite, trying the next one   \u001b]8;id=499496;file:///home/jd/research/reweighting/mr_toolkit/mr_toolkit/mr_toolkit/trajectory_analysis/traj_analysis.py\u001b\\\u001b[2mtraj_analysis.py\u001b[0m\u001b]8;;\u001b\\\u001b[2m:\u001b[0m\u001b]8;id=137726;file:///home/jd/research/reweighting/mr_toolkit/mr_toolkit/mr_toolkit/trajectory_analysis/traj_analysis.py#478\u001b\\\u001b[2m478\u001b[0m\u001b]8;;\u001b\\\n"
      ]
     },
     "metadata": {},
     "output_type": "display_data"
    },
    {
     "data": {
      "text/html": [
       "<pre style=\"white-space:pre;overflow-x:auto;line-height:normal;font-family:Menlo,'DejaVu Sans Mono',consolas,'Courier New',monospace\"><span style=\"color: #7fbfbf; text-decoration-color: #7fbfbf\">           </span><span style=\"color: #800000; text-decoration-color: #800000\">WARNING </span> Stationary solution <span style=\"color: #008080; text-decoration-color: #008080; font-weight: bold\">34</span> is not positive semidefinite, trying the next one   <a href=\"file:///home/jd/research/reweighting/mr_toolkit/mr_toolkit/mr_toolkit/trajectory_analysis/traj_analysis.py\" target=\"_blank\"><span style=\"color: #7f7f7f; text-decoration-color: #7f7f7f\">traj_analysis.py</span></a><span style=\"color: #7f7f7f; text-decoration-color: #7f7f7f\">:</span><a href=\"file:///home/jd/research/reweighting/mr_toolkit/mr_toolkit/mr_toolkit/trajectory_analysis/traj_analysis.py#478\" target=\"_blank\"><span style=\"color: #7f7f7f; text-decoration-color: #7f7f7f\">478</span></a>\n",
       "</pre>\n"
      ],
      "text/plain": [
       "\u001b[2;36m          \u001b[0m\u001b[2;36m \u001b[0m\u001b[31mWARNING \u001b[0m Stationary solution \u001b[1;36m34\u001b[0m is not positive semidefinite, trying the next one   \u001b]8;id=821963;file:///home/jd/research/reweighting/mr_toolkit/mr_toolkit/mr_toolkit/trajectory_analysis/traj_analysis.py\u001b\\\u001b[2mtraj_analysis.py\u001b[0m\u001b]8;;\u001b\\\u001b[2m:\u001b[0m\u001b]8;id=782448;file:///home/jd/research/reweighting/mr_toolkit/mr_toolkit/mr_toolkit/trajectory_analysis/traj_analysis.py#478\u001b\\\u001b[2m478\u001b[0m\u001b]8;;\u001b\\\n"
      ]
     },
     "metadata": {},
     "output_type": "display_data"
    },
    {
     "data": {
      "text/html": [
       "<pre style=\"white-space:pre;overflow-x:auto;line-height:normal;font-family:Menlo,'DejaVu Sans Mono',consolas,'Courier New',monospace\"><span style=\"color: #7fbfbf; text-decoration-color: #7fbfbf\">           </span><span style=\"color: #800000; text-decoration-color: #800000\">WARNING </span> Stationary solution <span style=\"color: #008080; text-decoration-color: #008080; font-weight: bold\">35</span> is not positive semidefinite, trying the next one   <a href=\"file:///home/jd/research/reweighting/mr_toolkit/mr_toolkit/mr_toolkit/trajectory_analysis/traj_analysis.py\" target=\"_blank\"><span style=\"color: #7f7f7f; text-decoration-color: #7f7f7f\">traj_analysis.py</span></a><span style=\"color: #7f7f7f; text-decoration-color: #7f7f7f\">:</span><a href=\"file:///home/jd/research/reweighting/mr_toolkit/mr_toolkit/mr_toolkit/trajectory_analysis/traj_analysis.py#478\" target=\"_blank\"><span style=\"color: #7f7f7f; text-decoration-color: #7f7f7f\">478</span></a>\n",
       "</pre>\n"
      ],
      "text/plain": [
       "\u001b[2;36m          \u001b[0m\u001b[2;36m \u001b[0m\u001b[31mWARNING \u001b[0m Stationary solution \u001b[1;36m35\u001b[0m is not positive semidefinite, trying the next one   \u001b]8;id=494011;file:///home/jd/research/reweighting/mr_toolkit/mr_toolkit/mr_toolkit/trajectory_analysis/traj_analysis.py\u001b\\\u001b[2mtraj_analysis.py\u001b[0m\u001b]8;;\u001b\\\u001b[2m:\u001b[0m\u001b]8;id=92438;file:///home/jd/research/reweighting/mr_toolkit/mr_toolkit/mr_toolkit/trajectory_analysis/traj_analysis.py#478\u001b\\\u001b[2m478\u001b[0m\u001b]8;;\u001b\\\n"
      ]
     },
     "metadata": {},
     "output_type": "display_data"
    },
    {
     "data": {
      "text/html": [
       "<pre style=\"white-space:pre;overflow-x:auto;line-height:normal;font-family:Menlo,'DejaVu Sans Mono',consolas,'Courier New',monospace\"><span style=\"color: #7fbfbf; text-decoration-color: #7fbfbf\">           </span><span style=\"color: #800000; text-decoration-color: #800000\">WARNING </span> Stationary solution <span style=\"color: #008080; text-decoration-color: #008080; font-weight: bold\">36</span> is not positive semidefinite, trying the next one   <a href=\"file:///home/jd/research/reweighting/mr_toolkit/mr_toolkit/mr_toolkit/trajectory_analysis/traj_analysis.py\" target=\"_blank\"><span style=\"color: #7f7f7f; text-decoration-color: #7f7f7f\">traj_analysis.py</span></a><span style=\"color: #7f7f7f; text-decoration-color: #7f7f7f\">:</span><a href=\"file:///home/jd/research/reweighting/mr_toolkit/mr_toolkit/mr_toolkit/trajectory_analysis/traj_analysis.py#478\" target=\"_blank\"><span style=\"color: #7f7f7f; text-decoration-color: #7f7f7f\">478</span></a>\n",
       "</pre>\n"
      ],
      "text/plain": [
       "\u001b[2;36m          \u001b[0m\u001b[2;36m \u001b[0m\u001b[31mWARNING \u001b[0m Stationary solution \u001b[1;36m36\u001b[0m is not positive semidefinite, trying the next one   \u001b]8;id=585221;file:///home/jd/research/reweighting/mr_toolkit/mr_toolkit/mr_toolkit/trajectory_analysis/traj_analysis.py\u001b\\\u001b[2mtraj_analysis.py\u001b[0m\u001b]8;;\u001b\\\u001b[2m:\u001b[0m\u001b]8;id=612599;file:///home/jd/research/reweighting/mr_toolkit/mr_toolkit/mr_toolkit/trajectory_analysis/traj_analysis.py#478\u001b\\\u001b[2m478\u001b[0m\u001b]8;;\u001b\\\n"
      ]
     },
     "metadata": {},
     "output_type": "display_data"
    },
    {
     "data": {
      "text/html": [
       "<pre style=\"white-space:pre;overflow-x:auto;line-height:normal;font-family:Menlo,'DejaVu Sans Mono',consolas,'Courier New',monospace\"><span style=\"color: #7fbfbf; text-decoration-color: #7fbfbf\">           </span><span style=\"color: #800000; text-decoration-color: #800000\">WARNING </span> Stationary solution <span style=\"color: #008080; text-decoration-color: #008080; font-weight: bold\">37</span> is all in one bin in iter <span style=\"color: #008080; text-decoration-color: #008080; font-weight: bold\">0</span> -- picking next-biggest <a href=\"file:///home/jd/research/reweighting/mr_toolkit/mr_toolkit/mr_toolkit/trajectory_analysis/traj_analysis.py\" target=\"_blank\"><span style=\"color: #7f7f7f; text-decoration-color: #7f7f7f\">traj_analysis.py</span></a><span style=\"color: #7f7f7f; text-decoration-color: #7f7f7f\">:</span><a href=\"file:///home/jd/research/reweighting/mr_toolkit/mr_toolkit/mr_toolkit/trajectory_analysis/traj_analysis.py#476\" target=\"_blank\"><span style=\"color: #7f7f7f; text-decoration-color: #7f7f7f\">476</span></a>\n",
       "<span style=\"color: #7fbfbf; text-decoration-color: #7fbfbf\">           </span>         eigenvalue                                                                 <span style=\"color: #7f7f7f; text-decoration-color: #7f7f7f\">                    </span>\n",
       "</pre>\n"
      ],
      "text/plain": [
       "\u001b[2;36m          \u001b[0m\u001b[2;36m \u001b[0m\u001b[31mWARNING \u001b[0m Stationary solution \u001b[1;36m37\u001b[0m is all in one bin in iter \u001b[1;36m0\u001b[0m -- picking next-biggest \u001b]8;id=826826;file:///home/jd/research/reweighting/mr_toolkit/mr_toolkit/mr_toolkit/trajectory_analysis/traj_analysis.py\u001b\\\u001b[2mtraj_analysis.py\u001b[0m\u001b]8;;\u001b\\\u001b[2m:\u001b[0m\u001b]8;id=210733;file:///home/jd/research/reweighting/mr_toolkit/mr_toolkit/mr_toolkit/trajectory_analysis/traj_analysis.py#476\u001b\\\u001b[2m476\u001b[0m\u001b]8;;\u001b\\\n",
       "\u001b[2;36m           \u001b[0m         eigenvalue                                                                 \u001b[2m                    \u001b[0m\n"
      ]
     },
     "metadata": {},
     "output_type": "display_data"
    },
    {
     "data": {
      "text/html": [
       "<pre style=\"white-space:pre;overflow-x:auto;line-height:normal;font-family:Menlo,'DejaVu Sans Mono',consolas,'Courier New',monospace\"><span style=\"color: #7fbfbf; text-decoration-color: #7fbfbf\">           </span><span style=\"color: #800000; text-decoration-color: #800000\">WARNING </span> Stationary solution <span style=\"color: #008080; text-decoration-color: #008080; font-weight: bold\">38</span> is not positive semidefinite, trying the next one   <a href=\"file:///home/jd/research/reweighting/mr_toolkit/mr_toolkit/mr_toolkit/trajectory_analysis/traj_analysis.py\" target=\"_blank\"><span style=\"color: #7f7f7f; text-decoration-color: #7f7f7f\">traj_analysis.py</span></a><span style=\"color: #7f7f7f; text-decoration-color: #7f7f7f\">:</span><a href=\"file:///home/jd/research/reweighting/mr_toolkit/mr_toolkit/mr_toolkit/trajectory_analysis/traj_analysis.py#478\" target=\"_blank\"><span style=\"color: #7f7f7f; text-decoration-color: #7f7f7f\">478</span></a>\n",
       "</pre>\n"
      ],
      "text/plain": [
       "\u001b[2;36m          \u001b[0m\u001b[2;36m \u001b[0m\u001b[31mWARNING \u001b[0m Stationary solution \u001b[1;36m38\u001b[0m is not positive semidefinite, trying the next one   \u001b]8;id=894104;file:///home/jd/research/reweighting/mr_toolkit/mr_toolkit/mr_toolkit/trajectory_analysis/traj_analysis.py\u001b\\\u001b[2mtraj_analysis.py\u001b[0m\u001b]8;;\u001b\\\u001b[2m:\u001b[0m\u001b]8;id=533776;file:///home/jd/research/reweighting/mr_toolkit/mr_toolkit/mr_toolkit/trajectory_analysis/traj_analysis.py#478\u001b\\\u001b[2m478\u001b[0m\u001b]8;;\u001b\\\n"
      ]
     },
     "metadata": {},
     "output_type": "display_data"
    },
    {
     "data": {
      "text/html": [
       "<pre style=\"white-space:pre;overflow-x:auto;line-height:normal;font-family:Menlo,'DejaVu Sans Mono',consolas,'Courier New',monospace\"><span style=\"color: #7fbfbf; text-decoration-color: #7fbfbf\">           </span><span style=\"color: #800000; text-decoration-color: #800000\">WARNING </span> Stationary solution <span style=\"color: #008080; text-decoration-color: #008080; font-weight: bold\">39</span> is not positive semidefinite, trying the next one   <a href=\"file:///home/jd/research/reweighting/mr_toolkit/mr_toolkit/mr_toolkit/trajectory_analysis/traj_analysis.py\" target=\"_blank\"><span style=\"color: #7f7f7f; text-decoration-color: #7f7f7f\">traj_analysis.py</span></a><span style=\"color: #7f7f7f; text-decoration-color: #7f7f7f\">:</span><a href=\"file:///home/jd/research/reweighting/mr_toolkit/mr_toolkit/mr_toolkit/trajectory_analysis/traj_analysis.py#478\" target=\"_blank\"><span style=\"color: #7f7f7f; text-decoration-color: #7f7f7f\">478</span></a>\n",
       "</pre>\n"
      ],
      "text/plain": [
       "\u001b[2;36m          \u001b[0m\u001b[2;36m \u001b[0m\u001b[31mWARNING \u001b[0m Stationary solution \u001b[1;36m39\u001b[0m is not positive semidefinite, trying the next one   \u001b]8;id=486301;file:///home/jd/research/reweighting/mr_toolkit/mr_toolkit/mr_toolkit/trajectory_analysis/traj_analysis.py\u001b\\\u001b[2mtraj_analysis.py\u001b[0m\u001b]8;;\u001b\\\u001b[2m:\u001b[0m\u001b]8;id=733043;file:///home/jd/research/reweighting/mr_toolkit/mr_toolkit/mr_toolkit/trajectory_analysis/traj_analysis.py#478\u001b\\\u001b[2m478\u001b[0m\u001b]8;;\u001b\\\n"
      ]
     },
     "metadata": {},
     "output_type": "display_data"
    },
    {
     "data": {
      "text/html": [
       "<pre style=\"white-space:pre;overflow-x:auto;line-height:normal;font-family:Menlo,'DejaVu Sans Mono',consolas,'Courier New',monospace\"><span style=\"color: #7fbfbf; text-decoration-color: #7fbfbf\">           </span><span style=\"color: #800000; text-decoration-color: #800000\">WARNING </span> Stationary solution <span style=\"color: #008080; text-decoration-color: #008080; font-weight: bold\">40</span> is all in one bin in iter <span style=\"color: #008080; text-decoration-color: #008080; font-weight: bold\">0</span> -- picking next-biggest <a href=\"file:///home/jd/research/reweighting/mr_toolkit/mr_toolkit/mr_toolkit/trajectory_analysis/traj_analysis.py\" target=\"_blank\"><span style=\"color: #7f7f7f; text-decoration-color: #7f7f7f\">traj_analysis.py</span></a><span style=\"color: #7f7f7f; text-decoration-color: #7f7f7f\">:</span><a href=\"file:///home/jd/research/reweighting/mr_toolkit/mr_toolkit/mr_toolkit/trajectory_analysis/traj_analysis.py#476\" target=\"_blank\"><span style=\"color: #7f7f7f; text-decoration-color: #7f7f7f\">476</span></a>\n",
       "<span style=\"color: #7fbfbf; text-decoration-color: #7fbfbf\">           </span>         eigenvalue                                                                 <span style=\"color: #7f7f7f; text-decoration-color: #7f7f7f\">                    </span>\n",
       "</pre>\n"
      ],
      "text/plain": [
       "\u001b[2;36m          \u001b[0m\u001b[2;36m \u001b[0m\u001b[31mWARNING \u001b[0m Stationary solution \u001b[1;36m40\u001b[0m is all in one bin in iter \u001b[1;36m0\u001b[0m -- picking next-biggest \u001b]8;id=239446;file:///home/jd/research/reweighting/mr_toolkit/mr_toolkit/mr_toolkit/trajectory_analysis/traj_analysis.py\u001b\\\u001b[2mtraj_analysis.py\u001b[0m\u001b]8;;\u001b\\\u001b[2m:\u001b[0m\u001b]8;id=674315;file:///home/jd/research/reweighting/mr_toolkit/mr_toolkit/mr_toolkit/trajectory_analysis/traj_analysis.py#476\u001b\\\u001b[2m476\u001b[0m\u001b]8;;\u001b\\\n",
       "\u001b[2;36m           \u001b[0m         eigenvalue                                                                 \u001b[2m                    \u001b[0m\n"
      ]
     },
     "metadata": {},
     "output_type": "display_data"
    },
    {
     "data": {
      "text/html": [
       "<pre style=\"white-space:pre;overflow-x:auto;line-height:normal;font-family:Menlo,'DejaVu Sans Mono',consolas,'Courier New',monospace\"><span style=\"color: #7fbfbf; text-decoration-color: #7fbfbf\">           </span><span style=\"color: #800000; text-decoration-color: #800000\">WARNING </span> Stationary solution <span style=\"color: #008080; text-decoration-color: #008080; font-weight: bold\">41</span> is all in one bin in iter <span style=\"color: #008080; text-decoration-color: #008080; font-weight: bold\">0</span> -- picking next-biggest <a href=\"file:///home/jd/research/reweighting/mr_toolkit/mr_toolkit/mr_toolkit/trajectory_analysis/traj_analysis.py\" target=\"_blank\"><span style=\"color: #7f7f7f; text-decoration-color: #7f7f7f\">traj_analysis.py</span></a><span style=\"color: #7f7f7f; text-decoration-color: #7f7f7f\">:</span><a href=\"file:///home/jd/research/reweighting/mr_toolkit/mr_toolkit/mr_toolkit/trajectory_analysis/traj_analysis.py#476\" target=\"_blank\"><span style=\"color: #7f7f7f; text-decoration-color: #7f7f7f\">476</span></a>\n",
       "<span style=\"color: #7fbfbf; text-decoration-color: #7fbfbf\">           </span>         eigenvalue                                                                 <span style=\"color: #7f7f7f; text-decoration-color: #7f7f7f\">                    </span>\n",
       "</pre>\n"
      ],
      "text/plain": [
       "\u001b[2;36m          \u001b[0m\u001b[2;36m \u001b[0m\u001b[31mWARNING \u001b[0m Stationary solution \u001b[1;36m41\u001b[0m is all in one bin in iter \u001b[1;36m0\u001b[0m -- picking next-biggest \u001b]8;id=285455;file:///home/jd/research/reweighting/mr_toolkit/mr_toolkit/mr_toolkit/trajectory_analysis/traj_analysis.py\u001b\\\u001b[2mtraj_analysis.py\u001b[0m\u001b]8;;\u001b\\\u001b[2m:\u001b[0m\u001b]8;id=487963;file:///home/jd/research/reweighting/mr_toolkit/mr_toolkit/mr_toolkit/trajectory_analysis/traj_analysis.py#476\u001b\\\u001b[2m476\u001b[0m\u001b]8;;\u001b\\\n",
       "\u001b[2;36m           \u001b[0m         eigenvalue                                                                 \u001b[2m                    \u001b[0m\n"
      ]
     },
     "metadata": {},
     "output_type": "display_data"
    },
    {
     "data": {
      "text/html": [
       "<pre style=\"white-space:pre;overflow-x:auto;line-height:normal;font-family:Menlo,'DejaVu Sans Mono',consolas,'Courier New',monospace\"><span style=\"color: #7fbfbf; text-decoration-color: #7fbfbf\">           </span><span style=\"color: #800000; text-decoration-color: #800000\">WARNING </span> Stationary solution <span style=\"color: #008080; text-decoration-color: #008080; font-weight: bold\">42</span> is all in one bin in iter <span style=\"color: #008080; text-decoration-color: #008080; font-weight: bold\">0</span> -- picking next-biggest <a href=\"file:///home/jd/research/reweighting/mr_toolkit/mr_toolkit/mr_toolkit/trajectory_analysis/traj_analysis.py\" target=\"_blank\"><span style=\"color: #7f7f7f; text-decoration-color: #7f7f7f\">traj_analysis.py</span></a><span style=\"color: #7f7f7f; text-decoration-color: #7f7f7f\">:</span><a href=\"file:///home/jd/research/reweighting/mr_toolkit/mr_toolkit/mr_toolkit/trajectory_analysis/traj_analysis.py#476\" target=\"_blank\"><span style=\"color: #7f7f7f; text-decoration-color: #7f7f7f\">476</span></a>\n",
       "<span style=\"color: #7fbfbf; text-decoration-color: #7fbfbf\">           </span>         eigenvalue                                                                 <span style=\"color: #7f7f7f; text-decoration-color: #7f7f7f\">                    </span>\n",
       "</pre>\n"
      ],
      "text/plain": [
       "\u001b[2;36m          \u001b[0m\u001b[2;36m \u001b[0m\u001b[31mWARNING \u001b[0m Stationary solution \u001b[1;36m42\u001b[0m is all in one bin in iter \u001b[1;36m0\u001b[0m -- picking next-biggest \u001b]8;id=313434;file:///home/jd/research/reweighting/mr_toolkit/mr_toolkit/mr_toolkit/trajectory_analysis/traj_analysis.py\u001b\\\u001b[2mtraj_analysis.py\u001b[0m\u001b]8;;\u001b\\\u001b[2m:\u001b[0m\u001b]8;id=118182;file:///home/jd/research/reweighting/mr_toolkit/mr_toolkit/mr_toolkit/trajectory_analysis/traj_analysis.py#476\u001b\\\u001b[2m476\u001b[0m\u001b]8;;\u001b\\\n",
       "\u001b[2;36m           \u001b[0m         eigenvalue                                                                 \u001b[2m                    \u001b[0m\n"
      ]
     },
     "metadata": {},
     "output_type": "display_data"
    },
    {
     "data": {
      "text/html": [
       "<pre style=\"white-space:pre;overflow-x:auto;line-height:normal;font-family:Menlo,'DejaVu Sans Mono',consolas,'Courier New',monospace\"><span style=\"color: #7fbfbf; text-decoration-color: #7fbfbf\">           </span><span style=\"color: #800000; text-decoration-color: #800000\">WARNING </span> Stationary solution <span style=\"color: #008080; text-decoration-color: #008080; font-weight: bold\">43</span> is all in one bin in iter <span style=\"color: #008080; text-decoration-color: #008080; font-weight: bold\">0</span> -- picking next-biggest <a href=\"file:///home/jd/research/reweighting/mr_toolkit/mr_toolkit/mr_toolkit/trajectory_analysis/traj_analysis.py\" target=\"_blank\"><span style=\"color: #7f7f7f; text-decoration-color: #7f7f7f\">traj_analysis.py</span></a><span style=\"color: #7f7f7f; text-decoration-color: #7f7f7f\">:</span><a href=\"file:///home/jd/research/reweighting/mr_toolkit/mr_toolkit/mr_toolkit/trajectory_analysis/traj_analysis.py#476\" target=\"_blank\"><span style=\"color: #7f7f7f; text-decoration-color: #7f7f7f\">476</span></a>\n",
       "<span style=\"color: #7fbfbf; text-decoration-color: #7fbfbf\">           </span>         eigenvalue                                                                 <span style=\"color: #7f7f7f; text-decoration-color: #7f7f7f\">                    </span>\n",
       "</pre>\n"
      ],
      "text/plain": [
       "\u001b[2;36m          \u001b[0m\u001b[2;36m \u001b[0m\u001b[31mWARNING \u001b[0m Stationary solution \u001b[1;36m43\u001b[0m is all in one bin in iter \u001b[1;36m0\u001b[0m -- picking next-biggest \u001b]8;id=793700;file:///home/jd/research/reweighting/mr_toolkit/mr_toolkit/mr_toolkit/trajectory_analysis/traj_analysis.py\u001b\\\u001b[2mtraj_analysis.py\u001b[0m\u001b]8;;\u001b\\\u001b[2m:\u001b[0m\u001b]8;id=695011;file:///home/jd/research/reweighting/mr_toolkit/mr_toolkit/mr_toolkit/trajectory_analysis/traj_analysis.py#476\u001b\\\u001b[2m476\u001b[0m\u001b]8;;\u001b\\\n",
       "\u001b[2;36m           \u001b[0m         eigenvalue                                                                 \u001b[2m                    \u001b[0m\n"
      ]
     },
     "metadata": {},
     "output_type": "display_data"
    },
    {
     "data": {
      "text/html": [
       "<pre style=\"white-space:pre;overflow-x:auto;line-height:normal;font-family:Menlo,'DejaVu Sans Mono',consolas,'Courier New',monospace\"><span style=\"color: #7fbfbf; text-decoration-color: #7fbfbf\">           </span><span style=\"color: #800000; text-decoration-color: #800000\">WARNING </span> Stationary solution <span style=\"color: #008080; text-decoration-color: #008080; font-weight: bold\">44</span> is all in one bin in iter <span style=\"color: #008080; text-decoration-color: #008080; font-weight: bold\">0</span> -- picking next-biggest <a href=\"file:///home/jd/research/reweighting/mr_toolkit/mr_toolkit/mr_toolkit/trajectory_analysis/traj_analysis.py\" target=\"_blank\"><span style=\"color: #7f7f7f; text-decoration-color: #7f7f7f\">traj_analysis.py</span></a><span style=\"color: #7f7f7f; text-decoration-color: #7f7f7f\">:</span><a href=\"file:///home/jd/research/reweighting/mr_toolkit/mr_toolkit/mr_toolkit/trajectory_analysis/traj_analysis.py#476\" target=\"_blank\"><span style=\"color: #7f7f7f; text-decoration-color: #7f7f7f\">476</span></a>\n",
       "<span style=\"color: #7fbfbf; text-decoration-color: #7fbfbf\">           </span>         eigenvalue                                                                 <span style=\"color: #7f7f7f; text-decoration-color: #7f7f7f\">                    </span>\n",
       "</pre>\n"
      ],
      "text/plain": [
       "\u001b[2;36m          \u001b[0m\u001b[2;36m \u001b[0m\u001b[31mWARNING \u001b[0m Stationary solution \u001b[1;36m44\u001b[0m is all in one bin in iter \u001b[1;36m0\u001b[0m -- picking next-biggest \u001b]8;id=776775;file:///home/jd/research/reweighting/mr_toolkit/mr_toolkit/mr_toolkit/trajectory_analysis/traj_analysis.py\u001b\\\u001b[2mtraj_analysis.py\u001b[0m\u001b]8;;\u001b\\\u001b[2m:\u001b[0m\u001b]8;id=71706;file:///home/jd/research/reweighting/mr_toolkit/mr_toolkit/mr_toolkit/trajectory_analysis/traj_analysis.py#476\u001b\\\u001b[2m476\u001b[0m\u001b]8;;\u001b\\\n",
       "\u001b[2;36m           \u001b[0m         eigenvalue                                                                 \u001b[2m                    \u001b[0m\n"
      ]
     },
     "metadata": {},
     "output_type": "display_data"
    },
    {
     "data": {
      "text/html": [
       "<pre style=\"white-space:pre;overflow-x:auto;line-height:normal;font-family:Menlo,'DejaVu Sans Mono',consolas,'Courier New',monospace\"><span style=\"color: #7fbfbf; text-decoration-color: #7fbfbf\">           </span><span style=\"color: #800000; text-decoration-color: #800000\">WARNING </span> Stationary solution <span style=\"color: #008080; text-decoration-color: #008080; font-weight: bold\">45</span> is all in one bin in iter <span style=\"color: #008080; text-decoration-color: #008080; font-weight: bold\">0</span> -- picking next-biggest <a href=\"file:///home/jd/research/reweighting/mr_toolkit/mr_toolkit/mr_toolkit/trajectory_analysis/traj_analysis.py\" target=\"_blank\"><span style=\"color: #7f7f7f; text-decoration-color: #7f7f7f\">traj_analysis.py</span></a><span style=\"color: #7f7f7f; text-decoration-color: #7f7f7f\">:</span><a href=\"file:///home/jd/research/reweighting/mr_toolkit/mr_toolkit/mr_toolkit/trajectory_analysis/traj_analysis.py#476\" target=\"_blank\"><span style=\"color: #7f7f7f; text-decoration-color: #7f7f7f\">476</span></a>\n",
       "<span style=\"color: #7fbfbf; text-decoration-color: #7fbfbf\">           </span>         eigenvalue                                                                 <span style=\"color: #7f7f7f; text-decoration-color: #7f7f7f\">                    </span>\n",
       "</pre>\n"
      ],
      "text/plain": [
       "\u001b[2;36m          \u001b[0m\u001b[2;36m \u001b[0m\u001b[31mWARNING \u001b[0m Stationary solution \u001b[1;36m45\u001b[0m is all in one bin in iter \u001b[1;36m0\u001b[0m -- picking next-biggest \u001b]8;id=190648;file:///home/jd/research/reweighting/mr_toolkit/mr_toolkit/mr_toolkit/trajectory_analysis/traj_analysis.py\u001b\\\u001b[2mtraj_analysis.py\u001b[0m\u001b]8;;\u001b\\\u001b[2m:\u001b[0m\u001b]8;id=414010;file:///home/jd/research/reweighting/mr_toolkit/mr_toolkit/mr_toolkit/trajectory_analysis/traj_analysis.py#476\u001b\\\u001b[2m476\u001b[0m\u001b]8;;\u001b\\\n",
       "\u001b[2;36m           \u001b[0m         eigenvalue                                                                 \u001b[2m                    \u001b[0m\n"
      ]
     },
     "metadata": {},
     "output_type": "display_data"
    },
    {
     "data": {
      "text/html": [
       "<pre style=\"white-space:pre;overflow-x:auto;line-height:normal;font-family:Menlo,'DejaVu Sans Mono',consolas,'Courier New',monospace\"><span style=\"color: #7fbfbf; text-decoration-color: #7fbfbf\">           </span><span style=\"color: #800000; text-decoration-color: #800000\">WARNING </span> Stationary solution <span style=\"color: #008080; text-decoration-color: #008080; font-weight: bold\">46</span> is not positive semidefinite, trying the next one   <a href=\"file:///home/jd/research/reweighting/mr_toolkit/mr_toolkit/mr_toolkit/trajectory_analysis/traj_analysis.py\" target=\"_blank\"><span style=\"color: #7f7f7f; text-decoration-color: #7f7f7f\">traj_analysis.py</span></a><span style=\"color: #7f7f7f; text-decoration-color: #7f7f7f\">:</span><a href=\"file:///home/jd/research/reweighting/mr_toolkit/mr_toolkit/mr_toolkit/trajectory_analysis/traj_analysis.py#478\" target=\"_blank\"><span style=\"color: #7f7f7f; text-decoration-color: #7f7f7f\">478</span></a>\n",
       "</pre>\n"
      ],
      "text/plain": [
       "\u001b[2;36m          \u001b[0m\u001b[2;36m \u001b[0m\u001b[31mWARNING \u001b[0m Stationary solution \u001b[1;36m46\u001b[0m is not positive semidefinite, trying the next one   \u001b]8;id=527506;file:///home/jd/research/reweighting/mr_toolkit/mr_toolkit/mr_toolkit/trajectory_analysis/traj_analysis.py\u001b\\\u001b[2mtraj_analysis.py\u001b[0m\u001b]8;;\u001b\\\u001b[2m:\u001b[0m\u001b]8;id=459558;file:///home/jd/research/reweighting/mr_toolkit/mr_toolkit/mr_toolkit/trajectory_analysis/traj_analysis.py#478\u001b\\\u001b[2m478\u001b[0m\u001b]8;;\u001b\\\n"
      ]
     },
     "metadata": {},
     "output_type": "display_data"
    },
    {
     "data": {
      "text/html": [
       "<pre style=\"white-space:pre;overflow-x:auto;line-height:normal;font-family:Menlo,'DejaVu Sans Mono',consolas,'Courier New',monospace\"><span style=\"color: #7fbfbf; text-decoration-color: #7fbfbf\">           </span><span style=\"color: #800000; text-decoration-color: #800000\">WARNING </span> Stationary solution <span style=\"color: #008080; text-decoration-color: #008080; font-weight: bold\">47</span> is not positive semidefinite, trying the next one   <a href=\"file:///home/jd/research/reweighting/mr_toolkit/mr_toolkit/mr_toolkit/trajectory_analysis/traj_analysis.py\" target=\"_blank\"><span style=\"color: #7f7f7f; text-decoration-color: #7f7f7f\">traj_analysis.py</span></a><span style=\"color: #7f7f7f; text-decoration-color: #7f7f7f\">:</span><a href=\"file:///home/jd/research/reweighting/mr_toolkit/mr_toolkit/mr_toolkit/trajectory_analysis/traj_analysis.py#478\" target=\"_blank\"><span style=\"color: #7f7f7f; text-decoration-color: #7f7f7f\">478</span></a>\n",
       "</pre>\n"
      ],
      "text/plain": [
       "\u001b[2;36m          \u001b[0m\u001b[2;36m \u001b[0m\u001b[31mWARNING \u001b[0m Stationary solution \u001b[1;36m47\u001b[0m is not positive semidefinite, trying the next one   \u001b]8;id=839085;file:///home/jd/research/reweighting/mr_toolkit/mr_toolkit/mr_toolkit/trajectory_analysis/traj_analysis.py\u001b\\\u001b[2mtraj_analysis.py\u001b[0m\u001b]8;;\u001b\\\u001b[2m:\u001b[0m\u001b]8;id=387643;file:///home/jd/research/reweighting/mr_toolkit/mr_toolkit/mr_toolkit/trajectory_analysis/traj_analysis.py#478\u001b\\\u001b[2m478\u001b[0m\u001b]8;;\u001b\\\n"
      ]
     },
     "metadata": {},
     "output_type": "display_data"
    },
    {
     "data": {
      "text/html": [
       "<pre style=\"white-space:pre;overflow-x:auto;line-height:normal;font-family:Menlo,'DejaVu Sans Mono',consolas,'Courier New',monospace\"><span style=\"color: #7fbfbf; text-decoration-color: #7fbfbf\">           </span><span style=\"color: #800000; text-decoration-color: #800000\">WARNING </span> Stationary solution <span style=\"color: #008080; text-decoration-color: #008080; font-weight: bold\">48</span> is not positive semidefinite, trying the next one   <a href=\"file:///home/jd/research/reweighting/mr_toolkit/mr_toolkit/mr_toolkit/trajectory_analysis/traj_analysis.py\" target=\"_blank\"><span style=\"color: #7f7f7f; text-decoration-color: #7f7f7f\">traj_analysis.py</span></a><span style=\"color: #7f7f7f; text-decoration-color: #7f7f7f\">:</span><a href=\"file:///home/jd/research/reweighting/mr_toolkit/mr_toolkit/mr_toolkit/trajectory_analysis/traj_analysis.py#478\" target=\"_blank\"><span style=\"color: #7f7f7f; text-decoration-color: #7f7f7f\">478</span></a>\n",
       "</pre>\n"
      ],
      "text/plain": [
       "\u001b[2;36m          \u001b[0m\u001b[2;36m \u001b[0m\u001b[31mWARNING \u001b[0m Stationary solution \u001b[1;36m48\u001b[0m is not positive semidefinite, trying the next one   \u001b]8;id=430708;file:///home/jd/research/reweighting/mr_toolkit/mr_toolkit/mr_toolkit/trajectory_analysis/traj_analysis.py\u001b\\\u001b[2mtraj_analysis.py\u001b[0m\u001b]8;;\u001b\\\u001b[2m:\u001b[0m\u001b]8;id=441311;file:///home/jd/research/reweighting/mr_toolkit/mr_toolkit/mr_toolkit/trajectory_analysis/traj_analysis.py#478\u001b\\\u001b[2m478\u001b[0m\u001b]8;;\u001b\\\n"
      ]
     },
     "metadata": {},
     "output_type": "display_data"
    },
    {
     "data": {
      "text/html": [
       "<pre style=\"white-space:pre;overflow-x:auto;line-height:normal;font-family:Menlo,'DejaVu Sans Mono',consolas,'Courier New',monospace\"><span style=\"color: #7fbfbf; text-decoration-color: #7fbfbf\">           </span><span style=\"color: #800000; text-decoration-color: #800000\">WARNING </span> Stationary solution <span style=\"color: #008080; text-decoration-color: #008080; font-weight: bold\">49</span> is not positive semidefinite, trying the next one   <a href=\"file:///home/jd/research/reweighting/mr_toolkit/mr_toolkit/mr_toolkit/trajectory_analysis/traj_analysis.py\" target=\"_blank\"><span style=\"color: #7f7f7f; text-decoration-color: #7f7f7f\">traj_analysis.py</span></a><span style=\"color: #7f7f7f; text-decoration-color: #7f7f7f\">:</span><a href=\"file:///home/jd/research/reweighting/mr_toolkit/mr_toolkit/mr_toolkit/trajectory_analysis/traj_analysis.py#478\" target=\"_blank\"><span style=\"color: #7f7f7f; text-decoration-color: #7f7f7f\">478</span></a>\n",
       "</pre>\n"
      ],
      "text/plain": [
       "\u001b[2;36m          \u001b[0m\u001b[2;36m \u001b[0m\u001b[31mWARNING \u001b[0m Stationary solution \u001b[1;36m49\u001b[0m is not positive semidefinite, trying the next one   \u001b]8;id=325102;file:///home/jd/research/reweighting/mr_toolkit/mr_toolkit/mr_toolkit/trajectory_analysis/traj_analysis.py\u001b\\\u001b[2mtraj_analysis.py\u001b[0m\u001b]8;;\u001b\\\u001b[2m:\u001b[0m\u001b]8;id=8945;file:///home/jd/research/reweighting/mr_toolkit/mr_toolkit/mr_toolkit/trajectory_analysis/traj_analysis.py#478\u001b\\\u001b[2m478\u001b[0m\u001b]8;;\u001b\\\n"
      ]
     },
     "metadata": {},
     "output_type": "display_data"
    },
    {
     "data": {
      "text/html": [
       "<pre style=\"white-space:pre;overflow-x:auto;line-height:normal;font-family:Menlo,'DejaVu Sans Mono',consolas,'Courier New',monospace\"><span style=\"color: #7fbfbf; text-decoration-color: #7fbfbf\">           </span><span style=\"color: #800000; text-decoration-color: #800000\">WARNING </span> Stationary solution <span style=\"color: #008080; text-decoration-color: #008080; font-weight: bold\">50</span> is all in one bin in iter <span style=\"color: #008080; text-decoration-color: #008080; font-weight: bold\">0</span> -- picking next-biggest <a href=\"file:///home/jd/research/reweighting/mr_toolkit/mr_toolkit/mr_toolkit/trajectory_analysis/traj_analysis.py\" target=\"_blank\"><span style=\"color: #7f7f7f; text-decoration-color: #7f7f7f\">traj_analysis.py</span></a><span style=\"color: #7f7f7f; text-decoration-color: #7f7f7f\">:</span><a href=\"file:///home/jd/research/reweighting/mr_toolkit/mr_toolkit/mr_toolkit/trajectory_analysis/traj_analysis.py#476\" target=\"_blank\"><span style=\"color: #7f7f7f; text-decoration-color: #7f7f7f\">476</span></a>\n",
       "<span style=\"color: #7fbfbf; text-decoration-color: #7fbfbf\">           </span>         eigenvalue                                                                 <span style=\"color: #7f7f7f; text-decoration-color: #7f7f7f\">                    </span>\n",
       "</pre>\n"
      ],
      "text/plain": [
       "\u001b[2;36m          \u001b[0m\u001b[2;36m \u001b[0m\u001b[31mWARNING \u001b[0m Stationary solution \u001b[1;36m50\u001b[0m is all in one bin in iter \u001b[1;36m0\u001b[0m -- picking next-biggest \u001b]8;id=421050;file:///home/jd/research/reweighting/mr_toolkit/mr_toolkit/mr_toolkit/trajectory_analysis/traj_analysis.py\u001b\\\u001b[2mtraj_analysis.py\u001b[0m\u001b]8;;\u001b\\\u001b[2m:\u001b[0m\u001b]8;id=944462;file:///home/jd/research/reweighting/mr_toolkit/mr_toolkit/mr_toolkit/trajectory_analysis/traj_analysis.py#476\u001b\\\u001b[2m476\u001b[0m\u001b]8;;\u001b\\\n",
       "\u001b[2;36m           \u001b[0m         eigenvalue                                                                 \u001b[2m                    \u001b[0m\n"
      ]
     },
     "metadata": {},
     "output_type": "display_data"
    },
    {
     "data": {
      "text/html": [
       "<pre style=\"white-space:pre;overflow-x:auto;line-height:normal;font-family:Menlo,'DejaVu Sans Mono',consolas,'Courier New',monospace\"><span style=\"color: #7fbfbf; text-decoration-color: #7fbfbf\">           </span><span style=\"color: #800000; text-decoration-color: #800000\">WARNING </span> Stationary solution <span style=\"color: #008080; text-decoration-color: #008080; font-weight: bold\">51</span> is all in one bin in iter <span style=\"color: #008080; text-decoration-color: #008080; font-weight: bold\">0</span> -- picking next-biggest <a href=\"file:///home/jd/research/reweighting/mr_toolkit/mr_toolkit/mr_toolkit/trajectory_analysis/traj_analysis.py\" target=\"_blank\"><span style=\"color: #7f7f7f; text-decoration-color: #7f7f7f\">traj_analysis.py</span></a><span style=\"color: #7f7f7f; text-decoration-color: #7f7f7f\">:</span><a href=\"file:///home/jd/research/reweighting/mr_toolkit/mr_toolkit/mr_toolkit/trajectory_analysis/traj_analysis.py#476\" target=\"_blank\"><span style=\"color: #7f7f7f; text-decoration-color: #7f7f7f\">476</span></a>\n",
       "<span style=\"color: #7fbfbf; text-decoration-color: #7fbfbf\">           </span>         eigenvalue                                                                 <span style=\"color: #7f7f7f; text-decoration-color: #7f7f7f\">                    </span>\n",
       "</pre>\n"
      ],
      "text/plain": [
       "\u001b[2;36m          \u001b[0m\u001b[2;36m \u001b[0m\u001b[31mWARNING \u001b[0m Stationary solution \u001b[1;36m51\u001b[0m is all in one bin in iter \u001b[1;36m0\u001b[0m -- picking next-biggest \u001b]8;id=613152;file:///home/jd/research/reweighting/mr_toolkit/mr_toolkit/mr_toolkit/trajectory_analysis/traj_analysis.py\u001b\\\u001b[2mtraj_analysis.py\u001b[0m\u001b]8;;\u001b\\\u001b[2m:\u001b[0m\u001b]8;id=383660;file:///home/jd/research/reweighting/mr_toolkit/mr_toolkit/mr_toolkit/trajectory_analysis/traj_analysis.py#476\u001b\\\u001b[2m476\u001b[0m\u001b]8;;\u001b\\\n",
       "\u001b[2;36m           \u001b[0m         eigenvalue                                                                 \u001b[2m                    \u001b[0m\n"
      ]
     },
     "metadata": {},
     "output_type": "display_data"
    },
    {
     "data": {
      "text/html": [
       "<pre style=\"white-space:pre;overflow-x:auto;line-height:normal;font-family:Menlo,'DejaVu Sans Mono',consolas,'Courier New',monospace\"><span style=\"color: #7fbfbf; text-decoration-color: #7fbfbf\">           </span><span style=\"color: #800000; text-decoration-color: #800000\">WARNING </span> Stationary solution <span style=\"color: #008080; text-decoration-color: #008080; font-weight: bold\">52</span> is all in one bin in iter <span style=\"color: #008080; text-decoration-color: #008080; font-weight: bold\">0</span> -- picking next-biggest <a href=\"file:///home/jd/research/reweighting/mr_toolkit/mr_toolkit/mr_toolkit/trajectory_analysis/traj_analysis.py\" target=\"_blank\"><span style=\"color: #7f7f7f; text-decoration-color: #7f7f7f\">traj_analysis.py</span></a><span style=\"color: #7f7f7f; text-decoration-color: #7f7f7f\">:</span><a href=\"file:///home/jd/research/reweighting/mr_toolkit/mr_toolkit/mr_toolkit/trajectory_analysis/traj_analysis.py#476\" target=\"_blank\"><span style=\"color: #7f7f7f; text-decoration-color: #7f7f7f\">476</span></a>\n",
       "<span style=\"color: #7fbfbf; text-decoration-color: #7fbfbf\">           </span>         eigenvalue                                                                 <span style=\"color: #7f7f7f; text-decoration-color: #7f7f7f\">                    </span>\n",
       "</pre>\n"
      ],
      "text/plain": [
       "\u001b[2;36m          \u001b[0m\u001b[2;36m \u001b[0m\u001b[31mWARNING \u001b[0m Stationary solution \u001b[1;36m52\u001b[0m is all in one bin in iter \u001b[1;36m0\u001b[0m -- picking next-biggest \u001b]8;id=221172;file:///home/jd/research/reweighting/mr_toolkit/mr_toolkit/mr_toolkit/trajectory_analysis/traj_analysis.py\u001b\\\u001b[2mtraj_analysis.py\u001b[0m\u001b]8;;\u001b\\\u001b[2m:\u001b[0m\u001b]8;id=32330;file:///home/jd/research/reweighting/mr_toolkit/mr_toolkit/mr_toolkit/trajectory_analysis/traj_analysis.py#476\u001b\\\u001b[2m476\u001b[0m\u001b]8;;\u001b\\\n",
       "\u001b[2;36m           \u001b[0m         eigenvalue                                                                 \u001b[2m                    \u001b[0m\n"
      ]
     },
     "metadata": {},
     "output_type": "display_data"
    },
    {
     "data": {
      "text/html": [
       "<pre style=\"white-space:pre;overflow-x:auto;line-height:normal;font-family:Menlo,'DejaVu Sans Mono',consolas,'Courier New',monospace\"><span style=\"color: #7fbfbf; text-decoration-color: #7fbfbf\">           </span><span style=\"color: #800000; text-decoration-color: #800000\">WARNING </span> Stationary solution <span style=\"color: #008080; text-decoration-color: #008080; font-weight: bold\">53</span> is all in one bin in iter <span style=\"color: #008080; text-decoration-color: #008080; font-weight: bold\">0</span> -- picking next-biggest <a href=\"file:///home/jd/research/reweighting/mr_toolkit/mr_toolkit/mr_toolkit/trajectory_analysis/traj_analysis.py\" target=\"_blank\"><span style=\"color: #7f7f7f; text-decoration-color: #7f7f7f\">traj_analysis.py</span></a><span style=\"color: #7f7f7f; text-decoration-color: #7f7f7f\">:</span><a href=\"file:///home/jd/research/reweighting/mr_toolkit/mr_toolkit/mr_toolkit/trajectory_analysis/traj_analysis.py#476\" target=\"_blank\"><span style=\"color: #7f7f7f; text-decoration-color: #7f7f7f\">476</span></a>\n",
       "<span style=\"color: #7fbfbf; text-decoration-color: #7fbfbf\">           </span>         eigenvalue                                                                 <span style=\"color: #7f7f7f; text-decoration-color: #7f7f7f\">                    </span>\n",
       "</pre>\n"
      ],
      "text/plain": [
       "\u001b[2;36m          \u001b[0m\u001b[2;36m \u001b[0m\u001b[31mWARNING \u001b[0m Stationary solution \u001b[1;36m53\u001b[0m is all in one bin in iter \u001b[1;36m0\u001b[0m -- picking next-biggest \u001b]8;id=977184;file:///home/jd/research/reweighting/mr_toolkit/mr_toolkit/mr_toolkit/trajectory_analysis/traj_analysis.py\u001b\\\u001b[2mtraj_analysis.py\u001b[0m\u001b]8;;\u001b\\\u001b[2m:\u001b[0m\u001b]8;id=963156;file:///home/jd/research/reweighting/mr_toolkit/mr_toolkit/mr_toolkit/trajectory_analysis/traj_analysis.py#476\u001b\\\u001b[2m476\u001b[0m\u001b]8;;\u001b\\\n",
       "\u001b[2;36m           \u001b[0m         eigenvalue                                                                 \u001b[2m                    \u001b[0m\n"
      ]
     },
     "metadata": {},
     "output_type": "display_data"
    },
    {
     "data": {
      "text/html": [
       "<pre style=\"white-space:pre;overflow-x:auto;line-height:normal;font-family:Menlo,'DejaVu Sans Mono',consolas,'Courier New',monospace\"><span style=\"color: #7fbfbf; text-decoration-color: #7fbfbf\">           </span><span style=\"color: #800000; text-decoration-color: #800000\">WARNING </span> Stationary solution <span style=\"color: #008080; text-decoration-color: #008080; font-weight: bold\">54</span> is all in one bin in iter <span style=\"color: #008080; text-decoration-color: #008080; font-weight: bold\">0</span> -- picking next-biggest <a href=\"file:///home/jd/research/reweighting/mr_toolkit/mr_toolkit/mr_toolkit/trajectory_analysis/traj_analysis.py\" target=\"_blank\"><span style=\"color: #7f7f7f; text-decoration-color: #7f7f7f\">traj_analysis.py</span></a><span style=\"color: #7f7f7f; text-decoration-color: #7f7f7f\">:</span><a href=\"file:///home/jd/research/reweighting/mr_toolkit/mr_toolkit/mr_toolkit/trajectory_analysis/traj_analysis.py#476\" target=\"_blank\"><span style=\"color: #7f7f7f; text-decoration-color: #7f7f7f\">476</span></a>\n",
       "<span style=\"color: #7fbfbf; text-decoration-color: #7fbfbf\">           </span>         eigenvalue                                                                 <span style=\"color: #7f7f7f; text-decoration-color: #7f7f7f\">                    </span>\n",
       "</pre>\n"
      ],
      "text/plain": [
       "\u001b[2;36m          \u001b[0m\u001b[2;36m \u001b[0m\u001b[31mWARNING \u001b[0m Stationary solution \u001b[1;36m54\u001b[0m is all in one bin in iter \u001b[1;36m0\u001b[0m -- picking next-biggest \u001b]8;id=400143;file:///home/jd/research/reweighting/mr_toolkit/mr_toolkit/mr_toolkit/trajectory_analysis/traj_analysis.py\u001b\\\u001b[2mtraj_analysis.py\u001b[0m\u001b]8;;\u001b\\\u001b[2m:\u001b[0m\u001b]8;id=146022;file:///home/jd/research/reweighting/mr_toolkit/mr_toolkit/mr_toolkit/trajectory_analysis/traj_analysis.py#476\u001b\\\u001b[2m476\u001b[0m\u001b]8;;\u001b\\\n",
       "\u001b[2;36m           \u001b[0m         eigenvalue                                                                 \u001b[2m                    \u001b[0m\n"
      ]
     },
     "metadata": {},
     "output_type": "display_data"
    },
    {
     "data": {
      "text/html": [
       "<pre style=\"white-space:pre;overflow-x:auto;line-height:normal;font-family:Menlo,'DejaVu Sans Mono',consolas,'Courier New',monospace\"><span style=\"color: #7fbfbf; text-decoration-color: #7fbfbf\">           </span><span style=\"color: #800000; text-decoration-color: #800000\">WARNING </span> Stationary solution <span style=\"color: #008080; text-decoration-color: #008080; font-weight: bold\">55</span> is all in one bin in iter <span style=\"color: #008080; text-decoration-color: #008080; font-weight: bold\">0</span> -- picking next-biggest <a href=\"file:///home/jd/research/reweighting/mr_toolkit/mr_toolkit/mr_toolkit/trajectory_analysis/traj_analysis.py\" target=\"_blank\"><span style=\"color: #7f7f7f; text-decoration-color: #7f7f7f\">traj_analysis.py</span></a><span style=\"color: #7f7f7f; text-decoration-color: #7f7f7f\">:</span><a href=\"file:///home/jd/research/reweighting/mr_toolkit/mr_toolkit/mr_toolkit/trajectory_analysis/traj_analysis.py#476\" target=\"_blank\"><span style=\"color: #7f7f7f; text-decoration-color: #7f7f7f\">476</span></a>\n",
       "<span style=\"color: #7fbfbf; text-decoration-color: #7fbfbf\">           </span>         eigenvalue                                                                 <span style=\"color: #7f7f7f; text-decoration-color: #7f7f7f\">                    </span>\n",
       "</pre>\n"
      ],
      "text/plain": [
       "\u001b[2;36m          \u001b[0m\u001b[2;36m \u001b[0m\u001b[31mWARNING \u001b[0m Stationary solution \u001b[1;36m55\u001b[0m is all in one bin in iter \u001b[1;36m0\u001b[0m -- picking next-biggest \u001b]8;id=203691;file:///home/jd/research/reweighting/mr_toolkit/mr_toolkit/mr_toolkit/trajectory_analysis/traj_analysis.py\u001b\\\u001b[2mtraj_analysis.py\u001b[0m\u001b]8;;\u001b\\\u001b[2m:\u001b[0m\u001b]8;id=546644;file:///home/jd/research/reweighting/mr_toolkit/mr_toolkit/mr_toolkit/trajectory_analysis/traj_analysis.py#476\u001b\\\u001b[2m476\u001b[0m\u001b]8;;\u001b\\\n",
       "\u001b[2;36m           \u001b[0m         eigenvalue                                                                 \u001b[2m                    \u001b[0m\n"
      ]
     },
     "metadata": {},
     "output_type": "display_data"
    },
    {
     "data": {
      "text/html": [
       "<pre style=\"white-space:pre;overflow-x:auto;line-height:normal;font-family:Menlo,'DejaVu Sans Mono',consolas,'Courier New',monospace\"><span style=\"color: #7fbfbf; text-decoration-color: #7fbfbf\">           </span><span style=\"color: #800000; text-decoration-color: #800000\">WARNING </span> Stationary solution <span style=\"color: #008080; text-decoration-color: #008080; font-weight: bold\">56</span> is all in one bin in iter <span style=\"color: #008080; text-decoration-color: #008080; font-weight: bold\">0</span> -- picking next-biggest <a href=\"file:///home/jd/research/reweighting/mr_toolkit/mr_toolkit/mr_toolkit/trajectory_analysis/traj_analysis.py\" target=\"_blank\"><span style=\"color: #7f7f7f; text-decoration-color: #7f7f7f\">traj_analysis.py</span></a><span style=\"color: #7f7f7f; text-decoration-color: #7f7f7f\">:</span><a href=\"file:///home/jd/research/reweighting/mr_toolkit/mr_toolkit/mr_toolkit/trajectory_analysis/traj_analysis.py#476\" target=\"_blank\"><span style=\"color: #7f7f7f; text-decoration-color: #7f7f7f\">476</span></a>\n",
       "<span style=\"color: #7fbfbf; text-decoration-color: #7fbfbf\">           </span>         eigenvalue                                                                 <span style=\"color: #7f7f7f; text-decoration-color: #7f7f7f\">                    </span>\n",
       "</pre>\n"
      ],
      "text/plain": [
       "\u001b[2;36m          \u001b[0m\u001b[2;36m \u001b[0m\u001b[31mWARNING \u001b[0m Stationary solution \u001b[1;36m56\u001b[0m is all in one bin in iter \u001b[1;36m0\u001b[0m -- picking next-biggest \u001b]8;id=663347;file:///home/jd/research/reweighting/mr_toolkit/mr_toolkit/mr_toolkit/trajectory_analysis/traj_analysis.py\u001b\\\u001b[2mtraj_analysis.py\u001b[0m\u001b]8;;\u001b\\\u001b[2m:\u001b[0m\u001b]8;id=608771;file:///home/jd/research/reweighting/mr_toolkit/mr_toolkit/mr_toolkit/trajectory_analysis/traj_analysis.py#476\u001b\\\u001b[2m476\u001b[0m\u001b]8;;\u001b\\\n",
       "\u001b[2;36m           \u001b[0m         eigenvalue                                                                 \u001b[2m                    \u001b[0m\n"
      ]
     },
     "metadata": {},
     "output_type": "display_data"
    },
    {
     "name": "stderr",
     "output_type": "stream",
     "text": [
      "/home/jd/research/reweighting/mr_toolkit/mr_toolkit/mr_toolkit/trajectory_analysis/traj_analysis.py:480: RuntimeWarning: divide by zero encountered in divide\n",
      "  stationary = np.real(evecs[:, max_eig_index]) / np.real(\n",
      "/home/jd/research/reweighting/mr_toolkit/mr_toolkit/mr_toolkit/trajectory_analysis/traj_analysis.py:480: RuntimeWarning: invalid value encountered in divide\n",
      "  stationary = np.real(evecs[:, max_eig_index]) / np.real(\n",
      "Reweighting convergence:   0%|                                                                                                                                                                                                                                   | 0/10.0 [00:00<?, ?it/s]\n"
     ]
    },
    {
     "data": {
      "text/html": [
       "<pre style=\"white-space:pre;overflow-x:auto;line-height:normal;font-family:Menlo,'DejaVu Sans Mono',consolas,'Courier New',monospace\"><span style=\"color: #7fbfbf; text-decoration-color: #7fbfbf\">           </span><span style=\"color: #800000; text-decoration-color: #800000; font-weight: bold\">ERROR   </span> Stationary distribution not normalized in iter <span style=\"color: #008080; text-decoration-color: #008080; font-weight: bold\">0</span>!                                <a href=\"file:///home/jd/research/reweighting/mr_toolkit/mr_toolkit/mr_toolkit/reweighting/analysis.py\" target=\"_blank\"><span style=\"color: #7f7f7f; text-decoration-color: #7f7f7f\">analysis.py</span></a><span style=\"color: #7f7f7f; text-decoration-color: #7f7f7f\">:</span><a href=\"file:///home/jd/research/reweighting/mr_toolkit/mr_toolkit/mr_toolkit/reweighting/analysis.py#86\" target=\"_blank\"><span style=\"color: #7f7f7f; text-decoration-color: #7f7f7f\">86</span></a>\n",
       "</pre>\n"
      ],
      "text/plain": [
       "\u001b[2;36m          \u001b[0m\u001b[2;36m \u001b[0m\u001b[1;31mERROR   \u001b[0m Stationary distribution not normalized in iter \u001b[1;36m0\u001b[0m!                                \u001b]8;id=605984;file:///home/jd/research/reweighting/mr_toolkit/mr_toolkit/mr_toolkit/reweighting/analysis.py\u001b\\\u001b[2manalysis.py\u001b[0m\u001b]8;;\u001b\\\u001b[2m:\u001b[0m\u001b]8;id=925237;file:///home/jd/research/reweighting/mr_toolkit/mr_toolkit/mr_toolkit/reweighting/analysis.py#86\u001b\\\u001b[2m86\u001b[0m\u001b]8;;\u001b\\\n"
      ]
     },
     "metadata": {},
     "output_type": "display_data"
    },
    {
     "name": "stdout",
     "output_type": "stream",
     "text": [
      "0\n"
     ]
    },
    {
     "name": "stderr",
     "output_type": "stream",
     "text": [
      "\n",
      "Building count matrices: 100%|█████████████████████████████████████████████████████████████████████████████████████████████████████████████████████████████████████████████████████████████████████████████████████████████████████████████████████| 1950/1950 [00:00<00:00, 58774.99it/s]\u001b[A\n",
      "\n",
      "Reweighting convergence:   0%|                                                                                                                                                                                                                                   | 0/10.0 [00:00<?, ?it/s]\u001b[A"
     ]
    },
    {
     "data": {
      "text/html": [
       "<pre style=\"white-space:pre;overflow-x:auto;line-height:normal;font-family:Menlo,'DejaVu Sans Mono',consolas,'Courier New',monospace\"><span style=\"color: #7fbfbf; text-decoration-color: #7fbfbf\">           </span><span style=\"color: #800000; text-decoration-color: #800000\">WARNING </span> Stationary solution <span style=\"color: #008080; text-decoration-color: #008080; font-weight: bold\">1</span> is all in one bin in iter <span style=\"color: #008080; text-decoration-color: #008080; font-weight: bold\">1</span> -- picking next-biggest  <a href=\"file:///home/jd/research/reweighting/mr_toolkit/mr_toolkit/mr_toolkit/trajectory_analysis/traj_analysis.py\" target=\"_blank\"><span style=\"color: #7f7f7f; text-decoration-color: #7f7f7f\">traj_analysis.py</span></a><span style=\"color: #7f7f7f; text-decoration-color: #7f7f7f\">:</span><a href=\"file:///home/jd/research/reweighting/mr_toolkit/mr_toolkit/mr_toolkit/trajectory_analysis/traj_analysis.py#476\" target=\"_blank\"><span style=\"color: #7f7f7f; text-decoration-color: #7f7f7f\">476</span></a>\n",
       "<span style=\"color: #7fbfbf; text-decoration-color: #7fbfbf\">           </span>         eigenvalue                                                                 <span style=\"color: #7f7f7f; text-decoration-color: #7f7f7f\">                    </span>\n",
       "</pre>\n"
      ],
      "text/plain": [
       "\u001b[2;36m          \u001b[0m\u001b[2;36m \u001b[0m\u001b[31mWARNING \u001b[0m Stationary solution \u001b[1;36m1\u001b[0m is all in one bin in iter \u001b[1;36m1\u001b[0m -- picking next-biggest  \u001b]8;id=951531;file:///home/jd/research/reweighting/mr_toolkit/mr_toolkit/mr_toolkit/trajectory_analysis/traj_analysis.py\u001b\\\u001b[2mtraj_analysis.py\u001b[0m\u001b]8;;\u001b\\\u001b[2m:\u001b[0m\u001b]8;id=577129;file:///home/jd/research/reweighting/mr_toolkit/mr_toolkit/mr_toolkit/trajectory_analysis/traj_analysis.py#476\u001b\\\u001b[2m476\u001b[0m\u001b]8;;\u001b\\\n",
       "\u001b[2;36m           \u001b[0m         eigenvalue                                                                 \u001b[2m                    \u001b[0m\n"
      ]
     },
     "metadata": {},
     "output_type": "display_data"
    },
    {
     "data": {
      "text/html": [
       "<pre style=\"white-space:pre;overflow-x:auto;line-height:normal;font-family:Menlo,'DejaVu Sans Mono',consolas,'Courier New',monospace\"><span style=\"color: #7fbfbf; text-decoration-color: #7fbfbf\">           </span><span style=\"color: #800000; text-decoration-color: #800000\">WARNING </span> Stationary solution <span style=\"color: #008080; text-decoration-color: #008080; font-weight: bold\">2</span> is all in one bin in iter <span style=\"color: #008080; text-decoration-color: #008080; font-weight: bold\">1</span> -- picking next-biggest  <a href=\"file:///home/jd/research/reweighting/mr_toolkit/mr_toolkit/mr_toolkit/trajectory_analysis/traj_analysis.py\" target=\"_blank\"><span style=\"color: #7f7f7f; text-decoration-color: #7f7f7f\">traj_analysis.py</span></a><span style=\"color: #7f7f7f; text-decoration-color: #7f7f7f\">:</span><a href=\"file:///home/jd/research/reweighting/mr_toolkit/mr_toolkit/mr_toolkit/trajectory_analysis/traj_analysis.py#476\" target=\"_blank\"><span style=\"color: #7f7f7f; text-decoration-color: #7f7f7f\">476</span></a>\n",
       "<span style=\"color: #7fbfbf; text-decoration-color: #7fbfbf\">           </span>         eigenvalue                                                                 <span style=\"color: #7f7f7f; text-decoration-color: #7f7f7f\">                    </span>\n",
       "</pre>\n"
      ],
      "text/plain": [
       "\u001b[2;36m          \u001b[0m\u001b[2;36m \u001b[0m\u001b[31mWARNING \u001b[0m Stationary solution \u001b[1;36m2\u001b[0m is all in one bin in iter \u001b[1;36m1\u001b[0m -- picking next-biggest  \u001b]8;id=894197;file:///home/jd/research/reweighting/mr_toolkit/mr_toolkit/mr_toolkit/trajectory_analysis/traj_analysis.py\u001b\\\u001b[2mtraj_analysis.py\u001b[0m\u001b]8;;\u001b\\\u001b[2m:\u001b[0m\u001b]8;id=74049;file:///home/jd/research/reweighting/mr_toolkit/mr_toolkit/mr_toolkit/trajectory_analysis/traj_analysis.py#476\u001b\\\u001b[2m476\u001b[0m\u001b]8;;\u001b\\\n",
       "\u001b[2;36m           \u001b[0m         eigenvalue                                                                 \u001b[2m                    \u001b[0m\n"
      ]
     },
     "metadata": {},
     "output_type": "display_data"
    },
    {
     "data": {
      "text/html": [
       "<pre style=\"white-space:pre;overflow-x:auto;line-height:normal;font-family:Menlo,'DejaVu Sans Mono',consolas,'Courier New',monospace\"><span style=\"color: #7fbfbf; text-decoration-color: #7fbfbf\">           </span><span style=\"color: #800000; text-decoration-color: #800000\">WARNING </span> Stationary solution <span style=\"color: #008080; text-decoration-color: #008080; font-weight: bold\">3</span> is all in one bin in iter <span style=\"color: #008080; text-decoration-color: #008080; font-weight: bold\">1</span> -- picking next-biggest  <a href=\"file:///home/jd/research/reweighting/mr_toolkit/mr_toolkit/mr_toolkit/trajectory_analysis/traj_analysis.py\" target=\"_blank\"><span style=\"color: #7f7f7f; text-decoration-color: #7f7f7f\">traj_analysis.py</span></a><span style=\"color: #7f7f7f; text-decoration-color: #7f7f7f\">:</span><a href=\"file:///home/jd/research/reweighting/mr_toolkit/mr_toolkit/mr_toolkit/trajectory_analysis/traj_analysis.py#476\" target=\"_blank\"><span style=\"color: #7f7f7f; text-decoration-color: #7f7f7f\">476</span></a>\n",
       "<span style=\"color: #7fbfbf; text-decoration-color: #7fbfbf\">           </span>         eigenvalue                                                                 <span style=\"color: #7f7f7f; text-decoration-color: #7f7f7f\">                    </span>\n",
       "</pre>\n"
      ],
      "text/plain": [
       "\u001b[2;36m          \u001b[0m\u001b[2;36m \u001b[0m\u001b[31mWARNING \u001b[0m Stationary solution \u001b[1;36m3\u001b[0m is all in one bin in iter \u001b[1;36m1\u001b[0m -- picking next-biggest  \u001b]8;id=25014;file:///home/jd/research/reweighting/mr_toolkit/mr_toolkit/mr_toolkit/trajectory_analysis/traj_analysis.py\u001b\\\u001b[2mtraj_analysis.py\u001b[0m\u001b]8;;\u001b\\\u001b[2m:\u001b[0m\u001b]8;id=401060;file:///home/jd/research/reweighting/mr_toolkit/mr_toolkit/mr_toolkit/trajectory_analysis/traj_analysis.py#476\u001b\\\u001b[2m476\u001b[0m\u001b]8;;\u001b\\\n",
       "\u001b[2;36m           \u001b[0m         eigenvalue                                                                 \u001b[2m                    \u001b[0m\n"
      ]
     },
     "metadata": {},
     "output_type": "display_data"
    },
    {
     "data": {
      "text/html": [
       "<pre style=\"white-space:pre;overflow-x:auto;line-height:normal;font-family:Menlo,'DejaVu Sans Mono',consolas,'Courier New',monospace\"><span style=\"color: #7fbfbf; text-decoration-color: #7fbfbf\">           </span><span style=\"color: #800000; text-decoration-color: #800000\">WARNING </span> Stationary solution <span style=\"color: #008080; text-decoration-color: #008080; font-weight: bold\">4</span> is all in one bin in iter <span style=\"color: #008080; text-decoration-color: #008080; font-weight: bold\">1</span> -- picking next-biggest  <a href=\"file:///home/jd/research/reweighting/mr_toolkit/mr_toolkit/mr_toolkit/trajectory_analysis/traj_analysis.py\" target=\"_blank\"><span style=\"color: #7f7f7f; text-decoration-color: #7f7f7f\">traj_analysis.py</span></a><span style=\"color: #7f7f7f; text-decoration-color: #7f7f7f\">:</span><a href=\"file:///home/jd/research/reweighting/mr_toolkit/mr_toolkit/mr_toolkit/trajectory_analysis/traj_analysis.py#476\" target=\"_blank\"><span style=\"color: #7f7f7f; text-decoration-color: #7f7f7f\">476</span></a>\n",
       "<span style=\"color: #7fbfbf; text-decoration-color: #7fbfbf\">           </span>         eigenvalue                                                                 <span style=\"color: #7f7f7f; text-decoration-color: #7f7f7f\">                    </span>\n",
       "</pre>\n"
      ],
      "text/plain": [
       "\u001b[2;36m          \u001b[0m\u001b[2;36m \u001b[0m\u001b[31mWARNING \u001b[0m Stationary solution \u001b[1;36m4\u001b[0m is all in one bin in iter \u001b[1;36m1\u001b[0m -- picking next-biggest  \u001b]8;id=16375;file:///home/jd/research/reweighting/mr_toolkit/mr_toolkit/mr_toolkit/trajectory_analysis/traj_analysis.py\u001b\\\u001b[2mtraj_analysis.py\u001b[0m\u001b]8;;\u001b\\\u001b[2m:\u001b[0m\u001b]8;id=879248;file:///home/jd/research/reweighting/mr_toolkit/mr_toolkit/mr_toolkit/trajectory_analysis/traj_analysis.py#476\u001b\\\u001b[2m476\u001b[0m\u001b]8;;\u001b\\\n",
       "\u001b[2;36m           \u001b[0m         eigenvalue                                                                 \u001b[2m                    \u001b[0m\n"
      ]
     },
     "metadata": {},
     "output_type": "display_data"
    },
    {
     "data": {
      "text/html": [
       "<pre style=\"white-space:pre;overflow-x:auto;line-height:normal;font-family:Menlo,'DejaVu Sans Mono',consolas,'Courier New',monospace\"><span style=\"color: #7fbfbf; text-decoration-color: #7fbfbf\">           </span><span style=\"color: #800000; text-decoration-color: #800000\">WARNING </span> Stationary solution <span style=\"color: #008080; text-decoration-color: #008080; font-weight: bold\">5</span> is all in one bin in iter <span style=\"color: #008080; text-decoration-color: #008080; font-weight: bold\">1</span> -- picking next-biggest  <a href=\"file:///home/jd/research/reweighting/mr_toolkit/mr_toolkit/mr_toolkit/trajectory_analysis/traj_analysis.py\" target=\"_blank\"><span style=\"color: #7f7f7f; text-decoration-color: #7f7f7f\">traj_analysis.py</span></a><span style=\"color: #7f7f7f; text-decoration-color: #7f7f7f\">:</span><a href=\"file:///home/jd/research/reweighting/mr_toolkit/mr_toolkit/mr_toolkit/trajectory_analysis/traj_analysis.py#476\" target=\"_blank\"><span style=\"color: #7f7f7f; text-decoration-color: #7f7f7f\">476</span></a>\n",
       "<span style=\"color: #7fbfbf; text-decoration-color: #7fbfbf\">           </span>         eigenvalue                                                                 <span style=\"color: #7f7f7f; text-decoration-color: #7f7f7f\">                    </span>\n",
       "</pre>\n"
      ],
      "text/plain": [
       "\u001b[2;36m          \u001b[0m\u001b[2;36m \u001b[0m\u001b[31mWARNING \u001b[0m Stationary solution \u001b[1;36m5\u001b[0m is all in one bin in iter \u001b[1;36m1\u001b[0m -- picking next-biggest  \u001b]8;id=806231;file:///home/jd/research/reweighting/mr_toolkit/mr_toolkit/mr_toolkit/trajectory_analysis/traj_analysis.py\u001b\\\u001b[2mtraj_analysis.py\u001b[0m\u001b]8;;\u001b\\\u001b[2m:\u001b[0m\u001b]8;id=431691;file:///home/jd/research/reweighting/mr_toolkit/mr_toolkit/mr_toolkit/trajectory_analysis/traj_analysis.py#476\u001b\\\u001b[2m476\u001b[0m\u001b]8;;\u001b\\\n",
       "\u001b[2;36m           \u001b[0m         eigenvalue                                                                 \u001b[2m                    \u001b[0m\n"
      ]
     },
     "metadata": {},
     "output_type": "display_data"
    },
    {
     "data": {
      "text/html": [
       "<pre style=\"white-space:pre;overflow-x:auto;line-height:normal;font-family:Menlo,'DejaVu Sans Mono',consolas,'Courier New',monospace\"><span style=\"color: #7fbfbf; text-decoration-color: #7fbfbf\">           </span><span style=\"color: #800000; text-decoration-color: #800000\">WARNING </span> Stationary solution <span style=\"color: #008080; text-decoration-color: #008080; font-weight: bold\">6</span> is all in one bin in iter <span style=\"color: #008080; text-decoration-color: #008080; font-weight: bold\">1</span> -- picking next-biggest  <a href=\"file:///home/jd/research/reweighting/mr_toolkit/mr_toolkit/mr_toolkit/trajectory_analysis/traj_analysis.py\" target=\"_blank\"><span style=\"color: #7f7f7f; text-decoration-color: #7f7f7f\">traj_analysis.py</span></a><span style=\"color: #7f7f7f; text-decoration-color: #7f7f7f\">:</span><a href=\"file:///home/jd/research/reweighting/mr_toolkit/mr_toolkit/mr_toolkit/trajectory_analysis/traj_analysis.py#476\" target=\"_blank\"><span style=\"color: #7f7f7f; text-decoration-color: #7f7f7f\">476</span></a>\n",
       "<span style=\"color: #7fbfbf; text-decoration-color: #7fbfbf\">           </span>         eigenvalue                                                                 <span style=\"color: #7f7f7f; text-decoration-color: #7f7f7f\">                    </span>\n",
       "</pre>\n"
      ],
      "text/plain": [
       "\u001b[2;36m          \u001b[0m\u001b[2;36m \u001b[0m\u001b[31mWARNING \u001b[0m Stationary solution \u001b[1;36m6\u001b[0m is all in one bin in iter \u001b[1;36m1\u001b[0m -- picking next-biggest  \u001b]8;id=633589;file:///home/jd/research/reweighting/mr_toolkit/mr_toolkit/mr_toolkit/trajectory_analysis/traj_analysis.py\u001b\\\u001b[2mtraj_analysis.py\u001b[0m\u001b]8;;\u001b\\\u001b[2m:\u001b[0m\u001b]8;id=856172;file:///home/jd/research/reweighting/mr_toolkit/mr_toolkit/mr_toolkit/trajectory_analysis/traj_analysis.py#476\u001b\\\u001b[2m476\u001b[0m\u001b]8;;\u001b\\\n",
       "\u001b[2;36m           \u001b[0m         eigenvalue                                                                 \u001b[2m                    \u001b[0m\n"
      ]
     },
     "metadata": {},
     "output_type": "display_data"
    },
    {
     "data": {
      "text/html": [
       "<pre style=\"white-space:pre;overflow-x:auto;line-height:normal;font-family:Menlo,'DejaVu Sans Mono',consolas,'Courier New',monospace\"><span style=\"color: #7fbfbf; text-decoration-color: #7fbfbf\">           </span><span style=\"color: #800000; text-decoration-color: #800000\">WARNING </span> Stationary solution <span style=\"color: #008080; text-decoration-color: #008080; font-weight: bold\">7</span> is all in one bin in iter <span style=\"color: #008080; text-decoration-color: #008080; font-weight: bold\">1</span> -- picking next-biggest  <a href=\"file:///home/jd/research/reweighting/mr_toolkit/mr_toolkit/mr_toolkit/trajectory_analysis/traj_analysis.py\" target=\"_blank\"><span style=\"color: #7f7f7f; text-decoration-color: #7f7f7f\">traj_analysis.py</span></a><span style=\"color: #7f7f7f; text-decoration-color: #7f7f7f\">:</span><a href=\"file:///home/jd/research/reweighting/mr_toolkit/mr_toolkit/mr_toolkit/trajectory_analysis/traj_analysis.py#476\" target=\"_blank\"><span style=\"color: #7f7f7f; text-decoration-color: #7f7f7f\">476</span></a>\n",
       "<span style=\"color: #7fbfbf; text-decoration-color: #7fbfbf\">           </span>         eigenvalue                                                                 <span style=\"color: #7f7f7f; text-decoration-color: #7f7f7f\">                    </span>\n",
       "</pre>\n"
      ],
      "text/plain": [
       "\u001b[2;36m          \u001b[0m\u001b[2;36m \u001b[0m\u001b[31mWARNING \u001b[0m Stationary solution \u001b[1;36m7\u001b[0m is all in one bin in iter \u001b[1;36m1\u001b[0m -- picking next-biggest  \u001b]8;id=44320;file:///home/jd/research/reweighting/mr_toolkit/mr_toolkit/mr_toolkit/trajectory_analysis/traj_analysis.py\u001b\\\u001b[2mtraj_analysis.py\u001b[0m\u001b]8;;\u001b\\\u001b[2m:\u001b[0m\u001b]8;id=832800;file:///home/jd/research/reweighting/mr_toolkit/mr_toolkit/mr_toolkit/trajectory_analysis/traj_analysis.py#476\u001b\\\u001b[2m476\u001b[0m\u001b]8;;\u001b\\\n",
       "\u001b[2;36m           \u001b[0m         eigenvalue                                                                 \u001b[2m                    \u001b[0m\n"
      ]
     },
     "metadata": {},
     "output_type": "display_data"
    },
    {
     "data": {
      "text/html": [
       "<pre style=\"white-space:pre;overflow-x:auto;line-height:normal;font-family:Menlo,'DejaVu Sans Mono',consolas,'Courier New',monospace\"><span style=\"color: #7fbfbf; text-decoration-color: #7fbfbf\">           </span><span style=\"color: #800000; text-decoration-color: #800000\">WARNING </span> Stationary solution <span style=\"color: #008080; text-decoration-color: #008080; font-weight: bold\">8</span> is all in one bin in iter <span style=\"color: #008080; text-decoration-color: #008080; font-weight: bold\">1</span> -- picking next-biggest  <a href=\"file:///home/jd/research/reweighting/mr_toolkit/mr_toolkit/mr_toolkit/trajectory_analysis/traj_analysis.py\" target=\"_blank\"><span style=\"color: #7f7f7f; text-decoration-color: #7f7f7f\">traj_analysis.py</span></a><span style=\"color: #7f7f7f; text-decoration-color: #7f7f7f\">:</span><a href=\"file:///home/jd/research/reweighting/mr_toolkit/mr_toolkit/mr_toolkit/trajectory_analysis/traj_analysis.py#476\" target=\"_blank\"><span style=\"color: #7f7f7f; text-decoration-color: #7f7f7f\">476</span></a>\n",
       "<span style=\"color: #7fbfbf; text-decoration-color: #7fbfbf\">           </span>         eigenvalue                                                                 <span style=\"color: #7f7f7f; text-decoration-color: #7f7f7f\">                    </span>\n",
       "</pre>\n"
      ],
      "text/plain": [
       "\u001b[2;36m          \u001b[0m\u001b[2;36m \u001b[0m\u001b[31mWARNING \u001b[0m Stationary solution \u001b[1;36m8\u001b[0m is all in one bin in iter \u001b[1;36m1\u001b[0m -- picking next-biggest  \u001b]8;id=434032;file:///home/jd/research/reweighting/mr_toolkit/mr_toolkit/mr_toolkit/trajectory_analysis/traj_analysis.py\u001b\\\u001b[2mtraj_analysis.py\u001b[0m\u001b]8;;\u001b\\\u001b[2m:\u001b[0m\u001b]8;id=626125;file:///home/jd/research/reweighting/mr_toolkit/mr_toolkit/mr_toolkit/trajectory_analysis/traj_analysis.py#476\u001b\\\u001b[2m476\u001b[0m\u001b]8;;\u001b\\\n",
       "\u001b[2;36m           \u001b[0m         eigenvalue                                                                 \u001b[2m                    \u001b[0m\n"
      ]
     },
     "metadata": {},
     "output_type": "display_data"
    },
    {
     "data": {
      "text/html": [
       "<pre style=\"white-space:pre;overflow-x:auto;line-height:normal;font-family:Menlo,'DejaVu Sans Mono',consolas,'Courier New',monospace\"><span style=\"color: #7fbfbf; text-decoration-color: #7fbfbf\">           </span><span style=\"color: #800000; text-decoration-color: #800000\">WARNING </span> Stationary solution <span style=\"color: #008080; text-decoration-color: #008080; font-weight: bold\">9</span> is all in one bin in iter <span style=\"color: #008080; text-decoration-color: #008080; font-weight: bold\">1</span> -- picking next-biggest  <a href=\"file:///home/jd/research/reweighting/mr_toolkit/mr_toolkit/mr_toolkit/trajectory_analysis/traj_analysis.py\" target=\"_blank\"><span style=\"color: #7f7f7f; text-decoration-color: #7f7f7f\">traj_analysis.py</span></a><span style=\"color: #7f7f7f; text-decoration-color: #7f7f7f\">:</span><a href=\"file:///home/jd/research/reweighting/mr_toolkit/mr_toolkit/mr_toolkit/trajectory_analysis/traj_analysis.py#476\" target=\"_blank\"><span style=\"color: #7f7f7f; text-decoration-color: #7f7f7f\">476</span></a>\n",
       "<span style=\"color: #7fbfbf; text-decoration-color: #7fbfbf\">           </span>         eigenvalue                                                                 <span style=\"color: #7f7f7f; text-decoration-color: #7f7f7f\">                    </span>\n",
       "</pre>\n"
      ],
      "text/plain": [
       "\u001b[2;36m          \u001b[0m\u001b[2;36m \u001b[0m\u001b[31mWARNING \u001b[0m Stationary solution \u001b[1;36m9\u001b[0m is all in one bin in iter \u001b[1;36m1\u001b[0m -- picking next-biggest  \u001b]8;id=887321;file:///home/jd/research/reweighting/mr_toolkit/mr_toolkit/mr_toolkit/trajectory_analysis/traj_analysis.py\u001b\\\u001b[2mtraj_analysis.py\u001b[0m\u001b]8;;\u001b\\\u001b[2m:\u001b[0m\u001b]8;id=895449;file:///home/jd/research/reweighting/mr_toolkit/mr_toolkit/mr_toolkit/trajectory_analysis/traj_analysis.py#476\u001b\\\u001b[2m476\u001b[0m\u001b]8;;\u001b\\\n",
       "\u001b[2;36m           \u001b[0m         eigenvalue                                                                 \u001b[2m                    \u001b[0m\n"
      ]
     },
     "metadata": {},
     "output_type": "display_data"
    },
    {
     "data": {
      "text/html": [
       "<pre style=\"white-space:pre;overflow-x:auto;line-height:normal;font-family:Menlo,'DejaVu Sans Mono',consolas,'Courier New',monospace\"><span style=\"color: #7fbfbf; text-decoration-color: #7fbfbf\">           </span><span style=\"color: #800000; text-decoration-color: #800000\">WARNING </span> Stationary solution <span style=\"color: #008080; text-decoration-color: #008080; font-weight: bold\">10</span> is all in one bin in iter <span style=\"color: #008080; text-decoration-color: #008080; font-weight: bold\">1</span> -- picking next-biggest <a href=\"file:///home/jd/research/reweighting/mr_toolkit/mr_toolkit/mr_toolkit/trajectory_analysis/traj_analysis.py\" target=\"_blank\"><span style=\"color: #7f7f7f; text-decoration-color: #7f7f7f\">traj_analysis.py</span></a><span style=\"color: #7f7f7f; text-decoration-color: #7f7f7f\">:</span><a href=\"file:///home/jd/research/reweighting/mr_toolkit/mr_toolkit/mr_toolkit/trajectory_analysis/traj_analysis.py#476\" target=\"_blank\"><span style=\"color: #7f7f7f; text-decoration-color: #7f7f7f\">476</span></a>\n",
       "<span style=\"color: #7fbfbf; text-decoration-color: #7fbfbf\">           </span>         eigenvalue                                                                 <span style=\"color: #7f7f7f; text-decoration-color: #7f7f7f\">                    </span>\n",
       "</pre>\n"
      ],
      "text/plain": [
       "\u001b[2;36m          \u001b[0m\u001b[2;36m \u001b[0m\u001b[31mWARNING \u001b[0m Stationary solution \u001b[1;36m10\u001b[0m is all in one bin in iter \u001b[1;36m1\u001b[0m -- picking next-biggest \u001b]8;id=592108;file:///home/jd/research/reweighting/mr_toolkit/mr_toolkit/mr_toolkit/trajectory_analysis/traj_analysis.py\u001b\\\u001b[2mtraj_analysis.py\u001b[0m\u001b]8;;\u001b\\\u001b[2m:\u001b[0m\u001b]8;id=520716;file:///home/jd/research/reweighting/mr_toolkit/mr_toolkit/mr_toolkit/trajectory_analysis/traj_analysis.py#476\u001b\\\u001b[2m476\u001b[0m\u001b]8;;\u001b\\\n",
       "\u001b[2;36m           \u001b[0m         eigenvalue                                                                 \u001b[2m                    \u001b[0m\n"
      ]
     },
     "metadata": {},
     "output_type": "display_data"
    },
    {
     "data": {
      "text/html": [
       "<pre style=\"white-space:pre;overflow-x:auto;line-height:normal;font-family:Menlo,'DejaVu Sans Mono',consolas,'Courier New',monospace\"><span style=\"color: #7fbfbf; text-decoration-color: #7fbfbf\">           </span><span style=\"color: #800000; text-decoration-color: #800000\">WARNING </span> Stationary solution <span style=\"color: #008080; text-decoration-color: #008080; font-weight: bold\">11</span> is all in one bin in iter <span style=\"color: #008080; text-decoration-color: #008080; font-weight: bold\">1</span> -- picking next-biggest <a href=\"file:///home/jd/research/reweighting/mr_toolkit/mr_toolkit/mr_toolkit/trajectory_analysis/traj_analysis.py\" target=\"_blank\"><span style=\"color: #7f7f7f; text-decoration-color: #7f7f7f\">traj_analysis.py</span></a><span style=\"color: #7f7f7f; text-decoration-color: #7f7f7f\">:</span><a href=\"file:///home/jd/research/reweighting/mr_toolkit/mr_toolkit/mr_toolkit/trajectory_analysis/traj_analysis.py#476\" target=\"_blank\"><span style=\"color: #7f7f7f; text-decoration-color: #7f7f7f\">476</span></a>\n",
       "<span style=\"color: #7fbfbf; text-decoration-color: #7fbfbf\">           </span>         eigenvalue                                                                 <span style=\"color: #7f7f7f; text-decoration-color: #7f7f7f\">                    </span>\n",
       "</pre>\n"
      ],
      "text/plain": [
       "\u001b[2;36m          \u001b[0m\u001b[2;36m \u001b[0m\u001b[31mWARNING \u001b[0m Stationary solution \u001b[1;36m11\u001b[0m is all in one bin in iter \u001b[1;36m1\u001b[0m -- picking next-biggest \u001b]8;id=8007;file:///home/jd/research/reweighting/mr_toolkit/mr_toolkit/mr_toolkit/trajectory_analysis/traj_analysis.py\u001b\\\u001b[2mtraj_analysis.py\u001b[0m\u001b]8;;\u001b\\\u001b[2m:\u001b[0m\u001b]8;id=619759;file:///home/jd/research/reweighting/mr_toolkit/mr_toolkit/mr_toolkit/trajectory_analysis/traj_analysis.py#476\u001b\\\u001b[2m476\u001b[0m\u001b]8;;\u001b\\\n",
       "\u001b[2;36m           \u001b[0m         eigenvalue                                                                 \u001b[2m                    \u001b[0m\n"
      ]
     },
     "metadata": {},
     "output_type": "display_data"
    },
    {
     "data": {
      "text/html": [
       "<pre style=\"white-space:pre;overflow-x:auto;line-height:normal;font-family:Menlo,'DejaVu Sans Mono',consolas,'Courier New',monospace\"><span style=\"color: #7fbfbf; text-decoration-color: #7fbfbf\">           </span><span style=\"color: #800000; text-decoration-color: #800000\">WARNING </span> Stationary solution <span style=\"color: #008080; text-decoration-color: #008080; font-weight: bold\">12</span> is all in one bin in iter <span style=\"color: #008080; text-decoration-color: #008080; font-weight: bold\">1</span> -- picking next-biggest <a href=\"file:///home/jd/research/reweighting/mr_toolkit/mr_toolkit/mr_toolkit/trajectory_analysis/traj_analysis.py\" target=\"_blank\"><span style=\"color: #7f7f7f; text-decoration-color: #7f7f7f\">traj_analysis.py</span></a><span style=\"color: #7f7f7f; text-decoration-color: #7f7f7f\">:</span><a href=\"file:///home/jd/research/reweighting/mr_toolkit/mr_toolkit/mr_toolkit/trajectory_analysis/traj_analysis.py#476\" target=\"_blank\"><span style=\"color: #7f7f7f; text-decoration-color: #7f7f7f\">476</span></a>\n",
       "<span style=\"color: #7fbfbf; text-decoration-color: #7fbfbf\">           </span>         eigenvalue                                                                 <span style=\"color: #7f7f7f; text-decoration-color: #7f7f7f\">                    </span>\n",
       "</pre>\n"
      ],
      "text/plain": [
       "\u001b[2;36m          \u001b[0m\u001b[2;36m \u001b[0m\u001b[31mWARNING \u001b[0m Stationary solution \u001b[1;36m12\u001b[0m is all in one bin in iter \u001b[1;36m1\u001b[0m -- picking next-biggest \u001b]8;id=406838;file:///home/jd/research/reweighting/mr_toolkit/mr_toolkit/mr_toolkit/trajectory_analysis/traj_analysis.py\u001b\\\u001b[2mtraj_analysis.py\u001b[0m\u001b]8;;\u001b\\\u001b[2m:\u001b[0m\u001b]8;id=92809;file:///home/jd/research/reweighting/mr_toolkit/mr_toolkit/mr_toolkit/trajectory_analysis/traj_analysis.py#476\u001b\\\u001b[2m476\u001b[0m\u001b]8;;\u001b\\\n",
       "\u001b[2;36m           \u001b[0m         eigenvalue                                                                 \u001b[2m                    \u001b[0m\n"
      ]
     },
     "metadata": {},
     "output_type": "display_data"
    },
    {
     "data": {
      "text/html": [
       "<pre style=\"white-space:pre;overflow-x:auto;line-height:normal;font-family:Menlo,'DejaVu Sans Mono',consolas,'Courier New',monospace\"><span style=\"color: #7fbfbf; text-decoration-color: #7fbfbf\">           </span><span style=\"color: #800000; text-decoration-color: #800000\">WARNING </span> Stationary solution <span style=\"color: #008080; text-decoration-color: #008080; font-weight: bold\">13</span> is all in one bin in iter <span style=\"color: #008080; text-decoration-color: #008080; font-weight: bold\">1</span> -- picking next-biggest <a href=\"file:///home/jd/research/reweighting/mr_toolkit/mr_toolkit/mr_toolkit/trajectory_analysis/traj_analysis.py\" target=\"_blank\"><span style=\"color: #7f7f7f; text-decoration-color: #7f7f7f\">traj_analysis.py</span></a><span style=\"color: #7f7f7f; text-decoration-color: #7f7f7f\">:</span><a href=\"file:///home/jd/research/reweighting/mr_toolkit/mr_toolkit/mr_toolkit/trajectory_analysis/traj_analysis.py#476\" target=\"_blank\"><span style=\"color: #7f7f7f; text-decoration-color: #7f7f7f\">476</span></a>\n",
       "<span style=\"color: #7fbfbf; text-decoration-color: #7fbfbf\">           </span>         eigenvalue                                                                 <span style=\"color: #7f7f7f; text-decoration-color: #7f7f7f\">                    </span>\n",
       "</pre>\n"
      ],
      "text/plain": [
       "\u001b[2;36m          \u001b[0m\u001b[2;36m \u001b[0m\u001b[31mWARNING \u001b[0m Stationary solution \u001b[1;36m13\u001b[0m is all in one bin in iter \u001b[1;36m1\u001b[0m -- picking next-biggest \u001b]8;id=518741;file:///home/jd/research/reweighting/mr_toolkit/mr_toolkit/mr_toolkit/trajectory_analysis/traj_analysis.py\u001b\\\u001b[2mtraj_analysis.py\u001b[0m\u001b]8;;\u001b\\\u001b[2m:\u001b[0m\u001b]8;id=873029;file:///home/jd/research/reweighting/mr_toolkit/mr_toolkit/mr_toolkit/trajectory_analysis/traj_analysis.py#476\u001b\\\u001b[2m476\u001b[0m\u001b]8;;\u001b\\\n",
       "\u001b[2;36m           \u001b[0m         eigenvalue                                                                 \u001b[2m                    \u001b[0m\n"
      ]
     },
     "metadata": {},
     "output_type": "display_data"
    },
    {
     "data": {
      "text/html": [
       "<pre style=\"white-space:pre;overflow-x:auto;line-height:normal;font-family:Menlo,'DejaVu Sans Mono',consolas,'Courier New',monospace\"><span style=\"color: #7fbfbf; text-decoration-color: #7fbfbf\">           </span><span style=\"color: #800000; text-decoration-color: #800000\">WARNING </span> Stationary solution <span style=\"color: #008080; text-decoration-color: #008080; font-weight: bold\">14</span> is all in one bin in iter <span style=\"color: #008080; text-decoration-color: #008080; font-weight: bold\">1</span> -- picking next-biggest <a href=\"file:///home/jd/research/reweighting/mr_toolkit/mr_toolkit/mr_toolkit/trajectory_analysis/traj_analysis.py\" target=\"_blank\"><span style=\"color: #7f7f7f; text-decoration-color: #7f7f7f\">traj_analysis.py</span></a><span style=\"color: #7f7f7f; text-decoration-color: #7f7f7f\">:</span><a href=\"file:///home/jd/research/reweighting/mr_toolkit/mr_toolkit/mr_toolkit/trajectory_analysis/traj_analysis.py#476\" target=\"_blank\"><span style=\"color: #7f7f7f; text-decoration-color: #7f7f7f\">476</span></a>\n",
       "<span style=\"color: #7fbfbf; text-decoration-color: #7fbfbf\">           </span>         eigenvalue                                                                 <span style=\"color: #7f7f7f; text-decoration-color: #7f7f7f\">                    </span>\n",
       "</pre>\n"
      ],
      "text/plain": [
       "\u001b[2;36m          \u001b[0m\u001b[2;36m \u001b[0m\u001b[31mWARNING \u001b[0m Stationary solution \u001b[1;36m14\u001b[0m is all in one bin in iter \u001b[1;36m1\u001b[0m -- picking next-biggest \u001b]8;id=769591;file:///home/jd/research/reweighting/mr_toolkit/mr_toolkit/mr_toolkit/trajectory_analysis/traj_analysis.py\u001b\\\u001b[2mtraj_analysis.py\u001b[0m\u001b]8;;\u001b\\\u001b[2m:\u001b[0m\u001b]8;id=412462;file:///home/jd/research/reweighting/mr_toolkit/mr_toolkit/mr_toolkit/trajectory_analysis/traj_analysis.py#476\u001b\\\u001b[2m476\u001b[0m\u001b]8;;\u001b\\\n",
       "\u001b[2;36m           \u001b[0m         eigenvalue                                                                 \u001b[2m                    \u001b[0m\n"
      ]
     },
     "metadata": {},
     "output_type": "display_data"
    },
    {
     "data": {
      "text/html": [
       "<pre style=\"white-space:pre;overflow-x:auto;line-height:normal;font-family:Menlo,'DejaVu Sans Mono',consolas,'Courier New',monospace\"><span style=\"color: #7fbfbf; text-decoration-color: #7fbfbf\">           </span><span style=\"color: #800000; text-decoration-color: #800000\">WARNING </span> Stationary solution <span style=\"color: #008080; text-decoration-color: #008080; font-weight: bold\">15</span> is all in one bin in iter <span style=\"color: #008080; text-decoration-color: #008080; font-weight: bold\">1</span> -- picking next-biggest <a href=\"file:///home/jd/research/reweighting/mr_toolkit/mr_toolkit/mr_toolkit/trajectory_analysis/traj_analysis.py\" target=\"_blank\"><span style=\"color: #7f7f7f; text-decoration-color: #7f7f7f\">traj_analysis.py</span></a><span style=\"color: #7f7f7f; text-decoration-color: #7f7f7f\">:</span><a href=\"file:///home/jd/research/reweighting/mr_toolkit/mr_toolkit/mr_toolkit/trajectory_analysis/traj_analysis.py#476\" target=\"_blank\"><span style=\"color: #7f7f7f; text-decoration-color: #7f7f7f\">476</span></a>\n",
       "<span style=\"color: #7fbfbf; text-decoration-color: #7fbfbf\">           </span>         eigenvalue                                                                 <span style=\"color: #7f7f7f; text-decoration-color: #7f7f7f\">                    </span>\n",
       "</pre>\n"
      ],
      "text/plain": [
       "\u001b[2;36m          \u001b[0m\u001b[2;36m \u001b[0m\u001b[31mWARNING \u001b[0m Stationary solution \u001b[1;36m15\u001b[0m is all in one bin in iter \u001b[1;36m1\u001b[0m -- picking next-biggest \u001b]8;id=674320;file:///home/jd/research/reweighting/mr_toolkit/mr_toolkit/mr_toolkit/trajectory_analysis/traj_analysis.py\u001b\\\u001b[2mtraj_analysis.py\u001b[0m\u001b]8;;\u001b\\\u001b[2m:\u001b[0m\u001b]8;id=427353;file:///home/jd/research/reweighting/mr_toolkit/mr_toolkit/mr_toolkit/trajectory_analysis/traj_analysis.py#476\u001b\\\u001b[2m476\u001b[0m\u001b]8;;\u001b\\\n",
       "\u001b[2;36m           \u001b[0m         eigenvalue                                                                 \u001b[2m                    \u001b[0m\n"
      ]
     },
     "metadata": {},
     "output_type": "display_data"
    },
    {
     "data": {
      "text/html": [
       "<pre style=\"white-space:pre;overflow-x:auto;line-height:normal;font-family:Menlo,'DejaVu Sans Mono',consolas,'Courier New',monospace\"><span style=\"color: #7fbfbf; text-decoration-color: #7fbfbf\">           </span><span style=\"color: #800000; text-decoration-color: #800000\">WARNING </span> Stationary solution <span style=\"color: #008080; text-decoration-color: #008080; font-weight: bold\">16</span> is all in one bin in iter <span style=\"color: #008080; text-decoration-color: #008080; font-weight: bold\">1</span> -- picking next-biggest <a href=\"file:///home/jd/research/reweighting/mr_toolkit/mr_toolkit/mr_toolkit/trajectory_analysis/traj_analysis.py\" target=\"_blank\"><span style=\"color: #7f7f7f; text-decoration-color: #7f7f7f\">traj_analysis.py</span></a><span style=\"color: #7f7f7f; text-decoration-color: #7f7f7f\">:</span><a href=\"file:///home/jd/research/reweighting/mr_toolkit/mr_toolkit/mr_toolkit/trajectory_analysis/traj_analysis.py#476\" target=\"_blank\"><span style=\"color: #7f7f7f; text-decoration-color: #7f7f7f\">476</span></a>\n",
       "<span style=\"color: #7fbfbf; text-decoration-color: #7fbfbf\">           </span>         eigenvalue                                                                 <span style=\"color: #7f7f7f; text-decoration-color: #7f7f7f\">                    </span>\n",
       "</pre>\n"
      ],
      "text/plain": [
       "\u001b[2;36m          \u001b[0m\u001b[2;36m \u001b[0m\u001b[31mWARNING \u001b[0m Stationary solution \u001b[1;36m16\u001b[0m is all in one bin in iter \u001b[1;36m1\u001b[0m -- picking next-biggest \u001b]8;id=864199;file:///home/jd/research/reweighting/mr_toolkit/mr_toolkit/mr_toolkit/trajectory_analysis/traj_analysis.py\u001b\\\u001b[2mtraj_analysis.py\u001b[0m\u001b]8;;\u001b\\\u001b[2m:\u001b[0m\u001b]8;id=832891;file:///home/jd/research/reweighting/mr_toolkit/mr_toolkit/mr_toolkit/trajectory_analysis/traj_analysis.py#476\u001b\\\u001b[2m476\u001b[0m\u001b]8;;\u001b\\\n",
       "\u001b[2;36m           \u001b[0m         eigenvalue                                                                 \u001b[2m                    \u001b[0m\n"
      ]
     },
     "metadata": {},
     "output_type": "display_data"
    },
    {
     "data": {
      "text/html": [
       "<pre style=\"white-space:pre;overflow-x:auto;line-height:normal;font-family:Menlo,'DejaVu Sans Mono',consolas,'Courier New',monospace\"><span style=\"color: #7fbfbf; text-decoration-color: #7fbfbf\">           </span><span style=\"color: #800000; text-decoration-color: #800000\">WARNING </span> Stationary solution <span style=\"color: #008080; text-decoration-color: #008080; font-weight: bold\">17</span> is all in one bin in iter <span style=\"color: #008080; text-decoration-color: #008080; font-weight: bold\">1</span> -- picking next-biggest <a href=\"file:///home/jd/research/reweighting/mr_toolkit/mr_toolkit/mr_toolkit/trajectory_analysis/traj_analysis.py\" target=\"_blank\"><span style=\"color: #7f7f7f; text-decoration-color: #7f7f7f\">traj_analysis.py</span></a><span style=\"color: #7f7f7f; text-decoration-color: #7f7f7f\">:</span><a href=\"file:///home/jd/research/reweighting/mr_toolkit/mr_toolkit/mr_toolkit/trajectory_analysis/traj_analysis.py#476\" target=\"_blank\"><span style=\"color: #7f7f7f; text-decoration-color: #7f7f7f\">476</span></a>\n",
       "<span style=\"color: #7fbfbf; text-decoration-color: #7fbfbf\">           </span>         eigenvalue                                                                 <span style=\"color: #7f7f7f; text-decoration-color: #7f7f7f\">                    </span>\n",
       "</pre>\n"
      ],
      "text/plain": [
       "\u001b[2;36m          \u001b[0m\u001b[2;36m \u001b[0m\u001b[31mWARNING \u001b[0m Stationary solution \u001b[1;36m17\u001b[0m is all in one bin in iter \u001b[1;36m1\u001b[0m -- picking next-biggest \u001b]8;id=548704;file:///home/jd/research/reweighting/mr_toolkit/mr_toolkit/mr_toolkit/trajectory_analysis/traj_analysis.py\u001b\\\u001b[2mtraj_analysis.py\u001b[0m\u001b]8;;\u001b\\\u001b[2m:\u001b[0m\u001b]8;id=148503;file:///home/jd/research/reweighting/mr_toolkit/mr_toolkit/mr_toolkit/trajectory_analysis/traj_analysis.py#476\u001b\\\u001b[2m476\u001b[0m\u001b]8;;\u001b\\\n",
       "\u001b[2;36m           \u001b[0m         eigenvalue                                                                 \u001b[2m                    \u001b[0m\n"
      ]
     },
     "metadata": {},
     "output_type": "display_data"
    },
    {
     "data": {
      "text/html": [
       "<pre style=\"white-space:pre;overflow-x:auto;line-height:normal;font-family:Menlo,'DejaVu Sans Mono',consolas,'Courier New',monospace\"><span style=\"color: #7fbfbf; text-decoration-color: #7fbfbf\">           </span><span style=\"color: #800000; text-decoration-color: #800000\">WARNING </span> Stationary solution <span style=\"color: #008080; text-decoration-color: #008080; font-weight: bold\">18</span> is all in one bin in iter <span style=\"color: #008080; text-decoration-color: #008080; font-weight: bold\">1</span> -- picking next-biggest <a href=\"file:///home/jd/research/reweighting/mr_toolkit/mr_toolkit/mr_toolkit/trajectory_analysis/traj_analysis.py\" target=\"_blank\"><span style=\"color: #7f7f7f; text-decoration-color: #7f7f7f\">traj_analysis.py</span></a><span style=\"color: #7f7f7f; text-decoration-color: #7f7f7f\">:</span><a href=\"file:///home/jd/research/reweighting/mr_toolkit/mr_toolkit/mr_toolkit/trajectory_analysis/traj_analysis.py#476\" target=\"_blank\"><span style=\"color: #7f7f7f; text-decoration-color: #7f7f7f\">476</span></a>\n",
       "<span style=\"color: #7fbfbf; text-decoration-color: #7fbfbf\">           </span>         eigenvalue                                                                 <span style=\"color: #7f7f7f; text-decoration-color: #7f7f7f\">                    </span>\n",
       "</pre>\n"
      ],
      "text/plain": [
       "\u001b[2;36m          \u001b[0m\u001b[2;36m \u001b[0m\u001b[31mWARNING \u001b[0m Stationary solution \u001b[1;36m18\u001b[0m is all in one bin in iter \u001b[1;36m1\u001b[0m -- picking next-biggest \u001b]8;id=892016;file:///home/jd/research/reweighting/mr_toolkit/mr_toolkit/mr_toolkit/trajectory_analysis/traj_analysis.py\u001b\\\u001b[2mtraj_analysis.py\u001b[0m\u001b]8;;\u001b\\\u001b[2m:\u001b[0m\u001b]8;id=14929;file:///home/jd/research/reweighting/mr_toolkit/mr_toolkit/mr_toolkit/trajectory_analysis/traj_analysis.py#476\u001b\\\u001b[2m476\u001b[0m\u001b]8;;\u001b\\\n",
       "\u001b[2;36m           \u001b[0m         eigenvalue                                                                 \u001b[2m                    \u001b[0m\n"
      ]
     },
     "metadata": {},
     "output_type": "display_data"
    },
    {
     "data": {
      "text/html": [
       "<pre style=\"white-space:pre;overflow-x:auto;line-height:normal;font-family:Menlo,'DejaVu Sans Mono',consolas,'Courier New',monospace\"><span style=\"color: #7fbfbf; text-decoration-color: #7fbfbf\">           </span><span style=\"color: #800000; text-decoration-color: #800000\">WARNING </span> Stationary solution <span style=\"color: #008080; text-decoration-color: #008080; font-weight: bold\">19</span> is not positive semidefinite, trying the next one   <a href=\"file:///home/jd/research/reweighting/mr_toolkit/mr_toolkit/mr_toolkit/trajectory_analysis/traj_analysis.py\" target=\"_blank\"><span style=\"color: #7f7f7f; text-decoration-color: #7f7f7f\">traj_analysis.py</span></a><span style=\"color: #7f7f7f; text-decoration-color: #7f7f7f\">:</span><a href=\"file:///home/jd/research/reweighting/mr_toolkit/mr_toolkit/mr_toolkit/trajectory_analysis/traj_analysis.py#478\" target=\"_blank\"><span style=\"color: #7f7f7f; text-decoration-color: #7f7f7f\">478</span></a>\n",
       "</pre>\n"
      ],
      "text/plain": [
       "\u001b[2;36m          \u001b[0m\u001b[2;36m \u001b[0m\u001b[31mWARNING \u001b[0m Stationary solution \u001b[1;36m19\u001b[0m is not positive semidefinite, trying the next one   \u001b]8;id=333720;file:///home/jd/research/reweighting/mr_toolkit/mr_toolkit/mr_toolkit/trajectory_analysis/traj_analysis.py\u001b\\\u001b[2mtraj_analysis.py\u001b[0m\u001b]8;;\u001b\\\u001b[2m:\u001b[0m\u001b]8;id=363894;file:///home/jd/research/reweighting/mr_toolkit/mr_toolkit/mr_toolkit/trajectory_analysis/traj_analysis.py#478\u001b\\\u001b[2m478\u001b[0m\u001b]8;;\u001b\\\n"
      ]
     },
     "metadata": {},
     "output_type": "display_data"
    },
    {
     "data": {
      "text/html": [
       "<pre style=\"white-space:pre;overflow-x:auto;line-height:normal;font-family:Menlo,'DejaVu Sans Mono',consolas,'Courier New',monospace\"><span style=\"color: #7fbfbf; text-decoration-color: #7fbfbf\">           </span><span style=\"color: #800000; text-decoration-color: #800000\">WARNING </span> Stationary solution <span style=\"color: #008080; text-decoration-color: #008080; font-weight: bold\">20</span> is all in one bin in iter <span style=\"color: #008080; text-decoration-color: #008080; font-weight: bold\">1</span> -- picking next-biggest <a href=\"file:///home/jd/research/reweighting/mr_toolkit/mr_toolkit/mr_toolkit/trajectory_analysis/traj_analysis.py\" target=\"_blank\"><span style=\"color: #7f7f7f; text-decoration-color: #7f7f7f\">traj_analysis.py</span></a><span style=\"color: #7f7f7f; text-decoration-color: #7f7f7f\">:</span><a href=\"file:///home/jd/research/reweighting/mr_toolkit/mr_toolkit/mr_toolkit/trajectory_analysis/traj_analysis.py#476\" target=\"_blank\"><span style=\"color: #7f7f7f; text-decoration-color: #7f7f7f\">476</span></a>\n",
       "<span style=\"color: #7fbfbf; text-decoration-color: #7fbfbf\">           </span>         eigenvalue                                                                 <span style=\"color: #7f7f7f; text-decoration-color: #7f7f7f\">                    </span>\n",
       "</pre>\n"
      ],
      "text/plain": [
       "\u001b[2;36m          \u001b[0m\u001b[2;36m \u001b[0m\u001b[31mWARNING \u001b[0m Stationary solution \u001b[1;36m20\u001b[0m is all in one bin in iter \u001b[1;36m1\u001b[0m -- picking next-biggest \u001b]8;id=523977;file:///home/jd/research/reweighting/mr_toolkit/mr_toolkit/mr_toolkit/trajectory_analysis/traj_analysis.py\u001b\\\u001b[2mtraj_analysis.py\u001b[0m\u001b]8;;\u001b\\\u001b[2m:\u001b[0m\u001b]8;id=374775;file:///home/jd/research/reweighting/mr_toolkit/mr_toolkit/mr_toolkit/trajectory_analysis/traj_analysis.py#476\u001b\\\u001b[2m476\u001b[0m\u001b]8;;\u001b\\\n",
       "\u001b[2;36m           \u001b[0m         eigenvalue                                                                 \u001b[2m                    \u001b[0m\n"
      ]
     },
     "metadata": {},
     "output_type": "display_data"
    },
    {
     "data": {
      "text/html": [
       "<pre style=\"white-space:pre;overflow-x:auto;line-height:normal;font-family:Menlo,'DejaVu Sans Mono',consolas,'Courier New',monospace\"><span style=\"color: #7fbfbf; text-decoration-color: #7fbfbf\">           </span><span style=\"color: #800000; text-decoration-color: #800000\">WARNING </span> Stationary solution <span style=\"color: #008080; text-decoration-color: #008080; font-weight: bold\">21</span> is all in one bin in iter <span style=\"color: #008080; text-decoration-color: #008080; font-weight: bold\">1</span> -- picking next-biggest <a href=\"file:///home/jd/research/reweighting/mr_toolkit/mr_toolkit/mr_toolkit/trajectory_analysis/traj_analysis.py\" target=\"_blank\"><span style=\"color: #7f7f7f; text-decoration-color: #7f7f7f\">traj_analysis.py</span></a><span style=\"color: #7f7f7f; text-decoration-color: #7f7f7f\">:</span><a href=\"file:///home/jd/research/reweighting/mr_toolkit/mr_toolkit/mr_toolkit/trajectory_analysis/traj_analysis.py#476\" target=\"_blank\"><span style=\"color: #7f7f7f; text-decoration-color: #7f7f7f\">476</span></a>\n",
       "<span style=\"color: #7fbfbf; text-decoration-color: #7fbfbf\">           </span>         eigenvalue                                                                 <span style=\"color: #7f7f7f; text-decoration-color: #7f7f7f\">                    </span>\n",
       "</pre>\n"
      ],
      "text/plain": [
       "\u001b[2;36m          \u001b[0m\u001b[2;36m \u001b[0m\u001b[31mWARNING \u001b[0m Stationary solution \u001b[1;36m21\u001b[0m is all in one bin in iter \u001b[1;36m1\u001b[0m -- picking next-biggest \u001b]8;id=80371;file:///home/jd/research/reweighting/mr_toolkit/mr_toolkit/mr_toolkit/trajectory_analysis/traj_analysis.py\u001b\\\u001b[2mtraj_analysis.py\u001b[0m\u001b]8;;\u001b\\\u001b[2m:\u001b[0m\u001b]8;id=446943;file:///home/jd/research/reweighting/mr_toolkit/mr_toolkit/mr_toolkit/trajectory_analysis/traj_analysis.py#476\u001b\\\u001b[2m476\u001b[0m\u001b]8;;\u001b\\\n",
       "\u001b[2;36m           \u001b[0m         eigenvalue                                                                 \u001b[2m                    \u001b[0m\n"
      ]
     },
     "metadata": {},
     "output_type": "display_data"
    },
    {
     "data": {
      "text/html": [
       "<pre style=\"white-space:pre;overflow-x:auto;line-height:normal;font-family:Menlo,'DejaVu Sans Mono',consolas,'Courier New',monospace\"><span style=\"color: #7fbfbf; text-decoration-color: #7fbfbf\">           </span><span style=\"color: #800000; text-decoration-color: #800000\">WARNING </span> Stationary solution <span style=\"color: #008080; text-decoration-color: #008080; font-weight: bold\">22</span> is all in one bin in iter <span style=\"color: #008080; text-decoration-color: #008080; font-weight: bold\">1</span> -- picking next-biggest <a href=\"file:///home/jd/research/reweighting/mr_toolkit/mr_toolkit/mr_toolkit/trajectory_analysis/traj_analysis.py\" target=\"_blank\"><span style=\"color: #7f7f7f; text-decoration-color: #7f7f7f\">traj_analysis.py</span></a><span style=\"color: #7f7f7f; text-decoration-color: #7f7f7f\">:</span><a href=\"file:///home/jd/research/reweighting/mr_toolkit/mr_toolkit/mr_toolkit/trajectory_analysis/traj_analysis.py#476\" target=\"_blank\"><span style=\"color: #7f7f7f; text-decoration-color: #7f7f7f\">476</span></a>\n",
       "<span style=\"color: #7fbfbf; text-decoration-color: #7fbfbf\">           </span>         eigenvalue                                                                 <span style=\"color: #7f7f7f; text-decoration-color: #7f7f7f\">                    </span>\n",
       "</pre>\n"
      ],
      "text/plain": [
       "\u001b[2;36m          \u001b[0m\u001b[2;36m \u001b[0m\u001b[31mWARNING \u001b[0m Stationary solution \u001b[1;36m22\u001b[0m is all in one bin in iter \u001b[1;36m1\u001b[0m -- picking next-biggest \u001b]8;id=549496;file:///home/jd/research/reweighting/mr_toolkit/mr_toolkit/mr_toolkit/trajectory_analysis/traj_analysis.py\u001b\\\u001b[2mtraj_analysis.py\u001b[0m\u001b]8;;\u001b\\\u001b[2m:\u001b[0m\u001b]8;id=122530;file:///home/jd/research/reweighting/mr_toolkit/mr_toolkit/mr_toolkit/trajectory_analysis/traj_analysis.py#476\u001b\\\u001b[2m476\u001b[0m\u001b]8;;\u001b\\\n",
       "\u001b[2;36m           \u001b[0m         eigenvalue                                                                 \u001b[2m                    \u001b[0m\n"
      ]
     },
     "metadata": {},
     "output_type": "display_data"
    },
    {
     "data": {
      "text/html": [
       "<pre style=\"white-space:pre;overflow-x:auto;line-height:normal;font-family:Menlo,'DejaVu Sans Mono',consolas,'Courier New',monospace\"><span style=\"color: #7fbfbf; text-decoration-color: #7fbfbf\">           </span><span style=\"color: #800000; text-decoration-color: #800000\">WARNING </span> Stationary solution <span style=\"color: #008080; text-decoration-color: #008080; font-weight: bold\">23</span> is all in one bin in iter <span style=\"color: #008080; text-decoration-color: #008080; font-weight: bold\">1</span> -- picking next-biggest <a href=\"file:///home/jd/research/reweighting/mr_toolkit/mr_toolkit/mr_toolkit/trajectory_analysis/traj_analysis.py\" target=\"_blank\"><span style=\"color: #7f7f7f; text-decoration-color: #7f7f7f\">traj_analysis.py</span></a><span style=\"color: #7f7f7f; text-decoration-color: #7f7f7f\">:</span><a href=\"file:///home/jd/research/reweighting/mr_toolkit/mr_toolkit/mr_toolkit/trajectory_analysis/traj_analysis.py#476\" target=\"_blank\"><span style=\"color: #7f7f7f; text-decoration-color: #7f7f7f\">476</span></a>\n",
       "<span style=\"color: #7fbfbf; text-decoration-color: #7fbfbf\">           </span>         eigenvalue                                                                 <span style=\"color: #7f7f7f; text-decoration-color: #7f7f7f\">                    </span>\n",
       "</pre>\n"
      ],
      "text/plain": [
       "\u001b[2;36m          \u001b[0m\u001b[2;36m \u001b[0m\u001b[31mWARNING \u001b[0m Stationary solution \u001b[1;36m23\u001b[0m is all in one bin in iter \u001b[1;36m1\u001b[0m -- picking next-biggest \u001b]8;id=691271;file:///home/jd/research/reweighting/mr_toolkit/mr_toolkit/mr_toolkit/trajectory_analysis/traj_analysis.py\u001b\\\u001b[2mtraj_analysis.py\u001b[0m\u001b]8;;\u001b\\\u001b[2m:\u001b[0m\u001b]8;id=426873;file:///home/jd/research/reweighting/mr_toolkit/mr_toolkit/mr_toolkit/trajectory_analysis/traj_analysis.py#476\u001b\\\u001b[2m476\u001b[0m\u001b]8;;\u001b\\\n",
       "\u001b[2;36m           \u001b[0m         eigenvalue                                                                 \u001b[2m                    \u001b[0m\n"
      ]
     },
     "metadata": {},
     "output_type": "display_data"
    },
    {
     "data": {
      "text/html": [
       "<pre style=\"white-space:pre;overflow-x:auto;line-height:normal;font-family:Menlo,'DejaVu Sans Mono',consolas,'Courier New',monospace\"><span style=\"color: #7fbfbf; text-decoration-color: #7fbfbf\">           </span><span style=\"color: #800000; text-decoration-color: #800000\">WARNING </span> Stationary solution <span style=\"color: #008080; text-decoration-color: #008080; font-weight: bold\">24</span> is all in one bin in iter <span style=\"color: #008080; text-decoration-color: #008080; font-weight: bold\">1</span> -- picking next-biggest <a href=\"file:///home/jd/research/reweighting/mr_toolkit/mr_toolkit/mr_toolkit/trajectory_analysis/traj_analysis.py\" target=\"_blank\"><span style=\"color: #7f7f7f; text-decoration-color: #7f7f7f\">traj_analysis.py</span></a><span style=\"color: #7f7f7f; text-decoration-color: #7f7f7f\">:</span><a href=\"file:///home/jd/research/reweighting/mr_toolkit/mr_toolkit/mr_toolkit/trajectory_analysis/traj_analysis.py#476\" target=\"_blank\"><span style=\"color: #7f7f7f; text-decoration-color: #7f7f7f\">476</span></a>\n",
       "<span style=\"color: #7fbfbf; text-decoration-color: #7fbfbf\">           </span>         eigenvalue                                                                 <span style=\"color: #7f7f7f; text-decoration-color: #7f7f7f\">                    </span>\n",
       "</pre>\n"
      ],
      "text/plain": [
       "\u001b[2;36m          \u001b[0m\u001b[2;36m \u001b[0m\u001b[31mWARNING \u001b[0m Stationary solution \u001b[1;36m24\u001b[0m is all in one bin in iter \u001b[1;36m1\u001b[0m -- picking next-biggest \u001b]8;id=576400;file:///home/jd/research/reweighting/mr_toolkit/mr_toolkit/mr_toolkit/trajectory_analysis/traj_analysis.py\u001b\\\u001b[2mtraj_analysis.py\u001b[0m\u001b]8;;\u001b\\\u001b[2m:\u001b[0m\u001b]8;id=717608;file:///home/jd/research/reweighting/mr_toolkit/mr_toolkit/mr_toolkit/trajectory_analysis/traj_analysis.py#476\u001b\\\u001b[2m476\u001b[0m\u001b]8;;\u001b\\\n",
       "\u001b[2;36m           \u001b[0m         eigenvalue                                                                 \u001b[2m                    \u001b[0m\n"
      ]
     },
     "metadata": {},
     "output_type": "display_data"
    },
    {
     "data": {
      "text/html": [
       "<pre style=\"white-space:pre;overflow-x:auto;line-height:normal;font-family:Menlo,'DejaVu Sans Mono',consolas,'Courier New',monospace\"><span style=\"color: #7fbfbf; text-decoration-color: #7fbfbf\">           </span><span style=\"color: #800000; text-decoration-color: #800000\">WARNING </span> Stationary solution <span style=\"color: #008080; text-decoration-color: #008080; font-weight: bold\">25</span> is all in one bin in iter <span style=\"color: #008080; text-decoration-color: #008080; font-weight: bold\">1</span> -- picking next-biggest <a href=\"file:///home/jd/research/reweighting/mr_toolkit/mr_toolkit/mr_toolkit/trajectory_analysis/traj_analysis.py\" target=\"_blank\"><span style=\"color: #7f7f7f; text-decoration-color: #7f7f7f\">traj_analysis.py</span></a><span style=\"color: #7f7f7f; text-decoration-color: #7f7f7f\">:</span><a href=\"file:///home/jd/research/reweighting/mr_toolkit/mr_toolkit/mr_toolkit/trajectory_analysis/traj_analysis.py#476\" target=\"_blank\"><span style=\"color: #7f7f7f; text-decoration-color: #7f7f7f\">476</span></a>\n",
       "<span style=\"color: #7fbfbf; text-decoration-color: #7fbfbf\">           </span>         eigenvalue                                                                 <span style=\"color: #7f7f7f; text-decoration-color: #7f7f7f\">                    </span>\n",
       "</pre>\n"
      ],
      "text/plain": [
       "\u001b[2;36m          \u001b[0m\u001b[2;36m \u001b[0m\u001b[31mWARNING \u001b[0m Stationary solution \u001b[1;36m25\u001b[0m is all in one bin in iter \u001b[1;36m1\u001b[0m -- picking next-biggest \u001b]8;id=270612;file:///home/jd/research/reweighting/mr_toolkit/mr_toolkit/mr_toolkit/trajectory_analysis/traj_analysis.py\u001b\\\u001b[2mtraj_analysis.py\u001b[0m\u001b]8;;\u001b\\\u001b[2m:\u001b[0m\u001b]8;id=519623;file:///home/jd/research/reweighting/mr_toolkit/mr_toolkit/mr_toolkit/trajectory_analysis/traj_analysis.py#476\u001b\\\u001b[2m476\u001b[0m\u001b]8;;\u001b\\\n",
       "\u001b[2;36m           \u001b[0m         eigenvalue                                                                 \u001b[2m                    \u001b[0m\n"
      ]
     },
     "metadata": {},
     "output_type": "display_data"
    },
    {
     "data": {
      "text/html": [
       "<pre style=\"white-space:pre;overflow-x:auto;line-height:normal;font-family:Menlo,'DejaVu Sans Mono',consolas,'Courier New',monospace\"><span style=\"color: #7fbfbf; text-decoration-color: #7fbfbf\">           </span><span style=\"color: #800000; text-decoration-color: #800000\">WARNING </span> Stationary solution <span style=\"color: #008080; text-decoration-color: #008080; font-weight: bold\">26</span> is all in one bin in iter <span style=\"color: #008080; text-decoration-color: #008080; font-weight: bold\">1</span> -- picking next-biggest <a href=\"file:///home/jd/research/reweighting/mr_toolkit/mr_toolkit/mr_toolkit/trajectory_analysis/traj_analysis.py\" target=\"_blank\"><span style=\"color: #7f7f7f; text-decoration-color: #7f7f7f\">traj_analysis.py</span></a><span style=\"color: #7f7f7f; text-decoration-color: #7f7f7f\">:</span><a href=\"file:///home/jd/research/reweighting/mr_toolkit/mr_toolkit/mr_toolkit/trajectory_analysis/traj_analysis.py#476\" target=\"_blank\"><span style=\"color: #7f7f7f; text-decoration-color: #7f7f7f\">476</span></a>\n",
       "<span style=\"color: #7fbfbf; text-decoration-color: #7fbfbf\">           </span>         eigenvalue                                                                 <span style=\"color: #7f7f7f; text-decoration-color: #7f7f7f\">                    </span>\n",
       "</pre>\n"
      ],
      "text/plain": [
       "\u001b[2;36m          \u001b[0m\u001b[2;36m \u001b[0m\u001b[31mWARNING \u001b[0m Stationary solution \u001b[1;36m26\u001b[0m is all in one bin in iter \u001b[1;36m1\u001b[0m -- picking next-biggest \u001b]8;id=781219;file:///home/jd/research/reweighting/mr_toolkit/mr_toolkit/mr_toolkit/trajectory_analysis/traj_analysis.py\u001b\\\u001b[2mtraj_analysis.py\u001b[0m\u001b]8;;\u001b\\\u001b[2m:\u001b[0m\u001b]8;id=492831;file:///home/jd/research/reweighting/mr_toolkit/mr_toolkit/mr_toolkit/trajectory_analysis/traj_analysis.py#476\u001b\\\u001b[2m476\u001b[0m\u001b]8;;\u001b\\\n",
       "\u001b[2;36m           \u001b[0m         eigenvalue                                                                 \u001b[2m                    \u001b[0m\n"
      ]
     },
     "metadata": {},
     "output_type": "display_data"
    },
    {
     "data": {
      "text/html": [
       "<pre style=\"white-space:pre;overflow-x:auto;line-height:normal;font-family:Menlo,'DejaVu Sans Mono',consolas,'Courier New',monospace\"><span style=\"color: #7fbfbf; text-decoration-color: #7fbfbf\">           </span><span style=\"color: #800000; text-decoration-color: #800000\">WARNING </span> Stationary solution <span style=\"color: #008080; text-decoration-color: #008080; font-weight: bold\">27</span> is all in one bin in iter <span style=\"color: #008080; text-decoration-color: #008080; font-weight: bold\">1</span> -- picking next-biggest <a href=\"file:///home/jd/research/reweighting/mr_toolkit/mr_toolkit/mr_toolkit/trajectory_analysis/traj_analysis.py\" target=\"_blank\"><span style=\"color: #7f7f7f; text-decoration-color: #7f7f7f\">traj_analysis.py</span></a><span style=\"color: #7f7f7f; text-decoration-color: #7f7f7f\">:</span><a href=\"file:///home/jd/research/reweighting/mr_toolkit/mr_toolkit/mr_toolkit/trajectory_analysis/traj_analysis.py#476\" target=\"_blank\"><span style=\"color: #7f7f7f; text-decoration-color: #7f7f7f\">476</span></a>\n",
       "<span style=\"color: #7fbfbf; text-decoration-color: #7fbfbf\">           </span>         eigenvalue                                                                 <span style=\"color: #7f7f7f; text-decoration-color: #7f7f7f\">                    </span>\n",
       "</pre>\n"
      ],
      "text/plain": [
       "\u001b[2;36m          \u001b[0m\u001b[2;36m \u001b[0m\u001b[31mWARNING \u001b[0m Stationary solution \u001b[1;36m27\u001b[0m is all in one bin in iter \u001b[1;36m1\u001b[0m -- picking next-biggest \u001b]8;id=347471;file:///home/jd/research/reweighting/mr_toolkit/mr_toolkit/mr_toolkit/trajectory_analysis/traj_analysis.py\u001b\\\u001b[2mtraj_analysis.py\u001b[0m\u001b]8;;\u001b\\\u001b[2m:\u001b[0m\u001b]8;id=446659;file:///home/jd/research/reweighting/mr_toolkit/mr_toolkit/mr_toolkit/trajectory_analysis/traj_analysis.py#476\u001b\\\u001b[2m476\u001b[0m\u001b]8;;\u001b\\\n",
       "\u001b[2;36m           \u001b[0m         eigenvalue                                                                 \u001b[2m                    \u001b[0m\n"
      ]
     },
     "metadata": {},
     "output_type": "display_data"
    },
    {
     "data": {
      "text/html": [
       "<pre style=\"white-space:pre;overflow-x:auto;line-height:normal;font-family:Menlo,'DejaVu Sans Mono',consolas,'Courier New',monospace\"><span style=\"color: #7fbfbf; text-decoration-color: #7fbfbf\">           </span><span style=\"color: #800000; text-decoration-color: #800000\">WARNING </span> Stationary solution <span style=\"color: #008080; text-decoration-color: #008080; font-weight: bold\">28</span> is all in one bin in iter <span style=\"color: #008080; text-decoration-color: #008080; font-weight: bold\">1</span> -- picking next-biggest <a href=\"file:///home/jd/research/reweighting/mr_toolkit/mr_toolkit/mr_toolkit/trajectory_analysis/traj_analysis.py\" target=\"_blank\"><span style=\"color: #7f7f7f; text-decoration-color: #7f7f7f\">traj_analysis.py</span></a><span style=\"color: #7f7f7f; text-decoration-color: #7f7f7f\">:</span><a href=\"file:///home/jd/research/reweighting/mr_toolkit/mr_toolkit/mr_toolkit/trajectory_analysis/traj_analysis.py#476\" target=\"_blank\"><span style=\"color: #7f7f7f; text-decoration-color: #7f7f7f\">476</span></a>\n",
       "<span style=\"color: #7fbfbf; text-decoration-color: #7fbfbf\">           </span>         eigenvalue                                                                 <span style=\"color: #7f7f7f; text-decoration-color: #7f7f7f\">                    </span>\n",
       "</pre>\n"
      ],
      "text/plain": [
       "\u001b[2;36m          \u001b[0m\u001b[2;36m \u001b[0m\u001b[31mWARNING \u001b[0m Stationary solution \u001b[1;36m28\u001b[0m is all in one bin in iter \u001b[1;36m1\u001b[0m -- picking next-biggest \u001b]8;id=412581;file:///home/jd/research/reweighting/mr_toolkit/mr_toolkit/mr_toolkit/trajectory_analysis/traj_analysis.py\u001b\\\u001b[2mtraj_analysis.py\u001b[0m\u001b]8;;\u001b\\\u001b[2m:\u001b[0m\u001b]8;id=458241;file:///home/jd/research/reweighting/mr_toolkit/mr_toolkit/mr_toolkit/trajectory_analysis/traj_analysis.py#476\u001b\\\u001b[2m476\u001b[0m\u001b]8;;\u001b\\\n",
       "\u001b[2;36m           \u001b[0m         eigenvalue                                                                 \u001b[2m                    \u001b[0m\n"
      ]
     },
     "metadata": {},
     "output_type": "display_data"
    },
    {
     "data": {
      "text/html": [
       "<pre style=\"white-space:pre;overflow-x:auto;line-height:normal;font-family:Menlo,'DejaVu Sans Mono',consolas,'Courier New',monospace\"><span style=\"color: #7fbfbf; text-decoration-color: #7fbfbf\">           </span><span style=\"color: #800000; text-decoration-color: #800000\">WARNING </span> Stationary solution <span style=\"color: #008080; text-decoration-color: #008080; font-weight: bold\">29</span> is all in one bin in iter <span style=\"color: #008080; text-decoration-color: #008080; font-weight: bold\">1</span> -- picking next-biggest <a href=\"file:///home/jd/research/reweighting/mr_toolkit/mr_toolkit/mr_toolkit/trajectory_analysis/traj_analysis.py\" target=\"_blank\"><span style=\"color: #7f7f7f; text-decoration-color: #7f7f7f\">traj_analysis.py</span></a><span style=\"color: #7f7f7f; text-decoration-color: #7f7f7f\">:</span><a href=\"file:///home/jd/research/reweighting/mr_toolkit/mr_toolkit/mr_toolkit/trajectory_analysis/traj_analysis.py#476\" target=\"_blank\"><span style=\"color: #7f7f7f; text-decoration-color: #7f7f7f\">476</span></a>\n",
       "<span style=\"color: #7fbfbf; text-decoration-color: #7fbfbf\">           </span>         eigenvalue                                                                 <span style=\"color: #7f7f7f; text-decoration-color: #7f7f7f\">                    </span>\n",
       "</pre>\n"
      ],
      "text/plain": [
       "\u001b[2;36m          \u001b[0m\u001b[2;36m \u001b[0m\u001b[31mWARNING \u001b[0m Stationary solution \u001b[1;36m29\u001b[0m is all in one bin in iter \u001b[1;36m1\u001b[0m -- picking next-biggest \u001b]8;id=985293;file:///home/jd/research/reweighting/mr_toolkit/mr_toolkit/mr_toolkit/trajectory_analysis/traj_analysis.py\u001b\\\u001b[2mtraj_analysis.py\u001b[0m\u001b]8;;\u001b\\\u001b[2m:\u001b[0m\u001b]8;id=877321;file:///home/jd/research/reweighting/mr_toolkit/mr_toolkit/mr_toolkit/trajectory_analysis/traj_analysis.py#476\u001b\\\u001b[2m476\u001b[0m\u001b]8;;\u001b\\\n",
       "\u001b[2;36m           \u001b[0m         eigenvalue                                                                 \u001b[2m                    \u001b[0m\n"
      ]
     },
     "metadata": {},
     "output_type": "display_data"
    },
    {
     "data": {
      "text/html": [
       "<pre style=\"white-space:pre;overflow-x:auto;line-height:normal;font-family:Menlo,'DejaVu Sans Mono',consolas,'Courier New',monospace\"><span style=\"color: #7fbfbf; text-decoration-color: #7fbfbf\">           </span><span style=\"color: #800000; text-decoration-color: #800000\">WARNING </span> Stationary solution <span style=\"color: #008080; text-decoration-color: #008080; font-weight: bold\">30</span> is all in one bin in iter <span style=\"color: #008080; text-decoration-color: #008080; font-weight: bold\">1</span> -- picking next-biggest <a href=\"file:///home/jd/research/reweighting/mr_toolkit/mr_toolkit/mr_toolkit/trajectory_analysis/traj_analysis.py\" target=\"_blank\"><span style=\"color: #7f7f7f; text-decoration-color: #7f7f7f\">traj_analysis.py</span></a><span style=\"color: #7f7f7f; text-decoration-color: #7f7f7f\">:</span><a href=\"file:///home/jd/research/reweighting/mr_toolkit/mr_toolkit/mr_toolkit/trajectory_analysis/traj_analysis.py#476\" target=\"_blank\"><span style=\"color: #7f7f7f; text-decoration-color: #7f7f7f\">476</span></a>\n",
       "<span style=\"color: #7fbfbf; text-decoration-color: #7fbfbf\">           </span>         eigenvalue                                                                 <span style=\"color: #7f7f7f; text-decoration-color: #7f7f7f\">                    </span>\n",
       "</pre>\n"
      ],
      "text/plain": [
       "\u001b[2;36m          \u001b[0m\u001b[2;36m \u001b[0m\u001b[31mWARNING \u001b[0m Stationary solution \u001b[1;36m30\u001b[0m is all in one bin in iter \u001b[1;36m1\u001b[0m -- picking next-biggest \u001b]8;id=918097;file:///home/jd/research/reweighting/mr_toolkit/mr_toolkit/mr_toolkit/trajectory_analysis/traj_analysis.py\u001b\\\u001b[2mtraj_analysis.py\u001b[0m\u001b]8;;\u001b\\\u001b[2m:\u001b[0m\u001b]8;id=350673;file:///home/jd/research/reweighting/mr_toolkit/mr_toolkit/mr_toolkit/trajectory_analysis/traj_analysis.py#476\u001b\\\u001b[2m476\u001b[0m\u001b]8;;\u001b\\\n",
       "\u001b[2;36m           \u001b[0m         eigenvalue                                                                 \u001b[2m                    \u001b[0m\n"
      ]
     },
     "metadata": {},
     "output_type": "display_data"
    },
    {
     "data": {
      "text/html": [
       "<pre style=\"white-space:pre;overflow-x:auto;line-height:normal;font-family:Menlo,'DejaVu Sans Mono',consolas,'Courier New',monospace\"><span style=\"color: #7fbfbf; text-decoration-color: #7fbfbf\">           </span><span style=\"color: #800000; text-decoration-color: #800000\">WARNING </span> Stationary solution <span style=\"color: #008080; text-decoration-color: #008080; font-weight: bold\">31</span> is all in one bin in iter <span style=\"color: #008080; text-decoration-color: #008080; font-weight: bold\">1</span> -- picking next-biggest <a href=\"file:///home/jd/research/reweighting/mr_toolkit/mr_toolkit/mr_toolkit/trajectory_analysis/traj_analysis.py\" target=\"_blank\"><span style=\"color: #7f7f7f; text-decoration-color: #7f7f7f\">traj_analysis.py</span></a><span style=\"color: #7f7f7f; text-decoration-color: #7f7f7f\">:</span><a href=\"file:///home/jd/research/reweighting/mr_toolkit/mr_toolkit/mr_toolkit/trajectory_analysis/traj_analysis.py#476\" target=\"_blank\"><span style=\"color: #7f7f7f; text-decoration-color: #7f7f7f\">476</span></a>\n",
       "<span style=\"color: #7fbfbf; text-decoration-color: #7fbfbf\">           </span>         eigenvalue                                                                 <span style=\"color: #7f7f7f; text-decoration-color: #7f7f7f\">                    </span>\n",
       "</pre>\n"
      ],
      "text/plain": [
       "\u001b[2;36m          \u001b[0m\u001b[2;36m \u001b[0m\u001b[31mWARNING \u001b[0m Stationary solution \u001b[1;36m31\u001b[0m is all in one bin in iter \u001b[1;36m1\u001b[0m -- picking next-biggest \u001b]8;id=637559;file:///home/jd/research/reweighting/mr_toolkit/mr_toolkit/mr_toolkit/trajectory_analysis/traj_analysis.py\u001b\\\u001b[2mtraj_analysis.py\u001b[0m\u001b]8;;\u001b\\\u001b[2m:\u001b[0m\u001b]8;id=319285;file:///home/jd/research/reweighting/mr_toolkit/mr_toolkit/mr_toolkit/trajectory_analysis/traj_analysis.py#476\u001b\\\u001b[2m476\u001b[0m\u001b]8;;\u001b\\\n",
       "\u001b[2;36m           \u001b[0m         eigenvalue                                                                 \u001b[2m                    \u001b[0m\n"
      ]
     },
     "metadata": {},
     "output_type": "display_data"
    },
    {
     "data": {
      "text/html": [
       "<pre style=\"white-space:pre;overflow-x:auto;line-height:normal;font-family:Menlo,'DejaVu Sans Mono',consolas,'Courier New',monospace\"><span style=\"color: #7fbfbf; text-decoration-color: #7fbfbf\">           </span><span style=\"color: #800000; text-decoration-color: #800000\">WARNING </span> Stationary solution <span style=\"color: #008080; text-decoration-color: #008080; font-weight: bold\">32</span> is all in one bin in iter <span style=\"color: #008080; text-decoration-color: #008080; font-weight: bold\">1</span> -- picking next-biggest <a href=\"file:///home/jd/research/reweighting/mr_toolkit/mr_toolkit/mr_toolkit/trajectory_analysis/traj_analysis.py\" target=\"_blank\"><span style=\"color: #7f7f7f; text-decoration-color: #7f7f7f\">traj_analysis.py</span></a><span style=\"color: #7f7f7f; text-decoration-color: #7f7f7f\">:</span><a href=\"file:///home/jd/research/reweighting/mr_toolkit/mr_toolkit/mr_toolkit/trajectory_analysis/traj_analysis.py#476\" target=\"_blank\"><span style=\"color: #7f7f7f; text-decoration-color: #7f7f7f\">476</span></a>\n",
       "<span style=\"color: #7fbfbf; text-decoration-color: #7fbfbf\">           </span>         eigenvalue                                                                 <span style=\"color: #7f7f7f; text-decoration-color: #7f7f7f\">                    </span>\n",
       "</pre>\n"
      ],
      "text/plain": [
       "\u001b[2;36m          \u001b[0m\u001b[2;36m \u001b[0m\u001b[31mWARNING \u001b[0m Stationary solution \u001b[1;36m32\u001b[0m is all in one bin in iter \u001b[1;36m1\u001b[0m -- picking next-biggest \u001b]8;id=458402;file:///home/jd/research/reweighting/mr_toolkit/mr_toolkit/mr_toolkit/trajectory_analysis/traj_analysis.py\u001b\\\u001b[2mtraj_analysis.py\u001b[0m\u001b]8;;\u001b\\\u001b[2m:\u001b[0m\u001b]8;id=346046;file:///home/jd/research/reweighting/mr_toolkit/mr_toolkit/mr_toolkit/trajectory_analysis/traj_analysis.py#476\u001b\\\u001b[2m476\u001b[0m\u001b]8;;\u001b\\\n",
       "\u001b[2;36m           \u001b[0m         eigenvalue                                                                 \u001b[2m                    \u001b[0m\n"
      ]
     },
     "metadata": {},
     "output_type": "display_data"
    },
    {
     "data": {
      "text/html": [
       "<pre style=\"white-space:pre;overflow-x:auto;line-height:normal;font-family:Menlo,'DejaVu Sans Mono',consolas,'Courier New',monospace\"><span style=\"color: #7fbfbf; text-decoration-color: #7fbfbf\">           </span><span style=\"color: #800000; text-decoration-color: #800000\">WARNING </span> Stationary solution <span style=\"color: #008080; text-decoration-color: #008080; font-weight: bold\">33</span> is all in one bin in iter <span style=\"color: #008080; text-decoration-color: #008080; font-weight: bold\">1</span> -- picking next-biggest <a href=\"file:///home/jd/research/reweighting/mr_toolkit/mr_toolkit/mr_toolkit/trajectory_analysis/traj_analysis.py\" target=\"_blank\"><span style=\"color: #7f7f7f; text-decoration-color: #7f7f7f\">traj_analysis.py</span></a><span style=\"color: #7f7f7f; text-decoration-color: #7f7f7f\">:</span><a href=\"file:///home/jd/research/reweighting/mr_toolkit/mr_toolkit/mr_toolkit/trajectory_analysis/traj_analysis.py#476\" target=\"_blank\"><span style=\"color: #7f7f7f; text-decoration-color: #7f7f7f\">476</span></a>\n",
       "<span style=\"color: #7fbfbf; text-decoration-color: #7fbfbf\">           </span>         eigenvalue                                                                 <span style=\"color: #7f7f7f; text-decoration-color: #7f7f7f\">                    </span>\n",
       "</pre>\n"
      ],
      "text/plain": [
       "\u001b[2;36m          \u001b[0m\u001b[2;36m \u001b[0m\u001b[31mWARNING \u001b[0m Stationary solution \u001b[1;36m33\u001b[0m is all in one bin in iter \u001b[1;36m1\u001b[0m -- picking next-biggest \u001b]8;id=654710;file:///home/jd/research/reweighting/mr_toolkit/mr_toolkit/mr_toolkit/trajectory_analysis/traj_analysis.py\u001b\\\u001b[2mtraj_analysis.py\u001b[0m\u001b]8;;\u001b\\\u001b[2m:\u001b[0m\u001b]8;id=109761;file:///home/jd/research/reweighting/mr_toolkit/mr_toolkit/mr_toolkit/trajectory_analysis/traj_analysis.py#476\u001b\\\u001b[2m476\u001b[0m\u001b]8;;\u001b\\\n",
       "\u001b[2;36m           \u001b[0m         eigenvalue                                                                 \u001b[2m                    \u001b[0m\n"
      ]
     },
     "metadata": {},
     "output_type": "display_data"
    },
    {
     "data": {
      "text/html": [
       "<pre style=\"white-space:pre;overflow-x:auto;line-height:normal;font-family:Menlo,'DejaVu Sans Mono',consolas,'Courier New',monospace\"><span style=\"color: #7fbfbf; text-decoration-color: #7fbfbf\">           </span><span style=\"color: #800000; text-decoration-color: #800000\">WARNING </span> Stationary solution <span style=\"color: #008080; text-decoration-color: #008080; font-weight: bold\">34</span> is all in one bin in iter <span style=\"color: #008080; text-decoration-color: #008080; font-weight: bold\">1</span> -- picking next-biggest <a href=\"file:///home/jd/research/reweighting/mr_toolkit/mr_toolkit/mr_toolkit/trajectory_analysis/traj_analysis.py\" target=\"_blank\"><span style=\"color: #7f7f7f; text-decoration-color: #7f7f7f\">traj_analysis.py</span></a><span style=\"color: #7f7f7f; text-decoration-color: #7f7f7f\">:</span><a href=\"file:///home/jd/research/reweighting/mr_toolkit/mr_toolkit/mr_toolkit/trajectory_analysis/traj_analysis.py#476\" target=\"_blank\"><span style=\"color: #7f7f7f; text-decoration-color: #7f7f7f\">476</span></a>\n",
       "<span style=\"color: #7fbfbf; text-decoration-color: #7fbfbf\">           </span>         eigenvalue                                                                 <span style=\"color: #7f7f7f; text-decoration-color: #7f7f7f\">                    </span>\n",
       "</pre>\n"
      ],
      "text/plain": [
       "\u001b[2;36m          \u001b[0m\u001b[2;36m \u001b[0m\u001b[31mWARNING \u001b[0m Stationary solution \u001b[1;36m34\u001b[0m is all in one bin in iter \u001b[1;36m1\u001b[0m -- picking next-biggest \u001b]8;id=967343;file:///home/jd/research/reweighting/mr_toolkit/mr_toolkit/mr_toolkit/trajectory_analysis/traj_analysis.py\u001b\\\u001b[2mtraj_analysis.py\u001b[0m\u001b]8;;\u001b\\\u001b[2m:\u001b[0m\u001b]8;id=140965;file:///home/jd/research/reweighting/mr_toolkit/mr_toolkit/mr_toolkit/trajectory_analysis/traj_analysis.py#476\u001b\\\u001b[2m476\u001b[0m\u001b]8;;\u001b\\\n",
       "\u001b[2;36m           \u001b[0m         eigenvalue                                                                 \u001b[2m                    \u001b[0m\n"
      ]
     },
     "metadata": {},
     "output_type": "display_data"
    },
    {
     "data": {
      "text/html": [
       "<pre style=\"white-space:pre;overflow-x:auto;line-height:normal;font-family:Menlo,'DejaVu Sans Mono',consolas,'Courier New',monospace\"><span style=\"color: #7fbfbf; text-decoration-color: #7fbfbf\">           </span><span style=\"color: #800000; text-decoration-color: #800000\">WARNING </span> Stationary solution <span style=\"color: #008080; text-decoration-color: #008080; font-weight: bold\">35</span> is all in one bin in iter <span style=\"color: #008080; text-decoration-color: #008080; font-weight: bold\">1</span> -- picking next-biggest <a href=\"file:///home/jd/research/reweighting/mr_toolkit/mr_toolkit/mr_toolkit/trajectory_analysis/traj_analysis.py\" target=\"_blank\"><span style=\"color: #7f7f7f; text-decoration-color: #7f7f7f\">traj_analysis.py</span></a><span style=\"color: #7f7f7f; text-decoration-color: #7f7f7f\">:</span><a href=\"file:///home/jd/research/reweighting/mr_toolkit/mr_toolkit/mr_toolkit/trajectory_analysis/traj_analysis.py#476\" target=\"_blank\"><span style=\"color: #7f7f7f; text-decoration-color: #7f7f7f\">476</span></a>\n",
       "<span style=\"color: #7fbfbf; text-decoration-color: #7fbfbf\">           </span>         eigenvalue                                                                 <span style=\"color: #7f7f7f; text-decoration-color: #7f7f7f\">                    </span>\n",
       "</pre>\n"
      ],
      "text/plain": [
       "\u001b[2;36m          \u001b[0m\u001b[2;36m \u001b[0m\u001b[31mWARNING \u001b[0m Stationary solution \u001b[1;36m35\u001b[0m is all in one bin in iter \u001b[1;36m1\u001b[0m -- picking next-biggest \u001b]8;id=316530;file:///home/jd/research/reweighting/mr_toolkit/mr_toolkit/mr_toolkit/trajectory_analysis/traj_analysis.py\u001b\\\u001b[2mtraj_analysis.py\u001b[0m\u001b]8;;\u001b\\\u001b[2m:\u001b[0m\u001b]8;id=645467;file:///home/jd/research/reweighting/mr_toolkit/mr_toolkit/mr_toolkit/trajectory_analysis/traj_analysis.py#476\u001b\\\u001b[2m476\u001b[0m\u001b]8;;\u001b\\\n",
       "\u001b[2;36m           \u001b[0m         eigenvalue                                                                 \u001b[2m                    \u001b[0m\n"
      ]
     },
     "metadata": {},
     "output_type": "display_data"
    },
    {
     "data": {
      "text/html": [
       "<pre style=\"white-space:pre;overflow-x:auto;line-height:normal;font-family:Menlo,'DejaVu Sans Mono',consolas,'Courier New',monospace\"><span style=\"color: #7fbfbf; text-decoration-color: #7fbfbf\">           </span><span style=\"color: #800000; text-decoration-color: #800000\">WARNING </span> Stationary solution <span style=\"color: #008080; text-decoration-color: #008080; font-weight: bold\">36</span> is all in one bin in iter <span style=\"color: #008080; text-decoration-color: #008080; font-weight: bold\">1</span> -- picking next-biggest <a href=\"file:///home/jd/research/reweighting/mr_toolkit/mr_toolkit/mr_toolkit/trajectory_analysis/traj_analysis.py\" target=\"_blank\"><span style=\"color: #7f7f7f; text-decoration-color: #7f7f7f\">traj_analysis.py</span></a><span style=\"color: #7f7f7f; text-decoration-color: #7f7f7f\">:</span><a href=\"file:///home/jd/research/reweighting/mr_toolkit/mr_toolkit/mr_toolkit/trajectory_analysis/traj_analysis.py#476\" target=\"_blank\"><span style=\"color: #7f7f7f; text-decoration-color: #7f7f7f\">476</span></a>\n",
       "<span style=\"color: #7fbfbf; text-decoration-color: #7fbfbf\">           </span>         eigenvalue                                                                 <span style=\"color: #7f7f7f; text-decoration-color: #7f7f7f\">                    </span>\n",
       "</pre>\n"
      ],
      "text/plain": [
       "\u001b[2;36m          \u001b[0m\u001b[2;36m \u001b[0m\u001b[31mWARNING \u001b[0m Stationary solution \u001b[1;36m36\u001b[0m is all in one bin in iter \u001b[1;36m1\u001b[0m -- picking next-biggest \u001b]8;id=206317;file:///home/jd/research/reweighting/mr_toolkit/mr_toolkit/mr_toolkit/trajectory_analysis/traj_analysis.py\u001b\\\u001b[2mtraj_analysis.py\u001b[0m\u001b]8;;\u001b\\\u001b[2m:\u001b[0m\u001b]8;id=224306;file:///home/jd/research/reweighting/mr_toolkit/mr_toolkit/mr_toolkit/trajectory_analysis/traj_analysis.py#476\u001b\\\u001b[2m476\u001b[0m\u001b]8;;\u001b\\\n",
       "\u001b[2;36m           \u001b[0m         eigenvalue                                                                 \u001b[2m                    \u001b[0m\n"
      ]
     },
     "metadata": {},
     "output_type": "display_data"
    },
    {
     "data": {
      "text/html": [
       "<pre style=\"white-space:pre;overflow-x:auto;line-height:normal;font-family:Menlo,'DejaVu Sans Mono',consolas,'Courier New',monospace\"><span style=\"color: #7fbfbf; text-decoration-color: #7fbfbf\">           </span><span style=\"color: #800000; text-decoration-color: #800000\">WARNING </span> Stationary solution <span style=\"color: #008080; text-decoration-color: #008080; font-weight: bold\">37</span> is all in one bin in iter <span style=\"color: #008080; text-decoration-color: #008080; font-weight: bold\">1</span> -- picking next-biggest <a href=\"file:///home/jd/research/reweighting/mr_toolkit/mr_toolkit/mr_toolkit/trajectory_analysis/traj_analysis.py\" target=\"_blank\"><span style=\"color: #7f7f7f; text-decoration-color: #7f7f7f\">traj_analysis.py</span></a><span style=\"color: #7f7f7f; text-decoration-color: #7f7f7f\">:</span><a href=\"file:///home/jd/research/reweighting/mr_toolkit/mr_toolkit/mr_toolkit/trajectory_analysis/traj_analysis.py#476\" target=\"_blank\"><span style=\"color: #7f7f7f; text-decoration-color: #7f7f7f\">476</span></a>\n",
       "<span style=\"color: #7fbfbf; text-decoration-color: #7fbfbf\">           </span>         eigenvalue                                                                 <span style=\"color: #7f7f7f; text-decoration-color: #7f7f7f\">                    </span>\n",
       "</pre>\n"
      ],
      "text/plain": [
       "\u001b[2;36m          \u001b[0m\u001b[2;36m \u001b[0m\u001b[31mWARNING \u001b[0m Stationary solution \u001b[1;36m37\u001b[0m is all in one bin in iter \u001b[1;36m1\u001b[0m -- picking next-biggest \u001b]8;id=128078;file:///home/jd/research/reweighting/mr_toolkit/mr_toolkit/mr_toolkit/trajectory_analysis/traj_analysis.py\u001b\\\u001b[2mtraj_analysis.py\u001b[0m\u001b]8;;\u001b\\\u001b[2m:\u001b[0m\u001b]8;id=572367;file:///home/jd/research/reweighting/mr_toolkit/mr_toolkit/mr_toolkit/trajectory_analysis/traj_analysis.py#476\u001b\\\u001b[2m476\u001b[0m\u001b]8;;\u001b\\\n",
       "\u001b[2;36m           \u001b[0m         eigenvalue                                                                 \u001b[2m                    \u001b[0m\n"
      ]
     },
     "metadata": {},
     "output_type": "display_data"
    },
    {
     "data": {
      "text/html": [
       "<pre style=\"white-space:pre;overflow-x:auto;line-height:normal;font-family:Menlo,'DejaVu Sans Mono',consolas,'Courier New',monospace\"><span style=\"color: #7fbfbf; text-decoration-color: #7fbfbf\">           </span><span style=\"color: #800000; text-decoration-color: #800000\">WARNING </span> Stationary solution <span style=\"color: #008080; text-decoration-color: #008080; font-weight: bold\">38</span> is all in one bin in iter <span style=\"color: #008080; text-decoration-color: #008080; font-weight: bold\">1</span> -- picking next-biggest <a href=\"file:///home/jd/research/reweighting/mr_toolkit/mr_toolkit/mr_toolkit/trajectory_analysis/traj_analysis.py\" target=\"_blank\"><span style=\"color: #7f7f7f; text-decoration-color: #7f7f7f\">traj_analysis.py</span></a><span style=\"color: #7f7f7f; text-decoration-color: #7f7f7f\">:</span><a href=\"file:///home/jd/research/reweighting/mr_toolkit/mr_toolkit/mr_toolkit/trajectory_analysis/traj_analysis.py#476\" target=\"_blank\"><span style=\"color: #7f7f7f; text-decoration-color: #7f7f7f\">476</span></a>\n",
       "<span style=\"color: #7fbfbf; text-decoration-color: #7fbfbf\">           </span>         eigenvalue                                                                 <span style=\"color: #7f7f7f; text-decoration-color: #7f7f7f\">                    </span>\n",
       "</pre>\n"
      ],
      "text/plain": [
       "\u001b[2;36m          \u001b[0m\u001b[2;36m \u001b[0m\u001b[31mWARNING \u001b[0m Stationary solution \u001b[1;36m38\u001b[0m is all in one bin in iter \u001b[1;36m1\u001b[0m -- picking next-biggest \u001b]8;id=747904;file:///home/jd/research/reweighting/mr_toolkit/mr_toolkit/mr_toolkit/trajectory_analysis/traj_analysis.py\u001b\\\u001b[2mtraj_analysis.py\u001b[0m\u001b]8;;\u001b\\\u001b[2m:\u001b[0m\u001b]8;id=597319;file:///home/jd/research/reweighting/mr_toolkit/mr_toolkit/mr_toolkit/trajectory_analysis/traj_analysis.py#476\u001b\\\u001b[2m476\u001b[0m\u001b]8;;\u001b\\\n",
       "\u001b[2;36m           \u001b[0m         eigenvalue                                                                 \u001b[2m                    \u001b[0m\n"
      ]
     },
     "metadata": {},
     "output_type": "display_data"
    },
    {
     "data": {
      "text/html": [
       "<pre style=\"white-space:pre;overflow-x:auto;line-height:normal;font-family:Menlo,'DejaVu Sans Mono',consolas,'Courier New',monospace\"><span style=\"color: #7fbfbf; text-decoration-color: #7fbfbf\">           </span><span style=\"color: #800000; text-decoration-color: #800000\">WARNING </span> Stationary solution <span style=\"color: #008080; text-decoration-color: #008080; font-weight: bold\">39</span> is all in one bin in iter <span style=\"color: #008080; text-decoration-color: #008080; font-weight: bold\">1</span> -- picking next-biggest <a href=\"file:///home/jd/research/reweighting/mr_toolkit/mr_toolkit/mr_toolkit/trajectory_analysis/traj_analysis.py\" target=\"_blank\"><span style=\"color: #7f7f7f; text-decoration-color: #7f7f7f\">traj_analysis.py</span></a><span style=\"color: #7f7f7f; text-decoration-color: #7f7f7f\">:</span><a href=\"file:///home/jd/research/reweighting/mr_toolkit/mr_toolkit/mr_toolkit/trajectory_analysis/traj_analysis.py#476\" target=\"_blank\"><span style=\"color: #7f7f7f; text-decoration-color: #7f7f7f\">476</span></a>\n",
       "<span style=\"color: #7fbfbf; text-decoration-color: #7fbfbf\">           </span>         eigenvalue                                                                 <span style=\"color: #7f7f7f; text-decoration-color: #7f7f7f\">                    </span>\n",
       "</pre>\n"
      ],
      "text/plain": [
       "\u001b[2;36m          \u001b[0m\u001b[2;36m \u001b[0m\u001b[31mWARNING \u001b[0m Stationary solution \u001b[1;36m39\u001b[0m is all in one bin in iter \u001b[1;36m1\u001b[0m -- picking next-biggest \u001b]8;id=822827;file:///home/jd/research/reweighting/mr_toolkit/mr_toolkit/mr_toolkit/trajectory_analysis/traj_analysis.py\u001b\\\u001b[2mtraj_analysis.py\u001b[0m\u001b]8;;\u001b\\\u001b[2m:\u001b[0m\u001b]8;id=918120;file:///home/jd/research/reweighting/mr_toolkit/mr_toolkit/mr_toolkit/trajectory_analysis/traj_analysis.py#476\u001b\\\u001b[2m476\u001b[0m\u001b]8;;\u001b\\\n",
       "\u001b[2;36m           \u001b[0m         eigenvalue                                                                 \u001b[2m                    \u001b[0m\n"
      ]
     },
     "metadata": {},
     "output_type": "display_data"
    },
    {
     "data": {
      "text/html": [
       "<pre style=\"white-space:pre;overflow-x:auto;line-height:normal;font-family:Menlo,'DejaVu Sans Mono',consolas,'Courier New',monospace\"><span style=\"color: #7fbfbf; text-decoration-color: #7fbfbf\">           </span><span style=\"color: #800000; text-decoration-color: #800000\">WARNING </span> Stationary solution <span style=\"color: #008080; text-decoration-color: #008080; font-weight: bold\">40</span> is all in one bin in iter <span style=\"color: #008080; text-decoration-color: #008080; font-weight: bold\">1</span> -- picking next-biggest <a href=\"file:///home/jd/research/reweighting/mr_toolkit/mr_toolkit/mr_toolkit/trajectory_analysis/traj_analysis.py\" target=\"_blank\"><span style=\"color: #7f7f7f; text-decoration-color: #7f7f7f\">traj_analysis.py</span></a><span style=\"color: #7f7f7f; text-decoration-color: #7f7f7f\">:</span><a href=\"file:///home/jd/research/reweighting/mr_toolkit/mr_toolkit/mr_toolkit/trajectory_analysis/traj_analysis.py#476\" target=\"_blank\"><span style=\"color: #7f7f7f; text-decoration-color: #7f7f7f\">476</span></a>\n",
       "<span style=\"color: #7fbfbf; text-decoration-color: #7fbfbf\">           </span>         eigenvalue                                                                 <span style=\"color: #7f7f7f; text-decoration-color: #7f7f7f\">                    </span>\n",
       "</pre>\n"
      ],
      "text/plain": [
       "\u001b[2;36m          \u001b[0m\u001b[2;36m \u001b[0m\u001b[31mWARNING \u001b[0m Stationary solution \u001b[1;36m40\u001b[0m is all in one bin in iter \u001b[1;36m1\u001b[0m -- picking next-biggest \u001b]8;id=463939;file:///home/jd/research/reweighting/mr_toolkit/mr_toolkit/mr_toolkit/trajectory_analysis/traj_analysis.py\u001b\\\u001b[2mtraj_analysis.py\u001b[0m\u001b]8;;\u001b\\\u001b[2m:\u001b[0m\u001b]8;id=803037;file:///home/jd/research/reweighting/mr_toolkit/mr_toolkit/mr_toolkit/trajectory_analysis/traj_analysis.py#476\u001b\\\u001b[2m476\u001b[0m\u001b]8;;\u001b\\\n",
       "\u001b[2;36m           \u001b[0m         eigenvalue                                                                 \u001b[2m                    \u001b[0m\n"
      ]
     },
     "metadata": {},
     "output_type": "display_data"
    },
    {
     "data": {
      "text/html": [
       "<pre style=\"white-space:pre;overflow-x:auto;line-height:normal;font-family:Menlo,'DejaVu Sans Mono',consolas,'Courier New',monospace\"><span style=\"color: #7fbfbf; text-decoration-color: #7fbfbf\">           </span><span style=\"color: #800000; text-decoration-color: #800000\">WARNING </span> Stationary solution <span style=\"color: #008080; text-decoration-color: #008080; font-weight: bold\">41</span> is all in one bin in iter <span style=\"color: #008080; text-decoration-color: #008080; font-weight: bold\">1</span> -- picking next-biggest <a href=\"file:///home/jd/research/reweighting/mr_toolkit/mr_toolkit/mr_toolkit/trajectory_analysis/traj_analysis.py\" target=\"_blank\"><span style=\"color: #7f7f7f; text-decoration-color: #7f7f7f\">traj_analysis.py</span></a><span style=\"color: #7f7f7f; text-decoration-color: #7f7f7f\">:</span><a href=\"file:///home/jd/research/reweighting/mr_toolkit/mr_toolkit/mr_toolkit/trajectory_analysis/traj_analysis.py#476\" target=\"_blank\"><span style=\"color: #7f7f7f; text-decoration-color: #7f7f7f\">476</span></a>\n",
       "<span style=\"color: #7fbfbf; text-decoration-color: #7fbfbf\">           </span>         eigenvalue                                                                 <span style=\"color: #7f7f7f; text-decoration-color: #7f7f7f\">                    </span>\n",
       "</pre>\n"
      ],
      "text/plain": [
       "\u001b[2;36m          \u001b[0m\u001b[2;36m \u001b[0m\u001b[31mWARNING \u001b[0m Stationary solution \u001b[1;36m41\u001b[0m is all in one bin in iter \u001b[1;36m1\u001b[0m -- picking next-biggest \u001b]8;id=708377;file:///home/jd/research/reweighting/mr_toolkit/mr_toolkit/mr_toolkit/trajectory_analysis/traj_analysis.py\u001b\\\u001b[2mtraj_analysis.py\u001b[0m\u001b]8;;\u001b\\\u001b[2m:\u001b[0m\u001b]8;id=468755;file:///home/jd/research/reweighting/mr_toolkit/mr_toolkit/mr_toolkit/trajectory_analysis/traj_analysis.py#476\u001b\\\u001b[2m476\u001b[0m\u001b]8;;\u001b\\\n",
       "\u001b[2;36m           \u001b[0m         eigenvalue                                                                 \u001b[2m                    \u001b[0m\n"
      ]
     },
     "metadata": {},
     "output_type": "display_data"
    },
    {
     "data": {
      "text/html": [
       "<pre style=\"white-space:pre;overflow-x:auto;line-height:normal;font-family:Menlo,'DejaVu Sans Mono',consolas,'Courier New',monospace\"><span style=\"color: #7fbfbf; text-decoration-color: #7fbfbf\">           </span><span style=\"color: #800000; text-decoration-color: #800000\">WARNING </span> Stationary solution <span style=\"color: #008080; text-decoration-color: #008080; font-weight: bold\">42</span> is all in one bin in iter <span style=\"color: #008080; text-decoration-color: #008080; font-weight: bold\">1</span> -- picking next-biggest <a href=\"file:///home/jd/research/reweighting/mr_toolkit/mr_toolkit/mr_toolkit/trajectory_analysis/traj_analysis.py\" target=\"_blank\"><span style=\"color: #7f7f7f; text-decoration-color: #7f7f7f\">traj_analysis.py</span></a><span style=\"color: #7f7f7f; text-decoration-color: #7f7f7f\">:</span><a href=\"file:///home/jd/research/reweighting/mr_toolkit/mr_toolkit/mr_toolkit/trajectory_analysis/traj_analysis.py#476\" target=\"_blank\"><span style=\"color: #7f7f7f; text-decoration-color: #7f7f7f\">476</span></a>\n",
       "<span style=\"color: #7fbfbf; text-decoration-color: #7fbfbf\">           </span>         eigenvalue                                                                 <span style=\"color: #7f7f7f; text-decoration-color: #7f7f7f\">                    </span>\n",
       "</pre>\n"
      ],
      "text/plain": [
       "\u001b[2;36m          \u001b[0m\u001b[2;36m \u001b[0m\u001b[31mWARNING \u001b[0m Stationary solution \u001b[1;36m42\u001b[0m is all in one bin in iter \u001b[1;36m1\u001b[0m -- picking next-biggest \u001b]8;id=809274;file:///home/jd/research/reweighting/mr_toolkit/mr_toolkit/mr_toolkit/trajectory_analysis/traj_analysis.py\u001b\\\u001b[2mtraj_analysis.py\u001b[0m\u001b]8;;\u001b\\\u001b[2m:\u001b[0m\u001b]8;id=577148;file:///home/jd/research/reweighting/mr_toolkit/mr_toolkit/mr_toolkit/trajectory_analysis/traj_analysis.py#476\u001b\\\u001b[2m476\u001b[0m\u001b]8;;\u001b\\\n",
       "\u001b[2;36m           \u001b[0m         eigenvalue                                                                 \u001b[2m                    \u001b[0m\n"
      ]
     },
     "metadata": {},
     "output_type": "display_data"
    },
    {
     "data": {
      "text/html": [
       "<pre style=\"white-space:pre;overflow-x:auto;line-height:normal;font-family:Menlo,'DejaVu Sans Mono',consolas,'Courier New',monospace\"><span style=\"color: #7fbfbf; text-decoration-color: #7fbfbf\">           </span><span style=\"color: #800000; text-decoration-color: #800000\">WARNING </span> Stationary solution <span style=\"color: #008080; text-decoration-color: #008080; font-weight: bold\">43</span> is all in one bin in iter <span style=\"color: #008080; text-decoration-color: #008080; font-weight: bold\">1</span> -- picking next-biggest <a href=\"file:///home/jd/research/reweighting/mr_toolkit/mr_toolkit/mr_toolkit/trajectory_analysis/traj_analysis.py\" target=\"_blank\"><span style=\"color: #7f7f7f; text-decoration-color: #7f7f7f\">traj_analysis.py</span></a><span style=\"color: #7f7f7f; text-decoration-color: #7f7f7f\">:</span><a href=\"file:///home/jd/research/reweighting/mr_toolkit/mr_toolkit/mr_toolkit/trajectory_analysis/traj_analysis.py#476\" target=\"_blank\"><span style=\"color: #7f7f7f; text-decoration-color: #7f7f7f\">476</span></a>\n",
       "<span style=\"color: #7fbfbf; text-decoration-color: #7fbfbf\">           </span>         eigenvalue                                                                 <span style=\"color: #7f7f7f; text-decoration-color: #7f7f7f\">                    </span>\n",
       "</pre>\n"
      ],
      "text/plain": [
       "\u001b[2;36m          \u001b[0m\u001b[2;36m \u001b[0m\u001b[31mWARNING \u001b[0m Stationary solution \u001b[1;36m43\u001b[0m is all in one bin in iter \u001b[1;36m1\u001b[0m -- picking next-biggest \u001b]8;id=236180;file:///home/jd/research/reweighting/mr_toolkit/mr_toolkit/mr_toolkit/trajectory_analysis/traj_analysis.py\u001b\\\u001b[2mtraj_analysis.py\u001b[0m\u001b]8;;\u001b\\\u001b[2m:\u001b[0m\u001b]8;id=15010;file:///home/jd/research/reweighting/mr_toolkit/mr_toolkit/mr_toolkit/trajectory_analysis/traj_analysis.py#476\u001b\\\u001b[2m476\u001b[0m\u001b]8;;\u001b\\\n",
       "\u001b[2;36m           \u001b[0m         eigenvalue                                                                 \u001b[2m                    \u001b[0m\n"
      ]
     },
     "metadata": {},
     "output_type": "display_data"
    },
    {
     "data": {
      "text/html": [
       "<pre style=\"white-space:pre;overflow-x:auto;line-height:normal;font-family:Menlo,'DejaVu Sans Mono',consolas,'Courier New',monospace\"><span style=\"color: #7fbfbf; text-decoration-color: #7fbfbf\">           </span><span style=\"color: #800000; text-decoration-color: #800000\">WARNING </span> Stationary solution <span style=\"color: #008080; text-decoration-color: #008080; font-weight: bold\">44</span> is all in one bin in iter <span style=\"color: #008080; text-decoration-color: #008080; font-weight: bold\">1</span> -- picking next-biggest <a href=\"file:///home/jd/research/reweighting/mr_toolkit/mr_toolkit/mr_toolkit/trajectory_analysis/traj_analysis.py\" target=\"_blank\"><span style=\"color: #7f7f7f; text-decoration-color: #7f7f7f\">traj_analysis.py</span></a><span style=\"color: #7f7f7f; text-decoration-color: #7f7f7f\">:</span><a href=\"file:///home/jd/research/reweighting/mr_toolkit/mr_toolkit/mr_toolkit/trajectory_analysis/traj_analysis.py#476\" target=\"_blank\"><span style=\"color: #7f7f7f; text-decoration-color: #7f7f7f\">476</span></a>\n",
       "<span style=\"color: #7fbfbf; text-decoration-color: #7fbfbf\">           </span>         eigenvalue                                                                 <span style=\"color: #7f7f7f; text-decoration-color: #7f7f7f\">                    </span>\n",
       "</pre>\n"
      ],
      "text/plain": [
       "\u001b[2;36m          \u001b[0m\u001b[2;36m \u001b[0m\u001b[31mWARNING \u001b[0m Stationary solution \u001b[1;36m44\u001b[0m is all in one bin in iter \u001b[1;36m1\u001b[0m -- picking next-biggest \u001b]8;id=742450;file:///home/jd/research/reweighting/mr_toolkit/mr_toolkit/mr_toolkit/trajectory_analysis/traj_analysis.py\u001b\\\u001b[2mtraj_analysis.py\u001b[0m\u001b]8;;\u001b\\\u001b[2m:\u001b[0m\u001b]8;id=360509;file:///home/jd/research/reweighting/mr_toolkit/mr_toolkit/mr_toolkit/trajectory_analysis/traj_analysis.py#476\u001b\\\u001b[2m476\u001b[0m\u001b]8;;\u001b\\\n",
       "\u001b[2;36m           \u001b[0m         eigenvalue                                                                 \u001b[2m                    \u001b[0m\n"
      ]
     },
     "metadata": {},
     "output_type": "display_data"
    },
    {
     "data": {
      "text/html": [
       "<pre style=\"white-space:pre;overflow-x:auto;line-height:normal;font-family:Menlo,'DejaVu Sans Mono',consolas,'Courier New',monospace\"><span style=\"color: #7fbfbf; text-decoration-color: #7fbfbf\">           </span><span style=\"color: #800000; text-decoration-color: #800000\">WARNING </span> Stationary solution <span style=\"color: #008080; text-decoration-color: #008080; font-weight: bold\">45</span> is all in one bin in iter <span style=\"color: #008080; text-decoration-color: #008080; font-weight: bold\">1</span> -- picking next-biggest <a href=\"file:///home/jd/research/reweighting/mr_toolkit/mr_toolkit/mr_toolkit/trajectory_analysis/traj_analysis.py\" target=\"_blank\"><span style=\"color: #7f7f7f; text-decoration-color: #7f7f7f\">traj_analysis.py</span></a><span style=\"color: #7f7f7f; text-decoration-color: #7f7f7f\">:</span><a href=\"file:///home/jd/research/reweighting/mr_toolkit/mr_toolkit/mr_toolkit/trajectory_analysis/traj_analysis.py#476\" target=\"_blank\"><span style=\"color: #7f7f7f; text-decoration-color: #7f7f7f\">476</span></a>\n",
       "<span style=\"color: #7fbfbf; text-decoration-color: #7fbfbf\">           </span>         eigenvalue                                                                 <span style=\"color: #7f7f7f; text-decoration-color: #7f7f7f\">                    </span>\n",
       "</pre>\n"
      ],
      "text/plain": [
       "\u001b[2;36m          \u001b[0m\u001b[2;36m \u001b[0m\u001b[31mWARNING \u001b[0m Stationary solution \u001b[1;36m45\u001b[0m is all in one bin in iter \u001b[1;36m1\u001b[0m -- picking next-biggest \u001b]8;id=286335;file:///home/jd/research/reweighting/mr_toolkit/mr_toolkit/mr_toolkit/trajectory_analysis/traj_analysis.py\u001b\\\u001b[2mtraj_analysis.py\u001b[0m\u001b]8;;\u001b\\\u001b[2m:\u001b[0m\u001b]8;id=63902;file:///home/jd/research/reweighting/mr_toolkit/mr_toolkit/mr_toolkit/trajectory_analysis/traj_analysis.py#476\u001b\\\u001b[2m476\u001b[0m\u001b]8;;\u001b\\\n",
       "\u001b[2;36m           \u001b[0m         eigenvalue                                                                 \u001b[2m                    \u001b[0m\n"
      ]
     },
     "metadata": {},
     "output_type": "display_data"
    },
    {
     "data": {
      "text/html": [
       "<pre style=\"white-space:pre;overflow-x:auto;line-height:normal;font-family:Menlo,'DejaVu Sans Mono',consolas,'Courier New',monospace\"><span style=\"color: #7fbfbf; text-decoration-color: #7fbfbf\">           </span><span style=\"color: #800000; text-decoration-color: #800000\">WARNING </span> Stationary solution <span style=\"color: #008080; text-decoration-color: #008080; font-weight: bold\">46</span> is not positive semidefinite, trying the next one   <a href=\"file:///home/jd/research/reweighting/mr_toolkit/mr_toolkit/mr_toolkit/trajectory_analysis/traj_analysis.py\" target=\"_blank\"><span style=\"color: #7f7f7f; text-decoration-color: #7f7f7f\">traj_analysis.py</span></a><span style=\"color: #7f7f7f; text-decoration-color: #7f7f7f\">:</span><a href=\"file:///home/jd/research/reweighting/mr_toolkit/mr_toolkit/mr_toolkit/trajectory_analysis/traj_analysis.py#478\" target=\"_blank\"><span style=\"color: #7f7f7f; text-decoration-color: #7f7f7f\">478</span></a>\n",
       "</pre>\n"
      ],
      "text/plain": [
       "\u001b[2;36m          \u001b[0m\u001b[2;36m \u001b[0m\u001b[31mWARNING \u001b[0m Stationary solution \u001b[1;36m46\u001b[0m is not positive semidefinite, trying the next one   \u001b]8;id=739306;file:///home/jd/research/reweighting/mr_toolkit/mr_toolkit/mr_toolkit/trajectory_analysis/traj_analysis.py\u001b\\\u001b[2mtraj_analysis.py\u001b[0m\u001b]8;;\u001b\\\u001b[2m:\u001b[0m\u001b]8;id=859605;file:///home/jd/research/reweighting/mr_toolkit/mr_toolkit/mr_toolkit/trajectory_analysis/traj_analysis.py#478\u001b\\\u001b[2m478\u001b[0m\u001b]8;;\u001b\\\n"
      ]
     },
     "metadata": {},
     "output_type": "display_data"
    },
    {
     "data": {
      "text/html": [
       "<pre style=\"white-space:pre;overflow-x:auto;line-height:normal;font-family:Menlo,'DejaVu Sans Mono',consolas,'Courier New',monospace\"><span style=\"color: #7fbfbf; text-decoration-color: #7fbfbf\">           </span><span style=\"color: #800000; text-decoration-color: #800000\">WARNING </span> Stationary solution <span style=\"color: #008080; text-decoration-color: #008080; font-weight: bold\">47</span> is all in one bin in iter <span style=\"color: #008080; text-decoration-color: #008080; font-weight: bold\">1</span> -- picking next-biggest <a href=\"file:///home/jd/research/reweighting/mr_toolkit/mr_toolkit/mr_toolkit/trajectory_analysis/traj_analysis.py\" target=\"_blank\"><span style=\"color: #7f7f7f; text-decoration-color: #7f7f7f\">traj_analysis.py</span></a><span style=\"color: #7f7f7f; text-decoration-color: #7f7f7f\">:</span><a href=\"file:///home/jd/research/reweighting/mr_toolkit/mr_toolkit/mr_toolkit/trajectory_analysis/traj_analysis.py#476\" target=\"_blank\"><span style=\"color: #7f7f7f; text-decoration-color: #7f7f7f\">476</span></a>\n",
       "<span style=\"color: #7fbfbf; text-decoration-color: #7fbfbf\">           </span>         eigenvalue                                                                 <span style=\"color: #7f7f7f; text-decoration-color: #7f7f7f\">                    </span>\n",
       "</pre>\n"
      ],
      "text/plain": [
       "\u001b[2;36m          \u001b[0m\u001b[2;36m \u001b[0m\u001b[31mWARNING \u001b[0m Stationary solution \u001b[1;36m47\u001b[0m is all in one bin in iter \u001b[1;36m1\u001b[0m -- picking next-biggest \u001b]8;id=536868;file:///home/jd/research/reweighting/mr_toolkit/mr_toolkit/mr_toolkit/trajectory_analysis/traj_analysis.py\u001b\\\u001b[2mtraj_analysis.py\u001b[0m\u001b]8;;\u001b\\\u001b[2m:\u001b[0m\u001b]8;id=969397;file:///home/jd/research/reweighting/mr_toolkit/mr_toolkit/mr_toolkit/trajectory_analysis/traj_analysis.py#476\u001b\\\u001b[2m476\u001b[0m\u001b]8;;\u001b\\\n",
       "\u001b[2;36m           \u001b[0m         eigenvalue                                                                 \u001b[2m                    \u001b[0m\n"
      ]
     },
     "metadata": {},
     "output_type": "display_data"
    },
    {
     "data": {
      "text/html": [
       "<pre style=\"white-space:pre;overflow-x:auto;line-height:normal;font-family:Menlo,'DejaVu Sans Mono',consolas,'Courier New',monospace\"><span style=\"color: #7fbfbf; text-decoration-color: #7fbfbf\">           </span><span style=\"color: #800000; text-decoration-color: #800000\">WARNING </span> Stationary solution <span style=\"color: #008080; text-decoration-color: #008080; font-weight: bold\">48</span> is all in one bin in iter <span style=\"color: #008080; text-decoration-color: #008080; font-weight: bold\">1</span> -- picking next-biggest <a href=\"file:///home/jd/research/reweighting/mr_toolkit/mr_toolkit/mr_toolkit/trajectory_analysis/traj_analysis.py\" target=\"_blank\"><span style=\"color: #7f7f7f; text-decoration-color: #7f7f7f\">traj_analysis.py</span></a><span style=\"color: #7f7f7f; text-decoration-color: #7f7f7f\">:</span><a href=\"file:///home/jd/research/reweighting/mr_toolkit/mr_toolkit/mr_toolkit/trajectory_analysis/traj_analysis.py#476\" target=\"_blank\"><span style=\"color: #7f7f7f; text-decoration-color: #7f7f7f\">476</span></a>\n",
       "<span style=\"color: #7fbfbf; text-decoration-color: #7fbfbf\">           </span>         eigenvalue                                                                 <span style=\"color: #7f7f7f; text-decoration-color: #7f7f7f\">                    </span>\n",
       "</pre>\n"
      ],
      "text/plain": [
       "\u001b[2;36m          \u001b[0m\u001b[2;36m \u001b[0m\u001b[31mWARNING \u001b[0m Stationary solution \u001b[1;36m48\u001b[0m is all in one bin in iter \u001b[1;36m1\u001b[0m -- picking next-biggest \u001b]8;id=520043;file:///home/jd/research/reweighting/mr_toolkit/mr_toolkit/mr_toolkit/trajectory_analysis/traj_analysis.py\u001b\\\u001b[2mtraj_analysis.py\u001b[0m\u001b]8;;\u001b\\\u001b[2m:\u001b[0m\u001b]8;id=877800;file:///home/jd/research/reweighting/mr_toolkit/mr_toolkit/mr_toolkit/trajectory_analysis/traj_analysis.py#476\u001b\\\u001b[2m476\u001b[0m\u001b]8;;\u001b\\\n",
       "\u001b[2;36m           \u001b[0m         eigenvalue                                                                 \u001b[2m                    \u001b[0m\n"
      ]
     },
     "metadata": {},
     "output_type": "display_data"
    },
    {
     "data": {
      "text/html": [
       "<pre style=\"white-space:pre;overflow-x:auto;line-height:normal;font-family:Menlo,'DejaVu Sans Mono',consolas,'Courier New',monospace\"><span style=\"color: #7fbfbf; text-decoration-color: #7fbfbf\">           </span><span style=\"color: #800000; text-decoration-color: #800000\">WARNING </span> Stationary solution <span style=\"color: #008080; text-decoration-color: #008080; font-weight: bold\">49</span> is all in one bin in iter <span style=\"color: #008080; text-decoration-color: #008080; font-weight: bold\">1</span> -- picking next-biggest <a href=\"file:///home/jd/research/reweighting/mr_toolkit/mr_toolkit/mr_toolkit/trajectory_analysis/traj_analysis.py\" target=\"_blank\"><span style=\"color: #7f7f7f; text-decoration-color: #7f7f7f\">traj_analysis.py</span></a><span style=\"color: #7f7f7f; text-decoration-color: #7f7f7f\">:</span><a href=\"file:///home/jd/research/reweighting/mr_toolkit/mr_toolkit/mr_toolkit/trajectory_analysis/traj_analysis.py#476\" target=\"_blank\"><span style=\"color: #7f7f7f; text-decoration-color: #7f7f7f\">476</span></a>\n",
       "<span style=\"color: #7fbfbf; text-decoration-color: #7fbfbf\">           </span>         eigenvalue                                                                 <span style=\"color: #7f7f7f; text-decoration-color: #7f7f7f\">                    </span>\n",
       "</pre>\n"
      ],
      "text/plain": [
       "\u001b[2;36m          \u001b[0m\u001b[2;36m \u001b[0m\u001b[31mWARNING \u001b[0m Stationary solution \u001b[1;36m49\u001b[0m is all in one bin in iter \u001b[1;36m1\u001b[0m -- picking next-biggest \u001b]8;id=424331;file:///home/jd/research/reweighting/mr_toolkit/mr_toolkit/mr_toolkit/trajectory_analysis/traj_analysis.py\u001b\\\u001b[2mtraj_analysis.py\u001b[0m\u001b]8;;\u001b\\\u001b[2m:\u001b[0m\u001b]8;id=478952;file:///home/jd/research/reweighting/mr_toolkit/mr_toolkit/mr_toolkit/trajectory_analysis/traj_analysis.py#476\u001b\\\u001b[2m476\u001b[0m\u001b]8;;\u001b\\\n",
       "\u001b[2;36m           \u001b[0m         eigenvalue                                                                 \u001b[2m                    \u001b[0m\n"
      ]
     },
     "metadata": {},
     "output_type": "display_data"
    },
    {
     "data": {
      "text/html": [
       "<pre style=\"white-space:pre;overflow-x:auto;line-height:normal;font-family:Menlo,'DejaVu Sans Mono',consolas,'Courier New',monospace\"><span style=\"color: #7fbfbf; text-decoration-color: #7fbfbf\">           </span><span style=\"color: #800000; text-decoration-color: #800000\">WARNING </span> Stationary solution <span style=\"color: #008080; text-decoration-color: #008080; font-weight: bold\">50</span> is all in one bin in iter <span style=\"color: #008080; text-decoration-color: #008080; font-weight: bold\">1</span> -- picking next-biggest <a href=\"file:///home/jd/research/reweighting/mr_toolkit/mr_toolkit/mr_toolkit/trajectory_analysis/traj_analysis.py\" target=\"_blank\"><span style=\"color: #7f7f7f; text-decoration-color: #7f7f7f\">traj_analysis.py</span></a><span style=\"color: #7f7f7f; text-decoration-color: #7f7f7f\">:</span><a href=\"file:///home/jd/research/reweighting/mr_toolkit/mr_toolkit/mr_toolkit/trajectory_analysis/traj_analysis.py#476\" target=\"_blank\"><span style=\"color: #7f7f7f; text-decoration-color: #7f7f7f\">476</span></a>\n",
       "<span style=\"color: #7fbfbf; text-decoration-color: #7fbfbf\">           </span>         eigenvalue                                                                 <span style=\"color: #7f7f7f; text-decoration-color: #7f7f7f\">                    </span>\n",
       "</pre>\n"
      ],
      "text/plain": [
       "\u001b[2;36m          \u001b[0m\u001b[2;36m \u001b[0m\u001b[31mWARNING \u001b[0m Stationary solution \u001b[1;36m50\u001b[0m is all in one bin in iter \u001b[1;36m1\u001b[0m -- picking next-biggest \u001b]8;id=592464;file:///home/jd/research/reweighting/mr_toolkit/mr_toolkit/mr_toolkit/trajectory_analysis/traj_analysis.py\u001b\\\u001b[2mtraj_analysis.py\u001b[0m\u001b]8;;\u001b\\\u001b[2m:\u001b[0m\u001b]8;id=13952;file:///home/jd/research/reweighting/mr_toolkit/mr_toolkit/mr_toolkit/trajectory_analysis/traj_analysis.py#476\u001b\\\u001b[2m476\u001b[0m\u001b]8;;\u001b\\\n",
       "\u001b[2;36m           \u001b[0m         eigenvalue                                                                 \u001b[2m                    \u001b[0m\n"
      ]
     },
     "metadata": {},
     "output_type": "display_data"
    },
    {
     "data": {
      "text/html": [
       "<pre style=\"white-space:pre;overflow-x:auto;line-height:normal;font-family:Menlo,'DejaVu Sans Mono',consolas,'Courier New',monospace\"><span style=\"color: #7fbfbf; text-decoration-color: #7fbfbf\">           </span><span style=\"color: #800000; text-decoration-color: #800000\">WARNING </span> Stationary solution <span style=\"color: #008080; text-decoration-color: #008080; font-weight: bold\">51</span> is all in one bin in iter <span style=\"color: #008080; text-decoration-color: #008080; font-weight: bold\">1</span> -- picking next-biggest <a href=\"file:///home/jd/research/reweighting/mr_toolkit/mr_toolkit/mr_toolkit/trajectory_analysis/traj_analysis.py\" target=\"_blank\"><span style=\"color: #7f7f7f; text-decoration-color: #7f7f7f\">traj_analysis.py</span></a><span style=\"color: #7f7f7f; text-decoration-color: #7f7f7f\">:</span><a href=\"file:///home/jd/research/reweighting/mr_toolkit/mr_toolkit/mr_toolkit/trajectory_analysis/traj_analysis.py#476\" target=\"_blank\"><span style=\"color: #7f7f7f; text-decoration-color: #7f7f7f\">476</span></a>\n",
       "<span style=\"color: #7fbfbf; text-decoration-color: #7fbfbf\">           </span>         eigenvalue                                                                 <span style=\"color: #7f7f7f; text-decoration-color: #7f7f7f\">                    </span>\n",
       "</pre>\n"
      ],
      "text/plain": [
       "\u001b[2;36m          \u001b[0m\u001b[2;36m \u001b[0m\u001b[31mWARNING \u001b[0m Stationary solution \u001b[1;36m51\u001b[0m is all in one bin in iter \u001b[1;36m1\u001b[0m -- picking next-biggest \u001b]8;id=345998;file:///home/jd/research/reweighting/mr_toolkit/mr_toolkit/mr_toolkit/trajectory_analysis/traj_analysis.py\u001b\\\u001b[2mtraj_analysis.py\u001b[0m\u001b]8;;\u001b\\\u001b[2m:\u001b[0m\u001b]8;id=934038;file:///home/jd/research/reweighting/mr_toolkit/mr_toolkit/mr_toolkit/trajectory_analysis/traj_analysis.py#476\u001b\\\u001b[2m476\u001b[0m\u001b]8;;\u001b\\\n",
       "\u001b[2;36m           \u001b[0m         eigenvalue                                                                 \u001b[2m                    \u001b[0m\n"
      ]
     },
     "metadata": {},
     "output_type": "display_data"
    },
    {
     "data": {
      "text/html": [
       "<pre style=\"white-space:pre;overflow-x:auto;line-height:normal;font-family:Menlo,'DejaVu Sans Mono',consolas,'Courier New',monospace\"><span style=\"color: #7fbfbf; text-decoration-color: #7fbfbf\">           </span><span style=\"color: #800000; text-decoration-color: #800000\">WARNING </span> Stationary solution <span style=\"color: #008080; text-decoration-color: #008080; font-weight: bold\">52</span> is all in one bin in iter <span style=\"color: #008080; text-decoration-color: #008080; font-weight: bold\">1</span> -- picking next-biggest <a href=\"file:///home/jd/research/reweighting/mr_toolkit/mr_toolkit/mr_toolkit/trajectory_analysis/traj_analysis.py\" target=\"_blank\"><span style=\"color: #7f7f7f; text-decoration-color: #7f7f7f\">traj_analysis.py</span></a><span style=\"color: #7f7f7f; text-decoration-color: #7f7f7f\">:</span><a href=\"file:///home/jd/research/reweighting/mr_toolkit/mr_toolkit/mr_toolkit/trajectory_analysis/traj_analysis.py#476\" target=\"_blank\"><span style=\"color: #7f7f7f; text-decoration-color: #7f7f7f\">476</span></a>\n",
       "<span style=\"color: #7fbfbf; text-decoration-color: #7fbfbf\">           </span>         eigenvalue                                                                 <span style=\"color: #7f7f7f; text-decoration-color: #7f7f7f\">                    </span>\n",
       "</pre>\n"
      ],
      "text/plain": [
       "\u001b[2;36m          \u001b[0m\u001b[2;36m \u001b[0m\u001b[31mWARNING \u001b[0m Stationary solution \u001b[1;36m52\u001b[0m is all in one bin in iter \u001b[1;36m1\u001b[0m -- picking next-biggest \u001b]8;id=789459;file:///home/jd/research/reweighting/mr_toolkit/mr_toolkit/mr_toolkit/trajectory_analysis/traj_analysis.py\u001b\\\u001b[2mtraj_analysis.py\u001b[0m\u001b]8;;\u001b\\\u001b[2m:\u001b[0m\u001b]8;id=517764;file:///home/jd/research/reweighting/mr_toolkit/mr_toolkit/mr_toolkit/trajectory_analysis/traj_analysis.py#476\u001b\\\u001b[2m476\u001b[0m\u001b]8;;\u001b\\\n",
       "\u001b[2;36m           \u001b[0m         eigenvalue                                                                 \u001b[2m                    \u001b[0m\n"
      ]
     },
     "metadata": {},
     "output_type": "display_data"
    },
    {
     "data": {
      "text/html": [
       "<pre style=\"white-space:pre;overflow-x:auto;line-height:normal;font-family:Menlo,'DejaVu Sans Mono',consolas,'Courier New',monospace\"><span style=\"color: #7fbfbf; text-decoration-color: #7fbfbf\">           </span><span style=\"color: #800000; text-decoration-color: #800000\">WARNING </span> Stationary solution <span style=\"color: #008080; text-decoration-color: #008080; font-weight: bold\">53</span> is all in one bin in iter <span style=\"color: #008080; text-decoration-color: #008080; font-weight: bold\">1</span> -- picking next-biggest <a href=\"file:///home/jd/research/reweighting/mr_toolkit/mr_toolkit/mr_toolkit/trajectory_analysis/traj_analysis.py\" target=\"_blank\"><span style=\"color: #7f7f7f; text-decoration-color: #7f7f7f\">traj_analysis.py</span></a><span style=\"color: #7f7f7f; text-decoration-color: #7f7f7f\">:</span><a href=\"file:///home/jd/research/reweighting/mr_toolkit/mr_toolkit/mr_toolkit/trajectory_analysis/traj_analysis.py#476\" target=\"_blank\"><span style=\"color: #7f7f7f; text-decoration-color: #7f7f7f\">476</span></a>\n",
       "<span style=\"color: #7fbfbf; text-decoration-color: #7fbfbf\">           </span>         eigenvalue                                                                 <span style=\"color: #7f7f7f; text-decoration-color: #7f7f7f\">                    </span>\n",
       "</pre>\n"
      ],
      "text/plain": [
       "\u001b[2;36m          \u001b[0m\u001b[2;36m \u001b[0m\u001b[31mWARNING \u001b[0m Stationary solution \u001b[1;36m53\u001b[0m is all in one bin in iter \u001b[1;36m1\u001b[0m -- picking next-biggest \u001b]8;id=748602;file:///home/jd/research/reweighting/mr_toolkit/mr_toolkit/mr_toolkit/trajectory_analysis/traj_analysis.py\u001b\\\u001b[2mtraj_analysis.py\u001b[0m\u001b]8;;\u001b\\\u001b[2m:\u001b[0m\u001b]8;id=95046;file:///home/jd/research/reweighting/mr_toolkit/mr_toolkit/mr_toolkit/trajectory_analysis/traj_analysis.py#476\u001b\\\u001b[2m476\u001b[0m\u001b]8;;\u001b\\\n",
       "\u001b[2;36m           \u001b[0m         eigenvalue                                                                 \u001b[2m                    \u001b[0m\n"
      ]
     },
     "metadata": {},
     "output_type": "display_data"
    },
    {
     "data": {
      "text/html": [
       "<pre style=\"white-space:pre;overflow-x:auto;line-height:normal;font-family:Menlo,'DejaVu Sans Mono',consolas,'Courier New',monospace\"><span style=\"color: #7fbfbf; text-decoration-color: #7fbfbf\">           </span><span style=\"color: #800000; text-decoration-color: #800000\">WARNING </span> Stationary solution <span style=\"color: #008080; text-decoration-color: #008080; font-weight: bold\">54</span> is all in one bin in iter <span style=\"color: #008080; text-decoration-color: #008080; font-weight: bold\">1</span> -- picking next-biggest <a href=\"file:///home/jd/research/reweighting/mr_toolkit/mr_toolkit/mr_toolkit/trajectory_analysis/traj_analysis.py\" target=\"_blank\"><span style=\"color: #7f7f7f; text-decoration-color: #7f7f7f\">traj_analysis.py</span></a><span style=\"color: #7f7f7f; text-decoration-color: #7f7f7f\">:</span><a href=\"file:///home/jd/research/reweighting/mr_toolkit/mr_toolkit/mr_toolkit/trajectory_analysis/traj_analysis.py#476\" target=\"_blank\"><span style=\"color: #7f7f7f; text-decoration-color: #7f7f7f\">476</span></a>\n",
       "<span style=\"color: #7fbfbf; text-decoration-color: #7fbfbf\">           </span>         eigenvalue                                                                 <span style=\"color: #7f7f7f; text-decoration-color: #7f7f7f\">                    </span>\n",
       "</pre>\n"
      ],
      "text/plain": [
       "\u001b[2;36m          \u001b[0m\u001b[2;36m \u001b[0m\u001b[31mWARNING \u001b[0m Stationary solution \u001b[1;36m54\u001b[0m is all in one bin in iter \u001b[1;36m1\u001b[0m -- picking next-biggest \u001b]8;id=345256;file:///home/jd/research/reweighting/mr_toolkit/mr_toolkit/mr_toolkit/trajectory_analysis/traj_analysis.py\u001b\\\u001b[2mtraj_analysis.py\u001b[0m\u001b]8;;\u001b\\\u001b[2m:\u001b[0m\u001b]8;id=991344;file:///home/jd/research/reweighting/mr_toolkit/mr_toolkit/mr_toolkit/trajectory_analysis/traj_analysis.py#476\u001b\\\u001b[2m476\u001b[0m\u001b]8;;\u001b\\\n",
       "\u001b[2;36m           \u001b[0m         eigenvalue                                                                 \u001b[2m                    \u001b[0m\n"
      ]
     },
     "metadata": {},
     "output_type": "display_data"
    },
    {
     "data": {
      "text/html": [
       "<pre style=\"white-space:pre;overflow-x:auto;line-height:normal;font-family:Menlo,'DejaVu Sans Mono',consolas,'Courier New',monospace\"><span style=\"color: #7fbfbf; text-decoration-color: #7fbfbf\">           </span><span style=\"color: #800000; text-decoration-color: #800000\">WARNING </span> Stationary solution <span style=\"color: #008080; text-decoration-color: #008080; font-weight: bold\">55</span> is all in one bin in iter <span style=\"color: #008080; text-decoration-color: #008080; font-weight: bold\">1</span> -- picking next-biggest <a href=\"file:///home/jd/research/reweighting/mr_toolkit/mr_toolkit/mr_toolkit/trajectory_analysis/traj_analysis.py\" target=\"_blank\"><span style=\"color: #7f7f7f; text-decoration-color: #7f7f7f\">traj_analysis.py</span></a><span style=\"color: #7f7f7f; text-decoration-color: #7f7f7f\">:</span><a href=\"file:///home/jd/research/reweighting/mr_toolkit/mr_toolkit/mr_toolkit/trajectory_analysis/traj_analysis.py#476\" target=\"_blank\"><span style=\"color: #7f7f7f; text-decoration-color: #7f7f7f\">476</span></a>\n",
       "<span style=\"color: #7fbfbf; text-decoration-color: #7fbfbf\">           </span>         eigenvalue                                                                 <span style=\"color: #7f7f7f; text-decoration-color: #7f7f7f\">                    </span>\n",
       "</pre>\n"
      ],
      "text/plain": [
       "\u001b[2;36m          \u001b[0m\u001b[2;36m \u001b[0m\u001b[31mWARNING \u001b[0m Stationary solution \u001b[1;36m55\u001b[0m is all in one bin in iter \u001b[1;36m1\u001b[0m -- picking next-biggest \u001b]8;id=396042;file:///home/jd/research/reweighting/mr_toolkit/mr_toolkit/mr_toolkit/trajectory_analysis/traj_analysis.py\u001b\\\u001b[2mtraj_analysis.py\u001b[0m\u001b]8;;\u001b\\\u001b[2m:\u001b[0m\u001b]8;id=315931;file:///home/jd/research/reweighting/mr_toolkit/mr_toolkit/mr_toolkit/trajectory_analysis/traj_analysis.py#476\u001b\\\u001b[2m476\u001b[0m\u001b]8;;\u001b\\\n",
       "\u001b[2;36m           \u001b[0m         eigenvalue                                                                 \u001b[2m                    \u001b[0m\n"
      ]
     },
     "metadata": {},
     "output_type": "display_data"
    },
    {
     "data": {
      "text/html": [
       "<pre style=\"white-space:pre;overflow-x:auto;line-height:normal;font-family:Menlo,'DejaVu Sans Mono',consolas,'Courier New',monospace\"><span style=\"color: #7fbfbf; text-decoration-color: #7fbfbf\">           </span><span style=\"color: #800000; text-decoration-color: #800000\">WARNING </span> Stationary solution <span style=\"color: #008080; text-decoration-color: #008080; font-weight: bold\">56</span> is all in one bin in iter <span style=\"color: #008080; text-decoration-color: #008080; font-weight: bold\">1</span> -- picking next-biggest <a href=\"file:///home/jd/research/reweighting/mr_toolkit/mr_toolkit/mr_toolkit/trajectory_analysis/traj_analysis.py\" target=\"_blank\"><span style=\"color: #7f7f7f; text-decoration-color: #7f7f7f\">traj_analysis.py</span></a><span style=\"color: #7f7f7f; text-decoration-color: #7f7f7f\">:</span><a href=\"file:///home/jd/research/reweighting/mr_toolkit/mr_toolkit/mr_toolkit/trajectory_analysis/traj_analysis.py#476\" target=\"_blank\"><span style=\"color: #7f7f7f; text-decoration-color: #7f7f7f\">476</span></a>\n",
       "<span style=\"color: #7fbfbf; text-decoration-color: #7fbfbf\">           </span>         eigenvalue                                                                 <span style=\"color: #7f7f7f; text-decoration-color: #7f7f7f\">                    </span>\n",
       "</pre>\n"
      ],
      "text/plain": [
       "\u001b[2;36m          \u001b[0m\u001b[2;36m \u001b[0m\u001b[31mWARNING \u001b[0m Stationary solution \u001b[1;36m56\u001b[0m is all in one bin in iter \u001b[1;36m1\u001b[0m -- picking next-biggest \u001b]8;id=654848;file:///home/jd/research/reweighting/mr_toolkit/mr_toolkit/mr_toolkit/trajectory_analysis/traj_analysis.py\u001b\\\u001b[2mtraj_analysis.py\u001b[0m\u001b]8;;\u001b\\\u001b[2m:\u001b[0m\u001b]8;id=392118;file:///home/jd/research/reweighting/mr_toolkit/mr_toolkit/mr_toolkit/trajectory_analysis/traj_analysis.py#476\u001b\\\u001b[2m476\u001b[0m\u001b]8;;\u001b\\\n",
       "\u001b[2;36m           \u001b[0m         eigenvalue                                                                 \u001b[2m                    \u001b[0m\n"
      ]
     },
     "metadata": {},
     "output_type": "display_data"
    },
    {
     "data": {
      "text/html": [
       "<pre style=\"white-space:pre;overflow-x:auto;line-height:normal;font-family:Menlo,'DejaVu Sans Mono',consolas,'Courier New',monospace\"><span style=\"color: #7fbfbf; text-decoration-color: #7fbfbf\">           </span><span style=\"color: #800000; text-decoration-color: #800000\">WARNING </span> Stationary solution <span style=\"color: #008080; text-decoration-color: #008080; font-weight: bold\">57</span> is all in one bin in iter <span style=\"color: #008080; text-decoration-color: #008080; font-weight: bold\">1</span> -- picking next-biggest <a href=\"file:///home/jd/research/reweighting/mr_toolkit/mr_toolkit/mr_toolkit/trajectory_analysis/traj_analysis.py\" target=\"_blank\"><span style=\"color: #7f7f7f; text-decoration-color: #7f7f7f\">traj_analysis.py</span></a><span style=\"color: #7f7f7f; text-decoration-color: #7f7f7f\">:</span><a href=\"file:///home/jd/research/reweighting/mr_toolkit/mr_toolkit/mr_toolkit/trajectory_analysis/traj_analysis.py#476\" target=\"_blank\"><span style=\"color: #7f7f7f; text-decoration-color: #7f7f7f\">476</span></a>\n",
       "<span style=\"color: #7fbfbf; text-decoration-color: #7fbfbf\">           </span>         eigenvalue                                                                 <span style=\"color: #7f7f7f; text-decoration-color: #7f7f7f\">                    </span>\n",
       "</pre>\n"
      ],
      "text/plain": [
       "\u001b[2;36m          \u001b[0m\u001b[2;36m \u001b[0m\u001b[31mWARNING \u001b[0m Stationary solution \u001b[1;36m57\u001b[0m is all in one bin in iter \u001b[1;36m1\u001b[0m -- picking next-biggest \u001b]8;id=511105;file:///home/jd/research/reweighting/mr_toolkit/mr_toolkit/mr_toolkit/trajectory_analysis/traj_analysis.py\u001b\\\u001b[2mtraj_analysis.py\u001b[0m\u001b]8;;\u001b\\\u001b[2m:\u001b[0m\u001b]8;id=290165;file:///home/jd/research/reweighting/mr_toolkit/mr_toolkit/mr_toolkit/trajectory_analysis/traj_analysis.py#476\u001b\\\u001b[2m476\u001b[0m\u001b]8;;\u001b\\\n",
       "\u001b[2;36m           \u001b[0m         eigenvalue                                                                 \u001b[2m                    \u001b[0m\n"
      ]
     },
     "metadata": {},
     "output_type": "display_data"
    },
    {
     "data": {
      "text/html": [
       "<pre style=\"white-space:pre;overflow-x:auto;line-height:normal;font-family:Menlo,'DejaVu Sans Mono',consolas,'Courier New',monospace\"><span style=\"color: #7fbfbf; text-decoration-color: #7fbfbf\">           </span><span style=\"color: #800000; text-decoration-color: #800000\">WARNING </span> Stationary solution <span style=\"color: #008080; text-decoration-color: #008080; font-weight: bold\">58</span> is all in one bin in iter <span style=\"color: #008080; text-decoration-color: #008080; font-weight: bold\">1</span> -- picking next-biggest <a href=\"file:///home/jd/research/reweighting/mr_toolkit/mr_toolkit/mr_toolkit/trajectory_analysis/traj_analysis.py\" target=\"_blank\"><span style=\"color: #7f7f7f; text-decoration-color: #7f7f7f\">traj_analysis.py</span></a><span style=\"color: #7f7f7f; text-decoration-color: #7f7f7f\">:</span><a href=\"file:///home/jd/research/reweighting/mr_toolkit/mr_toolkit/mr_toolkit/trajectory_analysis/traj_analysis.py#476\" target=\"_blank\"><span style=\"color: #7f7f7f; text-decoration-color: #7f7f7f\">476</span></a>\n",
       "<span style=\"color: #7fbfbf; text-decoration-color: #7fbfbf\">           </span>         eigenvalue                                                                 <span style=\"color: #7f7f7f; text-decoration-color: #7f7f7f\">                    </span>\n",
       "</pre>\n"
      ],
      "text/plain": [
       "\u001b[2;36m          \u001b[0m\u001b[2;36m \u001b[0m\u001b[31mWARNING \u001b[0m Stationary solution \u001b[1;36m58\u001b[0m is all in one bin in iter \u001b[1;36m1\u001b[0m -- picking next-biggest \u001b]8;id=960479;file:///home/jd/research/reweighting/mr_toolkit/mr_toolkit/mr_toolkit/trajectory_analysis/traj_analysis.py\u001b\\\u001b[2mtraj_analysis.py\u001b[0m\u001b]8;;\u001b\\\u001b[2m:\u001b[0m\u001b]8;id=290494;file:///home/jd/research/reweighting/mr_toolkit/mr_toolkit/mr_toolkit/trajectory_analysis/traj_analysis.py#476\u001b\\\u001b[2m476\u001b[0m\u001b]8;;\u001b\\\n",
       "\u001b[2;36m           \u001b[0m         eigenvalue                                                                 \u001b[2m                    \u001b[0m\n"
      ]
     },
     "metadata": {},
     "output_type": "display_data"
    },
    {
     "data": {
      "text/html": [
       "<pre style=\"white-space:pre;overflow-x:auto;line-height:normal;font-family:Menlo,'DejaVu Sans Mono',consolas,'Courier New',monospace\"><span style=\"color: #7fbfbf; text-decoration-color: #7fbfbf\">           </span><span style=\"color: #800000; text-decoration-color: #800000\">WARNING </span> Stationary solution <span style=\"color: #008080; text-decoration-color: #008080; font-weight: bold\">59</span> is all in one bin in iter <span style=\"color: #008080; text-decoration-color: #008080; font-weight: bold\">1</span> -- picking next-biggest <a href=\"file:///home/jd/research/reweighting/mr_toolkit/mr_toolkit/mr_toolkit/trajectory_analysis/traj_analysis.py\" target=\"_blank\"><span style=\"color: #7f7f7f; text-decoration-color: #7f7f7f\">traj_analysis.py</span></a><span style=\"color: #7f7f7f; text-decoration-color: #7f7f7f\">:</span><a href=\"file:///home/jd/research/reweighting/mr_toolkit/mr_toolkit/mr_toolkit/trajectory_analysis/traj_analysis.py#476\" target=\"_blank\"><span style=\"color: #7f7f7f; text-decoration-color: #7f7f7f\">476</span></a>\n",
       "<span style=\"color: #7fbfbf; text-decoration-color: #7fbfbf\">           </span>         eigenvalue                                                                 <span style=\"color: #7f7f7f; text-decoration-color: #7f7f7f\">                    </span>\n",
       "</pre>\n"
      ],
      "text/plain": [
       "\u001b[2;36m          \u001b[0m\u001b[2;36m \u001b[0m\u001b[31mWARNING \u001b[0m Stationary solution \u001b[1;36m59\u001b[0m is all in one bin in iter \u001b[1;36m1\u001b[0m -- picking next-biggest \u001b]8;id=283845;file:///home/jd/research/reweighting/mr_toolkit/mr_toolkit/mr_toolkit/trajectory_analysis/traj_analysis.py\u001b\\\u001b[2mtraj_analysis.py\u001b[0m\u001b]8;;\u001b\\\u001b[2m:\u001b[0m\u001b]8;id=657454;file:///home/jd/research/reweighting/mr_toolkit/mr_toolkit/mr_toolkit/trajectory_analysis/traj_analysis.py#476\u001b\\\u001b[2m476\u001b[0m\u001b]8;;\u001b\\\n",
       "\u001b[2;36m           \u001b[0m         eigenvalue                                                                 \u001b[2m                    \u001b[0m\n"
      ]
     },
     "metadata": {},
     "output_type": "display_data"
    },
    {
     "data": {
      "text/html": [
       "<pre style=\"white-space:pre;overflow-x:auto;line-height:normal;font-family:Menlo,'DejaVu Sans Mono',consolas,'Courier New',monospace\"><span style=\"color: #7fbfbf; text-decoration-color: #7fbfbf\">           </span><span style=\"color: #800000; text-decoration-color: #800000\">WARNING </span> Stationary solution <span style=\"color: #008080; text-decoration-color: #008080; font-weight: bold\">60</span> is all in one bin in iter <span style=\"color: #008080; text-decoration-color: #008080; font-weight: bold\">1</span> -- picking next-biggest <a href=\"file:///home/jd/research/reweighting/mr_toolkit/mr_toolkit/mr_toolkit/trajectory_analysis/traj_analysis.py\" target=\"_blank\"><span style=\"color: #7f7f7f; text-decoration-color: #7f7f7f\">traj_analysis.py</span></a><span style=\"color: #7f7f7f; text-decoration-color: #7f7f7f\">:</span><a href=\"file:///home/jd/research/reweighting/mr_toolkit/mr_toolkit/mr_toolkit/trajectory_analysis/traj_analysis.py#476\" target=\"_blank\"><span style=\"color: #7f7f7f; text-decoration-color: #7f7f7f\">476</span></a>\n",
       "<span style=\"color: #7fbfbf; text-decoration-color: #7fbfbf\">           </span>         eigenvalue                                                                 <span style=\"color: #7f7f7f; text-decoration-color: #7f7f7f\">                    </span>\n",
       "</pre>\n"
      ],
      "text/plain": [
       "\u001b[2;36m          \u001b[0m\u001b[2;36m \u001b[0m\u001b[31mWARNING \u001b[0m Stationary solution \u001b[1;36m60\u001b[0m is all in one bin in iter \u001b[1;36m1\u001b[0m -- picking next-biggest \u001b]8;id=729793;file:///home/jd/research/reweighting/mr_toolkit/mr_toolkit/mr_toolkit/trajectory_analysis/traj_analysis.py\u001b\\\u001b[2mtraj_analysis.py\u001b[0m\u001b]8;;\u001b\\\u001b[2m:\u001b[0m\u001b]8;id=126435;file:///home/jd/research/reweighting/mr_toolkit/mr_toolkit/mr_toolkit/trajectory_analysis/traj_analysis.py#476\u001b\\\u001b[2m476\u001b[0m\u001b]8;;\u001b\\\n",
       "\u001b[2;36m           \u001b[0m         eigenvalue                                                                 \u001b[2m                    \u001b[0m\n"
      ]
     },
     "metadata": {},
     "output_type": "display_data"
    },
    {
     "data": {
      "text/html": [
       "<pre style=\"white-space:pre;overflow-x:auto;line-height:normal;font-family:Menlo,'DejaVu Sans Mono',consolas,'Courier New',monospace\"><span style=\"color: #7fbfbf; text-decoration-color: #7fbfbf\">           </span><span style=\"color: #800000; text-decoration-color: #800000\">WARNING </span> Stationary solution <span style=\"color: #008080; text-decoration-color: #008080; font-weight: bold\">61</span> is all in one bin in iter <span style=\"color: #008080; text-decoration-color: #008080; font-weight: bold\">1</span> -- picking next-biggest <a href=\"file:///home/jd/research/reweighting/mr_toolkit/mr_toolkit/mr_toolkit/trajectory_analysis/traj_analysis.py\" target=\"_blank\"><span style=\"color: #7f7f7f; text-decoration-color: #7f7f7f\">traj_analysis.py</span></a><span style=\"color: #7f7f7f; text-decoration-color: #7f7f7f\">:</span><a href=\"file:///home/jd/research/reweighting/mr_toolkit/mr_toolkit/mr_toolkit/trajectory_analysis/traj_analysis.py#476\" target=\"_blank\"><span style=\"color: #7f7f7f; text-decoration-color: #7f7f7f\">476</span></a>\n",
       "<span style=\"color: #7fbfbf; text-decoration-color: #7fbfbf\">           </span>         eigenvalue                                                                 <span style=\"color: #7f7f7f; text-decoration-color: #7f7f7f\">                    </span>\n",
       "</pre>\n"
      ],
      "text/plain": [
       "\u001b[2;36m          \u001b[0m\u001b[2;36m \u001b[0m\u001b[31mWARNING \u001b[0m Stationary solution \u001b[1;36m61\u001b[0m is all in one bin in iter \u001b[1;36m1\u001b[0m -- picking next-biggest \u001b]8;id=152892;file:///home/jd/research/reweighting/mr_toolkit/mr_toolkit/mr_toolkit/trajectory_analysis/traj_analysis.py\u001b\\\u001b[2mtraj_analysis.py\u001b[0m\u001b]8;;\u001b\\\u001b[2m:\u001b[0m\u001b]8;id=448148;file:///home/jd/research/reweighting/mr_toolkit/mr_toolkit/mr_toolkit/trajectory_analysis/traj_analysis.py#476\u001b\\\u001b[2m476\u001b[0m\u001b]8;;\u001b\\\n",
       "\u001b[2;36m           \u001b[0m         eigenvalue                                                                 \u001b[2m                    \u001b[0m\n"
      ]
     },
     "metadata": {},
     "output_type": "display_data"
    },
    {
     "data": {
      "text/html": [
       "<pre style=\"white-space:pre;overflow-x:auto;line-height:normal;font-family:Menlo,'DejaVu Sans Mono',consolas,'Courier New',monospace\"><span style=\"color: #7fbfbf; text-decoration-color: #7fbfbf\">           </span><span style=\"color: #800000; text-decoration-color: #800000\">WARNING </span> Stationary solution <span style=\"color: #008080; text-decoration-color: #008080; font-weight: bold\">62</span> is all in one bin in iter <span style=\"color: #008080; text-decoration-color: #008080; font-weight: bold\">1</span> -- picking next-biggest <a href=\"file:///home/jd/research/reweighting/mr_toolkit/mr_toolkit/mr_toolkit/trajectory_analysis/traj_analysis.py\" target=\"_blank\"><span style=\"color: #7f7f7f; text-decoration-color: #7f7f7f\">traj_analysis.py</span></a><span style=\"color: #7f7f7f; text-decoration-color: #7f7f7f\">:</span><a href=\"file:///home/jd/research/reweighting/mr_toolkit/mr_toolkit/mr_toolkit/trajectory_analysis/traj_analysis.py#476\" target=\"_blank\"><span style=\"color: #7f7f7f; text-decoration-color: #7f7f7f\">476</span></a>\n",
       "<span style=\"color: #7fbfbf; text-decoration-color: #7fbfbf\">           </span>         eigenvalue                                                                 <span style=\"color: #7f7f7f; text-decoration-color: #7f7f7f\">                    </span>\n",
       "</pre>\n"
      ],
      "text/plain": [
       "\u001b[2;36m          \u001b[0m\u001b[2;36m \u001b[0m\u001b[31mWARNING \u001b[0m Stationary solution \u001b[1;36m62\u001b[0m is all in one bin in iter \u001b[1;36m1\u001b[0m -- picking next-biggest \u001b]8;id=545753;file:///home/jd/research/reweighting/mr_toolkit/mr_toolkit/mr_toolkit/trajectory_analysis/traj_analysis.py\u001b\\\u001b[2mtraj_analysis.py\u001b[0m\u001b]8;;\u001b\\\u001b[2m:\u001b[0m\u001b]8;id=776380;file:///home/jd/research/reweighting/mr_toolkit/mr_toolkit/mr_toolkit/trajectory_analysis/traj_analysis.py#476\u001b\\\u001b[2m476\u001b[0m\u001b]8;;\u001b\\\n",
       "\u001b[2;36m           \u001b[0m         eigenvalue                                                                 \u001b[2m                    \u001b[0m\n"
      ]
     },
     "metadata": {},
     "output_type": "display_data"
    },
    {
     "data": {
      "text/html": [
       "<pre style=\"white-space:pre;overflow-x:auto;line-height:normal;font-family:Menlo,'DejaVu Sans Mono',consolas,'Courier New',monospace\"><span style=\"color: #7fbfbf; text-decoration-color: #7fbfbf\">           </span><span style=\"color: #800000; text-decoration-color: #800000\">WARNING </span> Stationary solution <span style=\"color: #008080; text-decoration-color: #008080; font-weight: bold\">63</span> is all in one bin in iter <span style=\"color: #008080; text-decoration-color: #008080; font-weight: bold\">1</span> -- picking next-biggest <a href=\"file:///home/jd/research/reweighting/mr_toolkit/mr_toolkit/mr_toolkit/trajectory_analysis/traj_analysis.py\" target=\"_blank\"><span style=\"color: #7f7f7f; text-decoration-color: #7f7f7f\">traj_analysis.py</span></a><span style=\"color: #7f7f7f; text-decoration-color: #7f7f7f\">:</span><a href=\"file:///home/jd/research/reweighting/mr_toolkit/mr_toolkit/mr_toolkit/trajectory_analysis/traj_analysis.py#476\" target=\"_blank\"><span style=\"color: #7f7f7f; text-decoration-color: #7f7f7f\">476</span></a>\n",
       "<span style=\"color: #7fbfbf; text-decoration-color: #7fbfbf\">           </span>         eigenvalue                                                                 <span style=\"color: #7f7f7f; text-decoration-color: #7f7f7f\">                    </span>\n",
       "</pre>\n"
      ],
      "text/plain": [
       "\u001b[2;36m          \u001b[0m\u001b[2;36m \u001b[0m\u001b[31mWARNING \u001b[0m Stationary solution \u001b[1;36m63\u001b[0m is all in one bin in iter \u001b[1;36m1\u001b[0m -- picking next-biggest \u001b]8;id=516478;file:///home/jd/research/reweighting/mr_toolkit/mr_toolkit/mr_toolkit/trajectory_analysis/traj_analysis.py\u001b\\\u001b[2mtraj_analysis.py\u001b[0m\u001b]8;;\u001b\\\u001b[2m:\u001b[0m\u001b]8;id=108297;file:///home/jd/research/reweighting/mr_toolkit/mr_toolkit/mr_toolkit/trajectory_analysis/traj_analysis.py#476\u001b\\\u001b[2m476\u001b[0m\u001b]8;;\u001b\\\n",
       "\u001b[2;36m           \u001b[0m         eigenvalue                                                                 \u001b[2m                    \u001b[0m\n"
      ]
     },
     "metadata": {},
     "output_type": "display_data"
    },
    {
     "data": {
      "text/html": [
       "<pre style=\"white-space:pre;overflow-x:auto;line-height:normal;font-family:Menlo,'DejaVu Sans Mono',consolas,'Courier New',monospace\"><span style=\"color: #7fbfbf; text-decoration-color: #7fbfbf\">           </span><span style=\"color: #800000; text-decoration-color: #800000\">WARNING </span> Stationary solution <span style=\"color: #008080; text-decoration-color: #008080; font-weight: bold\">64</span> is all in one bin in iter <span style=\"color: #008080; text-decoration-color: #008080; font-weight: bold\">1</span> -- picking next-biggest <a href=\"file:///home/jd/research/reweighting/mr_toolkit/mr_toolkit/mr_toolkit/trajectory_analysis/traj_analysis.py\" target=\"_blank\"><span style=\"color: #7f7f7f; text-decoration-color: #7f7f7f\">traj_analysis.py</span></a><span style=\"color: #7f7f7f; text-decoration-color: #7f7f7f\">:</span><a href=\"file:///home/jd/research/reweighting/mr_toolkit/mr_toolkit/mr_toolkit/trajectory_analysis/traj_analysis.py#476\" target=\"_blank\"><span style=\"color: #7f7f7f; text-decoration-color: #7f7f7f\">476</span></a>\n",
       "<span style=\"color: #7fbfbf; text-decoration-color: #7fbfbf\">           </span>         eigenvalue                                                                 <span style=\"color: #7f7f7f; text-decoration-color: #7f7f7f\">                    </span>\n",
       "</pre>\n"
      ],
      "text/plain": [
       "\u001b[2;36m          \u001b[0m\u001b[2;36m \u001b[0m\u001b[31mWARNING \u001b[0m Stationary solution \u001b[1;36m64\u001b[0m is all in one bin in iter \u001b[1;36m1\u001b[0m -- picking next-biggest \u001b]8;id=424091;file:///home/jd/research/reweighting/mr_toolkit/mr_toolkit/mr_toolkit/trajectory_analysis/traj_analysis.py\u001b\\\u001b[2mtraj_analysis.py\u001b[0m\u001b]8;;\u001b\\\u001b[2m:\u001b[0m\u001b]8;id=571283;file:///home/jd/research/reweighting/mr_toolkit/mr_toolkit/mr_toolkit/trajectory_analysis/traj_analysis.py#476\u001b\\\u001b[2m476\u001b[0m\u001b]8;;\u001b\\\n",
       "\u001b[2;36m           \u001b[0m         eigenvalue                                                                 \u001b[2m                    \u001b[0m\n"
      ]
     },
     "metadata": {},
     "output_type": "display_data"
    },
    {
     "data": {
      "text/html": [
       "<pre style=\"white-space:pre;overflow-x:auto;line-height:normal;font-family:Menlo,'DejaVu Sans Mono',consolas,'Courier New',monospace\"><span style=\"color: #7fbfbf; text-decoration-color: #7fbfbf\">           </span><span style=\"color: #800000; text-decoration-color: #800000\">WARNING </span> Stationary solution <span style=\"color: #008080; text-decoration-color: #008080; font-weight: bold\">65</span> is all in one bin in iter <span style=\"color: #008080; text-decoration-color: #008080; font-weight: bold\">1</span> -- picking next-biggest <a href=\"file:///home/jd/research/reweighting/mr_toolkit/mr_toolkit/mr_toolkit/trajectory_analysis/traj_analysis.py\" target=\"_blank\"><span style=\"color: #7f7f7f; text-decoration-color: #7f7f7f\">traj_analysis.py</span></a><span style=\"color: #7f7f7f; text-decoration-color: #7f7f7f\">:</span><a href=\"file:///home/jd/research/reweighting/mr_toolkit/mr_toolkit/mr_toolkit/trajectory_analysis/traj_analysis.py#476\" target=\"_blank\"><span style=\"color: #7f7f7f; text-decoration-color: #7f7f7f\">476</span></a>\n",
       "<span style=\"color: #7fbfbf; text-decoration-color: #7fbfbf\">           </span>         eigenvalue                                                                 <span style=\"color: #7f7f7f; text-decoration-color: #7f7f7f\">                    </span>\n",
       "</pre>\n"
      ],
      "text/plain": [
       "\u001b[2;36m          \u001b[0m\u001b[2;36m \u001b[0m\u001b[31mWARNING \u001b[0m Stationary solution \u001b[1;36m65\u001b[0m is all in one bin in iter \u001b[1;36m1\u001b[0m -- picking next-biggest \u001b]8;id=208627;file:///home/jd/research/reweighting/mr_toolkit/mr_toolkit/mr_toolkit/trajectory_analysis/traj_analysis.py\u001b\\\u001b[2mtraj_analysis.py\u001b[0m\u001b]8;;\u001b\\\u001b[2m:\u001b[0m\u001b]8;id=97387;file:///home/jd/research/reweighting/mr_toolkit/mr_toolkit/mr_toolkit/trajectory_analysis/traj_analysis.py#476\u001b\\\u001b[2m476\u001b[0m\u001b]8;;\u001b\\\n",
       "\u001b[2;36m           \u001b[0m         eigenvalue                                                                 \u001b[2m                    \u001b[0m\n"
      ]
     },
     "metadata": {},
     "output_type": "display_data"
    },
    {
     "data": {
      "text/html": [
       "<pre style=\"white-space:pre;overflow-x:auto;line-height:normal;font-family:Menlo,'DejaVu Sans Mono',consolas,'Courier New',monospace\"><span style=\"color: #7fbfbf; text-decoration-color: #7fbfbf\">           </span><span style=\"color: #800000; text-decoration-color: #800000\">WARNING </span> Stationary solution <span style=\"color: #008080; text-decoration-color: #008080; font-weight: bold\">66</span> is all in one bin in iter <span style=\"color: #008080; text-decoration-color: #008080; font-weight: bold\">1</span> -- picking next-biggest <a href=\"file:///home/jd/research/reweighting/mr_toolkit/mr_toolkit/mr_toolkit/trajectory_analysis/traj_analysis.py\" target=\"_blank\"><span style=\"color: #7f7f7f; text-decoration-color: #7f7f7f\">traj_analysis.py</span></a><span style=\"color: #7f7f7f; text-decoration-color: #7f7f7f\">:</span><a href=\"file:///home/jd/research/reweighting/mr_toolkit/mr_toolkit/mr_toolkit/trajectory_analysis/traj_analysis.py#476\" target=\"_blank\"><span style=\"color: #7f7f7f; text-decoration-color: #7f7f7f\">476</span></a>\n",
       "<span style=\"color: #7fbfbf; text-decoration-color: #7fbfbf\">           </span>         eigenvalue                                                                 <span style=\"color: #7f7f7f; text-decoration-color: #7f7f7f\">                    </span>\n",
       "</pre>\n"
      ],
      "text/plain": [
       "\u001b[2;36m          \u001b[0m\u001b[2;36m \u001b[0m\u001b[31mWARNING \u001b[0m Stationary solution \u001b[1;36m66\u001b[0m is all in one bin in iter \u001b[1;36m1\u001b[0m -- picking next-biggest \u001b]8;id=699148;file:///home/jd/research/reweighting/mr_toolkit/mr_toolkit/mr_toolkit/trajectory_analysis/traj_analysis.py\u001b\\\u001b[2mtraj_analysis.py\u001b[0m\u001b]8;;\u001b\\\u001b[2m:\u001b[0m\u001b]8;id=281199;file:///home/jd/research/reweighting/mr_toolkit/mr_toolkit/mr_toolkit/trajectory_analysis/traj_analysis.py#476\u001b\\\u001b[2m476\u001b[0m\u001b]8;;\u001b\\\n",
       "\u001b[2;36m           \u001b[0m         eigenvalue                                                                 \u001b[2m                    \u001b[0m\n"
      ]
     },
     "metadata": {},
     "output_type": "display_data"
    },
    {
     "data": {
      "text/html": [
       "<pre style=\"white-space:pre;overflow-x:auto;line-height:normal;font-family:Menlo,'DejaVu Sans Mono',consolas,'Courier New',monospace\"><span style=\"color: #7fbfbf; text-decoration-color: #7fbfbf\">           </span><span style=\"color: #800000; text-decoration-color: #800000\">WARNING </span> Stationary solution <span style=\"color: #008080; text-decoration-color: #008080; font-weight: bold\">67</span> is all in one bin in iter <span style=\"color: #008080; text-decoration-color: #008080; font-weight: bold\">1</span> -- picking next-biggest <a href=\"file:///home/jd/research/reweighting/mr_toolkit/mr_toolkit/mr_toolkit/trajectory_analysis/traj_analysis.py\" target=\"_blank\"><span style=\"color: #7f7f7f; text-decoration-color: #7f7f7f\">traj_analysis.py</span></a><span style=\"color: #7f7f7f; text-decoration-color: #7f7f7f\">:</span><a href=\"file:///home/jd/research/reweighting/mr_toolkit/mr_toolkit/mr_toolkit/trajectory_analysis/traj_analysis.py#476\" target=\"_blank\"><span style=\"color: #7f7f7f; text-decoration-color: #7f7f7f\">476</span></a>\n",
       "<span style=\"color: #7fbfbf; text-decoration-color: #7fbfbf\">           </span>         eigenvalue                                                                 <span style=\"color: #7f7f7f; text-decoration-color: #7f7f7f\">                    </span>\n",
       "</pre>\n"
      ],
      "text/plain": [
       "\u001b[2;36m          \u001b[0m\u001b[2;36m \u001b[0m\u001b[31mWARNING \u001b[0m Stationary solution \u001b[1;36m67\u001b[0m is all in one bin in iter \u001b[1;36m1\u001b[0m -- picking next-biggest \u001b]8;id=266990;file:///home/jd/research/reweighting/mr_toolkit/mr_toolkit/mr_toolkit/trajectory_analysis/traj_analysis.py\u001b\\\u001b[2mtraj_analysis.py\u001b[0m\u001b]8;;\u001b\\\u001b[2m:\u001b[0m\u001b]8;id=177472;file:///home/jd/research/reweighting/mr_toolkit/mr_toolkit/mr_toolkit/trajectory_analysis/traj_analysis.py#476\u001b\\\u001b[2m476\u001b[0m\u001b]8;;\u001b\\\n",
       "\u001b[2;36m           \u001b[0m         eigenvalue                                                                 \u001b[2m                    \u001b[0m\n"
      ]
     },
     "metadata": {},
     "output_type": "display_data"
    },
    {
     "data": {
      "text/html": [
       "<pre style=\"white-space:pre;overflow-x:auto;line-height:normal;font-family:Menlo,'DejaVu Sans Mono',consolas,'Courier New',monospace\"><span style=\"color: #7fbfbf; text-decoration-color: #7fbfbf\">           </span><span style=\"color: #800000; text-decoration-color: #800000\">WARNING </span> Stationary solution <span style=\"color: #008080; text-decoration-color: #008080; font-weight: bold\">68</span> is all in one bin in iter <span style=\"color: #008080; text-decoration-color: #008080; font-weight: bold\">1</span> -- picking next-biggest <a href=\"file:///home/jd/research/reweighting/mr_toolkit/mr_toolkit/mr_toolkit/trajectory_analysis/traj_analysis.py\" target=\"_blank\"><span style=\"color: #7f7f7f; text-decoration-color: #7f7f7f\">traj_analysis.py</span></a><span style=\"color: #7f7f7f; text-decoration-color: #7f7f7f\">:</span><a href=\"file:///home/jd/research/reweighting/mr_toolkit/mr_toolkit/mr_toolkit/trajectory_analysis/traj_analysis.py#476\" target=\"_blank\"><span style=\"color: #7f7f7f; text-decoration-color: #7f7f7f\">476</span></a>\n",
       "<span style=\"color: #7fbfbf; text-decoration-color: #7fbfbf\">           </span>         eigenvalue                                                                 <span style=\"color: #7f7f7f; text-decoration-color: #7f7f7f\">                    </span>\n",
       "</pre>\n"
      ],
      "text/plain": [
       "\u001b[2;36m          \u001b[0m\u001b[2;36m \u001b[0m\u001b[31mWARNING \u001b[0m Stationary solution \u001b[1;36m68\u001b[0m is all in one bin in iter \u001b[1;36m1\u001b[0m -- picking next-biggest \u001b]8;id=653410;file:///home/jd/research/reweighting/mr_toolkit/mr_toolkit/mr_toolkit/trajectory_analysis/traj_analysis.py\u001b\\\u001b[2mtraj_analysis.py\u001b[0m\u001b]8;;\u001b\\\u001b[2m:\u001b[0m\u001b]8;id=95128;file:///home/jd/research/reweighting/mr_toolkit/mr_toolkit/mr_toolkit/trajectory_analysis/traj_analysis.py#476\u001b\\\u001b[2m476\u001b[0m\u001b]8;;\u001b\\\n",
       "\u001b[2;36m           \u001b[0m         eigenvalue                                                                 \u001b[2m                    \u001b[0m\n"
      ]
     },
     "metadata": {},
     "output_type": "display_data"
    },
    {
     "data": {
      "text/html": [
       "<pre style=\"white-space:pre;overflow-x:auto;line-height:normal;font-family:Menlo,'DejaVu Sans Mono',consolas,'Courier New',monospace\"><span style=\"color: #7fbfbf; text-decoration-color: #7fbfbf\">[17:02:29] </span><span style=\"color: #800000; text-decoration-color: #800000\">WARNING </span> Stationary solution <span style=\"color: #008080; text-decoration-color: #008080; font-weight: bold\">69</span> is all in one bin in iter <span style=\"color: #008080; text-decoration-color: #008080; font-weight: bold\">1</span> -- picking next-biggest <a href=\"file:///home/jd/research/reweighting/mr_toolkit/mr_toolkit/mr_toolkit/trajectory_analysis/traj_analysis.py\" target=\"_blank\"><span style=\"color: #7f7f7f; text-decoration-color: #7f7f7f\">traj_analysis.py</span></a><span style=\"color: #7f7f7f; text-decoration-color: #7f7f7f\">:</span><a href=\"file:///home/jd/research/reweighting/mr_toolkit/mr_toolkit/mr_toolkit/trajectory_analysis/traj_analysis.py#476\" target=\"_blank\"><span style=\"color: #7f7f7f; text-decoration-color: #7f7f7f\">476</span></a>\n",
       "<span style=\"color: #7fbfbf; text-decoration-color: #7fbfbf\">           </span>         eigenvalue                                                                 <span style=\"color: #7f7f7f; text-decoration-color: #7f7f7f\">                    </span>\n",
       "</pre>\n"
      ],
      "text/plain": [
       "\u001b[2;36m[17:02:29]\u001b[0m\u001b[2;36m \u001b[0m\u001b[31mWARNING \u001b[0m Stationary solution \u001b[1;36m69\u001b[0m is all in one bin in iter \u001b[1;36m1\u001b[0m -- picking next-biggest \u001b]8;id=444815;file:///home/jd/research/reweighting/mr_toolkit/mr_toolkit/mr_toolkit/trajectory_analysis/traj_analysis.py\u001b\\\u001b[2mtraj_analysis.py\u001b[0m\u001b]8;;\u001b\\\u001b[2m:\u001b[0m\u001b]8;id=18753;file:///home/jd/research/reweighting/mr_toolkit/mr_toolkit/mr_toolkit/trajectory_analysis/traj_analysis.py#476\u001b\\\u001b[2m476\u001b[0m\u001b]8;;\u001b\\\n",
       "\u001b[2;36m           \u001b[0m         eigenvalue                                                                 \u001b[2m                    \u001b[0m\n"
      ]
     },
     "metadata": {},
     "output_type": "display_data"
    },
    {
     "data": {
      "text/html": [
       "<pre style=\"white-space:pre;overflow-x:auto;line-height:normal;font-family:Menlo,'DejaVu Sans Mono',consolas,'Courier New',monospace\"><span style=\"color: #7fbfbf; text-decoration-color: #7fbfbf\">           </span><span style=\"color: #800000; text-decoration-color: #800000\">WARNING </span> Stationary solution <span style=\"color: #008080; text-decoration-color: #008080; font-weight: bold\">70</span> is all in one bin in iter <span style=\"color: #008080; text-decoration-color: #008080; font-weight: bold\">1</span> -- picking next-biggest <a href=\"file:///home/jd/research/reweighting/mr_toolkit/mr_toolkit/mr_toolkit/trajectory_analysis/traj_analysis.py\" target=\"_blank\"><span style=\"color: #7f7f7f; text-decoration-color: #7f7f7f\">traj_analysis.py</span></a><span style=\"color: #7f7f7f; text-decoration-color: #7f7f7f\">:</span><a href=\"file:///home/jd/research/reweighting/mr_toolkit/mr_toolkit/mr_toolkit/trajectory_analysis/traj_analysis.py#476\" target=\"_blank\"><span style=\"color: #7f7f7f; text-decoration-color: #7f7f7f\">476</span></a>\n",
       "<span style=\"color: #7fbfbf; text-decoration-color: #7fbfbf\">           </span>         eigenvalue                                                                 <span style=\"color: #7f7f7f; text-decoration-color: #7f7f7f\">                    </span>\n",
       "</pre>\n"
      ],
      "text/plain": [
       "\u001b[2;36m          \u001b[0m\u001b[2;36m \u001b[0m\u001b[31mWARNING \u001b[0m Stationary solution \u001b[1;36m70\u001b[0m is all in one bin in iter \u001b[1;36m1\u001b[0m -- picking next-biggest \u001b]8;id=985248;file:///home/jd/research/reweighting/mr_toolkit/mr_toolkit/mr_toolkit/trajectory_analysis/traj_analysis.py\u001b\\\u001b[2mtraj_analysis.py\u001b[0m\u001b]8;;\u001b\\\u001b[2m:\u001b[0m\u001b]8;id=418069;file:///home/jd/research/reweighting/mr_toolkit/mr_toolkit/mr_toolkit/trajectory_analysis/traj_analysis.py#476\u001b\\\u001b[2m476\u001b[0m\u001b]8;;\u001b\\\n",
       "\u001b[2;36m           \u001b[0m         eigenvalue                                                                 \u001b[2m                    \u001b[0m\n"
      ]
     },
     "metadata": {},
     "output_type": "display_data"
    },
    {
     "data": {
      "text/html": [
       "<pre style=\"white-space:pre;overflow-x:auto;line-height:normal;font-family:Menlo,'DejaVu Sans Mono',consolas,'Courier New',monospace\"><span style=\"color: #7fbfbf; text-decoration-color: #7fbfbf\">           </span><span style=\"color: #800000; text-decoration-color: #800000\">WARNING </span> Stationary solution <span style=\"color: #008080; text-decoration-color: #008080; font-weight: bold\">71</span> is all in one bin in iter <span style=\"color: #008080; text-decoration-color: #008080; font-weight: bold\">1</span> -- picking next-biggest <a href=\"file:///home/jd/research/reweighting/mr_toolkit/mr_toolkit/mr_toolkit/trajectory_analysis/traj_analysis.py\" target=\"_blank\"><span style=\"color: #7f7f7f; text-decoration-color: #7f7f7f\">traj_analysis.py</span></a><span style=\"color: #7f7f7f; text-decoration-color: #7f7f7f\">:</span><a href=\"file:///home/jd/research/reweighting/mr_toolkit/mr_toolkit/mr_toolkit/trajectory_analysis/traj_analysis.py#476\" target=\"_blank\"><span style=\"color: #7f7f7f; text-decoration-color: #7f7f7f\">476</span></a>\n",
       "<span style=\"color: #7fbfbf; text-decoration-color: #7fbfbf\">           </span>         eigenvalue                                                                 <span style=\"color: #7f7f7f; text-decoration-color: #7f7f7f\">                    </span>\n",
       "</pre>\n"
      ],
      "text/plain": [
       "\u001b[2;36m          \u001b[0m\u001b[2;36m \u001b[0m\u001b[31mWARNING \u001b[0m Stationary solution \u001b[1;36m71\u001b[0m is all in one bin in iter \u001b[1;36m1\u001b[0m -- picking next-biggest \u001b]8;id=951630;file:///home/jd/research/reweighting/mr_toolkit/mr_toolkit/mr_toolkit/trajectory_analysis/traj_analysis.py\u001b\\\u001b[2mtraj_analysis.py\u001b[0m\u001b]8;;\u001b\\\u001b[2m:\u001b[0m\u001b]8;id=304712;file:///home/jd/research/reweighting/mr_toolkit/mr_toolkit/mr_toolkit/trajectory_analysis/traj_analysis.py#476\u001b\\\u001b[2m476\u001b[0m\u001b]8;;\u001b\\\n",
       "\u001b[2;36m           \u001b[0m         eigenvalue                                                                 \u001b[2m                    \u001b[0m\n"
      ]
     },
     "metadata": {},
     "output_type": "display_data"
    },
    {
     "data": {
      "text/html": [
       "<pre style=\"white-space:pre;overflow-x:auto;line-height:normal;font-family:Menlo,'DejaVu Sans Mono',consolas,'Courier New',monospace\"><span style=\"color: #7fbfbf; text-decoration-color: #7fbfbf\">           </span><span style=\"color: #800000; text-decoration-color: #800000\">WARNING </span> Stationary solution <span style=\"color: #008080; text-decoration-color: #008080; font-weight: bold\">72</span> is all in one bin in iter <span style=\"color: #008080; text-decoration-color: #008080; font-weight: bold\">1</span> -- picking next-biggest <a href=\"file:///home/jd/research/reweighting/mr_toolkit/mr_toolkit/mr_toolkit/trajectory_analysis/traj_analysis.py\" target=\"_blank\"><span style=\"color: #7f7f7f; text-decoration-color: #7f7f7f\">traj_analysis.py</span></a><span style=\"color: #7f7f7f; text-decoration-color: #7f7f7f\">:</span><a href=\"file:///home/jd/research/reweighting/mr_toolkit/mr_toolkit/mr_toolkit/trajectory_analysis/traj_analysis.py#476\" target=\"_blank\"><span style=\"color: #7f7f7f; text-decoration-color: #7f7f7f\">476</span></a>\n",
       "<span style=\"color: #7fbfbf; text-decoration-color: #7fbfbf\">           </span>         eigenvalue                                                                 <span style=\"color: #7f7f7f; text-decoration-color: #7f7f7f\">                    </span>\n",
       "</pre>\n"
      ],
      "text/plain": [
       "\u001b[2;36m          \u001b[0m\u001b[2;36m \u001b[0m\u001b[31mWARNING \u001b[0m Stationary solution \u001b[1;36m72\u001b[0m is all in one bin in iter \u001b[1;36m1\u001b[0m -- picking next-biggest \u001b]8;id=207692;file:///home/jd/research/reweighting/mr_toolkit/mr_toolkit/mr_toolkit/trajectory_analysis/traj_analysis.py\u001b\\\u001b[2mtraj_analysis.py\u001b[0m\u001b]8;;\u001b\\\u001b[2m:\u001b[0m\u001b]8;id=334453;file:///home/jd/research/reweighting/mr_toolkit/mr_toolkit/mr_toolkit/trajectory_analysis/traj_analysis.py#476\u001b\\\u001b[2m476\u001b[0m\u001b]8;;\u001b\\\n",
       "\u001b[2;36m           \u001b[0m         eigenvalue                                                                 \u001b[2m                    \u001b[0m\n"
      ]
     },
     "metadata": {},
     "output_type": "display_data"
    },
    {
     "data": {
      "text/html": [
       "<pre style=\"white-space:pre;overflow-x:auto;line-height:normal;font-family:Menlo,'DejaVu Sans Mono',consolas,'Courier New',monospace\"><span style=\"color: #7fbfbf; text-decoration-color: #7fbfbf\">           </span><span style=\"color: #800000; text-decoration-color: #800000\">WARNING </span> Stationary solution <span style=\"color: #008080; text-decoration-color: #008080; font-weight: bold\">73</span> is all in one bin in iter <span style=\"color: #008080; text-decoration-color: #008080; font-weight: bold\">1</span> -- picking next-biggest <a href=\"file:///home/jd/research/reweighting/mr_toolkit/mr_toolkit/mr_toolkit/trajectory_analysis/traj_analysis.py\" target=\"_blank\"><span style=\"color: #7f7f7f; text-decoration-color: #7f7f7f\">traj_analysis.py</span></a><span style=\"color: #7f7f7f; text-decoration-color: #7f7f7f\">:</span><a href=\"file:///home/jd/research/reweighting/mr_toolkit/mr_toolkit/mr_toolkit/trajectory_analysis/traj_analysis.py#476\" target=\"_blank\"><span style=\"color: #7f7f7f; text-decoration-color: #7f7f7f\">476</span></a>\n",
       "<span style=\"color: #7fbfbf; text-decoration-color: #7fbfbf\">           </span>         eigenvalue                                                                 <span style=\"color: #7f7f7f; text-decoration-color: #7f7f7f\">                    </span>\n",
       "</pre>\n"
      ],
      "text/plain": [
       "\u001b[2;36m          \u001b[0m\u001b[2;36m \u001b[0m\u001b[31mWARNING \u001b[0m Stationary solution \u001b[1;36m73\u001b[0m is all in one bin in iter \u001b[1;36m1\u001b[0m -- picking next-biggest \u001b]8;id=726067;file:///home/jd/research/reweighting/mr_toolkit/mr_toolkit/mr_toolkit/trajectory_analysis/traj_analysis.py\u001b\\\u001b[2mtraj_analysis.py\u001b[0m\u001b]8;;\u001b\\\u001b[2m:\u001b[0m\u001b]8;id=691958;file:///home/jd/research/reweighting/mr_toolkit/mr_toolkit/mr_toolkit/trajectory_analysis/traj_analysis.py#476\u001b\\\u001b[2m476\u001b[0m\u001b]8;;\u001b\\\n",
       "\u001b[2;36m           \u001b[0m         eigenvalue                                                                 \u001b[2m                    \u001b[0m\n"
      ]
     },
     "metadata": {},
     "output_type": "display_data"
    },
    {
     "data": {
      "text/html": [
       "<pre style=\"white-space:pre;overflow-x:auto;line-height:normal;font-family:Menlo,'DejaVu Sans Mono',consolas,'Courier New',monospace\"><span style=\"color: #7fbfbf; text-decoration-color: #7fbfbf\">           </span><span style=\"color: #800000; text-decoration-color: #800000\">WARNING </span> Stationary solution <span style=\"color: #008080; text-decoration-color: #008080; font-weight: bold\">74</span> is all in one bin in iter <span style=\"color: #008080; text-decoration-color: #008080; font-weight: bold\">1</span> -- picking next-biggest <a href=\"file:///home/jd/research/reweighting/mr_toolkit/mr_toolkit/mr_toolkit/trajectory_analysis/traj_analysis.py\" target=\"_blank\"><span style=\"color: #7f7f7f; text-decoration-color: #7f7f7f\">traj_analysis.py</span></a><span style=\"color: #7f7f7f; text-decoration-color: #7f7f7f\">:</span><a href=\"file:///home/jd/research/reweighting/mr_toolkit/mr_toolkit/mr_toolkit/trajectory_analysis/traj_analysis.py#476\" target=\"_blank\"><span style=\"color: #7f7f7f; text-decoration-color: #7f7f7f\">476</span></a>\n",
       "<span style=\"color: #7fbfbf; text-decoration-color: #7fbfbf\">           </span>         eigenvalue                                                                 <span style=\"color: #7f7f7f; text-decoration-color: #7f7f7f\">                    </span>\n",
       "</pre>\n"
      ],
      "text/plain": [
       "\u001b[2;36m          \u001b[0m\u001b[2;36m \u001b[0m\u001b[31mWARNING \u001b[0m Stationary solution \u001b[1;36m74\u001b[0m is all in one bin in iter \u001b[1;36m1\u001b[0m -- picking next-biggest \u001b]8;id=227771;file:///home/jd/research/reweighting/mr_toolkit/mr_toolkit/mr_toolkit/trajectory_analysis/traj_analysis.py\u001b\\\u001b[2mtraj_analysis.py\u001b[0m\u001b]8;;\u001b\\\u001b[2m:\u001b[0m\u001b]8;id=858052;file:///home/jd/research/reweighting/mr_toolkit/mr_toolkit/mr_toolkit/trajectory_analysis/traj_analysis.py#476\u001b\\\u001b[2m476\u001b[0m\u001b]8;;\u001b\\\n",
       "\u001b[2;36m           \u001b[0m         eigenvalue                                                                 \u001b[2m                    \u001b[0m\n"
      ]
     },
     "metadata": {},
     "output_type": "display_data"
    },
    {
     "data": {
      "text/html": [
       "<pre style=\"white-space:pre;overflow-x:auto;line-height:normal;font-family:Menlo,'DejaVu Sans Mono',consolas,'Courier New',monospace\"><span style=\"color: #7fbfbf; text-decoration-color: #7fbfbf\">           </span><span style=\"color: #800000; text-decoration-color: #800000\">WARNING </span> Stationary solution <span style=\"color: #008080; text-decoration-color: #008080; font-weight: bold\">75</span> is all in one bin in iter <span style=\"color: #008080; text-decoration-color: #008080; font-weight: bold\">1</span> -- picking next-biggest <a href=\"file:///home/jd/research/reweighting/mr_toolkit/mr_toolkit/mr_toolkit/trajectory_analysis/traj_analysis.py\" target=\"_blank\"><span style=\"color: #7f7f7f; text-decoration-color: #7f7f7f\">traj_analysis.py</span></a><span style=\"color: #7f7f7f; text-decoration-color: #7f7f7f\">:</span><a href=\"file:///home/jd/research/reweighting/mr_toolkit/mr_toolkit/mr_toolkit/trajectory_analysis/traj_analysis.py#476\" target=\"_blank\"><span style=\"color: #7f7f7f; text-decoration-color: #7f7f7f\">476</span></a>\n",
       "<span style=\"color: #7fbfbf; text-decoration-color: #7fbfbf\">           </span>         eigenvalue                                                                 <span style=\"color: #7f7f7f; text-decoration-color: #7f7f7f\">                    </span>\n",
       "</pre>\n"
      ],
      "text/plain": [
       "\u001b[2;36m          \u001b[0m\u001b[2;36m \u001b[0m\u001b[31mWARNING \u001b[0m Stationary solution \u001b[1;36m75\u001b[0m is all in one bin in iter \u001b[1;36m1\u001b[0m -- picking next-biggest \u001b]8;id=630331;file:///home/jd/research/reweighting/mr_toolkit/mr_toolkit/mr_toolkit/trajectory_analysis/traj_analysis.py\u001b\\\u001b[2mtraj_analysis.py\u001b[0m\u001b]8;;\u001b\\\u001b[2m:\u001b[0m\u001b]8;id=669002;file:///home/jd/research/reweighting/mr_toolkit/mr_toolkit/mr_toolkit/trajectory_analysis/traj_analysis.py#476\u001b\\\u001b[2m476\u001b[0m\u001b]8;;\u001b\\\n",
       "\u001b[2;36m           \u001b[0m         eigenvalue                                                                 \u001b[2m                    \u001b[0m\n"
      ]
     },
     "metadata": {},
     "output_type": "display_data"
    },
    {
     "data": {
      "text/html": [
       "<pre style=\"white-space:pre;overflow-x:auto;line-height:normal;font-family:Menlo,'DejaVu Sans Mono',consolas,'Courier New',monospace\"><span style=\"color: #7fbfbf; text-decoration-color: #7fbfbf\">           </span><span style=\"color: #800000; text-decoration-color: #800000\">WARNING </span> Stationary solution <span style=\"color: #008080; text-decoration-color: #008080; font-weight: bold\">76</span> is all in one bin in iter <span style=\"color: #008080; text-decoration-color: #008080; font-weight: bold\">1</span> -- picking next-biggest <a href=\"file:///home/jd/research/reweighting/mr_toolkit/mr_toolkit/mr_toolkit/trajectory_analysis/traj_analysis.py\" target=\"_blank\"><span style=\"color: #7f7f7f; text-decoration-color: #7f7f7f\">traj_analysis.py</span></a><span style=\"color: #7f7f7f; text-decoration-color: #7f7f7f\">:</span><a href=\"file:///home/jd/research/reweighting/mr_toolkit/mr_toolkit/mr_toolkit/trajectory_analysis/traj_analysis.py#476\" target=\"_blank\"><span style=\"color: #7f7f7f; text-decoration-color: #7f7f7f\">476</span></a>\n",
       "<span style=\"color: #7fbfbf; text-decoration-color: #7fbfbf\">           </span>         eigenvalue                                                                 <span style=\"color: #7f7f7f; text-decoration-color: #7f7f7f\">                    </span>\n",
       "</pre>\n"
      ],
      "text/plain": [
       "\u001b[2;36m          \u001b[0m\u001b[2;36m \u001b[0m\u001b[31mWARNING \u001b[0m Stationary solution \u001b[1;36m76\u001b[0m is all in one bin in iter \u001b[1;36m1\u001b[0m -- picking next-biggest \u001b]8;id=306113;file:///home/jd/research/reweighting/mr_toolkit/mr_toolkit/mr_toolkit/trajectory_analysis/traj_analysis.py\u001b\\\u001b[2mtraj_analysis.py\u001b[0m\u001b]8;;\u001b\\\u001b[2m:\u001b[0m\u001b]8;id=679090;file:///home/jd/research/reweighting/mr_toolkit/mr_toolkit/mr_toolkit/trajectory_analysis/traj_analysis.py#476\u001b\\\u001b[2m476\u001b[0m\u001b]8;;\u001b\\\n",
       "\u001b[2;36m           \u001b[0m         eigenvalue                                                                 \u001b[2m                    \u001b[0m\n"
      ]
     },
     "metadata": {},
     "output_type": "display_data"
    },
    {
     "data": {
      "text/html": [
       "<pre style=\"white-space:pre;overflow-x:auto;line-height:normal;font-family:Menlo,'DejaVu Sans Mono',consolas,'Courier New',monospace\"><span style=\"color: #7fbfbf; text-decoration-color: #7fbfbf\">           </span><span style=\"color: #800000; text-decoration-color: #800000\">WARNING </span> Stationary solution <span style=\"color: #008080; text-decoration-color: #008080; font-weight: bold\">77</span> is all in one bin in iter <span style=\"color: #008080; text-decoration-color: #008080; font-weight: bold\">1</span> -- picking next-biggest <a href=\"file:///home/jd/research/reweighting/mr_toolkit/mr_toolkit/mr_toolkit/trajectory_analysis/traj_analysis.py\" target=\"_blank\"><span style=\"color: #7f7f7f; text-decoration-color: #7f7f7f\">traj_analysis.py</span></a><span style=\"color: #7f7f7f; text-decoration-color: #7f7f7f\">:</span><a href=\"file:///home/jd/research/reweighting/mr_toolkit/mr_toolkit/mr_toolkit/trajectory_analysis/traj_analysis.py#476\" target=\"_blank\"><span style=\"color: #7f7f7f; text-decoration-color: #7f7f7f\">476</span></a>\n",
       "<span style=\"color: #7fbfbf; text-decoration-color: #7fbfbf\">           </span>         eigenvalue                                                                 <span style=\"color: #7f7f7f; text-decoration-color: #7f7f7f\">                    </span>\n",
       "</pre>\n"
      ],
      "text/plain": [
       "\u001b[2;36m          \u001b[0m\u001b[2;36m \u001b[0m\u001b[31mWARNING \u001b[0m Stationary solution \u001b[1;36m77\u001b[0m is all in one bin in iter \u001b[1;36m1\u001b[0m -- picking next-biggest \u001b]8;id=71606;file:///home/jd/research/reweighting/mr_toolkit/mr_toolkit/mr_toolkit/trajectory_analysis/traj_analysis.py\u001b\\\u001b[2mtraj_analysis.py\u001b[0m\u001b]8;;\u001b\\\u001b[2m:\u001b[0m\u001b]8;id=755607;file:///home/jd/research/reweighting/mr_toolkit/mr_toolkit/mr_toolkit/trajectory_analysis/traj_analysis.py#476\u001b\\\u001b[2m476\u001b[0m\u001b]8;;\u001b\\\n",
       "\u001b[2;36m           \u001b[0m         eigenvalue                                                                 \u001b[2m                    \u001b[0m\n"
      ]
     },
     "metadata": {},
     "output_type": "display_data"
    },
    {
     "data": {
      "text/html": [
       "<pre style=\"white-space:pre;overflow-x:auto;line-height:normal;font-family:Menlo,'DejaVu Sans Mono',consolas,'Courier New',monospace\"><span style=\"color: #7fbfbf; text-decoration-color: #7fbfbf\">           </span><span style=\"color: #800000; text-decoration-color: #800000\">WARNING </span> Stationary solution <span style=\"color: #008080; text-decoration-color: #008080; font-weight: bold\">78</span> is all in one bin in iter <span style=\"color: #008080; text-decoration-color: #008080; font-weight: bold\">1</span> -- picking next-biggest <a href=\"file:///home/jd/research/reweighting/mr_toolkit/mr_toolkit/mr_toolkit/trajectory_analysis/traj_analysis.py\" target=\"_blank\"><span style=\"color: #7f7f7f; text-decoration-color: #7f7f7f\">traj_analysis.py</span></a><span style=\"color: #7f7f7f; text-decoration-color: #7f7f7f\">:</span><a href=\"file:///home/jd/research/reweighting/mr_toolkit/mr_toolkit/mr_toolkit/trajectory_analysis/traj_analysis.py#476\" target=\"_blank\"><span style=\"color: #7f7f7f; text-decoration-color: #7f7f7f\">476</span></a>\n",
       "<span style=\"color: #7fbfbf; text-decoration-color: #7fbfbf\">           </span>         eigenvalue                                                                 <span style=\"color: #7f7f7f; text-decoration-color: #7f7f7f\">                    </span>\n",
       "</pre>\n"
      ],
      "text/plain": [
       "\u001b[2;36m          \u001b[0m\u001b[2;36m \u001b[0m\u001b[31mWARNING \u001b[0m Stationary solution \u001b[1;36m78\u001b[0m is all in one bin in iter \u001b[1;36m1\u001b[0m -- picking next-biggest \u001b]8;id=794802;file:///home/jd/research/reweighting/mr_toolkit/mr_toolkit/mr_toolkit/trajectory_analysis/traj_analysis.py\u001b\\\u001b[2mtraj_analysis.py\u001b[0m\u001b]8;;\u001b\\\u001b[2m:\u001b[0m\u001b]8;id=283193;file:///home/jd/research/reweighting/mr_toolkit/mr_toolkit/mr_toolkit/trajectory_analysis/traj_analysis.py#476\u001b\\\u001b[2m476\u001b[0m\u001b]8;;\u001b\\\n",
       "\u001b[2;36m           \u001b[0m         eigenvalue                                                                 \u001b[2m                    \u001b[0m\n"
      ]
     },
     "metadata": {},
     "output_type": "display_data"
    },
    {
     "data": {
      "text/html": [
       "<pre style=\"white-space:pre;overflow-x:auto;line-height:normal;font-family:Menlo,'DejaVu Sans Mono',consolas,'Courier New',monospace\"><span style=\"color: #7fbfbf; text-decoration-color: #7fbfbf\">           </span><span style=\"color: #800000; text-decoration-color: #800000\">WARNING </span> Stationary solution <span style=\"color: #008080; text-decoration-color: #008080; font-weight: bold\">79</span> is all in one bin in iter <span style=\"color: #008080; text-decoration-color: #008080; font-weight: bold\">1</span> -- picking next-biggest <a href=\"file:///home/jd/research/reweighting/mr_toolkit/mr_toolkit/mr_toolkit/trajectory_analysis/traj_analysis.py\" target=\"_blank\"><span style=\"color: #7f7f7f; text-decoration-color: #7f7f7f\">traj_analysis.py</span></a><span style=\"color: #7f7f7f; text-decoration-color: #7f7f7f\">:</span><a href=\"file:///home/jd/research/reweighting/mr_toolkit/mr_toolkit/mr_toolkit/trajectory_analysis/traj_analysis.py#476\" target=\"_blank\"><span style=\"color: #7f7f7f; text-decoration-color: #7f7f7f\">476</span></a>\n",
       "<span style=\"color: #7fbfbf; text-decoration-color: #7fbfbf\">           </span>         eigenvalue                                                                 <span style=\"color: #7f7f7f; text-decoration-color: #7f7f7f\">                    </span>\n",
       "</pre>\n"
      ],
      "text/plain": [
       "\u001b[2;36m          \u001b[0m\u001b[2;36m \u001b[0m\u001b[31mWARNING \u001b[0m Stationary solution \u001b[1;36m79\u001b[0m is all in one bin in iter \u001b[1;36m1\u001b[0m -- picking next-biggest \u001b]8;id=346735;file:///home/jd/research/reweighting/mr_toolkit/mr_toolkit/mr_toolkit/trajectory_analysis/traj_analysis.py\u001b\\\u001b[2mtraj_analysis.py\u001b[0m\u001b]8;;\u001b\\\u001b[2m:\u001b[0m\u001b]8;id=12720;file:///home/jd/research/reweighting/mr_toolkit/mr_toolkit/mr_toolkit/trajectory_analysis/traj_analysis.py#476\u001b\\\u001b[2m476\u001b[0m\u001b]8;;\u001b\\\n",
       "\u001b[2;36m           \u001b[0m         eigenvalue                                                                 \u001b[2m                    \u001b[0m\n"
      ]
     },
     "metadata": {},
     "output_type": "display_data"
    },
    {
     "data": {
      "text/html": [
       "<pre style=\"white-space:pre;overflow-x:auto;line-height:normal;font-family:Menlo,'DejaVu Sans Mono',consolas,'Courier New',monospace\"><span style=\"color: #7fbfbf; text-decoration-color: #7fbfbf\">           </span><span style=\"color: #800000; text-decoration-color: #800000\">WARNING </span> Stationary solution <span style=\"color: #008080; text-decoration-color: #008080; font-weight: bold\">80</span> is all in one bin in iter <span style=\"color: #008080; text-decoration-color: #008080; font-weight: bold\">1</span> -- picking next-biggest <a href=\"file:///home/jd/research/reweighting/mr_toolkit/mr_toolkit/mr_toolkit/trajectory_analysis/traj_analysis.py\" target=\"_blank\"><span style=\"color: #7f7f7f; text-decoration-color: #7f7f7f\">traj_analysis.py</span></a><span style=\"color: #7f7f7f; text-decoration-color: #7f7f7f\">:</span><a href=\"file:///home/jd/research/reweighting/mr_toolkit/mr_toolkit/mr_toolkit/trajectory_analysis/traj_analysis.py#476\" target=\"_blank\"><span style=\"color: #7f7f7f; text-decoration-color: #7f7f7f\">476</span></a>\n",
       "<span style=\"color: #7fbfbf; text-decoration-color: #7fbfbf\">           </span>         eigenvalue                                                                 <span style=\"color: #7f7f7f; text-decoration-color: #7f7f7f\">                    </span>\n",
       "</pre>\n"
      ],
      "text/plain": [
       "\u001b[2;36m          \u001b[0m\u001b[2;36m \u001b[0m\u001b[31mWARNING \u001b[0m Stationary solution \u001b[1;36m80\u001b[0m is all in one bin in iter \u001b[1;36m1\u001b[0m -- picking next-biggest \u001b]8;id=16456;file:///home/jd/research/reweighting/mr_toolkit/mr_toolkit/mr_toolkit/trajectory_analysis/traj_analysis.py\u001b\\\u001b[2mtraj_analysis.py\u001b[0m\u001b]8;;\u001b\\\u001b[2m:\u001b[0m\u001b]8;id=511376;file:///home/jd/research/reweighting/mr_toolkit/mr_toolkit/mr_toolkit/trajectory_analysis/traj_analysis.py#476\u001b\\\u001b[2m476\u001b[0m\u001b]8;;\u001b\\\n",
       "\u001b[2;36m           \u001b[0m         eigenvalue                                                                 \u001b[2m                    \u001b[0m\n"
      ]
     },
     "metadata": {},
     "output_type": "display_data"
    },
    {
     "data": {
      "text/html": [
       "<pre style=\"white-space:pre;overflow-x:auto;line-height:normal;font-family:Menlo,'DejaVu Sans Mono',consolas,'Courier New',monospace\"><span style=\"color: #7fbfbf; text-decoration-color: #7fbfbf\">           </span><span style=\"color: #800000; text-decoration-color: #800000\">WARNING </span> Stationary solution <span style=\"color: #008080; text-decoration-color: #008080; font-weight: bold\">81</span> is all in one bin in iter <span style=\"color: #008080; text-decoration-color: #008080; font-weight: bold\">1</span> -- picking next-biggest <a href=\"file:///home/jd/research/reweighting/mr_toolkit/mr_toolkit/mr_toolkit/trajectory_analysis/traj_analysis.py\" target=\"_blank\"><span style=\"color: #7f7f7f; text-decoration-color: #7f7f7f\">traj_analysis.py</span></a><span style=\"color: #7f7f7f; text-decoration-color: #7f7f7f\">:</span><a href=\"file:///home/jd/research/reweighting/mr_toolkit/mr_toolkit/mr_toolkit/trajectory_analysis/traj_analysis.py#476\" target=\"_blank\"><span style=\"color: #7f7f7f; text-decoration-color: #7f7f7f\">476</span></a>\n",
       "<span style=\"color: #7fbfbf; text-decoration-color: #7fbfbf\">           </span>         eigenvalue                                                                 <span style=\"color: #7f7f7f; text-decoration-color: #7f7f7f\">                    </span>\n",
       "</pre>\n"
      ],
      "text/plain": [
       "\u001b[2;36m          \u001b[0m\u001b[2;36m \u001b[0m\u001b[31mWARNING \u001b[0m Stationary solution \u001b[1;36m81\u001b[0m is all in one bin in iter \u001b[1;36m1\u001b[0m -- picking next-biggest \u001b]8;id=457068;file:///home/jd/research/reweighting/mr_toolkit/mr_toolkit/mr_toolkit/trajectory_analysis/traj_analysis.py\u001b\\\u001b[2mtraj_analysis.py\u001b[0m\u001b]8;;\u001b\\\u001b[2m:\u001b[0m\u001b]8;id=666223;file:///home/jd/research/reweighting/mr_toolkit/mr_toolkit/mr_toolkit/trajectory_analysis/traj_analysis.py#476\u001b\\\u001b[2m476\u001b[0m\u001b]8;;\u001b\\\n",
       "\u001b[2;36m           \u001b[0m         eigenvalue                                                                 \u001b[2m                    \u001b[0m\n"
      ]
     },
     "metadata": {},
     "output_type": "display_data"
    },
    {
     "data": {
      "text/html": [
       "<pre style=\"white-space:pre;overflow-x:auto;line-height:normal;font-family:Menlo,'DejaVu Sans Mono',consolas,'Courier New',monospace\"><span style=\"color: #7fbfbf; text-decoration-color: #7fbfbf\">           </span><span style=\"color: #800000; text-decoration-color: #800000\">WARNING </span> Stationary solution <span style=\"color: #008080; text-decoration-color: #008080; font-weight: bold\">82</span> is all in one bin in iter <span style=\"color: #008080; text-decoration-color: #008080; font-weight: bold\">1</span> -- picking next-biggest <a href=\"file:///home/jd/research/reweighting/mr_toolkit/mr_toolkit/mr_toolkit/trajectory_analysis/traj_analysis.py\" target=\"_blank\"><span style=\"color: #7f7f7f; text-decoration-color: #7f7f7f\">traj_analysis.py</span></a><span style=\"color: #7f7f7f; text-decoration-color: #7f7f7f\">:</span><a href=\"file:///home/jd/research/reweighting/mr_toolkit/mr_toolkit/mr_toolkit/trajectory_analysis/traj_analysis.py#476\" target=\"_blank\"><span style=\"color: #7f7f7f; text-decoration-color: #7f7f7f\">476</span></a>\n",
       "<span style=\"color: #7fbfbf; text-decoration-color: #7fbfbf\">           </span>         eigenvalue                                                                 <span style=\"color: #7f7f7f; text-decoration-color: #7f7f7f\">                    </span>\n",
       "</pre>\n"
      ],
      "text/plain": [
       "\u001b[2;36m          \u001b[0m\u001b[2;36m \u001b[0m\u001b[31mWARNING \u001b[0m Stationary solution \u001b[1;36m82\u001b[0m is all in one bin in iter \u001b[1;36m1\u001b[0m -- picking next-biggest \u001b]8;id=231907;file:///home/jd/research/reweighting/mr_toolkit/mr_toolkit/mr_toolkit/trajectory_analysis/traj_analysis.py\u001b\\\u001b[2mtraj_analysis.py\u001b[0m\u001b]8;;\u001b\\\u001b[2m:\u001b[0m\u001b]8;id=959652;file:///home/jd/research/reweighting/mr_toolkit/mr_toolkit/mr_toolkit/trajectory_analysis/traj_analysis.py#476\u001b\\\u001b[2m476\u001b[0m\u001b]8;;\u001b\\\n",
       "\u001b[2;36m           \u001b[0m         eigenvalue                                                                 \u001b[2m                    \u001b[0m\n"
      ]
     },
     "metadata": {},
     "output_type": "display_data"
    },
    {
     "data": {
      "text/html": [
       "<pre style=\"white-space:pre;overflow-x:auto;line-height:normal;font-family:Menlo,'DejaVu Sans Mono',consolas,'Courier New',monospace\"><span style=\"color: #7fbfbf; text-decoration-color: #7fbfbf\">           </span><span style=\"color: #800000; text-decoration-color: #800000\">WARNING </span> Stationary solution <span style=\"color: #008080; text-decoration-color: #008080; font-weight: bold\">83</span> is all in one bin in iter <span style=\"color: #008080; text-decoration-color: #008080; font-weight: bold\">1</span> -- picking next-biggest <a href=\"file:///home/jd/research/reweighting/mr_toolkit/mr_toolkit/mr_toolkit/trajectory_analysis/traj_analysis.py\" target=\"_blank\"><span style=\"color: #7f7f7f; text-decoration-color: #7f7f7f\">traj_analysis.py</span></a><span style=\"color: #7f7f7f; text-decoration-color: #7f7f7f\">:</span><a href=\"file:///home/jd/research/reweighting/mr_toolkit/mr_toolkit/mr_toolkit/trajectory_analysis/traj_analysis.py#476\" target=\"_blank\"><span style=\"color: #7f7f7f; text-decoration-color: #7f7f7f\">476</span></a>\n",
       "<span style=\"color: #7fbfbf; text-decoration-color: #7fbfbf\">           </span>         eigenvalue                                                                 <span style=\"color: #7f7f7f; text-decoration-color: #7f7f7f\">                    </span>\n",
       "</pre>\n"
      ],
      "text/plain": [
       "\u001b[2;36m          \u001b[0m\u001b[2;36m \u001b[0m\u001b[31mWARNING \u001b[0m Stationary solution \u001b[1;36m83\u001b[0m is all in one bin in iter \u001b[1;36m1\u001b[0m -- picking next-biggest \u001b]8;id=777693;file:///home/jd/research/reweighting/mr_toolkit/mr_toolkit/mr_toolkit/trajectory_analysis/traj_analysis.py\u001b\\\u001b[2mtraj_analysis.py\u001b[0m\u001b]8;;\u001b\\\u001b[2m:\u001b[0m\u001b]8;id=569788;file:///home/jd/research/reweighting/mr_toolkit/mr_toolkit/mr_toolkit/trajectory_analysis/traj_analysis.py#476\u001b\\\u001b[2m476\u001b[0m\u001b]8;;\u001b\\\n",
       "\u001b[2;36m           \u001b[0m         eigenvalue                                                                 \u001b[2m                    \u001b[0m\n"
      ]
     },
     "metadata": {},
     "output_type": "display_data"
    },
    {
     "data": {
      "text/html": [
       "<pre style=\"white-space:pre;overflow-x:auto;line-height:normal;font-family:Menlo,'DejaVu Sans Mono',consolas,'Courier New',monospace\"><span style=\"color: #7fbfbf; text-decoration-color: #7fbfbf\">           </span><span style=\"color: #800000; text-decoration-color: #800000\">WARNING </span> Stationary solution <span style=\"color: #008080; text-decoration-color: #008080; font-weight: bold\">84</span> is all in one bin in iter <span style=\"color: #008080; text-decoration-color: #008080; font-weight: bold\">1</span> -- picking next-biggest <a href=\"file:///home/jd/research/reweighting/mr_toolkit/mr_toolkit/mr_toolkit/trajectory_analysis/traj_analysis.py\" target=\"_blank\"><span style=\"color: #7f7f7f; text-decoration-color: #7f7f7f\">traj_analysis.py</span></a><span style=\"color: #7f7f7f; text-decoration-color: #7f7f7f\">:</span><a href=\"file:///home/jd/research/reweighting/mr_toolkit/mr_toolkit/mr_toolkit/trajectory_analysis/traj_analysis.py#476\" target=\"_blank\"><span style=\"color: #7f7f7f; text-decoration-color: #7f7f7f\">476</span></a>\n",
       "<span style=\"color: #7fbfbf; text-decoration-color: #7fbfbf\">           </span>         eigenvalue                                                                 <span style=\"color: #7f7f7f; text-decoration-color: #7f7f7f\">                    </span>\n",
       "</pre>\n"
      ],
      "text/plain": [
       "\u001b[2;36m          \u001b[0m\u001b[2;36m \u001b[0m\u001b[31mWARNING \u001b[0m Stationary solution \u001b[1;36m84\u001b[0m is all in one bin in iter \u001b[1;36m1\u001b[0m -- picking next-biggest \u001b]8;id=559340;file:///home/jd/research/reweighting/mr_toolkit/mr_toolkit/mr_toolkit/trajectory_analysis/traj_analysis.py\u001b\\\u001b[2mtraj_analysis.py\u001b[0m\u001b]8;;\u001b\\\u001b[2m:\u001b[0m\u001b]8;id=550731;file:///home/jd/research/reweighting/mr_toolkit/mr_toolkit/mr_toolkit/trajectory_analysis/traj_analysis.py#476\u001b\\\u001b[2m476\u001b[0m\u001b]8;;\u001b\\\n",
       "\u001b[2;36m           \u001b[0m         eigenvalue                                                                 \u001b[2m                    \u001b[0m\n"
      ]
     },
     "metadata": {},
     "output_type": "display_data"
    },
    {
     "data": {
      "text/html": [
       "<pre style=\"white-space:pre;overflow-x:auto;line-height:normal;font-family:Menlo,'DejaVu Sans Mono',consolas,'Courier New',monospace\"><span style=\"color: #7fbfbf; text-decoration-color: #7fbfbf\">           </span><span style=\"color: #800000; text-decoration-color: #800000\">WARNING </span> Stationary solution <span style=\"color: #008080; text-decoration-color: #008080; font-weight: bold\">85</span> is all in one bin in iter <span style=\"color: #008080; text-decoration-color: #008080; font-weight: bold\">1</span> -- picking next-biggest <a href=\"file:///home/jd/research/reweighting/mr_toolkit/mr_toolkit/mr_toolkit/trajectory_analysis/traj_analysis.py\" target=\"_blank\"><span style=\"color: #7f7f7f; text-decoration-color: #7f7f7f\">traj_analysis.py</span></a><span style=\"color: #7f7f7f; text-decoration-color: #7f7f7f\">:</span><a href=\"file:///home/jd/research/reweighting/mr_toolkit/mr_toolkit/mr_toolkit/trajectory_analysis/traj_analysis.py#476\" target=\"_blank\"><span style=\"color: #7f7f7f; text-decoration-color: #7f7f7f\">476</span></a>\n",
       "<span style=\"color: #7fbfbf; text-decoration-color: #7fbfbf\">           </span>         eigenvalue                                                                 <span style=\"color: #7f7f7f; text-decoration-color: #7f7f7f\">                    </span>\n",
       "</pre>\n"
      ],
      "text/plain": [
       "\u001b[2;36m          \u001b[0m\u001b[2;36m \u001b[0m\u001b[31mWARNING \u001b[0m Stationary solution \u001b[1;36m85\u001b[0m is all in one bin in iter \u001b[1;36m1\u001b[0m -- picking next-biggest \u001b]8;id=102514;file:///home/jd/research/reweighting/mr_toolkit/mr_toolkit/mr_toolkit/trajectory_analysis/traj_analysis.py\u001b\\\u001b[2mtraj_analysis.py\u001b[0m\u001b]8;;\u001b\\\u001b[2m:\u001b[0m\u001b]8;id=760655;file:///home/jd/research/reweighting/mr_toolkit/mr_toolkit/mr_toolkit/trajectory_analysis/traj_analysis.py#476\u001b\\\u001b[2m476\u001b[0m\u001b]8;;\u001b\\\n",
       "\u001b[2;36m           \u001b[0m         eigenvalue                                                                 \u001b[2m                    \u001b[0m\n"
      ]
     },
     "metadata": {},
     "output_type": "display_data"
    },
    {
     "data": {
      "text/html": [
       "<pre style=\"white-space:pre;overflow-x:auto;line-height:normal;font-family:Menlo,'DejaVu Sans Mono',consolas,'Courier New',monospace\"><span style=\"color: #7fbfbf; text-decoration-color: #7fbfbf\">           </span><span style=\"color: #800000; text-decoration-color: #800000\">WARNING </span> Stationary solution <span style=\"color: #008080; text-decoration-color: #008080; font-weight: bold\">86</span> is all in one bin in iter <span style=\"color: #008080; text-decoration-color: #008080; font-weight: bold\">1</span> -- picking next-biggest <a href=\"file:///home/jd/research/reweighting/mr_toolkit/mr_toolkit/mr_toolkit/trajectory_analysis/traj_analysis.py\" target=\"_blank\"><span style=\"color: #7f7f7f; text-decoration-color: #7f7f7f\">traj_analysis.py</span></a><span style=\"color: #7f7f7f; text-decoration-color: #7f7f7f\">:</span><a href=\"file:///home/jd/research/reweighting/mr_toolkit/mr_toolkit/mr_toolkit/trajectory_analysis/traj_analysis.py#476\" target=\"_blank\"><span style=\"color: #7f7f7f; text-decoration-color: #7f7f7f\">476</span></a>\n",
       "<span style=\"color: #7fbfbf; text-decoration-color: #7fbfbf\">           </span>         eigenvalue                                                                 <span style=\"color: #7f7f7f; text-decoration-color: #7f7f7f\">                    </span>\n",
       "</pre>\n"
      ],
      "text/plain": [
       "\u001b[2;36m          \u001b[0m\u001b[2;36m \u001b[0m\u001b[31mWARNING \u001b[0m Stationary solution \u001b[1;36m86\u001b[0m is all in one bin in iter \u001b[1;36m1\u001b[0m -- picking next-biggest \u001b]8;id=482129;file:///home/jd/research/reweighting/mr_toolkit/mr_toolkit/mr_toolkit/trajectory_analysis/traj_analysis.py\u001b\\\u001b[2mtraj_analysis.py\u001b[0m\u001b]8;;\u001b\\\u001b[2m:\u001b[0m\u001b]8;id=273750;file:///home/jd/research/reweighting/mr_toolkit/mr_toolkit/mr_toolkit/trajectory_analysis/traj_analysis.py#476\u001b\\\u001b[2m476\u001b[0m\u001b]8;;\u001b\\\n",
       "\u001b[2;36m           \u001b[0m         eigenvalue                                                                 \u001b[2m                    \u001b[0m\n"
      ]
     },
     "metadata": {},
     "output_type": "display_data"
    },
    {
     "data": {
      "text/html": [
       "<pre style=\"white-space:pre;overflow-x:auto;line-height:normal;font-family:Menlo,'DejaVu Sans Mono',consolas,'Courier New',monospace\"><span style=\"color: #7fbfbf; text-decoration-color: #7fbfbf\">           </span><span style=\"color: #800000; text-decoration-color: #800000\">WARNING </span> Stationary solution <span style=\"color: #008080; text-decoration-color: #008080; font-weight: bold\">87</span> is all in one bin in iter <span style=\"color: #008080; text-decoration-color: #008080; font-weight: bold\">1</span> -- picking next-biggest <a href=\"file:///home/jd/research/reweighting/mr_toolkit/mr_toolkit/mr_toolkit/trajectory_analysis/traj_analysis.py\" target=\"_blank\"><span style=\"color: #7f7f7f; text-decoration-color: #7f7f7f\">traj_analysis.py</span></a><span style=\"color: #7f7f7f; text-decoration-color: #7f7f7f\">:</span><a href=\"file:///home/jd/research/reweighting/mr_toolkit/mr_toolkit/mr_toolkit/trajectory_analysis/traj_analysis.py#476\" target=\"_blank\"><span style=\"color: #7f7f7f; text-decoration-color: #7f7f7f\">476</span></a>\n",
       "<span style=\"color: #7fbfbf; text-decoration-color: #7fbfbf\">           </span>         eigenvalue                                                                 <span style=\"color: #7f7f7f; text-decoration-color: #7f7f7f\">                    </span>\n",
       "</pre>\n"
      ],
      "text/plain": [
       "\u001b[2;36m          \u001b[0m\u001b[2;36m \u001b[0m\u001b[31mWARNING \u001b[0m Stationary solution \u001b[1;36m87\u001b[0m is all in one bin in iter \u001b[1;36m1\u001b[0m -- picking next-biggest \u001b]8;id=11243;file:///home/jd/research/reweighting/mr_toolkit/mr_toolkit/mr_toolkit/trajectory_analysis/traj_analysis.py\u001b\\\u001b[2mtraj_analysis.py\u001b[0m\u001b]8;;\u001b\\\u001b[2m:\u001b[0m\u001b]8;id=786355;file:///home/jd/research/reweighting/mr_toolkit/mr_toolkit/mr_toolkit/trajectory_analysis/traj_analysis.py#476\u001b\\\u001b[2m476\u001b[0m\u001b]8;;\u001b\\\n",
       "\u001b[2;36m           \u001b[0m         eigenvalue                                                                 \u001b[2m                    \u001b[0m\n"
      ]
     },
     "metadata": {},
     "output_type": "display_data"
    },
    {
     "data": {
      "text/html": [
       "<pre style=\"white-space:pre;overflow-x:auto;line-height:normal;font-family:Menlo,'DejaVu Sans Mono',consolas,'Courier New',monospace\"><span style=\"color: #7fbfbf; text-decoration-color: #7fbfbf\">           </span><span style=\"color: #800000; text-decoration-color: #800000\">WARNING </span> Stationary solution <span style=\"color: #008080; text-decoration-color: #008080; font-weight: bold\">88</span> is all in one bin in iter <span style=\"color: #008080; text-decoration-color: #008080; font-weight: bold\">1</span> -- picking next-biggest <a href=\"file:///home/jd/research/reweighting/mr_toolkit/mr_toolkit/mr_toolkit/trajectory_analysis/traj_analysis.py\" target=\"_blank\"><span style=\"color: #7f7f7f; text-decoration-color: #7f7f7f\">traj_analysis.py</span></a><span style=\"color: #7f7f7f; text-decoration-color: #7f7f7f\">:</span><a href=\"file:///home/jd/research/reweighting/mr_toolkit/mr_toolkit/mr_toolkit/trajectory_analysis/traj_analysis.py#476\" target=\"_blank\"><span style=\"color: #7f7f7f; text-decoration-color: #7f7f7f\">476</span></a>\n",
       "<span style=\"color: #7fbfbf; text-decoration-color: #7fbfbf\">           </span>         eigenvalue                                                                 <span style=\"color: #7f7f7f; text-decoration-color: #7f7f7f\">                    </span>\n",
       "</pre>\n"
      ],
      "text/plain": [
       "\u001b[2;36m          \u001b[0m\u001b[2;36m \u001b[0m\u001b[31mWARNING \u001b[0m Stationary solution \u001b[1;36m88\u001b[0m is all in one bin in iter \u001b[1;36m1\u001b[0m -- picking next-biggest \u001b]8;id=665666;file:///home/jd/research/reweighting/mr_toolkit/mr_toolkit/mr_toolkit/trajectory_analysis/traj_analysis.py\u001b\\\u001b[2mtraj_analysis.py\u001b[0m\u001b]8;;\u001b\\\u001b[2m:\u001b[0m\u001b]8;id=932217;file:///home/jd/research/reweighting/mr_toolkit/mr_toolkit/mr_toolkit/trajectory_analysis/traj_analysis.py#476\u001b\\\u001b[2m476\u001b[0m\u001b]8;;\u001b\\\n",
       "\u001b[2;36m           \u001b[0m         eigenvalue                                                                 \u001b[2m                    \u001b[0m\n"
      ]
     },
     "metadata": {},
     "output_type": "display_data"
    },
    {
     "data": {
      "text/html": [
       "<pre style=\"white-space:pre;overflow-x:auto;line-height:normal;font-family:Menlo,'DejaVu Sans Mono',consolas,'Courier New',monospace\"><span style=\"color: #7fbfbf; text-decoration-color: #7fbfbf\">           </span><span style=\"color: #800000; text-decoration-color: #800000\">WARNING </span> Stationary solution <span style=\"color: #008080; text-decoration-color: #008080; font-weight: bold\">89</span> is all in one bin in iter <span style=\"color: #008080; text-decoration-color: #008080; font-weight: bold\">1</span> -- picking next-biggest <a href=\"file:///home/jd/research/reweighting/mr_toolkit/mr_toolkit/mr_toolkit/trajectory_analysis/traj_analysis.py\" target=\"_blank\"><span style=\"color: #7f7f7f; text-decoration-color: #7f7f7f\">traj_analysis.py</span></a><span style=\"color: #7f7f7f; text-decoration-color: #7f7f7f\">:</span><a href=\"file:///home/jd/research/reweighting/mr_toolkit/mr_toolkit/mr_toolkit/trajectory_analysis/traj_analysis.py#476\" target=\"_blank\"><span style=\"color: #7f7f7f; text-decoration-color: #7f7f7f\">476</span></a>\n",
       "<span style=\"color: #7fbfbf; text-decoration-color: #7fbfbf\">           </span>         eigenvalue                                                                 <span style=\"color: #7f7f7f; text-decoration-color: #7f7f7f\">                    </span>\n",
       "</pre>\n"
      ],
      "text/plain": [
       "\u001b[2;36m          \u001b[0m\u001b[2;36m \u001b[0m\u001b[31mWARNING \u001b[0m Stationary solution \u001b[1;36m89\u001b[0m is all in one bin in iter \u001b[1;36m1\u001b[0m -- picking next-biggest \u001b]8;id=438388;file:///home/jd/research/reweighting/mr_toolkit/mr_toolkit/mr_toolkit/trajectory_analysis/traj_analysis.py\u001b\\\u001b[2mtraj_analysis.py\u001b[0m\u001b]8;;\u001b\\\u001b[2m:\u001b[0m\u001b]8;id=861100;file:///home/jd/research/reweighting/mr_toolkit/mr_toolkit/mr_toolkit/trajectory_analysis/traj_analysis.py#476\u001b\\\u001b[2m476\u001b[0m\u001b]8;;\u001b\\\n",
       "\u001b[2;36m           \u001b[0m         eigenvalue                                                                 \u001b[2m                    \u001b[0m\n"
      ]
     },
     "metadata": {},
     "output_type": "display_data"
    },
    {
     "data": {
      "text/html": [
       "<pre style=\"white-space:pre;overflow-x:auto;line-height:normal;font-family:Menlo,'DejaVu Sans Mono',consolas,'Courier New',monospace\"><span style=\"color: #7fbfbf; text-decoration-color: #7fbfbf\">           </span><span style=\"color: #800000; text-decoration-color: #800000\">WARNING </span> Stationary solution <span style=\"color: #008080; text-decoration-color: #008080; font-weight: bold\">90</span> is all in one bin in iter <span style=\"color: #008080; text-decoration-color: #008080; font-weight: bold\">1</span> -- picking next-biggest <a href=\"file:///home/jd/research/reweighting/mr_toolkit/mr_toolkit/mr_toolkit/trajectory_analysis/traj_analysis.py\" target=\"_blank\"><span style=\"color: #7f7f7f; text-decoration-color: #7f7f7f\">traj_analysis.py</span></a><span style=\"color: #7f7f7f; text-decoration-color: #7f7f7f\">:</span><a href=\"file:///home/jd/research/reweighting/mr_toolkit/mr_toolkit/mr_toolkit/trajectory_analysis/traj_analysis.py#476\" target=\"_blank\"><span style=\"color: #7f7f7f; text-decoration-color: #7f7f7f\">476</span></a>\n",
       "<span style=\"color: #7fbfbf; text-decoration-color: #7fbfbf\">           </span>         eigenvalue                                                                 <span style=\"color: #7f7f7f; text-decoration-color: #7f7f7f\">                    </span>\n",
       "</pre>\n"
      ],
      "text/plain": [
       "\u001b[2;36m          \u001b[0m\u001b[2;36m \u001b[0m\u001b[31mWARNING \u001b[0m Stationary solution \u001b[1;36m90\u001b[0m is all in one bin in iter \u001b[1;36m1\u001b[0m -- picking next-biggest \u001b]8;id=806086;file:///home/jd/research/reweighting/mr_toolkit/mr_toolkit/mr_toolkit/trajectory_analysis/traj_analysis.py\u001b\\\u001b[2mtraj_analysis.py\u001b[0m\u001b]8;;\u001b\\\u001b[2m:\u001b[0m\u001b]8;id=372737;file:///home/jd/research/reweighting/mr_toolkit/mr_toolkit/mr_toolkit/trajectory_analysis/traj_analysis.py#476\u001b\\\u001b[2m476\u001b[0m\u001b]8;;\u001b\\\n",
       "\u001b[2;36m           \u001b[0m         eigenvalue                                                                 \u001b[2m                    \u001b[0m\n"
      ]
     },
     "metadata": {},
     "output_type": "display_data"
    },
    {
     "data": {
      "text/html": [
       "<pre style=\"white-space:pre;overflow-x:auto;line-height:normal;font-family:Menlo,'DejaVu Sans Mono',consolas,'Courier New',monospace\"><span style=\"color: #7fbfbf; text-decoration-color: #7fbfbf\">           </span><span style=\"color: #800000; text-decoration-color: #800000\">WARNING </span> Stationary solution <span style=\"color: #008080; text-decoration-color: #008080; font-weight: bold\">91</span> is all in one bin in iter <span style=\"color: #008080; text-decoration-color: #008080; font-weight: bold\">1</span> -- picking next-biggest <a href=\"file:///home/jd/research/reweighting/mr_toolkit/mr_toolkit/mr_toolkit/trajectory_analysis/traj_analysis.py\" target=\"_blank\"><span style=\"color: #7f7f7f; text-decoration-color: #7f7f7f\">traj_analysis.py</span></a><span style=\"color: #7f7f7f; text-decoration-color: #7f7f7f\">:</span><a href=\"file:///home/jd/research/reweighting/mr_toolkit/mr_toolkit/mr_toolkit/trajectory_analysis/traj_analysis.py#476\" target=\"_blank\"><span style=\"color: #7f7f7f; text-decoration-color: #7f7f7f\">476</span></a>\n",
       "<span style=\"color: #7fbfbf; text-decoration-color: #7fbfbf\">           </span>         eigenvalue                                                                 <span style=\"color: #7f7f7f; text-decoration-color: #7f7f7f\">                    </span>\n",
       "</pre>\n"
      ],
      "text/plain": [
       "\u001b[2;36m          \u001b[0m\u001b[2;36m \u001b[0m\u001b[31mWARNING \u001b[0m Stationary solution \u001b[1;36m91\u001b[0m is all in one bin in iter \u001b[1;36m1\u001b[0m -- picking next-biggest \u001b]8;id=23141;file:///home/jd/research/reweighting/mr_toolkit/mr_toolkit/mr_toolkit/trajectory_analysis/traj_analysis.py\u001b\\\u001b[2mtraj_analysis.py\u001b[0m\u001b]8;;\u001b\\\u001b[2m:\u001b[0m\u001b]8;id=268549;file:///home/jd/research/reweighting/mr_toolkit/mr_toolkit/mr_toolkit/trajectory_analysis/traj_analysis.py#476\u001b\\\u001b[2m476\u001b[0m\u001b]8;;\u001b\\\n",
       "\u001b[2;36m           \u001b[0m         eigenvalue                                                                 \u001b[2m                    \u001b[0m\n"
      ]
     },
     "metadata": {},
     "output_type": "display_data"
    },
    {
     "data": {
      "text/html": [
       "<pre style=\"white-space:pre;overflow-x:auto;line-height:normal;font-family:Menlo,'DejaVu Sans Mono',consolas,'Courier New',monospace\"><span style=\"color: #7fbfbf; text-decoration-color: #7fbfbf\">           </span><span style=\"color: #800000; text-decoration-color: #800000\">WARNING </span> Stationary solution <span style=\"color: #008080; text-decoration-color: #008080; font-weight: bold\">92</span> is all in one bin in iter <span style=\"color: #008080; text-decoration-color: #008080; font-weight: bold\">1</span> -- picking next-biggest <a href=\"file:///home/jd/research/reweighting/mr_toolkit/mr_toolkit/mr_toolkit/trajectory_analysis/traj_analysis.py\" target=\"_blank\"><span style=\"color: #7f7f7f; text-decoration-color: #7f7f7f\">traj_analysis.py</span></a><span style=\"color: #7f7f7f; text-decoration-color: #7f7f7f\">:</span><a href=\"file:///home/jd/research/reweighting/mr_toolkit/mr_toolkit/mr_toolkit/trajectory_analysis/traj_analysis.py#476\" target=\"_blank\"><span style=\"color: #7f7f7f; text-decoration-color: #7f7f7f\">476</span></a>\n",
       "<span style=\"color: #7fbfbf; text-decoration-color: #7fbfbf\">           </span>         eigenvalue                                                                 <span style=\"color: #7f7f7f; text-decoration-color: #7f7f7f\">                    </span>\n",
       "</pre>\n"
      ],
      "text/plain": [
       "\u001b[2;36m          \u001b[0m\u001b[2;36m \u001b[0m\u001b[31mWARNING \u001b[0m Stationary solution \u001b[1;36m92\u001b[0m is all in one bin in iter \u001b[1;36m1\u001b[0m -- picking next-biggest \u001b]8;id=318207;file:///home/jd/research/reweighting/mr_toolkit/mr_toolkit/mr_toolkit/trajectory_analysis/traj_analysis.py\u001b\\\u001b[2mtraj_analysis.py\u001b[0m\u001b]8;;\u001b\\\u001b[2m:\u001b[0m\u001b]8;id=526095;file:///home/jd/research/reweighting/mr_toolkit/mr_toolkit/mr_toolkit/trajectory_analysis/traj_analysis.py#476\u001b\\\u001b[2m476\u001b[0m\u001b]8;;\u001b\\\n",
       "\u001b[2;36m           \u001b[0m         eigenvalue                                                                 \u001b[2m                    \u001b[0m\n"
      ]
     },
     "metadata": {},
     "output_type": "display_data"
    },
    {
     "data": {
      "text/html": [
       "<pre style=\"white-space:pre;overflow-x:auto;line-height:normal;font-family:Menlo,'DejaVu Sans Mono',consolas,'Courier New',monospace\"><span style=\"color: #7fbfbf; text-decoration-color: #7fbfbf\">           </span><span style=\"color: #800000; text-decoration-color: #800000\">WARNING </span> Stationary solution <span style=\"color: #008080; text-decoration-color: #008080; font-weight: bold\">93</span> is all in one bin in iter <span style=\"color: #008080; text-decoration-color: #008080; font-weight: bold\">1</span> -- picking next-biggest <a href=\"file:///home/jd/research/reweighting/mr_toolkit/mr_toolkit/mr_toolkit/trajectory_analysis/traj_analysis.py\" target=\"_blank\"><span style=\"color: #7f7f7f; text-decoration-color: #7f7f7f\">traj_analysis.py</span></a><span style=\"color: #7f7f7f; text-decoration-color: #7f7f7f\">:</span><a href=\"file:///home/jd/research/reweighting/mr_toolkit/mr_toolkit/mr_toolkit/trajectory_analysis/traj_analysis.py#476\" target=\"_blank\"><span style=\"color: #7f7f7f; text-decoration-color: #7f7f7f\">476</span></a>\n",
       "<span style=\"color: #7fbfbf; text-decoration-color: #7fbfbf\">           </span>         eigenvalue                                                                 <span style=\"color: #7f7f7f; text-decoration-color: #7f7f7f\">                    </span>\n",
       "</pre>\n"
      ],
      "text/plain": [
       "\u001b[2;36m          \u001b[0m\u001b[2;36m \u001b[0m\u001b[31mWARNING \u001b[0m Stationary solution \u001b[1;36m93\u001b[0m is all in one bin in iter \u001b[1;36m1\u001b[0m -- picking next-biggest \u001b]8;id=85010;file:///home/jd/research/reweighting/mr_toolkit/mr_toolkit/mr_toolkit/trajectory_analysis/traj_analysis.py\u001b\\\u001b[2mtraj_analysis.py\u001b[0m\u001b]8;;\u001b\\\u001b[2m:\u001b[0m\u001b]8;id=547171;file:///home/jd/research/reweighting/mr_toolkit/mr_toolkit/mr_toolkit/trajectory_analysis/traj_analysis.py#476\u001b\\\u001b[2m476\u001b[0m\u001b]8;;\u001b\\\n",
       "\u001b[2;36m           \u001b[0m         eigenvalue                                                                 \u001b[2m                    \u001b[0m\n"
      ]
     },
     "metadata": {},
     "output_type": "display_data"
    },
    {
     "data": {
      "text/html": [
       "<pre style=\"white-space:pre;overflow-x:auto;line-height:normal;font-family:Menlo,'DejaVu Sans Mono',consolas,'Courier New',monospace\"><span style=\"color: #7fbfbf; text-decoration-color: #7fbfbf\">           </span><span style=\"color: #800000; text-decoration-color: #800000\">WARNING </span> Stationary solution <span style=\"color: #008080; text-decoration-color: #008080; font-weight: bold\">94</span> is all in one bin in iter <span style=\"color: #008080; text-decoration-color: #008080; font-weight: bold\">1</span> -- picking next-biggest <a href=\"file:///home/jd/research/reweighting/mr_toolkit/mr_toolkit/mr_toolkit/trajectory_analysis/traj_analysis.py\" target=\"_blank\"><span style=\"color: #7f7f7f; text-decoration-color: #7f7f7f\">traj_analysis.py</span></a><span style=\"color: #7f7f7f; text-decoration-color: #7f7f7f\">:</span><a href=\"file:///home/jd/research/reweighting/mr_toolkit/mr_toolkit/mr_toolkit/trajectory_analysis/traj_analysis.py#476\" target=\"_blank\"><span style=\"color: #7f7f7f; text-decoration-color: #7f7f7f\">476</span></a>\n",
       "<span style=\"color: #7fbfbf; text-decoration-color: #7fbfbf\">           </span>         eigenvalue                                                                 <span style=\"color: #7f7f7f; text-decoration-color: #7f7f7f\">                    </span>\n",
       "</pre>\n"
      ],
      "text/plain": [
       "\u001b[2;36m          \u001b[0m\u001b[2;36m \u001b[0m\u001b[31mWARNING \u001b[0m Stationary solution \u001b[1;36m94\u001b[0m is all in one bin in iter \u001b[1;36m1\u001b[0m -- picking next-biggest \u001b]8;id=704400;file:///home/jd/research/reweighting/mr_toolkit/mr_toolkit/mr_toolkit/trajectory_analysis/traj_analysis.py\u001b\\\u001b[2mtraj_analysis.py\u001b[0m\u001b]8;;\u001b\\\u001b[2m:\u001b[0m\u001b]8;id=46664;file:///home/jd/research/reweighting/mr_toolkit/mr_toolkit/mr_toolkit/trajectory_analysis/traj_analysis.py#476\u001b\\\u001b[2m476\u001b[0m\u001b]8;;\u001b\\\n",
       "\u001b[2;36m           \u001b[0m         eigenvalue                                                                 \u001b[2m                    \u001b[0m\n"
      ]
     },
     "metadata": {},
     "output_type": "display_data"
    },
    {
     "data": {
      "text/html": [
       "<pre style=\"white-space:pre;overflow-x:auto;line-height:normal;font-family:Menlo,'DejaVu Sans Mono',consolas,'Courier New',monospace\"><span style=\"color: #7fbfbf; text-decoration-color: #7fbfbf\">           </span><span style=\"color: #800000; text-decoration-color: #800000\">WARNING </span> Stationary solution <span style=\"color: #008080; text-decoration-color: #008080; font-weight: bold\">95</span> is all in one bin in iter <span style=\"color: #008080; text-decoration-color: #008080; font-weight: bold\">1</span> -- picking next-biggest <a href=\"file:///home/jd/research/reweighting/mr_toolkit/mr_toolkit/mr_toolkit/trajectory_analysis/traj_analysis.py\" target=\"_blank\"><span style=\"color: #7f7f7f; text-decoration-color: #7f7f7f\">traj_analysis.py</span></a><span style=\"color: #7f7f7f; text-decoration-color: #7f7f7f\">:</span><a href=\"file:///home/jd/research/reweighting/mr_toolkit/mr_toolkit/mr_toolkit/trajectory_analysis/traj_analysis.py#476\" target=\"_blank\"><span style=\"color: #7f7f7f; text-decoration-color: #7f7f7f\">476</span></a>\n",
       "<span style=\"color: #7fbfbf; text-decoration-color: #7fbfbf\">           </span>         eigenvalue                                                                 <span style=\"color: #7f7f7f; text-decoration-color: #7f7f7f\">                    </span>\n",
       "</pre>\n"
      ],
      "text/plain": [
       "\u001b[2;36m          \u001b[0m\u001b[2;36m \u001b[0m\u001b[31mWARNING \u001b[0m Stationary solution \u001b[1;36m95\u001b[0m is all in one bin in iter \u001b[1;36m1\u001b[0m -- picking next-biggest \u001b]8;id=218286;file:///home/jd/research/reweighting/mr_toolkit/mr_toolkit/mr_toolkit/trajectory_analysis/traj_analysis.py\u001b\\\u001b[2mtraj_analysis.py\u001b[0m\u001b]8;;\u001b\\\u001b[2m:\u001b[0m\u001b]8;id=831409;file:///home/jd/research/reweighting/mr_toolkit/mr_toolkit/mr_toolkit/trajectory_analysis/traj_analysis.py#476\u001b\\\u001b[2m476\u001b[0m\u001b]8;;\u001b\\\n",
       "\u001b[2;36m           \u001b[0m         eigenvalue                                                                 \u001b[2m                    \u001b[0m\n"
      ]
     },
     "metadata": {},
     "output_type": "display_data"
    },
    {
     "data": {
      "text/html": [
       "<pre style=\"white-space:pre;overflow-x:auto;line-height:normal;font-family:Menlo,'DejaVu Sans Mono',consolas,'Courier New',monospace\"><span style=\"color: #7fbfbf; text-decoration-color: #7fbfbf\">           </span><span style=\"color: #800000; text-decoration-color: #800000\">WARNING </span> Stationary solution <span style=\"color: #008080; text-decoration-color: #008080; font-weight: bold\">96</span> is all in one bin in iter <span style=\"color: #008080; text-decoration-color: #008080; font-weight: bold\">1</span> -- picking next-biggest <a href=\"file:///home/jd/research/reweighting/mr_toolkit/mr_toolkit/mr_toolkit/trajectory_analysis/traj_analysis.py\" target=\"_blank\"><span style=\"color: #7f7f7f; text-decoration-color: #7f7f7f\">traj_analysis.py</span></a><span style=\"color: #7f7f7f; text-decoration-color: #7f7f7f\">:</span><a href=\"file:///home/jd/research/reweighting/mr_toolkit/mr_toolkit/mr_toolkit/trajectory_analysis/traj_analysis.py#476\" target=\"_blank\"><span style=\"color: #7f7f7f; text-decoration-color: #7f7f7f\">476</span></a>\n",
       "<span style=\"color: #7fbfbf; text-decoration-color: #7fbfbf\">           </span>         eigenvalue                                                                 <span style=\"color: #7f7f7f; text-decoration-color: #7f7f7f\">                    </span>\n",
       "</pre>\n"
      ],
      "text/plain": [
       "\u001b[2;36m          \u001b[0m\u001b[2;36m \u001b[0m\u001b[31mWARNING \u001b[0m Stationary solution \u001b[1;36m96\u001b[0m is all in one bin in iter \u001b[1;36m1\u001b[0m -- picking next-biggest \u001b]8;id=747238;file:///home/jd/research/reweighting/mr_toolkit/mr_toolkit/mr_toolkit/trajectory_analysis/traj_analysis.py\u001b\\\u001b[2mtraj_analysis.py\u001b[0m\u001b]8;;\u001b\\\u001b[2m:\u001b[0m\u001b]8;id=646307;file:///home/jd/research/reweighting/mr_toolkit/mr_toolkit/mr_toolkit/trajectory_analysis/traj_analysis.py#476\u001b\\\u001b[2m476\u001b[0m\u001b]8;;\u001b\\\n",
       "\u001b[2;36m           \u001b[0m         eigenvalue                                                                 \u001b[2m                    \u001b[0m\n"
      ]
     },
     "metadata": {},
     "output_type": "display_data"
    },
    {
     "data": {
      "text/html": [
       "<pre style=\"white-space:pre;overflow-x:auto;line-height:normal;font-family:Menlo,'DejaVu Sans Mono',consolas,'Courier New',monospace\"><span style=\"color: #7fbfbf; text-decoration-color: #7fbfbf\">           </span><span style=\"color: #800000; text-decoration-color: #800000\">WARNING </span> Stationary solution <span style=\"color: #008080; text-decoration-color: #008080; font-weight: bold\">97</span> is all in one bin in iter <span style=\"color: #008080; text-decoration-color: #008080; font-weight: bold\">1</span> -- picking next-biggest <a href=\"file:///home/jd/research/reweighting/mr_toolkit/mr_toolkit/mr_toolkit/trajectory_analysis/traj_analysis.py\" target=\"_blank\"><span style=\"color: #7f7f7f; text-decoration-color: #7f7f7f\">traj_analysis.py</span></a><span style=\"color: #7f7f7f; text-decoration-color: #7f7f7f\">:</span><a href=\"file:///home/jd/research/reweighting/mr_toolkit/mr_toolkit/mr_toolkit/trajectory_analysis/traj_analysis.py#476\" target=\"_blank\"><span style=\"color: #7f7f7f; text-decoration-color: #7f7f7f\">476</span></a>\n",
       "<span style=\"color: #7fbfbf; text-decoration-color: #7fbfbf\">           </span>         eigenvalue                                                                 <span style=\"color: #7f7f7f; text-decoration-color: #7f7f7f\">                    </span>\n",
       "</pre>\n"
      ],
      "text/plain": [
       "\u001b[2;36m          \u001b[0m\u001b[2;36m \u001b[0m\u001b[31mWARNING \u001b[0m Stationary solution \u001b[1;36m97\u001b[0m is all in one bin in iter \u001b[1;36m1\u001b[0m -- picking next-biggest \u001b]8;id=709510;file:///home/jd/research/reweighting/mr_toolkit/mr_toolkit/mr_toolkit/trajectory_analysis/traj_analysis.py\u001b\\\u001b[2mtraj_analysis.py\u001b[0m\u001b]8;;\u001b\\\u001b[2m:\u001b[0m\u001b]8;id=842987;file:///home/jd/research/reweighting/mr_toolkit/mr_toolkit/mr_toolkit/trajectory_analysis/traj_analysis.py#476\u001b\\\u001b[2m476\u001b[0m\u001b]8;;\u001b\\\n",
       "\u001b[2;36m           \u001b[0m         eigenvalue                                                                 \u001b[2m                    \u001b[0m\n"
      ]
     },
     "metadata": {},
     "output_type": "display_data"
    },
    {
     "data": {
      "text/html": [
       "<pre style=\"white-space:pre;overflow-x:auto;line-height:normal;font-family:Menlo,'DejaVu Sans Mono',consolas,'Courier New',monospace\"><span style=\"color: #7fbfbf; text-decoration-color: #7fbfbf\">           </span><span style=\"color: #800000; text-decoration-color: #800000\">WARNING </span> Stationary solution <span style=\"color: #008080; text-decoration-color: #008080; font-weight: bold\">98</span> is all in one bin in iter <span style=\"color: #008080; text-decoration-color: #008080; font-weight: bold\">1</span> -- picking next-biggest <a href=\"file:///home/jd/research/reweighting/mr_toolkit/mr_toolkit/mr_toolkit/trajectory_analysis/traj_analysis.py\" target=\"_blank\"><span style=\"color: #7f7f7f; text-decoration-color: #7f7f7f\">traj_analysis.py</span></a><span style=\"color: #7f7f7f; text-decoration-color: #7f7f7f\">:</span><a href=\"file:///home/jd/research/reweighting/mr_toolkit/mr_toolkit/mr_toolkit/trajectory_analysis/traj_analysis.py#476\" target=\"_blank\"><span style=\"color: #7f7f7f; text-decoration-color: #7f7f7f\">476</span></a>\n",
       "<span style=\"color: #7fbfbf; text-decoration-color: #7fbfbf\">           </span>         eigenvalue                                                                 <span style=\"color: #7f7f7f; text-decoration-color: #7f7f7f\">                    </span>\n",
       "</pre>\n"
      ],
      "text/plain": [
       "\u001b[2;36m          \u001b[0m\u001b[2;36m \u001b[0m\u001b[31mWARNING \u001b[0m Stationary solution \u001b[1;36m98\u001b[0m is all in one bin in iter \u001b[1;36m1\u001b[0m -- picking next-biggest \u001b]8;id=206729;file:///home/jd/research/reweighting/mr_toolkit/mr_toolkit/mr_toolkit/trajectory_analysis/traj_analysis.py\u001b\\\u001b[2mtraj_analysis.py\u001b[0m\u001b]8;;\u001b\\\u001b[2m:\u001b[0m\u001b]8;id=171678;file:///home/jd/research/reweighting/mr_toolkit/mr_toolkit/mr_toolkit/trajectory_analysis/traj_analysis.py#476\u001b\\\u001b[2m476\u001b[0m\u001b]8;;\u001b\\\n",
       "\u001b[2;36m           \u001b[0m         eigenvalue                                                                 \u001b[2m                    \u001b[0m\n"
      ]
     },
     "metadata": {},
     "output_type": "display_data"
    },
    {
     "data": {
      "text/html": [
       "<pre style=\"white-space:pre;overflow-x:auto;line-height:normal;font-family:Menlo,'DejaVu Sans Mono',consolas,'Courier New',monospace\"><span style=\"color: #7fbfbf; text-decoration-color: #7fbfbf\">           </span><span style=\"color: #800000; text-decoration-color: #800000\">WARNING </span> Stationary solution <span style=\"color: #008080; text-decoration-color: #008080; font-weight: bold\">99</span> is not positive semidefinite, trying the next one   <a href=\"file:///home/jd/research/reweighting/mr_toolkit/mr_toolkit/mr_toolkit/trajectory_analysis/traj_analysis.py\" target=\"_blank\"><span style=\"color: #7f7f7f; text-decoration-color: #7f7f7f\">traj_analysis.py</span></a><span style=\"color: #7f7f7f; text-decoration-color: #7f7f7f\">:</span><a href=\"file:///home/jd/research/reweighting/mr_toolkit/mr_toolkit/mr_toolkit/trajectory_analysis/traj_analysis.py#478\" target=\"_blank\"><span style=\"color: #7f7f7f; text-decoration-color: #7f7f7f\">478</span></a>\n",
       "</pre>\n"
      ],
      "text/plain": [
       "\u001b[2;36m          \u001b[0m\u001b[2;36m \u001b[0m\u001b[31mWARNING \u001b[0m Stationary solution \u001b[1;36m99\u001b[0m is not positive semidefinite, trying the next one   \u001b]8;id=659320;file:///home/jd/research/reweighting/mr_toolkit/mr_toolkit/mr_toolkit/trajectory_analysis/traj_analysis.py\u001b\\\u001b[2mtraj_analysis.py\u001b[0m\u001b]8;;\u001b\\\u001b[2m:\u001b[0m\u001b]8;id=192596;file:///home/jd/research/reweighting/mr_toolkit/mr_toolkit/mr_toolkit/trajectory_analysis/traj_analysis.py#478\u001b\\\u001b[2m478\u001b[0m\u001b]8;;\u001b\\\n"
      ]
     },
     "metadata": {},
     "output_type": "display_data"
    },
    {
     "data": {
      "text/html": [
       "<pre style=\"white-space:pre;overflow-x:auto;line-height:normal;font-family:Menlo,'DejaVu Sans Mono',consolas,'Courier New',monospace\"><span style=\"color: #7fbfbf; text-decoration-color: #7fbfbf\">           </span><span style=\"background-color: #800000; font-weight: bold\">CRITICAL</span> No good stationary solution exists! Stopping iteration at iter <span style=\"color: #008080; text-decoration-color: #008080; font-weight: bold\">1</span>           <a href=\"file:///home/jd/research/reweighting/mr_toolkit/mr_toolkit/mr_toolkit/trajectory_analysis/traj_analysis.py\" target=\"_blank\"><span style=\"color: #7f7f7f; text-decoration-color: #7f7f7f\">traj_analysis.py</span></a><span style=\"color: #7f7f7f; text-decoration-color: #7f7f7f\">:</span><a href=\"file:///home/jd/research/reweighting/mr_toolkit/mr_toolkit/mr_toolkit/trajectory_analysis/traj_analysis.py#470\" target=\"_blank\"><span style=\"color: #7f7f7f; text-decoration-color: #7f7f7f\">470</span></a>\n",
       "</pre>\n"
      ],
      "text/plain": [
       "\u001b[2;36m          \u001b[0m\u001b[2;36m \u001b[0m\u001b[1;7;31mCRITICAL\u001b[0m No good stationary solution exists! Stopping iteration at iter \u001b[1;36m1\u001b[0m           \u001b]8;id=594170;file:///home/jd/research/reweighting/mr_toolkit/mr_toolkit/mr_toolkit/trajectory_analysis/traj_analysis.py\u001b\\\u001b[2mtraj_analysis.py\u001b[0m\u001b]8;;\u001b\\\u001b[2m:\u001b[0m\u001b]8;id=202246;file:///home/jd/research/reweighting/mr_toolkit/mr_toolkit/mr_toolkit/trajectory_analysis/traj_analysis.py#470\u001b\\\u001b[2m470\u001b[0m\u001b]8;;\u001b\\\n"
      ]
     },
     "metadata": {},
     "output_type": "display_data"
    },
    {
     "name": "stderr",
     "output_type": "stream",
     "text": [
      "Reweighting convergence:   0%|                                                                                                                                                                                                                                   | 0/10.0 [00:00<?, ?it/s]\n"
     ]
    },
    {
     "name": "stdout",
     "output_type": "stream",
     "text": [
      "1\n"
     ]
    },
    {
     "name": "stderr",
     "output_type": "stream",
     "text": [
      "\n",
      "Building count matrices: 100%|█████████████████████████████████████████████████████████████████████████████████████████████████████████████████████████████████████████████████████████████████████████████████████████████████████████████████████| 1950/1950 [00:00<00:00, 56096.66it/s]\u001b[A\n",
      "\n",
      "Reweighting convergence:   0%|                                                                                                                                                                                                                                   | 0/10.0 [00:00<?, ?it/s]\u001b[A/home/jd/research/reweighting/mr_toolkit/mr_toolkit/mr_toolkit/trajectory_analysis/traj_analysis.py:510: RuntimeWarning: divide by zero encountered in log\n",
      "  np.log(stationary_distributions[-1]) - np.log(stationary_distributions[-2])\n",
      "/home/jd/research/reweighting/mr_toolkit/mr_toolkit/mr_toolkit/trajectory_analysis/traj_analysis.py:510: RuntimeWarning: invalid value encountered in subtract\n",
      "  np.log(stationary_distributions[-1]) - np.log(stationary_distributions[-2])\n",
      "\n",
      "                              [00:00, 177.25it/s]                                                                                                                                                                                                                                         \u001b[A\n",
      "SigOpt Run: 0it [00:01, ?it/s]                   \n",
      "Reweighting convergence: 30it [00:00, 166.45it/s]\u001b[A\n"
     ]
    },
    {
     "name": "stdout",
     "output_type": "stream",
     "text": [
      "reweighted iteration is converged at iter 31\n",
      "31\n"
     ]
    },
    {
     "name": "stderr",
     "output_type": "stream",
     "text": [
      "\n",
      "Building count matrices: 100%|█████████████████████████████████████████████████████████████████████████████████████████████████████████████████████████████████████████████████████████████████████████████████████████████████████████████████████| 1950/1950 [00:00<00:00, 42485.33it/s]\u001b[A\n",
      "\n",
      "Reweighting convergence:   0%|                                                                                                                                                                                                                                   | 0/10.0 [00:00<?, ?it/s]\u001b[A\n",
      "Reweighting convergence: 19it [00:00, 186.11it/s]                                                                                                                                                                                                                                         \u001b[A\n",
      "Reweighting convergence: 38it [00:00, 180.70it/s]\u001b[A\n",
      "Reweighting convergence: 57it [00:00, 164.61it/s]\u001b[A\n",
      "Reweighting convergence: 78it [00:00, 178.60it/s]\u001b[A\n",
      "Reweighting convergence: 98it [00:00, 175.41it/s]\u001b[A\n"
     ]
    },
    {
     "name": "stdout",
     "output_type": "stream",
     "text": [
      "99\n"
     ]
    },
    {
     "data": {
      "text/html": [
       "<pre style=\"white-space:pre;overflow-x:auto;line-height:normal;font-family:Menlo,'DejaVu Sans Mono',consolas,'Courier New',monospace\"><span style=\"color: #7fbfbf; text-decoration-color: #7fbfbf\">[17:02:30] </span><span style=\"color: #000080; text-decoration-color: #000080\">INFO    </span> Run finished, view it on the SigOpt dashboard at                             <a href=\"file:///home/jd/anaconda3/envs/mr_toolkit/lib/python3.11/site-packages/sigopt/run_context.py\" target=\"_blank\"><span style=\"color: #7f7f7f; text-decoration-color: #7f7f7f\">run_context.py</span></a><span style=\"color: #7f7f7f; text-decoration-color: #7f7f7f\">:</span><a href=\"file:///home/jd/anaconda3/envs/mr_toolkit/lib/python3.11/site-packages/sigopt/run_context.py#371\" target=\"_blank\"><span style=\"color: #7f7f7f; text-decoration-color: #7f7f7f\">371</span></a>\n",
       "<span style=\"color: #7fbfbf; text-decoration-color: #7fbfbf\">           </span>         <span style=\"color: #0000ff; text-decoration-color: #0000ff; text-decoration: underline\">https://app.sigopt.com/run/603735</span>                                            <span style=\"color: #7f7f7f; text-decoration-color: #7f7f7f\">                  </span>\n",
       "</pre>\n"
      ],
      "text/plain": [
       "\u001b[2;36m[17:02:30]\u001b[0m\u001b[2;36m \u001b[0m\u001b[34mINFO    \u001b[0m Run finished, view it on the SigOpt dashboard at                             \u001b]8;id=746779;file:///home/jd/anaconda3/envs/mr_toolkit/lib/python3.11/site-packages/sigopt/run_context.py\u001b\\\u001b[2mrun_context.py\u001b[0m\u001b]8;;\u001b\\\u001b[2m:\u001b[0m\u001b]8;id=550971;file:///home/jd/anaconda3/envs/mr_toolkit/lib/python3.11/site-packages/sigopt/run_context.py#371\u001b\\\u001b[2m371\u001b[0m\u001b]8;;\u001b\\\n",
       "\u001b[2;36m           \u001b[0m         \u001b[4;94mhttps://app.sigopt.com/run/603735\u001b[0m                                            \u001b[2m                  \u001b[0m\n"
      ]
     },
     "metadata": {},
     "output_type": "display_data"
    },
    {
     "name": "stderr",
     "output_type": "stream",
     "text": [
      "SigOpt Run: 1it [00:02,  2.23s/it]"
     ]
    },
    {
     "data": {
      "text/html": [
       "<pre style=\"white-space:pre;overflow-x:auto;line-height:normal;font-family:Menlo,'DejaVu Sans Mono',consolas,'Courier New',monospace\"><span style=\"color: #7fbfbf; text-decoration-color: #7fbfbf\">           </span><span style=\"color: #000080; text-decoration-color: #000080\">INFO    </span> Run started, view it on the SigOpt dashboard at                               <a href=\"file:///home/jd/anaconda3/envs/mr_toolkit/lib/python3.11/site-packages/sigopt/run_factory.py\" target=\"_blank\"><span style=\"color: #7f7f7f; text-decoration-color: #7f7f7f\">run_factory.py</span></a><span style=\"color: #7f7f7f; text-decoration-color: #7f7f7f\">:</span><a href=\"file:///home/jd/anaconda3/envs/mr_toolkit/lib/python3.11/site-packages/sigopt/run_factory.py#13\" target=\"_blank\"><span style=\"color: #7f7f7f; text-decoration-color: #7f7f7f\">13</span></a>\n",
       "<span style=\"color: #7fbfbf; text-decoration-color: #7fbfbf\">           </span>         <span style=\"color: #0000ff; text-decoration-color: #0000ff; text-decoration: underline\">https://app.sigopt.com/run/603736</span>                                             <span style=\"color: #7f7f7f; text-decoration-color: #7f7f7f\">                 </span>\n",
       "</pre>\n"
      ],
      "text/plain": [
       "\u001b[2;36m          \u001b[0m\u001b[2;36m \u001b[0m\u001b[34mINFO    \u001b[0m Run started, view it on the SigOpt dashboard at                               \u001b]8;id=909345;file:///home/jd/anaconda3/envs/mr_toolkit/lib/python3.11/site-packages/sigopt/run_factory.py\u001b\\\u001b[2mrun_factory.py\u001b[0m\u001b]8;;\u001b\\\u001b[2m:\u001b[0m\u001b]8;id=828561;file:///home/jd/anaconda3/envs/mr_toolkit/lib/python3.11/site-packages/sigopt/run_factory.py#13\u001b\\\u001b[2m13\u001b[0m\u001b]8;;\u001b\\\n",
       "\u001b[2;36m           \u001b[0m         \u001b[4;94mhttps://app.sigopt.com/run/603736\u001b[0m                                             \u001b[2m                 \u001b[0m\n"
      ]
     },
     "metadata": {},
     "output_type": "display_data"
    },
    {
     "name": "stderr",
     "output_type": "stream",
     "text": [
      "\n",
      "Building count matrices: 100%|█████████████████████████████████████████████████████████████████████████████████████████████████████████████████████████████████████████████████████████████████████████████████████████████████████████████████████| 4100/4100 [00:00<00:00, 58883.55it/s]\u001b[A\n",
      "\n",
      "Reweighting convergence:   0%|                                                                                                                                                                                                                                   | 0/10.0 [00:00<?, ?it/s]\u001b[A\n",
      "                                  00, 129.97it/s]                                                                                                                                                                                                                                         \u001b[A\n",
      "SigOpt Run: 1it [00:03,  2.23s/it]               \n",
      "Reweighting convergence: 25it [00:00, 123.12it/s]\u001b[A\n"
     ]
    },
    {
     "name": "stdout",
     "output_type": "stream",
     "text": [
      "reweighted iteration is converged at iter 26\n",
      "26\n"
     ]
    },
    {
     "name": "stderr",
     "output_type": "stream",
     "text": [
      "\n",
      "Building count matrices:   0%|                                                                                                                                                                                                                                   | 0/4100 [00:00<?, ?it/s]\u001b[A\n",
      "Building count matrices: 100%|█████████████████████████████████████████████████████████████████████████████████████████████████████████████████████████████████████████████████████████████████████████████████████████████████████████████████████| 4100/4100 [00:00<00:00, 39843.67it/s]\u001b[A\n",
      "\n",
      "Reweighting convergence:   0%|                                                                                                                                                                                                                                   | 0/10.0 [00:00<?, ?it/s]\u001b[A\n",
      "                                  00, 115.64it/s]                                                                                                                                                                                                                                         \u001b[A\n",
      "SigOpt Run: 1it [00:03,  2.23s/it]               \n",
      "Reweighting convergence: 22it [00:00, 118.85it/s]\u001b[A\n"
     ]
    },
    {
     "name": "stdout",
     "output_type": "stream",
     "text": [
      "reweighted iteration is converged at iter 23\n",
      "23\n"
     ]
    },
    {
     "name": "stderr",
     "output_type": "stream",
     "text": [
      "\n",
      "Building count matrices: 100%|█████████████████████████████████████████████████████████████████████████████████████████████████████████████████████████████████████████████████████████████████████████████████████████████████████████████████████| 4100/4100 [00:00<00:00, 44090.91it/s]\u001b[A\n",
      "\n",
      "Reweighting convergence:   0%|                                                                                                                                                                                                                                   | 0/10.0 [00:00<?, ?it/s]\u001b[A\n",
      "Reweighting convergence:  80%|███████████████████████████████████████████████████████████████████████████████████████████████████████████████████████████████████████████████████████████████████████████████▏                                           | 8/10.0 [00:00<00:00, 75.19it/s]\u001b[A\n",
      "                                  00, 94.17it/s]                                                                                                                                                                                                                                          \u001b[A\n",
      "SigOpt Run: 1it [00:03,  2.23s/it]              \n",
      "Reweighting convergence: 21it [00:00, 84.00it/s]\u001b[A\n"
     ]
    },
    {
     "name": "stdout",
     "output_type": "stream",
     "text": [
      "reweighted iteration is converged at iter 22\n",
      "22\n"
     ]
    },
    {
     "name": "stderr",
     "output_type": "stream",
     "text": [
      "\n",
      "Building count matrices: 100%|█████████████████████████████████████████████████████████████████████████████████████████████████████████████████████████████████████████████████████████████████████████████████████████████████████████████████████| 4100/4100 [00:00<00:00, 45373.62it/s]\u001b[A\n",
      "\n",
      "Reweighting convergence:   0%|                                                                                                                                                                                                                                   | 0/10.0 [00:00<?, ?it/s]\u001b[A\n",
      "                                  00, 105.64it/s]                                                                                                                                                                                                                                         \u001b[A\n",
      "SigOpt Run: 1it [00:03,  2.23s/it]               \n",
      "Reweighting convergence: 21it [00:00, 103.00it/s]\u001b[A\n"
     ]
    },
    {
     "name": "stdout",
     "output_type": "stream",
     "text": [
      "reweighted iteration is converged at iter 22\n",
      "22\n"
     ]
    },
    {
     "data": {
      "text/html": [
       "<pre style=\"white-space:pre;overflow-x:auto;line-height:normal;font-family:Menlo,'DejaVu Sans Mono',consolas,'Courier New',monospace\"><span style=\"color: #7fbfbf; text-decoration-color: #7fbfbf\">[17:02:32] </span><span style=\"color: #000080; text-decoration-color: #000080\">INFO    </span> Run finished, view it on the SigOpt dashboard at                             <a href=\"file:///home/jd/anaconda3/envs/mr_toolkit/lib/python3.11/site-packages/sigopt/run_context.py\" target=\"_blank\"><span style=\"color: #7f7f7f; text-decoration-color: #7f7f7f\">run_context.py</span></a><span style=\"color: #7f7f7f; text-decoration-color: #7f7f7f\">:</span><a href=\"file:///home/jd/anaconda3/envs/mr_toolkit/lib/python3.11/site-packages/sigopt/run_context.py#371\" target=\"_blank\"><span style=\"color: #7f7f7f; text-decoration-color: #7f7f7f\">371</span></a>\n",
       "<span style=\"color: #7fbfbf; text-decoration-color: #7fbfbf\">           </span>         <span style=\"color: #0000ff; text-decoration-color: #0000ff; text-decoration: underline\">https://app.sigopt.com/run/603736</span>                                            <span style=\"color: #7f7f7f; text-decoration-color: #7f7f7f\">                  </span>\n",
       "</pre>\n"
      ],
      "text/plain": [
       "\u001b[2;36m[17:02:32]\u001b[0m\u001b[2;36m \u001b[0m\u001b[34mINFO    \u001b[0m Run finished, view it on the SigOpt dashboard at                             \u001b]8;id=330918;file:///home/jd/anaconda3/envs/mr_toolkit/lib/python3.11/site-packages/sigopt/run_context.py\u001b\\\u001b[2mrun_context.py\u001b[0m\u001b]8;;\u001b\\\u001b[2m:\u001b[0m\u001b]8;id=94938;file:///home/jd/anaconda3/envs/mr_toolkit/lib/python3.11/site-packages/sigopt/run_context.py#371\u001b\\\u001b[2m371\u001b[0m\u001b]8;;\u001b\\\n",
       "\u001b[2;36m           \u001b[0m         \u001b[4;94mhttps://app.sigopt.com/run/603736\u001b[0m                                            \u001b[2m                  \u001b[0m\n"
      ]
     },
     "metadata": {},
     "output_type": "display_data"
    },
    {
     "name": "stderr",
     "output_type": "stream",
     "text": [
      "SigOpt Run: 2it [00:04,  2.21s/it]"
     ]
    },
    {
     "data": {
      "text/html": [
       "<pre style=\"white-space:pre;overflow-x:auto;line-height:normal;font-family:Menlo,'DejaVu Sans Mono',consolas,'Courier New',monospace\"><span style=\"color: #7fbfbf; text-decoration-color: #7fbfbf\">           </span><span style=\"color: #000080; text-decoration-color: #000080\">INFO    </span> Run started, view it on the SigOpt dashboard at                               <a href=\"file:///home/jd/anaconda3/envs/mr_toolkit/lib/python3.11/site-packages/sigopt/run_factory.py\" target=\"_blank\"><span style=\"color: #7f7f7f; text-decoration-color: #7f7f7f\">run_factory.py</span></a><span style=\"color: #7f7f7f; text-decoration-color: #7f7f7f\">:</span><a href=\"file:///home/jd/anaconda3/envs/mr_toolkit/lib/python3.11/site-packages/sigopt/run_factory.py#13\" target=\"_blank\"><span style=\"color: #7f7f7f; text-decoration-color: #7f7f7f\">13</span></a>\n",
       "<span style=\"color: #7fbfbf; text-decoration-color: #7fbfbf\">           </span>         <span style=\"color: #0000ff; text-decoration-color: #0000ff; text-decoration: underline\">https://app.sigopt.com/run/603737</span>                                             <span style=\"color: #7f7f7f; text-decoration-color: #7f7f7f\">                 </span>\n",
       "</pre>\n"
      ],
      "text/plain": [
       "\u001b[2;36m          \u001b[0m\u001b[2;36m \u001b[0m\u001b[34mINFO    \u001b[0m Run started, view it on the SigOpt dashboard at                               \u001b]8;id=464351;file:///home/jd/anaconda3/envs/mr_toolkit/lib/python3.11/site-packages/sigopt/run_factory.py\u001b\\\u001b[2mrun_factory.py\u001b[0m\u001b]8;;\u001b\\\u001b[2m:\u001b[0m\u001b]8;id=534588;file:///home/jd/anaconda3/envs/mr_toolkit/lib/python3.11/site-packages/sigopt/run_factory.py#13\u001b\\\u001b[2m13\u001b[0m\u001b]8;;\u001b\\\n",
       "\u001b[2;36m           \u001b[0m         \u001b[4;94mhttps://app.sigopt.com/run/603737\u001b[0m                                             \u001b[2m                 \u001b[0m\n"
      ]
     },
     "metadata": {},
     "output_type": "display_data"
    },
    {
     "name": "stdout",
     "output_type": "stream",
     "text": [
      "Invalid lag / N combination, skipping to next run\n"
     ]
    },
    {
     "data": {
      "text/html": [
       "<pre style=\"white-space:pre;overflow-x:auto;line-height:normal;font-family:Menlo,'DejaVu Sans Mono',consolas,'Courier New',monospace\"><span style=\"color: #7fbfbf; text-decoration-color: #7fbfbf\">[17:02:33] </span><span style=\"color: #000080; text-decoration-color: #000080\">INFO    </span> Run finished, view it on the SigOpt dashboard at                             <a href=\"file:///home/jd/anaconda3/envs/mr_toolkit/lib/python3.11/site-packages/sigopt/run_context.py\" target=\"_blank\"><span style=\"color: #7f7f7f; text-decoration-color: #7f7f7f\">run_context.py</span></a><span style=\"color: #7f7f7f; text-decoration-color: #7f7f7f\">:</span><a href=\"file:///home/jd/anaconda3/envs/mr_toolkit/lib/python3.11/site-packages/sigopt/run_context.py#371\" target=\"_blank\"><span style=\"color: #7f7f7f; text-decoration-color: #7f7f7f\">371</span></a>\n",
       "<span style=\"color: #7fbfbf; text-decoration-color: #7fbfbf\">           </span>         <span style=\"color: #0000ff; text-decoration-color: #0000ff; text-decoration: underline\">https://app.sigopt.com/run/603737</span>                                            <span style=\"color: #7f7f7f; text-decoration-color: #7f7f7f\">                  </span>\n",
       "</pre>\n"
      ],
      "text/plain": [
       "\u001b[2;36m[17:02:33]\u001b[0m\u001b[2;36m \u001b[0m\u001b[34mINFO    \u001b[0m Run finished, view it on the SigOpt dashboard at                             \u001b]8;id=804696;file:///home/jd/anaconda3/envs/mr_toolkit/lib/python3.11/site-packages/sigopt/run_context.py\u001b\\\u001b[2mrun_context.py\u001b[0m\u001b]8;;\u001b\\\u001b[2m:\u001b[0m\u001b]8;id=237785;file:///home/jd/anaconda3/envs/mr_toolkit/lib/python3.11/site-packages/sigopt/run_context.py#371\u001b\\\u001b[2m371\u001b[0m\u001b]8;;\u001b\\\n",
       "\u001b[2;36m           \u001b[0m         \u001b[4;94mhttps://app.sigopt.com/run/603737\u001b[0m                                            \u001b[2m                  \u001b[0m\n"
      ]
     },
     "metadata": {},
     "output_type": "display_data"
    },
    {
     "name": "stderr",
     "output_type": "stream",
     "text": [
      "SigOpt Run: 3it [00:05,  1.80s/it]\n"
     ]
    }
   ],
   "source": [
    "for run in tqdm.tqdm(experiment.loop(), desc='SigOpt Run'):\n",
    "    with run:\n",
    "        \n",
    "        # Lag time must be shorter than N, so this must be below 1\n",
    "        lag_vs_N = run.params[\"lag\"] / run.params[\"N\"]\n",
    "        run.log_metric(\"lag_vs_N\", lag_vs_N)\n",
    "        if lag_vs_N >= 1.0:\n",
    "            print(\"Invalid lag / N combination, skipping to next run\")\n",
    "            continue\n",
    "            \n",
    "        # Estimate reweighted equilibrium for each set\n",
    "        reweighted_equil_estimates = np.full((n_subsets, n_states), fill_value=np.nan)\n",
    "        \n",
    "        for i, trajectory_set in enumerate(datasets):\n",
    "            \n",
    "            (states, stationaries, last_iter, reweighted_matrices,) = rwa.compute_reweighted_stationary(\n",
    "                trajectory_set,\n",
    "                N=run.params[\"N\"],\n",
    "                lag=run.params[\"lag\"],\n",
    "                n_clusters=n_states,\n",
    "                n_reweighting_iters=metaparameters['n_reweight_iters'],\n",
    "                min_weight=metaparameters['min_weight'],\n",
    "                last_frac=metaparameters['last_frac'],\n",
    "            )\n",
    "            \n",
    "            print(last_iter)\n",
    "            \n",
    "            reweighted_equil_estimates[i] = stationaries[last_iter]\n",
    "        \n",
    "        mean_kl = get_set_kls(reweighted_equil_estimates)\n",
    "        \n",
    "        if np.isnan(mean_kl):\n",
    "            mean_kl = 10\n",
    "    \n",
    "        # Log set-set KL divergence\n",
    "        run.log_metric('avg_set_iterative_kl', mean_kl)"
   ]
  },
  {
   "cell_type": "markdown",
   "id": "20576f31-5f78-445e-9e8a-3918d865dde6",
   "metadata": {},
   "source": [
    "## Analyze global model using optimal parameters"
   ]
  },
  {
   "cell_type": "code",
   "execution_count": 14,
   "id": "d71954f2-59c5-42d9-99b2-8fd192e63b02",
   "metadata": {
    "tags": []
   },
   "outputs": [
    {
     "name": "stdout",
     "output_type": "stream",
     "text": [
      "Identified optimal fragment length as 21 and optimal lag as 18\n"
     ]
    }
   ],
   "source": [
    "best_run = next(experiment.get_best_runs())\n",
    "\n",
    "best_N = best_run.assignments[\"N\"]\n",
    "best_lag = best_run.assignments[\"lag\"]\n",
    "\n",
    "print(f\"Identified optimal fragment length as {best_N} and optimal lag as {best_lag}\")"
   ]
  },
  {
   "cell_type": "code",
   "execution_count": 15,
   "id": "e908ccf0-320d-499f-a9c1-1d3a45faae8d",
   "metadata": {},
   "outputs": [
    {
     "name": "stderr",
     "output_type": "stream",
     "text": [
      "Building count matrices: 100%|███████████████████████████████████████████████████████████████████████████████████████████████████████████████████████████████████████████████████████████████████████████████████████████████████████████████████| 16400/16400 [00:00<00:00, 57059.06it/s]\n",
      "Reweighting convergence: 13it [00:00, 121.65it/s]                                                                                                                                                                                                                                         "
     ]
    },
    {
     "name": "stdout",
     "output_type": "stream",
     "text": [
      "reweighted iteration is converged at iter 14\n"
     ]
    },
    {
     "name": "stderr",
     "output_type": "stream",
     "text": [
      "\n"
     ]
    }
   ],
   "source": [
    "(states, stationaries, last_iter, reweighted_matrices,) = rwa.compute_reweighted_stationary(\n",
    "    trajectories,\n",
    "    N=best_N,\n",
    "    lag=best_lag,\n",
    "    n_clusters=n_states,\n",
    "    n_reweighting_iters=metaparameters['n_reweight_iters'],\n",
    "    min_weight=metaparameters['min_weight'],\n",
    "    last_frac=metaparameters['last_frac'],\n",
    ")\n",
    "\n",
    "reweighted_equil = stationaries[last_iter]"
   ]
  },
  {
   "cell_type": "markdown",
   "id": "58004954-0352-4152-89c6-e5f4e7236a12",
   "metadata": {},
   "source": [
    "## Compare to standard MSM"
   ]
  },
  {
   "cell_type": "code",
   "execution_count": 16,
   "id": "6edd473a-3ef7-455e-b065-b97a824f76ae",
   "metadata": {
    "tags": []
   },
   "outputs": [],
   "source": [
    "msm = dm.MaximumLikelihoodMSM().fit_from_discrete_timeseries(trajectories, best_lag)\n",
    "\n",
    "msm_equil = msm.fetch_model().stationary_distribution"
   ]
  },
  {
   "cell_type": "code",
   "execution_count": 17,
   "id": "7fe8cc4b-e141-4434-b183-c00fcfa73369",
   "metadata": {
    "tags": []
   },
   "outputs": [
    {
     "data": {
      "text/plain": [
       "<matplotlib.legend.Legend at 0x7f18ab4ba610>"
      ]
     },
     "execution_count": 17,
     "metadata": {},
     "output_type": "execute_result"
    },
    {
     "data": {
      "image/png": "[encoded data removed]",
      "text/plain": [
       "<Figure size 640x480 with 1 Axes>"
      ]
     },
     "metadata": {},
     "output_type": "display_data"
    }
   ],
   "source": [
    "plt.plot(msm_equil, label='MSM')\n",
    "\n",
    "plt.plot(reweighted_equil, label='Optimized reweighted')\n",
    "\n",
    "plt.plot(ref_equil, color='k')\n",
    "\n",
    "plt.legend()"
   ]
  },
  {
   "cell_type": "code",
   "execution_count": 18,
   "id": "0fc6048b-08e2-454a-a0ea-096d06dbb4f8",
   "metadata": {
    "tags": []
   },
   "outputs": [],
   "source": [
    "msm_entropy = entropy(msm_equil, ref_equil)\n",
    "reweighted_entropy = entropy(reweighted_equil, ref_equil)"
   ]
  },
  {
   "cell_type": "code",
   "execution_count": 19,
   "id": "06a9fa9d-52b4-4547-8106-3a0eb4473895",
   "metadata": {
    "tags": []
   },
   "outputs": [
    {
     "name": "stdout",
     "output_type": "stream",
     "text": [
      "Relative entropies to reference (lower is better)\n",
      "MSM estimate: \t3.17e-02\n",
      "Reweighted estimate: \t4.37e-02\n"
     ]
    }
   ],
   "source": [
    "print(\"Relative entropies to reference (lower is better)\")\n",
    "print(f\"MSM estimate: \\t{msm_entropy:.2e}\")\n",
    "print(f\"Reweighted estimate: \\t{reweighted_entropy:.2e}\")"
   ]
  },
  {
   "cell_type": "code",
   "execution_count": null,
   "id": "8b4806a9-23e7-4f68-81fa-279e22929651",
   "metadata": {},
   "outputs": [],
   "source": []
  }
 ],
 "metadata": {
  "kernelspec": {
   "display_name": "Python 3 (ipykernel)",
   "language": "python",
   "name": "python3"
  },
  "language_info": {
   "codemirror_mode": {
    "name": "ipython",
    "version": 3
   },
   "file_extension": ".py",
   "mimetype": "text/x-python",
   "name": "python",
   "nbconvert_exporter": "python",
   "pygments_lexer": "ipython3",
   "version": "3.11.0"
  }
 },
 "nbformat": 4,
 "nbformat_minor": 5
}
